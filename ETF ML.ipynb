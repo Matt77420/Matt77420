{
 "cells": [
  {
   "cell_type": "markdown",
   "id": "dca24b40-23e4-4cd8-8b77-04a76796cc8b",
   "metadata": {},
   "source": [
    "# ETF MACHINE LEARNING"
   ]
  },
  {
   "cell_type": "markdown",
   "id": "9e9d40db-1377-482f-9b7f-6d215598dce6",
   "metadata": {},
   "source": [
    "## Import Libraries"
   ]
  },
  {
   "cell_type": "code",
   "execution_count": 1,
   "id": "876713af-df9f-4416-aadf-c6322b680453",
   "metadata": {},
   "outputs": [],
   "source": [
    "import pandas as pd\n",
    "import numpy as np\n",
    "import matplotlib.pyplot as plt\n",
    "import seaborn as sns\n",
    "\n",
    "%matplotlib inline"
   ]
  },
  {
   "cell_type": "code",
   "execution_count": 2,
   "id": "5df1d471-1635-47a8-b7f3-338da40c51de",
   "metadata": {},
   "outputs": [],
   "source": [
    "from sklearn.model_selection import train_test_split\n",
    "from sklearn.preprocessing import StandardScaler\n",
    "from sklearn.model_selection import cross_validate\n",
    "from sklearn.linear_model import LinearRegression\n",
    "from sklearn.svm import SVC\n",
    "from sklearn.decomposition import PCA"
   ]
  },
  {
   "cell_type": "code",
   "execution_count": 3,
   "id": "9f002d34-0134-4359-bdc2-bfcf093d88d1",
   "metadata": {},
   "outputs": [],
   "source": [
    "from pycaret.regression import *"
   ]
  },
  {
   "cell_type": "markdown",
   "id": "e3434d73-5b1b-4a0f-aaa8-64f07de7c856",
   "metadata": {},
   "source": [
    "## Import Database"
   ]
  },
  {
   "cell_type": "code",
   "execution_count": 4,
   "id": "e391bd1d-f45a-42de-85bc-b7c5b1368529",
   "metadata": {},
   "outputs": [],
   "source": [
    "df = pd.read_csv(r'C:\\Workbook\\Funds\\ETF.csv')"
   ]
  },
  {
   "cell_type": "markdown",
   "id": "d9ea3923-fcc9-45e2-a656-5d90da0dca30",
   "metadata": {},
   "source": [
    "### CLEAN Database"
   ]
  },
  {
   "cell_type": "code",
   "execution_count": 5,
   "id": "38a35f83-7df1-430a-967d-15198053d5ba",
   "metadata": {},
   "outputs": [
    {
     "data": {
      "text/plain": [
       "47"
      ]
     },
     "execution_count": 5,
     "metadata": {},
     "output_type": "execute_result"
    }
   ],
   "source": [
    "df.isna().sum().sum()"
   ]
  },
  {
   "cell_type": "code",
   "execution_count": 6,
   "id": "dba98136-82d8-4109-91eb-e3000dd846a0",
   "metadata": {},
   "outputs": [],
   "source": [
    "df.dropna(inplace = True)"
   ]
  },
  {
   "cell_type": "code",
   "execution_count": 7,
   "id": "00e44070-29ca-4d27-9885-be3e3ef97e74",
   "metadata": {},
   "outputs": [
    {
     "data": {
      "text/plain": [
       "0"
      ]
     },
     "execution_count": 7,
     "metadata": {},
     "output_type": "execute_result"
    }
   ],
   "source": [
    "df.isna().sum().sum()"
   ]
  },
  {
   "cell_type": "markdown",
   "id": "741576e4-fe2b-411b-ac1a-2a2729c6ff96",
   "metadata": {},
   "source": [
    "## REMOVE COLUMNS X-Y"
   ]
  },
  {
   "cell_type": "code",
   "execution_count": 8,
   "id": "09bc98c1-5209-45e2-a5e5-c7319fedff7f",
   "metadata": {},
   "outputs": [
    {
     "data": {
      "text/plain": [
       "Index(['fund_symbol', 'fund_extended_name', 'fund_family', 'inception_date',\n",
       "       'investment_type', 'size_type', 'price_earnings_ratio',\n",
       "       'price_book_ratio', 'price_sales_ratio', 'price_cashflow_ratio',\n",
       "       'sector_basic_materials', 'sector_consumer_cyclical',\n",
       "       'sector_financial_services', 'sector_real_estate',\n",
       "       'sector_consumer_defensive', 'sector_healthcare', 'sector_utilities',\n",
       "       'sector_communication_services', 'sector_energy', 'sector_industrials',\n",
       "       'sector_technology', 'net_asset_value', 'fund_yield', 'fund_return_ytd',\n",
       "       'fund_return_1month', 'fund_return_3months', 'fund_return_1year',\n",
       "       'fund_return_3years', 'fund_return_5years', 'fund_return_10years',\n",
       "       'fund_alpha_3years', 'fund_alpha_5years', 'fund_alpha_10years',\n",
       "       'fund_standard_deviation_3years', 'fund_standard_deviation_5years',\n",
       "       'fund_standard_deviation_10years', 'fund_sharpe_ratio_3years',\n",
       "       'fund_sharpe_ratio_5years', 'fund_sharpe_ratio_10years',\n",
       "       'fund_treynor_ratio_3years', 'fund_treynor_ratio_5years',\n",
       "       'fund_treynor_ratio_10years'],\n",
       "      dtype='object')"
      ]
     },
     "execution_count": 8,
     "metadata": {},
     "output_type": "execute_result"
    }
   ],
   "source": [
    "df.columns"
   ]
  },
  {
   "cell_type": "code",
   "execution_count": 9,
   "id": "d4b8442c-8fdc-4027-9497-bdbc5728c4a2",
   "metadata": {},
   "outputs": [],
   "source": [
    "dfp = df[['price_earnings_ratio',\n",
    "       'price_book_ratio', 'price_sales_ratio', 'price_cashflow_ratio',\n",
    "       'sector_basic_materials', 'sector_consumer_cyclical',\n",
    "       'sector_financial_services', 'sector_real_estate',\n",
    "       'sector_consumer_defensive', 'sector_healthcare', 'sector_utilities',\n",
    "       'sector_communication_services', 'sector_energy', 'sector_industrials',\n",
    "       'sector_technology', 'net_asset_value', 'fund_yield','fund_return_10years']]"
   ]
  },
  {
   "cell_type": "markdown",
   "id": "faa7189d-bc5b-4249-8eb1-2b9d3213e943",
   "metadata": {},
   "source": [
    "## PYCARET"
   ]
  },
  {
   "cell_type": "markdown",
   "id": "70adb739-e3ce-4699-bb18-0ec4f5913c63",
   "metadata": {},
   "source": [
    "### CONFIGURATION"
   ]
  },
  {
   "cell_type": "code",
   "execution_count": 10,
   "id": "4cb5fdc3-592e-4e80-aac5-a639c3f9c30f",
   "metadata": {},
   "outputs": [
    {
     "data": {
      "text/html": [
       "<style  type=\"text/css\" >\n",
       "#T_9a4c5_row17_col1,#T_9a4c5_row42_col1{\n",
       "            background-color:  lightgreen;\n",
       "        }</style><table id=\"T_9a4c5_\" ><thead>    <tr>        <th class=\"blank level0\" ></th>        <th class=\"col_heading level0 col0\" >Description</th>        <th class=\"col_heading level0 col1\" >Value</th>    </tr></thead><tbody>\n",
       "                <tr>\n",
       "                        <th id=\"T_9a4c5_level0_row0\" class=\"row_heading level0 row0\" >0</th>\n",
       "                        <td id=\"T_9a4c5_row0_col0\" class=\"data row0 col0\" >session_id</td>\n",
       "                        <td id=\"T_9a4c5_row0_col1\" class=\"data row0 col1\" >123</td>\n",
       "            </tr>\n",
       "            <tr>\n",
       "                        <th id=\"T_9a4c5_level0_row1\" class=\"row_heading level0 row1\" >1</th>\n",
       "                        <td id=\"T_9a4c5_row1_col0\" class=\"data row1 col0\" >Target</td>\n",
       "                        <td id=\"T_9a4c5_row1_col1\" class=\"data row1 col1\" >fund_return_10years</td>\n",
       "            </tr>\n",
       "            <tr>\n",
       "                        <th id=\"T_9a4c5_level0_row2\" class=\"row_heading level0 row2\" >2</th>\n",
       "                        <td id=\"T_9a4c5_row2_col0\" class=\"data row2 col0\" >Original Data</td>\n",
       "                        <td id=\"T_9a4c5_row2_col1\" class=\"data row2 col1\" >(511, 18)</td>\n",
       "            </tr>\n",
       "            <tr>\n",
       "                        <th id=\"T_9a4c5_level0_row3\" class=\"row_heading level0 row3\" >3</th>\n",
       "                        <td id=\"T_9a4c5_row3_col0\" class=\"data row3 col0\" >Missing Values</td>\n",
       "                        <td id=\"T_9a4c5_row3_col1\" class=\"data row3 col1\" >False</td>\n",
       "            </tr>\n",
       "            <tr>\n",
       "                        <th id=\"T_9a4c5_level0_row4\" class=\"row_heading level0 row4\" >4</th>\n",
       "                        <td id=\"T_9a4c5_row4_col0\" class=\"data row4 col0\" >Numeric Features</td>\n",
       "                        <td id=\"T_9a4c5_row4_col1\" class=\"data row4 col1\" >17</td>\n",
       "            </tr>\n",
       "            <tr>\n",
       "                        <th id=\"T_9a4c5_level0_row5\" class=\"row_heading level0 row5\" >5</th>\n",
       "                        <td id=\"T_9a4c5_row5_col0\" class=\"data row5 col0\" >Categorical Features</td>\n",
       "                        <td id=\"T_9a4c5_row5_col1\" class=\"data row5 col1\" >0</td>\n",
       "            </tr>\n",
       "            <tr>\n",
       "                        <th id=\"T_9a4c5_level0_row6\" class=\"row_heading level0 row6\" >6</th>\n",
       "                        <td id=\"T_9a4c5_row6_col0\" class=\"data row6 col0\" >Ordinal Features</td>\n",
       "                        <td id=\"T_9a4c5_row6_col1\" class=\"data row6 col1\" >False</td>\n",
       "            </tr>\n",
       "            <tr>\n",
       "                        <th id=\"T_9a4c5_level0_row7\" class=\"row_heading level0 row7\" >7</th>\n",
       "                        <td id=\"T_9a4c5_row7_col0\" class=\"data row7 col0\" >High Cardinality Features</td>\n",
       "                        <td id=\"T_9a4c5_row7_col1\" class=\"data row7 col1\" >False</td>\n",
       "            </tr>\n",
       "            <tr>\n",
       "                        <th id=\"T_9a4c5_level0_row8\" class=\"row_heading level0 row8\" >8</th>\n",
       "                        <td id=\"T_9a4c5_row8_col0\" class=\"data row8 col0\" >High Cardinality Method</td>\n",
       "                        <td id=\"T_9a4c5_row8_col1\" class=\"data row8 col1\" >None</td>\n",
       "            </tr>\n",
       "            <tr>\n",
       "                        <th id=\"T_9a4c5_level0_row9\" class=\"row_heading level0 row9\" >9</th>\n",
       "                        <td id=\"T_9a4c5_row9_col0\" class=\"data row9 col0\" >Transformed Train Set</td>\n",
       "                        <td id=\"T_9a4c5_row9_col1\" class=\"data row9 col1\" >(357, 17)</td>\n",
       "            </tr>\n",
       "            <tr>\n",
       "                        <th id=\"T_9a4c5_level0_row10\" class=\"row_heading level0 row10\" >10</th>\n",
       "                        <td id=\"T_9a4c5_row10_col0\" class=\"data row10 col0\" >Transformed Test Set</td>\n",
       "                        <td id=\"T_9a4c5_row10_col1\" class=\"data row10 col1\" >(154, 17)</td>\n",
       "            </tr>\n",
       "            <tr>\n",
       "                        <th id=\"T_9a4c5_level0_row11\" class=\"row_heading level0 row11\" >11</th>\n",
       "                        <td id=\"T_9a4c5_row11_col0\" class=\"data row11 col0\" >Shuffle Train-Test</td>\n",
       "                        <td id=\"T_9a4c5_row11_col1\" class=\"data row11 col1\" >True</td>\n",
       "            </tr>\n",
       "            <tr>\n",
       "                        <th id=\"T_9a4c5_level0_row12\" class=\"row_heading level0 row12\" >12</th>\n",
       "                        <td id=\"T_9a4c5_row12_col0\" class=\"data row12 col0\" >Stratify Train-Test</td>\n",
       "                        <td id=\"T_9a4c5_row12_col1\" class=\"data row12 col1\" >False</td>\n",
       "            </tr>\n",
       "            <tr>\n",
       "                        <th id=\"T_9a4c5_level0_row13\" class=\"row_heading level0 row13\" >13</th>\n",
       "                        <td id=\"T_9a4c5_row13_col0\" class=\"data row13 col0\" >Fold Generator</td>\n",
       "                        <td id=\"T_9a4c5_row13_col1\" class=\"data row13 col1\" >KFold</td>\n",
       "            </tr>\n",
       "            <tr>\n",
       "                        <th id=\"T_9a4c5_level0_row14\" class=\"row_heading level0 row14\" >14</th>\n",
       "                        <td id=\"T_9a4c5_row14_col0\" class=\"data row14 col0\" >Fold Number</td>\n",
       "                        <td id=\"T_9a4c5_row14_col1\" class=\"data row14 col1\" >10</td>\n",
       "            </tr>\n",
       "            <tr>\n",
       "                        <th id=\"T_9a4c5_level0_row15\" class=\"row_heading level0 row15\" >15</th>\n",
       "                        <td id=\"T_9a4c5_row15_col0\" class=\"data row15 col0\" >CPU Jobs</td>\n",
       "                        <td id=\"T_9a4c5_row15_col1\" class=\"data row15 col1\" >-1</td>\n",
       "            </tr>\n",
       "            <tr>\n",
       "                        <th id=\"T_9a4c5_level0_row16\" class=\"row_heading level0 row16\" >16</th>\n",
       "                        <td id=\"T_9a4c5_row16_col0\" class=\"data row16 col0\" >Use GPU</td>\n",
       "                        <td id=\"T_9a4c5_row16_col1\" class=\"data row16 col1\" >False</td>\n",
       "            </tr>\n",
       "            <tr>\n",
       "                        <th id=\"T_9a4c5_level0_row17\" class=\"row_heading level0 row17\" >17</th>\n",
       "                        <td id=\"T_9a4c5_row17_col0\" class=\"data row17 col0\" >Log Experiment</td>\n",
       "                        <td id=\"T_9a4c5_row17_col1\" class=\"data row17 col1\" >True</td>\n",
       "            </tr>\n",
       "            <tr>\n",
       "                        <th id=\"T_9a4c5_level0_row18\" class=\"row_heading level0 row18\" >18</th>\n",
       "                        <td id=\"T_9a4c5_row18_col0\" class=\"data row18 col0\" >Experiment Name</td>\n",
       "                        <td id=\"T_9a4c5_row18_col1\" class=\"data row18 col1\" >fund_analysis</td>\n",
       "            </tr>\n",
       "            <tr>\n",
       "                        <th id=\"T_9a4c5_level0_row19\" class=\"row_heading level0 row19\" >19</th>\n",
       "                        <td id=\"T_9a4c5_row19_col0\" class=\"data row19 col0\" >USI</td>\n",
       "                        <td id=\"T_9a4c5_row19_col1\" class=\"data row19 col1\" >864d</td>\n",
       "            </tr>\n",
       "            <tr>\n",
       "                        <th id=\"T_9a4c5_level0_row20\" class=\"row_heading level0 row20\" >20</th>\n",
       "                        <td id=\"T_9a4c5_row20_col0\" class=\"data row20 col0\" >Imputation Type</td>\n",
       "                        <td id=\"T_9a4c5_row20_col1\" class=\"data row20 col1\" >simple</td>\n",
       "            </tr>\n",
       "            <tr>\n",
       "                        <th id=\"T_9a4c5_level0_row21\" class=\"row_heading level0 row21\" >21</th>\n",
       "                        <td id=\"T_9a4c5_row21_col0\" class=\"data row21 col0\" >Iterative Imputation Iteration</td>\n",
       "                        <td id=\"T_9a4c5_row21_col1\" class=\"data row21 col1\" >None</td>\n",
       "            </tr>\n",
       "            <tr>\n",
       "                        <th id=\"T_9a4c5_level0_row22\" class=\"row_heading level0 row22\" >22</th>\n",
       "                        <td id=\"T_9a4c5_row22_col0\" class=\"data row22 col0\" >Numeric Imputer</td>\n",
       "                        <td id=\"T_9a4c5_row22_col1\" class=\"data row22 col1\" >mean</td>\n",
       "            </tr>\n",
       "            <tr>\n",
       "                        <th id=\"T_9a4c5_level0_row23\" class=\"row_heading level0 row23\" >23</th>\n",
       "                        <td id=\"T_9a4c5_row23_col0\" class=\"data row23 col0\" >Iterative Imputation Numeric Model</td>\n",
       "                        <td id=\"T_9a4c5_row23_col1\" class=\"data row23 col1\" >None</td>\n",
       "            </tr>\n",
       "            <tr>\n",
       "                        <th id=\"T_9a4c5_level0_row24\" class=\"row_heading level0 row24\" >24</th>\n",
       "                        <td id=\"T_9a4c5_row24_col0\" class=\"data row24 col0\" >Categorical Imputer</td>\n",
       "                        <td id=\"T_9a4c5_row24_col1\" class=\"data row24 col1\" >constant</td>\n",
       "            </tr>\n",
       "            <tr>\n",
       "                        <th id=\"T_9a4c5_level0_row25\" class=\"row_heading level0 row25\" >25</th>\n",
       "                        <td id=\"T_9a4c5_row25_col0\" class=\"data row25 col0\" >Iterative Imputation Categorical Model</td>\n",
       "                        <td id=\"T_9a4c5_row25_col1\" class=\"data row25 col1\" >None</td>\n",
       "            </tr>\n",
       "            <tr>\n",
       "                        <th id=\"T_9a4c5_level0_row26\" class=\"row_heading level0 row26\" >26</th>\n",
       "                        <td id=\"T_9a4c5_row26_col0\" class=\"data row26 col0\" >Unknown Categoricals Handling</td>\n",
       "                        <td id=\"T_9a4c5_row26_col1\" class=\"data row26 col1\" >least_frequent</td>\n",
       "            </tr>\n",
       "            <tr>\n",
       "                        <th id=\"T_9a4c5_level0_row27\" class=\"row_heading level0 row27\" >27</th>\n",
       "                        <td id=\"T_9a4c5_row27_col0\" class=\"data row27 col0\" >Normalize</td>\n",
       "                        <td id=\"T_9a4c5_row27_col1\" class=\"data row27 col1\" >False</td>\n",
       "            </tr>\n",
       "            <tr>\n",
       "                        <th id=\"T_9a4c5_level0_row28\" class=\"row_heading level0 row28\" >28</th>\n",
       "                        <td id=\"T_9a4c5_row28_col0\" class=\"data row28 col0\" >Normalize Method</td>\n",
       "                        <td id=\"T_9a4c5_row28_col1\" class=\"data row28 col1\" >None</td>\n",
       "            </tr>\n",
       "            <tr>\n",
       "                        <th id=\"T_9a4c5_level0_row29\" class=\"row_heading level0 row29\" >29</th>\n",
       "                        <td id=\"T_9a4c5_row29_col0\" class=\"data row29 col0\" >Transformation</td>\n",
       "                        <td id=\"T_9a4c5_row29_col1\" class=\"data row29 col1\" >False</td>\n",
       "            </tr>\n",
       "            <tr>\n",
       "                        <th id=\"T_9a4c5_level0_row30\" class=\"row_heading level0 row30\" >30</th>\n",
       "                        <td id=\"T_9a4c5_row30_col0\" class=\"data row30 col0\" >Transformation Method</td>\n",
       "                        <td id=\"T_9a4c5_row30_col1\" class=\"data row30 col1\" >None</td>\n",
       "            </tr>\n",
       "            <tr>\n",
       "                        <th id=\"T_9a4c5_level0_row31\" class=\"row_heading level0 row31\" >31</th>\n",
       "                        <td id=\"T_9a4c5_row31_col0\" class=\"data row31 col0\" >PCA</td>\n",
       "                        <td id=\"T_9a4c5_row31_col1\" class=\"data row31 col1\" >False</td>\n",
       "            </tr>\n",
       "            <tr>\n",
       "                        <th id=\"T_9a4c5_level0_row32\" class=\"row_heading level0 row32\" >32</th>\n",
       "                        <td id=\"T_9a4c5_row32_col0\" class=\"data row32 col0\" >PCA Method</td>\n",
       "                        <td id=\"T_9a4c5_row32_col1\" class=\"data row32 col1\" >None</td>\n",
       "            </tr>\n",
       "            <tr>\n",
       "                        <th id=\"T_9a4c5_level0_row33\" class=\"row_heading level0 row33\" >33</th>\n",
       "                        <td id=\"T_9a4c5_row33_col0\" class=\"data row33 col0\" >PCA Components</td>\n",
       "                        <td id=\"T_9a4c5_row33_col1\" class=\"data row33 col1\" >None</td>\n",
       "            </tr>\n",
       "            <tr>\n",
       "                        <th id=\"T_9a4c5_level0_row34\" class=\"row_heading level0 row34\" >34</th>\n",
       "                        <td id=\"T_9a4c5_row34_col0\" class=\"data row34 col0\" >Ignore Low Variance</td>\n",
       "                        <td id=\"T_9a4c5_row34_col1\" class=\"data row34 col1\" >False</td>\n",
       "            </tr>\n",
       "            <tr>\n",
       "                        <th id=\"T_9a4c5_level0_row35\" class=\"row_heading level0 row35\" >35</th>\n",
       "                        <td id=\"T_9a4c5_row35_col0\" class=\"data row35 col0\" >Combine Rare Levels</td>\n",
       "                        <td id=\"T_9a4c5_row35_col1\" class=\"data row35 col1\" >False</td>\n",
       "            </tr>\n",
       "            <tr>\n",
       "                        <th id=\"T_9a4c5_level0_row36\" class=\"row_heading level0 row36\" >36</th>\n",
       "                        <td id=\"T_9a4c5_row36_col0\" class=\"data row36 col0\" >Rare Level Threshold</td>\n",
       "                        <td id=\"T_9a4c5_row36_col1\" class=\"data row36 col1\" >None</td>\n",
       "            </tr>\n",
       "            <tr>\n",
       "                        <th id=\"T_9a4c5_level0_row37\" class=\"row_heading level0 row37\" >37</th>\n",
       "                        <td id=\"T_9a4c5_row37_col0\" class=\"data row37 col0\" >Numeric Binning</td>\n",
       "                        <td id=\"T_9a4c5_row37_col1\" class=\"data row37 col1\" >False</td>\n",
       "            </tr>\n",
       "            <tr>\n",
       "                        <th id=\"T_9a4c5_level0_row38\" class=\"row_heading level0 row38\" >38</th>\n",
       "                        <td id=\"T_9a4c5_row38_col0\" class=\"data row38 col0\" >Remove Outliers</td>\n",
       "                        <td id=\"T_9a4c5_row38_col1\" class=\"data row38 col1\" >False</td>\n",
       "            </tr>\n",
       "            <tr>\n",
       "                        <th id=\"T_9a4c5_level0_row39\" class=\"row_heading level0 row39\" >39</th>\n",
       "                        <td id=\"T_9a4c5_row39_col0\" class=\"data row39 col0\" >Outliers Threshold</td>\n",
       "                        <td id=\"T_9a4c5_row39_col1\" class=\"data row39 col1\" >None</td>\n",
       "            </tr>\n",
       "            <tr>\n",
       "                        <th id=\"T_9a4c5_level0_row40\" class=\"row_heading level0 row40\" >40</th>\n",
       "                        <td id=\"T_9a4c5_row40_col0\" class=\"data row40 col0\" >Remove Multicollinearity</td>\n",
       "                        <td id=\"T_9a4c5_row40_col1\" class=\"data row40 col1\" >False</td>\n",
       "            </tr>\n",
       "            <tr>\n",
       "                        <th id=\"T_9a4c5_level0_row41\" class=\"row_heading level0 row41\" >41</th>\n",
       "                        <td id=\"T_9a4c5_row41_col0\" class=\"data row41 col0\" >Multicollinearity Threshold</td>\n",
       "                        <td id=\"T_9a4c5_row41_col1\" class=\"data row41 col1\" >None</td>\n",
       "            </tr>\n",
       "            <tr>\n",
       "                        <th id=\"T_9a4c5_level0_row42\" class=\"row_heading level0 row42\" >42</th>\n",
       "                        <td id=\"T_9a4c5_row42_col0\" class=\"data row42 col0\" >Remove Perfect Collinearity</td>\n",
       "                        <td id=\"T_9a4c5_row42_col1\" class=\"data row42 col1\" >True</td>\n",
       "            </tr>\n",
       "            <tr>\n",
       "                        <th id=\"T_9a4c5_level0_row43\" class=\"row_heading level0 row43\" >43</th>\n",
       "                        <td id=\"T_9a4c5_row43_col0\" class=\"data row43 col0\" >Clustering</td>\n",
       "                        <td id=\"T_9a4c5_row43_col1\" class=\"data row43 col1\" >False</td>\n",
       "            </tr>\n",
       "            <tr>\n",
       "                        <th id=\"T_9a4c5_level0_row44\" class=\"row_heading level0 row44\" >44</th>\n",
       "                        <td id=\"T_9a4c5_row44_col0\" class=\"data row44 col0\" >Clustering Iteration</td>\n",
       "                        <td id=\"T_9a4c5_row44_col1\" class=\"data row44 col1\" >None</td>\n",
       "            </tr>\n",
       "            <tr>\n",
       "                        <th id=\"T_9a4c5_level0_row45\" class=\"row_heading level0 row45\" >45</th>\n",
       "                        <td id=\"T_9a4c5_row45_col0\" class=\"data row45 col0\" >Polynomial Features</td>\n",
       "                        <td id=\"T_9a4c5_row45_col1\" class=\"data row45 col1\" >False</td>\n",
       "            </tr>\n",
       "            <tr>\n",
       "                        <th id=\"T_9a4c5_level0_row46\" class=\"row_heading level0 row46\" >46</th>\n",
       "                        <td id=\"T_9a4c5_row46_col0\" class=\"data row46 col0\" >Polynomial Degree</td>\n",
       "                        <td id=\"T_9a4c5_row46_col1\" class=\"data row46 col1\" >None</td>\n",
       "            </tr>\n",
       "            <tr>\n",
       "                        <th id=\"T_9a4c5_level0_row47\" class=\"row_heading level0 row47\" >47</th>\n",
       "                        <td id=\"T_9a4c5_row47_col0\" class=\"data row47 col0\" >Trignometry Features</td>\n",
       "                        <td id=\"T_9a4c5_row47_col1\" class=\"data row47 col1\" >False</td>\n",
       "            </tr>\n",
       "            <tr>\n",
       "                        <th id=\"T_9a4c5_level0_row48\" class=\"row_heading level0 row48\" >48</th>\n",
       "                        <td id=\"T_9a4c5_row48_col0\" class=\"data row48 col0\" >Polynomial Threshold</td>\n",
       "                        <td id=\"T_9a4c5_row48_col1\" class=\"data row48 col1\" >None</td>\n",
       "            </tr>\n",
       "            <tr>\n",
       "                        <th id=\"T_9a4c5_level0_row49\" class=\"row_heading level0 row49\" >49</th>\n",
       "                        <td id=\"T_9a4c5_row49_col0\" class=\"data row49 col0\" >Group Features</td>\n",
       "                        <td id=\"T_9a4c5_row49_col1\" class=\"data row49 col1\" >False</td>\n",
       "            </tr>\n",
       "            <tr>\n",
       "                        <th id=\"T_9a4c5_level0_row50\" class=\"row_heading level0 row50\" >50</th>\n",
       "                        <td id=\"T_9a4c5_row50_col0\" class=\"data row50 col0\" >Feature Selection</td>\n",
       "                        <td id=\"T_9a4c5_row50_col1\" class=\"data row50 col1\" >False</td>\n",
       "            </tr>\n",
       "            <tr>\n",
       "                        <th id=\"T_9a4c5_level0_row51\" class=\"row_heading level0 row51\" >51</th>\n",
       "                        <td id=\"T_9a4c5_row51_col0\" class=\"data row51 col0\" >Feature Selection Method</td>\n",
       "                        <td id=\"T_9a4c5_row51_col1\" class=\"data row51 col1\" >classic</td>\n",
       "            </tr>\n",
       "            <tr>\n",
       "                        <th id=\"T_9a4c5_level0_row52\" class=\"row_heading level0 row52\" >52</th>\n",
       "                        <td id=\"T_9a4c5_row52_col0\" class=\"data row52 col0\" >Features Selection Threshold</td>\n",
       "                        <td id=\"T_9a4c5_row52_col1\" class=\"data row52 col1\" >None</td>\n",
       "            </tr>\n",
       "            <tr>\n",
       "                        <th id=\"T_9a4c5_level0_row53\" class=\"row_heading level0 row53\" >53</th>\n",
       "                        <td id=\"T_9a4c5_row53_col0\" class=\"data row53 col0\" >Feature Interaction</td>\n",
       "                        <td id=\"T_9a4c5_row53_col1\" class=\"data row53 col1\" >False</td>\n",
       "            </tr>\n",
       "            <tr>\n",
       "                        <th id=\"T_9a4c5_level0_row54\" class=\"row_heading level0 row54\" >54</th>\n",
       "                        <td id=\"T_9a4c5_row54_col0\" class=\"data row54 col0\" >Feature Ratio</td>\n",
       "                        <td id=\"T_9a4c5_row54_col1\" class=\"data row54 col1\" >False</td>\n",
       "            </tr>\n",
       "            <tr>\n",
       "                        <th id=\"T_9a4c5_level0_row55\" class=\"row_heading level0 row55\" >55</th>\n",
       "                        <td id=\"T_9a4c5_row55_col0\" class=\"data row55 col0\" >Interaction Threshold</td>\n",
       "                        <td id=\"T_9a4c5_row55_col1\" class=\"data row55 col1\" >None</td>\n",
       "            </tr>\n",
       "            <tr>\n",
       "                        <th id=\"T_9a4c5_level0_row56\" class=\"row_heading level0 row56\" >56</th>\n",
       "                        <td id=\"T_9a4c5_row56_col0\" class=\"data row56 col0\" >Transform Target</td>\n",
       "                        <td id=\"T_9a4c5_row56_col1\" class=\"data row56 col1\" >False</td>\n",
       "            </tr>\n",
       "            <tr>\n",
       "                        <th id=\"T_9a4c5_level0_row57\" class=\"row_heading level0 row57\" >57</th>\n",
       "                        <td id=\"T_9a4c5_row57_col0\" class=\"data row57 col0\" >Transform Target Method</td>\n",
       "                        <td id=\"T_9a4c5_row57_col1\" class=\"data row57 col1\" >box-cox</td>\n",
       "            </tr>\n",
       "    </tbody></table>"
      ],
      "text/plain": [
       "<pandas.io.formats.style.Styler at 0x1ea59155280>"
      ]
     },
     "metadata": {},
     "output_type": "display_data"
    }
   ],
   "source": [
    "reg  =setup(dfp, target = 'fund_return_10years', session_id = 123, log_experiment = True, experiment_name = 'fund_analysis')"
   ]
  },
  {
   "cell_type": "markdown",
   "id": "b3cad9b3-8f63-45c9-b5f7-2e0a388427b2",
   "metadata": {},
   "source": [
    "## BEST MODEL ACCORDING TO PYCARET"
   ]
  },
  {
   "cell_type": "code",
   "execution_count": 12,
   "id": "18340525-acde-49ea-8c73-23af1685a333",
   "metadata": {},
   "outputs": [
    {
     "data": {
      "text/html": [
       "<style  type=\"text/css\" >\n",
       "    #T_3c652_ th {\n",
       "          text-align: left;\n",
       "    }#T_3c652_row0_col0,#T_3c652_row0_col1,#T_3c652_row0_col5,#T_3c652_row0_col6,#T_3c652_row1_col0,#T_3c652_row1_col1,#T_3c652_row1_col2,#T_3c652_row1_col3,#T_3c652_row1_col4,#T_3c652_row1_col6,#T_3c652_row2_col0,#T_3c652_row2_col2,#T_3c652_row2_col3,#T_3c652_row2_col4,#T_3c652_row2_col5,#T_3c652_row3_col0,#T_3c652_row3_col1,#T_3c652_row3_col2,#T_3c652_row3_col3,#T_3c652_row3_col4,#T_3c652_row3_col5,#T_3c652_row3_col6,#T_3c652_row4_col0,#T_3c652_row4_col1,#T_3c652_row4_col2,#T_3c652_row4_col3,#T_3c652_row4_col4,#T_3c652_row4_col5,#T_3c652_row4_col6,#T_3c652_row5_col0,#T_3c652_row5_col1,#T_3c652_row5_col2,#T_3c652_row5_col3,#T_3c652_row5_col4,#T_3c652_row5_col5,#T_3c652_row5_col6,#T_3c652_row6_col0,#T_3c652_row6_col1,#T_3c652_row6_col2,#T_3c652_row6_col3,#T_3c652_row6_col4,#T_3c652_row6_col5,#T_3c652_row6_col6,#T_3c652_row7_col0,#T_3c652_row7_col1,#T_3c652_row7_col2,#T_3c652_row7_col3,#T_3c652_row7_col4,#T_3c652_row7_col5,#T_3c652_row7_col6,#T_3c652_row8_col0,#T_3c652_row8_col1,#T_3c652_row8_col2,#T_3c652_row8_col3,#T_3c652_row8_col4,#T_3c652_row8_col5,#T_3c652_row8_col6,#T_3c652_row9_col0,#T_3c652_row9_col1,#T_3c652_row9_col2,#T_3c652_row9_col3,#T_3c652_row9_col4,#T_3c652_row9_col5,#T_3c652_row9_col6,#T_3c652_row10_col0,#T_3c652_row10_col1,#T_3c652_row10_col2,#T_3c652_row10_col3,#T_3c652_row10_col4,#T_3c652_row10_col5,#T_3c652_row10_col6,#T_3c652_row11_col0,#T_3c652_row11_col1,#T_3c652_row11_col2,#T_3c652_row11_col3,#T_3c652_row11_col4,#T_3c652_row11_col5,#T_3c652_row11_col6,#T_3c652_row12_col0,#T_3c652_row12_col1,#T_3c652_row12_col2,#T_3c652_row12_col3,#T_3c652_row12_col4,#T_3c652_row12_col5,#T_3c652_row12_col6,#T_3c652_row13_col0,#T_3c652_row13_col1,#T_3c652_row13_col2,#T_3c652_row13_col3,#T_3c652_row13_col4,#T_3c652_row13_col5,#T_3c652_row13_col6,#T_3c652_row14_col0,#T_3c652_row14_col1,#T_3c652_row14_col2,#T_3c652_row14_col3,#T_3c652_row14_col4,#T_3c652_row14_col5,#T_3c652_row14_col6{\n",
       "            text-align:  left;\n",
       "            text-align:  left;\n",
       "        }#T_3c652_row0_col2,#T_3c652_row0_col3,#T_3c652_row0_col4,#T_3c652_row1_col5,#T_3c652_row2_col1,#T_3c652_row2_col6{\n",
       "            text-align:  left;\n",
       "            text-align:  left;\n",
       "            background-color:  yellow;\n",
       "        }#T_3c652_row0_col7,#T_3c652_row1_col7,#T_3c652_row2_col7,#T_3c652_row3_col7,#T_3c652_row4_col7,#T_3c652_row5_col7,#T_3c652_row9_col7,#T_3c652_row11_col7,#T_3c652_row13_col7,#T_3c652_row14_col7{\n",
       "            text-align:  left;\n",
       "            text-align:  left;\n",
       "            background-color:  lightgrey;\n",
       "        }#T_3c652_row6_col7,#T_3c652_row7_col7,#T_3c652_row8_col7,#T_3c652_row10_col7,#T_3c652_row12_col7{\n",
       "            text-align:  left;\n",
       "            text-align:  left;\n",
       "            background-color:  yellow;\n",
       "            background-color:  lightgrey;\n",
       "        }</style><table id=\"T_3c652_\" ><thead>    <tr>        <th class=\"blank level0\" ></th>        <th class=\"col_heading level0 col0\" >Model</th>        <th class=\"col_heading level0 col1\" >MAE</th>        <th class=\"col_heading level0 col2\" >MSE</th>        <th class=\"col_heading level0 col3\" >RMSE</th>        <th class=\"col_heading level0 col4\" >R2</th>        <th class=\"col_heading level0 col5\" >RMSLE</th>        <th class=\"col_heading level0 col6\" >MAPE</th>        <th class=\"col_heading level0 col7\" >TT (Sec)</th>    </tr></thead><tbody>\n",
       "                <tr>\n",
       "                        <th id=\"T_3c652_level0_row0\" class=\"row_heading level0 row0\" >lightgbm</th>\n",
       "                        <td id=\"T_3c652_row0_col0\" class=\"data row0 col0\" >Light Gradient Boosting Machine</td>\n",
       "                        <td id=\"T_3c652_row0_col1\" class=\"data row0 col1\" >2.7435</td>\n",
       "                        <td id=\"T_3c652_row0_col2\" class=\"data row0 col2\" >15.7626</td>\n",
       "                        <td id=\"T_3c652_row0_col3\" class=\"data row0 col3\" >3.9491</td>\n",
       "                        <td id=\"T_3c652_row0_col4\" class=\"data row0 col4\" >0.5624</td>\n",
       "                        <td id=\"T_3c652_row0_col5\" class=\"data row0 col5\" >0.5155</td>\n",
       "                        <td id=\"T_3c652_row0_col6\" class=\"data row0 col6\" >0.6604</td>\n",
       "                        <td id=\"T_3c652_row0_col7\" class=\"data row0 col7\" >0.1620</td>\n",
       "            </tr>\n",
       "            <tr>\n",
       "                        <th id=\"T_3c652_level0_row1\" class=\"row_heading level0 row1\" >rf</th>\n",
       "                        <td id=\"T_3c652_row1_col0\" class=\"data row1 col0\" >Random Forest Regressor</td>\n",
       "                        <td id=\"T_3c652_row1_col1\" class=\"data row1 col1\" >2.7366</td>\n",
       "                        <td id=\"T_3c652_row1_col2\" class=\"data row1 col2\" >16.5086</td>\n",
       "                        <td id=\"T_3c652_row1_col3\" class=\"data row1 col3\" >4.0467</td>\n",
       "                        <td id=\"T_3c652_row1_col4\" class=\"data row1 col4\" >0.5427</td>\n",
       "                        <td id=\"T_3c652_row1_col5\" class=\"data row1 col5\" >0.4909</td>\n",
       "                        <td id=\"T_3c652_row1_col6\" class=\"data row1 col6\" >0.6574</td>\n",
       "                        <td id=\"T_3c652_row1_col7\" class=\"data row1 col7\" >0.5940</td>\n",
       "            </tr>\n",
       "            <tr>\n",
       "                        <th id=\"T_3c652_level0_row2\" class=\"row_heading level0 row2\" >et</th>\n",
       "                        <td id=\"T_3c652_row2_col0\" class=\"data row2 col0\" >Extra Trees Regressor</td>\n",
       "                        <td id=\"T_3c652_row2_col1\" class=\"data row2 col1\" >2.6837</td>\n",
       "                        <td id=\"T_3c652_row2_col2\" class=\"data row2 col2\" >17.1517</td>\n",
       "                        <td id=\"T_3c652_row2_col3\" class=\"data row2 col3\" >4.0988</td>\n",
       "                        <td id=\"T_3c652_row2_col4\" class=\"data row2 col4\" >0.5275</td>\n",
       "                        <td id=\"T_3c652_row2_col5\" class=\"data row2 col5\" >0.5079</td>\n",
       "                        <td id=\"T_3c652_row2_col6\" class=\"data row2 col6\" >0.6461</td>\n",
       "                        <td id=\"T_3c652_row2_col7\" class=\"data row2 col7\" >0.4780</td>\n",
       "            </tr>\n",
       "            <tr>\n",
       "                        <th id=\"T_3c652_level0_row3\" class=\"row_heading level0 row3\" >gbr</th>\n",
       "                        <td id=\"T_3c652_row3_col0\" class=\"data row3 col0\" >Gradient Boosting Regressor</td>\n",
       "                        <td id=\"T_3c652_row3_col1\" class=\"data row3 col1\" >2.8688</td>\n",
       "                        <td id=\"T_3c652_row3_col2\" class=\"data row3 col2\" >17.3443</td>\n",
       "                        <td id=\"T_3c652_row3_col3\" class=\"data row3 col3\" >4.1500</td>\n",
       "                        <td id=\"T_3c652_row3_col4\" class=\"data row3 col4\" >0.5123</td>\n",
       "                        <td id=\"T_3c652_row3_col5\" class=\"data row3 col5\" >0.5244</td>\n",
       "                        <td id=\"T_3c652_row3_col6\" class=\"data row3 col6\" >0.7099</td>\n",
       "                        <td id=\"T_3c652_row3_col7\" class=\"data row3 col7\" >0.1660</td>\n",
       "            </tr>\n",
       "            <tr>\n",
       "                        <th id=\"T_3c652_level0_row4\" class=\"row_heading level0 row4\" >ada</th>\n",
       "                        <td id=\"T_3c652_row4_col0\" class=\"data row4 col0\" >AdaBoost Regressor</td>\n",
       "                        <td id=\"T_3c652_row4_col1\" class=\"data row4 col1\" >3.4807</td>\n",
       "                        <td id=\"T_3c652_row4_col2\" class=\"data row4 col2\" >20.3665</td>\n",
       "                        <td id=\"T_3c652_row4_col3\" class=\"data row4 col3\" >4.4959</td>\n",
       "                        <td id=\"T_3c652_row4_col4\" class=\"data row4 col4\" >0.4427</td>\n",
       "                        <td id=\"T_3c652_row4_col5\" class=\"data row4 col5\" >0.5216</td>\n",
       "                        <td id=\"T_3c652_row4_col6\" class=\"data row4 col6\" >0.8125</td>\n",
       "                        <td id=\"T_3c652_row4_col7\" class=\"data row4 col7\" >0.1800</td>\n",
       "            </tr>\n",
       "            <tr>\n",
       "                        <th id=\"T_3c652_level0_row5\" class=\"row_heading level0 row5\" >ridge</th>\n",
       "                        <td id=\"T_3c652_row5_col0\" class=\"data row5 col0\" >Ridge Regression</td>\n",
       "                        <td id=\"T_3c652_row5_col1\" class=\"data row5 col1\" >3.3848</td>\n",
       "                        <td id=\"T_3c652_row5_col2\" class=\"data row5 col2\" >21.0746</td>\n",
       "                        <td id=\"T_3c652_row5_col3\" class=\"data row5 col3\" >4.5767</td>\n",
       "                        <td id=\"T_3c652_row5_col4\" class=\"data row5 col4\" >0.4147</td>\n",
       "                        <td id=\"T_3c652_row5_col5\" class=\"data row5 col5\" >0.5803</td>\n",
       "                        <td id=\"T_3c652_row5_col6\" class=\"data row5 col6\" >0.8091</td>\n",
       "                        <td id=\"T_3c652_row5_col7\" class=\"data row5 col7\" >0.0320</td>\n",
       "            </tr>\n",
       "            <tr>\n",
       "                        <th id=\"T_3c652_level0_row6\" class=\"row_heading level0 row6\" >en</th>\n",
       "                        <td id=\"T_3c652_row6_col0\" class=\"data row6 col0\" >Elastic Net</td>\n",
       "                        <td id=\"T_3c652_row6_col1\" class=\"data row6 col1\" >3.4675</td>\n",
       "                        <td id=\"T_3c652_row6_col2\" class=\"data row6 col2\" >21.7489</td>\n",
       "                        <td id=\"T_3c652_row6_col3\" class=\"data row6 col3\" >4.6464</td>\n",
       "                        <td id=\"T_3c652_row6_col4\" class=\"data row6 col4\" >0.3968</td>\n",
       "                        <td id=\"T_3c652_row6_col5\" class=\"data row6 col5\" >0.5776</td>\n",
       "                        <td id=\"T_3c652_row6_col6\" class=\"data row6 col6\" >0.8665</td>\n",
       "                        <td id=\"T_3c652_row6_col7\" class=\"data row6 col7\" >0.0300</td>\n",
       "            </tr>\n",
       "            <tr>\n",
       "                        <th id=\"T_3c652_level0_row7\" class=\"row_heading level0 row7\" >br</th>\n",
       "                        <td id=\"T_3c652_row7_col0\" class=\"data row7 col0\" >Bayesian Ridge</td>\n",
       "                        <td id=\"T_3c652_row7_col1\" class=\"data row7 col1\" >3.5376</td>\n",
       "                        <td id=\"T_3c652_row7_col2\" class=\"data row7 col2\" >22.3432</td>\n",
       "                        <td id=\"T_3c652_row7_col3\" class=\"data row7 col3\" >4.7092</td>\n",
       "                        <td id=\"T_3c652_row7_col4\" class=\"data row7 col4\" >0.3814</td>\n",
       "                        <td id=\"T_3c652_row7_col5\" class=\"data row7 col5\" >0.5853</td>\n",
       "                        <td id=\"T_3c652_row7_col6\" class=\"data row7 col6\" >0.8945</td>\n",
       "                        <td id=\"T_3c652_row7_col7\" class=\"data row7 col7\" >0.0300</td>\n",
       "            </tr>\n",
       "            <tr>\n",
       "                        <th id=\"T_3c652_level0_row8\" class=\"row_heading level0 row8\" >lasso</th>\n",
       "                        <td id=\"T_3c652_row8_col0\" class=\"data row8 col0\" >Lasso Regression</td>\n",
       "                        <td id=\"T_3c652_row8_col1\" class=\"data row8 col1\" >3.5325</td>\n",
       "                        <td id=\"T_3c652_row8_col2\" class=\"data row8 col2\" >22.3974</td>\n",
       "                        <td id=\"T_3c652_row8_col3\" class=\"data row8 col3\" >4.7151</td>\n",
       "                        <td id=\"T_3c652_row8_col4\" class=\"data row8 col4\" >0.3798</td>\n",
       "                        <td id=\"T_3c652_row8_col5\" class=\"data row8 col5\" >0.5855</td>\n",
       "                        <td id=\"T_3c652_row8_col6\" class=\"data row8 col6\" >0.8932</td>\n",
       "                        <td id=\"T_3c652_row8_col7\" class=\"data row8 col7\" >0.0300</td>\n",
       "            </tr>\n",
       "            <tr>\n",
       "                        <th id=\"T_3c652_level0_row9\" class=\"row_heading level0 row9\" >omp</th>\n",
       "                        <td id=\"T_3c652_row9_col0\" class=\"data row9 col0\" >Orthogonal Matching Pursuit</td>\n",
       "                        <td id=\"T_3c652_row9_col1\" class=\"data row9 col1\" >3.9442</td>\n",
       "                        <td id=\"T_3c652_row9_col2\" class=\"data row9 col2\" >27.3320</td>\n",
       "                        <td id=\"T_3c652_row9_col3\" class=\"data row9 col3\" >5.2062</td>\n",
       "                        <td id=\"T_3c652_row9_col4\" class=\"data row9 col4\" >0.2527</td>\n",
       "                        <td id=\"T_3c652_row9_col5\" class=\"data row9 col5\" >0.5048</td>\n",
       "                        <td id=\"T_3c652_row9_col6\" class=\"data row9 col6\" >0.9540</td>\n",
       "                        <td id=\"T_3c652_row9_col7\" class=\"data row9 col7\" >0.0320</td>\n",
       "            </tr>\n",
       "            <tr>\n",
       "                        <th id=\"T_3c652_level0_row10\" class=\"row_heading level0 row10\" >dt</th>\n",
       "                        <td id=\"T_3c652_row10_col0\" class=\"data row10 col0\" >Decision Tree Regressor</td>\n",
       "                        <td id=\"T_3c652_row10_col1\" class=\"data row10 col1\" >3.6243</td>\n",
       "                        <td id=\"T_3c652_row10_col2\" class=\"data row10 col2\" >32.0894</td>\n",
       "                        <td id=\"T_3c652_row10_col3\" class=\"data row10 col3\" >5.6428</td>\n",
       "                        <td id=\"T_3c652_row10_col4\" class=\"data row10 col4\" >0.0891</td>\n",
       "                        <td id=\"T_3c652_row10_col5\" class=\"data row10 col5\" >0.5670</td>\n",
       "                        <td id=\"T_3c652_row10_col6\" class=\"data row10 col6\" >0.8910</td>\n",
       "                        <td id=\"T_3c652_row10_col7\" class=\"data row10 col7\" >0.0300</td>\n",
       "            </tr>\n",
       "            <tr>\n",
       "                        <th id=\"T_3c652_level0_row11\" class=\"row_heading level0 row11\" >lr</th>\n",
       "                        <td id=\"T_3c652_row11_col0\" class=\"data row11 col0\" >Linear Regression</td>\n",
       "                        <td id=\"T_3c652_row11_col1\" class=\"data row11 col1\" >4.7042</td>\n",
       "                        <td id=\"T_3c652_row11_col2\" class=\"data row11 col2\" >38.2708</td>\n",
       "                        <td id=\"T_3c652_row11_col3\" class=\"data row11 col3\" >6.1666</td>\n",
       "                        <td id=\"T_3c652_row11_col4\" class=\"data row11 col4\" >-0.0419</td>\n",
       "                        <td id=\"T_3c652_row11_col5\" class=\"data row11 col5\" >0.5892</td>\n",
       "                        <td id=\"T_3c652_row11_col6\" class=\"data row11 col6\" >1.2037</td>\n",
       "                        <td id=\"T_3c652_row11_col7\" class=\"data row11 col7\" >0.0360</td>\n",
       "            </tr>\n",
       "            <tr>\n",
       "                        <th id=\"T_3c652_level0_row12\" class=\"row_heading level0 row12\" >llar</th>\n",
       "                        <td id=\"T_3c652_row12_col0\" class=\"data row12 col0\" >Lasso Least Angle Regression</td>\n",
       "                        <td id=\"T_3c652_row12_col1\" class=\"data row12 col1\" >4.6988</td>\n",
       "                        <td id=\"T_3c652_row12_col2\" class=\"data row12 col2\" >38.2908</td>\n",
       "                        <td id=\"T_3c652_row12_col3\" class=\"data row12 col3\" >6.1680</td>\n",
       "                        <td id=\"T_3c652_row12_col4\" class=\"data row12 col4\" >-0.0422</td>\n",
       "                        <td id=\"T_3c652_row12_col5\" class=\"data row12 col5\" >0.5895</td>\n",
       "                        <td id=\"T_3c652_row12_col6\" class=\"data row12 col6\" >1.2063</td>\n",
       "                        <td id=\"T_3c652_row12_col7\" class=\"data row12 col7\" >0.0300</td>\n",
       "            </tr>\n",
       "            <tr>\n",
       "                        <th id=\"T_3c652_level0_row13\" class=\"row_heading level0 row13\" >knn</th>\n",
       "                        <td id=\"T_3c652_row13_col0\" class=\"data row13 col0\" >K Neighbors Regressor</td>\n",
       "                        <td id=\"T_3c652_row13_col1\" class=\"data row13 col1\" >4.8136</td>\n",
       "                        <td id=\"T_3c652_row13_col2\" class=\"data row13 col2\" >40.1198</td>\n",
       "                        <td id=\"T_3c652_row13_col3\" class=\"data row13 col3\" >6.3230</td>\n",
       "                        <td id=\"T_3c652_row13_col4\" class=\"data row13 col4\" >-0.1041</td>\n",
       "                        <td id=\"T_3c652_row13_col5\" class=\"data row13 col5\" >0.7104</td>\n",
       "                        <td id=\"T_3c652_row13_col6\" class=\"data row13 col6\" >1.2615</td>\n",
       "                        <td id=\"T_3c652_row13_col7\" class=\"data row13 col7\" >0.0520</td>\n",
       "            </tr>\n",
       "            <tr>\n",
       "                        <th id=\"T_3c652_level0_row14\" class=\"row_heading level0 row14\" >huber</th>\n",
       "                        <td id=\"T_3c652_row14_col0\" class=\"data row14 col0\" >Huber Regressor</td>\n",
       "                        <td id=\"T_3c652_row14_col1\" class=\"data row14 col1\" >8.8591</td>\n",
       "                        <td id=\"T_3c652_row14_col2\" class=\"data row14 col2\" >99.5524</td>\n",
       "                        <td id=\"T_3c652_row14_col3\" class=\"data row14 col3\" >9.9415</td>\n",
       "                        <td id=\"T_3c652_row14_col4\" class=\"data row14 col4\" >-1.7507</td>\n",
       "                        <td id=\"T_3c652_row14_col5\" class=\"data row14 col5\" >2.1998</td>\n",
       "                        <td id=\"T_3c652_row14_col6\" class=\"data row14 col6\" >0.9950</td>\n",
       "                        <td id=\"T_3c652_row14_col7\" class=\"data row14 col7\" >0.0560</td>\n",
       "            </tr>\n",
       "    </tbody></table>"
      ],
      "text/plain": [
       "<pandas.io.formats.style.Styler at 0x1ea29cd0fa0>"
      ]
     },
     "metadata": {},
     "output_type": "display_data"
    }
   ],
   "source": [
    "best_model = compare_models(exclude =['lar','par'], fold = 5)"
   ]
  },
  {
   "cell_type": "markdown",
   "id": "7e7c4164-9aa8-4807-bfbe-05547b0bb6a9",
   "metadata": {},
   "source": [
    "##  BEST MODEL - RANDOM FOREST"
   ]
  },
  {
   "cell_type": "code",
   "execution_count": 13,
   "id": "02c0c3fa-d748-49cf-b142-236d4245e877",
   "metadata": {},
   "outputs": [
    {
     "data": {
      "text/html": [
       "<style  type=\"text/css\" >\n",
       "#T_b778f_row10_col0,#T_b778f_row10_col1,#T_b778f_row10_col2,#T_b778f_row10_col3,#T_b778f_row10_col4,#T_b778f_row10_col5{\n",
       "            background:  yellow;\n",
       "        }</style><table id=\"T_b778f_\" ><thead>    <tr>        <th class=\"blank level0\" ></th>        <th class=\"col_heading level0 col0\" >MAE</th>        <th class=\"col_heading level0 col1\" >MSE</th>        <th class=\"col_heading level0 col2\" >RMSE</th>        <th class=\"col_heading level0 col3\" >R2</th>        <th class=\"col_heading level0 col4\" >RMSLE</th>        <th class=\"col_heading level0 col5\" >MAPE</th>    </tr></thead><tbody>\n",
       "                <tr>\n",
       "                        <th id=\"T_b778f_level0_row0\" class=\"row_heading level0 row0\" >0</th>\n",
       "                        <td id=\"T_b778f_row0_col0\" class=\"data row0 col0\" >2.7031</td>\n",
       "                        <td id=\"T_b778f_row0_col1\" class=\"data row0 col1\" >21.9997</td>\n",
       "                        <td id=\"T_b778f_row0_col2\" class=\"data row0 col2\" >4.6904</td>\n",
       "                        <td id=\"T_b778f_row0_col3\" class=\"data row0 col3\" >0.2606</td>\n",
       "                        <td id=\"T_b778f_row0_col4\" class=\"data row0 col4\" >0.5086</td>\n",
       "                        <td id=\"T_b778f_row0_col5\" class=\"data row0 col5\" >0.4398</td>\n",
       "            </tr>\n",
       "            <tr>\n",
       "                        <th id=\"T_b778f_level0_row1\" class=\"row_heading level0 row1\" >1</th>\n",
       "                        <td id=\"T_b778f_row1_col0\" class=\"data row1 col0\" >2.8138</td>\n",
       "                        <td id=\"T_b778f_row1_col1\" class=\"data row1 col1\" >18.9947</td>\n",
       "                        <td id=\"T_b778f_row1_col2\" class=\"data row1 col2\" >4.3583</td>\n",
       "                        <td id=\"T_b778f_row1_col3\" class=\"data row1 col3\" >0.3164</td>\n",
       "                        <td id=\"T_b778f_row1_col4\" class=\"data row1 col4\" >0.5562</td>\n",
       "                        <td id=\"T_b778f_row1_col5\" class=\"data row1 col5\" >0.3453</td>\n",
       "            </tr>\n",
       "            <tr>\n",
       "                        <th id=\"T_b778f_level0_row2\" class=\"row_heading level0 row2\" >2</th>\n",
       "                        <td id=\"T_b778f_row2_col0\" class=\"data row2 col0\" >2.3668</td>\n",
       "                        <td id=\"T_b778f_row2_col1\" class=\"data row2 col1\" >12.3591</td>\n",
       "                        <td id=\"T_b778f_row2_col2\" class=\"data row2 col2\" >3.5155</td>\n",
       "                        <td id=\"T_b778f_row2_col3\" class=\"data row2 col3\" >0.6967</td>\n",
       "                        <td id=\"T_b778f_row2_col4\" class=\"data row2 col4\" >0.4671</td>\n",
       "                        <td id=\"T_b778f_row2_col5\" class=\"data row2 col5\" >0.9548</td>\n",
       "            </tr>\n",
       "            <tr>\n",
       "                        <th id=\"T_b778f_level0_row3\" class=\"row_heading level0 row3\" >3</th>\n",
       "                        <td id=\"T_b778f_row3_col0\" class=\"data row3 col0\" >2.3566</td>\n",
       "                        <td id=\"T_b778f_row3_col1\" class=\"data row3 col1\" >12.6957</td>\n",
       "                        <td id=\"T_b778f_row3_col2\" class=\"data row3 col2\" >3.5631</td>\n",
       "                        <td id=\"T_b778f_row3_col3\" class=\"data row3 col3\" >0.5512</td>\n",
       "                        <td id=\"T_b778f_row3_col4\" class=\"data row3 col4\" >0.4987</td>\n",
       "                        <td id=\"T_b778f_row3_col5\" class=\"data row3 col5\" >0.5115</td>\n",
       "            </tr>\n",
       "            <tr>\n",
       "                        <th id=\"T_b778f_level0_row4\" class=\"row_heading level0 row4\" >4</th>\n",
       "                        <td id=\"T_b778f_row4_col0\" class=\"data row4 col0\" >2.5556</td>\n",
       "                        <td id=\"T_b778f_row4_col1\" class=\"data row4 col1\" >12.7225</td>\n",
       "                        <td id=\"T_b778f_row4_col2\" class=\"data row4 col2\" >3.5669</td>\n",
       "                        <td id=\"T_b778f_row4_col3\" class=\"data row4 col3\" >0.6515</td>\n",
       "                        <td id=\"T_b778f_row4_col4\" class=\"data row4 col4\" >0.5509</td>\n",
       "                        <td id=\"T_b778f_row4_col5\" class=\"data row4 col5\" >1.0567</td>\n",
       "            </tr>\n",
       "            <tr>\n",
       "                        <th id=\"T_b778f_level0_row5\" class=\"row_heading level0 row5\" >5</th>\n",
       "                        <td id=\"T_b778f_row5_col0\" class=\"data row5 col0\" >1.5183</td>\n",
       "                        <td id=\"T_b778f_row5_col1\" class=\"data row5 col1\" >7.1827</td>\n",
       "                        <td id=\"T_b778f_row5_col2\" class=\"data row5 col2\" >2.6801</td>\n",
       "                        <td id=\"T_b778f_row5_col3\" class=\"data row5 col3\" >0.7707</td>\n",
       "                        <td id=\"T_b778f_row5_col4\" class=\"data row5 col4\" >0.3923</td>\n",
       "                        <td id=\"T_b778f_row5_col5\" class=\"data row5 col5\" >0.3060</td>\n",
       "            </tr>\n",
       "            <tr>\n",
       "                        <th id=\"T_b778f_level0_row6\" class=\"row_heading level0 row6\" >6</th>\n",
       "                        <td id=\"T_b778f_row6_col0\" class=\"data row6 col0\" >2.9396</td>\n",
       "                        <td id=\"T_b778f_row6_col1\" class=\"data row6 col1\" >15.1039</td>\n",
       "                        <td id=\"T_b778f_row6_col2\" class=\"data row6 col2\" >3.8864</td>\n",
       "                        <td id=\"T_b778f_row6_col3\" class=\"data row6 col3\" >0.4479</td>\n",
       "                        <td id=\"T_b778f_row6_col4\" class=\"data row6 col4\" >0.5145</td>\n",
       "                        <td id=\"T_b778f_row6_col5\" class=\"data row6 col5\" >0.6092</td>\n",
       "            </tr>\n",
       "            <tr>\n",
       "                        <th id=\"T_b778f_level0_row7\" class=\"row_heading level0 row7\" >7</th>\n",
       "                        <td id=\"T_b778f_row7_col0\" class=\"data row7 col0\" >3.3633</td>\n",
       "                        <td id=\"T_b778f_row7_col1\" class=\"data row7 col1\" >27.7573</td>\n",
       "                        <td id=\"T_b778f_row7_col2\" class=\"data row7 col2\" >5.2685</td>\n",
       "                        <td id=\"T_b778f_row7_col3\" class=\"data row7 col3\" >0.5144</td>\n",
       "                        <td id=\"T_b778f_row7_col4\" class=\"data row7 col4\" >0.7382</td>\n",
       "                        <td id=\"T_b778f_row7_col5\" class=\"data row7 col5\" >1.0044</td>\n",
       "            </tr>\n",
       "            <tr>\n",
       "                        <th id=\"T_b778f_level0_row8\" class=\"row_heading level0 row8\" >8</th>\n",
       "                        <td id=\"T_b778f_row8_col0\" class=\"data row8 col0\" >2.2494</td>\n",
       "                        <td id=\"T_b778f_row8_col1\" class=\"data row8 col1\" >8.4205</td>\n",
       "                        <td id=\"T_b778f_row8_col2\" class=\"data row8 col2\" >2.9018</td>\n",
       "                        <td id=\"T_b778f_row8_col3\" class=\"data row8 col3\" >0.6904</td>\n",
       "                        <td id=\"T_b778f_row8_col4\" class=\"data row8 col4\" >0.4202</td>\n",
       "                        <td id=\"T_b778f_row8_col5\" class=\"data row8 col5\" >0.5651</td>\n",
       "            </tr>\n",
       "            <tr>\n",
       "                        <th id=\"T_b778f_level0_row9\" class=\"row_heading level0 row9\" >9</th>\n",
       "                        <td id=\"T_b778f_row9_col0\" class=\"data row9 col0\" >3.0716</td>\n",
       "                        <td id=\"T_b778f_row9_col1\" class=\"data row9 col1\" >27.2165</td>\n",
       "                        <td id=\"T_b778f_row9_col2\" class=\"data row9 col2\" >5.2169</td>\n",
       "                        <td id=\"T_b778f_row9_col3\" class=\"data row9 col3\" >0.4719</td>\n",
       "                        <td id=\"T_b778f_row9_col4\" class=\"data row9 col4\" >0.6644</td>\n",
       "                        <td id=\"T_b778f_row9_col5\" class=\"data row9 col5\" >0.6665</td>\n",
       "            </tr>\n",
       "            <tr>\n",
       "                        <th id=\"T_b778f_level0_row10\" class=\"row_heading level0 row10\" >Mean</th>\n",
       "                        <td id=\"T_b778f_row10_col0\" class=\"data row10 col0\" >2.5938</td>\n",
       "                        <td id=\"T_b778f_row10_col1\" class=\"data row10 col1\" >16.4453</td>\n",
       "                        <td id=\"T_b778f_row10_col2\" class=\"data row10 col2\" >3.9648</td>\n",
       "                        <td id=\"T_b778f_row10_col3\" class=\"data row10 col3\" >0.5372</td>\n",
       "                        <td id=\"T_b778f_row10_col4\" class=\"data row10 col4\" >0.5311</td>\n",
       "                        <td id=\"T_b778f_row10_col5\" class=\"data row10 col5\" >0.6459</td>\n",
       "            </tr>\n",
       "            <tr>\n",
       "                        <th id=\"T_b778f_level0_row11\" class=\"row_heading level0 row11\" >SD</th>\n",
       "                        <td id=\"T_b778f_row11_col0\" class=\"data row11 col0\" >0.4884</td>\n",
       "                        <td id=\"T_b778f_row11_col1\" class=\"data row11 col1\" >6.9133</td>\n",
       "                        <td id=\"T_b778f_row11_col2\" class=\"data row11 col2\" >0.8519</td>\n",
       "                        <td id=\"T_b778f_row11_col3\" class=\"data row11 col3\" >0.1596</td>\n",
       "                        <td id=\"T_b778f_row11_col4\" class=\"data row11 col4\" >0.0996</td>\n",
       "                        <td id=\"T_b778f_row11_col5\" class=\"data row11 col5\" >0.2584</td>\n",
       "            </tr>\n",
       "    </tbody></table>"
      ],
      "text/plain": [
       "<pandas.io.formats.style.Styler at 0x1ea594c7160>"
      ]
     },
     "metadata": {},
     "output_type": "display_data"
    }
   ],
   "source": [
    "et = create_model('et')"
   ]
  },
  {
   "cell_type": "markdown",
   "id": "9c532b93-8942-496a-8ae8-7654f49e236e",
   "metadata": {},
   "source": [
    "## TUNE RANDOM EXTRA TREE REGRESSOR"
   ]
  },
  {
   "cell_type": "code",
   "execution_count": 14,
   "id": "145a0f4d-482d-4581-9ea6-ba2de5166ec1",
   "metadata": {},
   "outputs": [
    {
     "data": {
      "text/html": [
       "<style  type=\"text/css\" >\n",
       "#T_79429_row10_col0,#T_79429_row10_col1,#T_79429_row10_col2,#T_79429_row10_col3,#T_79429_row10_col4,#T_79429_row10_col5{\n",
       "            background:  yellow;\n",
       "        }</style><table id=\"T_79429_\" ><thead>    <tr>        <th class=\"blank level0\" ></th>        <th class=\"col_heading level0 col0\" >MAE</th>        <th class=\"col_heading level0 col1\" >MSE</th>        <th class=\"col_heading level0 col2\" >RMSE</th>        <th class=\"col_heading level0 col3\" >R2</th>        <th class=\"col_heading level0 col4\" >RMSLE</th>        <th class=\"col_heading level0 col5\" >MAPE</th>    </tr></thead><tbody>\n",
       "                <tr>\n",
       "                        <th id=\"T_79429_level0_row0\" class=\"row_heading level0 row0\" >0</th>\n",
       "                        <td id=\"T_79429_row0_col0\" class=\"data row0 col0\" >2.8034</td>\n",
       "                        <td id=\"T_79429_row0_col1\" class=\"data row0 col1\" >22.9604</td>\n",
       "                        <td id=\"T_79429_row0_col2\" class=\"data row0 col2\" >4.7917</td>\n",
       "                        <td id=\"T_79429_row0_col3\" class=\"data row0 col3\" >0.2284</td>\n",
       "                        <td id=\"T_79429_row0_col4\" class=\"data row0 col4\" >0.3778</td>\n",
       "                        <td id=\"T_79429_row0_col5\" class=\"data row0 col5\" >0.5109</td>\n",
       "            </tr>\n",
       "            <tr>\n",
       "                        <th id=\"T_79429_level0_row1\" class=\"row_heading level0 row1\" >1</th>\n",
       "                        <td id=\"T_79429_row1_col0\" class=\"data row1 col0\" >2.8569</td>\n",
       "                        <td id=\"T_79429_row1_col1\" class=\"data row1 col1\" >17.9509</td>\n",
       "                        <td id=\"T_79429_row1_col2\" class=\"data row1 col2\" >4.2369</td>\n",
       "                        <td id=\"T_79429_row1_col3\" class=\"data row1 col3\" >0.3540</td>\n",
       "                        <td id=\"T_79429_row1_col4\" class=\"data row1 col4\" >0.5067</td>\n",
       "                        <td id=\"T_79429_row1_col5\" class=\"data row1 col5\" >0.3841</td>\n",
       "            </tr>\n",
       "            <tr>\n",
       "                        <th id=\"T_79429_level0_row2\" class=\"row_heading level0 row2\" >2</th>\n",
       "                        <td id=\"T_79429_row2_col0\" class=\"data row2 col0\" >2.3467</td>\n",
       "                        <td id=\"T_79429_row2_col1\" class=\"data row2 col1\" >13.0534</td>\n",
       "                        <td id=\"T_79429_row2_col2\" class=\"data row2 col2\" >3.6129</td>\n",
       "                        <td id=\"T_79429_row2_col3\" class=\"data row2 col3\" >0.6797</td>\n",
       "                        <td id=\"T_79429_row2_col4\" class=\"data row2 col4\" >0.4285</td>\n",
       "                        <td id=\"T_79429_row2_col5\" class=\"data row2 col5\" >0.9408</td>\n",
       "            </tr>\n",
       "            <tr>\n",
       "                        <th id=\"T_79429_level0_row3\" class=\"row_heading level0 row3\" >3</th>\n",
       "                        <td id=\"T_79429_row3_col0\" class=\"data row3 col0\" >2.5459</td>\n",
       "                        <td id=\"T_79429_row3_col1\" class=\"data row3 col1\" >12.5210</td>\n",
       "                        <td id=\"T_79429_row3_col2\" class=\"data row3 col2\" >3.5385</td>\n",
       "                        <td id=\"T_79429_row3_col3\" class=\"data row3 col3\" >0.5573</td>\n",
       "                        <td id=\"T_79429_row3_col4\" class=\"data row3 col4\" >0.5123</td>\n",
       "                        <td id=\"T_79429_row3_col5\" class=\"data row3 col5\" >0.5602</td>\n",
       "            </tr>\n",
       "            <tr>\n",
       "                        <th id=\"T_79429_level0_row4\" class=\"row_heading level0 row4\" >4</th>\n",
       "                        <td id=\"T_79429_row4_col0\" class=\"data row4 col0\" >3.0327</td>\n",
       "                        <td id=\"T_79429_row4_col1\" class=\"data row4 col1\" >16.3427</td>\n",
       "                        <td id=\"T_79429_row4_col2\" class=\"data row4 col2\" >4.0426</td>\n",
       "                        <td id=\"T_79429_row4_col3\" class=\"data row4 col3\" >0.5523</td>\n",
       "                        <td id=\"T_79429_row4_col4\" class=\"data row4 col4\" >0.5682</td>\n",
       "                        <td id=\"T_79429_row4_col5\" class=\"data row4 col5\" >1.2645</td>\n",
       "            </tr>\n",
       "            <tr>\n",
       "                        <th id=\"T_79429_level0_row5\" class=\"row_heading level0 row5\" >5</th>\n",
       "                        <td id=\"T_79429_row5_col0\" class=\"data row5 col0\" >2.0626</td>\n",
       "                        <td id=\"T_79429_row5_col1\" class=\"data row5 col1\" >10.2734</td>\n",
       "                        <td id=\"T_79429_row5_col2\" class=\"data row5 col2\" >3.2052</td>\n",
       "                        <td id=\"T_79429_row5_col3\" class=\"data row5 col3\" >0.6721</td>\n",
       "                        <td id=\"T_79429_row5_col4\" class=\"data row5 col4\" >0.3633</td>\n",
       "                        <td id=\"T_79429_row5_col5\" class=\"data row5 col5\" >0.4780</td>\n",
       "            </tr>\n",
       "            <tr>\n",
       "                        <th id=\"T_79429_level0_row6\" class=\"row_heading level0 row6\" >6</th>\n",
       "                        <td id=\"T_79429_row6_col0\" class=\"data row6 col0\" >3.1126</td>\n",
       "                        <td id=\"T_79429_row6_col1\" class=\"data row6 col1\" >16.0514</td>\n",
       "                        <td id=\"T_79429_row6_col2\" class=\"data row6 col2\" >4.0064</td>\n",
       "                        <td id=\"T_79429_row6_col3\" class=\"data row6 col3\" >0.4133</td>\n",
       "                        <td id=\"T_79429_row6_col4\" class=\"data row6 col4\" >0.5286</td>\n",
       "                        <td id=\"T_79429_row6_col5\" class=\"data row6 col5\" >0.6801</td>\n",
       "            </tr>\n",
       "            <tr>\n",
       "                        <th id=\"T_79429_level0_row7\" class=\"row_heading level0 row7\" >7</th>\n",
       "                        <td id=\"T_79429_row7_col0\" class=\"data row7 col0\" >3.6079</td>\n",
       "                        <td id=\"T_79429_row7_col1\" class=\"data row7 col1\" >32.8153</td>\n",
       "                        <td id=\"T_79429_row7_col2\" class=\"data row7 col2\" >5.7285</td>\n",
       "                        <td id=\"T_79429_row7_col3\" class=\"data row7 col3\" >0.4259</td>\n",
       "                        <td id=\"T_79429_row7_col4\" class=\"data row7 col4\" >0.7053</td>\n",
       "                        <td id=\"T_79429_row7_col5\" class=\"data row7 col5\" >1.2390</td>\n",
       "            </tr>\n",
       "            <tr>\n",
       "                        <th id=\"T_79429_level0_row8\" class=\"row_heading level0 row8\" >8</th>\n",
       "                        <td id=\"T_79429_row8_col0\" class=\"data row8 col0\" >2.0230</td>\n",
       "                        <td id=\"T_79429_row8_col1\" class=\"data row8 col1\" >6.8690</td>\n",
       "                        <td id=\"T_79429_row8_col2\" class=\"data row8 col2\" >2.6209</td>\n",
       "                        <td id=\"T_79429_row8_col3\" class=\"data row8 col3\" >0.7475</td>\n",
       "                        <td id=\"T_79429_row8_col4\" class=\"data row8 col4\" >0.3755</td>\n",
       "                        <td id=\"T_79429_row8_col5\" class=\"data row8 col5\" >0.5618</td>\n",
       "            </tr>\n",
       "            <tr>\n",
       "                        <th id=\"T_79429_level0_row9\" class=\"row_heading level0 row9\" >9</th>\n",
       "                        <td id=\"T_79429_row9_col0\" class=\"data row9 col0\" >3.2735</td>\n",
       "                        <td id=\"T_79429_row9_col1\" class=\"data row9 col1\" >29.3911</td>\n",
       "                        <td id=\"T_79429_row9_col2\" class=\"data row9 col2\" >5.4214</td>\n",
       "                        <td id=\"T_79429_row9_col3\" class=\"data row9 col3\" >0.4298</td>\n",
       "                        <td id=\"T_79429_row9_col4\" class=\"data row9 col4\" >0.5794</td>\n",
       "                        <td id=\"T_79429_row9_col5\" class=\"data row9 col5\" >0.7937</td>\n",
       "            </tr>\n",
       "            <tr>\n",
       "                        <th id=\"T_79429_level0_row10\" class=\"row_heading level0 row10\" >Mean</th>\n",
       "                        <td id=\"T_79429_row10_col0\" class=\"data row10 col0\" >2.7665</td>\n",
       "                        <td id=\"T_79429_row10_col1\" class=\"data row10 col1\" >17.8229</td>\n",
       "                        <td id=\"T_79429_row10_col2\" class=\"data row10 col2\" >4.1205</td>\n",
       "                        <td id=\"T_79429_row10_col3\" class=\"data row10 col3\" >0.5060</td>\n",
       "                        <td id=\"T_79429_row10_col4\" class=\"data row10 col4\" >0.4946</td>\n",
       "                        <td id=\"T_79429_row10_col5\" class=\"data row10 col5\" >0.7413</td>\n",
       "            </tr>\n",
       "            <tr>\n",
       "                        <th id=\"T_79429_level0_row11\" class=\"row_heading level0 row11\" >SD</th>\n",
       "                        <td id=\"T_79429_row11_col0\" class=\"data row11 col0\" >0.4938</td>\n",
       "                        <td id=\"T_79429_row11_col1\" class=\"data row11 col1\" >7.8624</td>\n",
       "                        <td id=\"T_79429_row11_col2\" class=\"data row11 col2\" >0.9189</td>\n",
       "                        <td id=\"T_79429_row11_col3\" class=\"data row11 col3\" >0.1555</td>\n",
       "                        <td id=\"T_79429_row11_col4\" class=\"data row11 col4\" >0.1040</td>\n",
       "                        <td id=\"T_79429_row11_col5\" class=\"data row11 col5\" >0.2971</td>\n",
       "            </tr>\n",
       "    </tbody></table>"
      ],
      "text/plain": [
       "<pandas.io.formats.style.Styler at 0x1ea58f92af0>"
      ]
     },
     "metadata": {},
     "output_type": "display_data"
    }
   ],
   "source": [
    "tuned_et = tune_model(et, n_iter = 50, optimize = 'MAE')"
   ]
  },
  {
   "cell_type": "markdown",
   "id": "f80ff7b2-c238-4ad0-a5ac-f9984dcdfedd",
   "metadata": {},
   "source": [
    "## VISUALISATION"
   ]
  },
  {
   "cell_type": "code",
   "execution_count": 15,
   "id": "c3f9bf33-804d-4ee2-b427-0c6cb9d5bf3e",
   "metadata": {},
   "outputs": [
    {
     "data": {
      "image/png": "[encoded data removed]",
      "text/plain": [
       "<Figure size 576x396 with 2 Axes>"
      ]
     },
     "metadata": {},
     "output_type": "display_data"
    }
   ],
   "source": [
    "plot_model(tuned_et)"
   ]
  },
  {
   "cell_type": "code",
   "execution_count": 16,
   "id": "57ce015f-32b5-466b-b831-f22742418fff",
   "metadata": {},
   "outputs": [
    {
     "data": {
      "image/png": "[encoded data removed]",
      "text/plain": [
       "<Figure size 576x396 with 1 Axes>"
      ]
     },
     "metadata": {},
     "output_type": "display_data"
    }
   ],
   "source": [
    "plot_model(tuned_et, plot = 'error')"
   ]
  },
  {
   "cell_type": "code",
   "execution_count": 17,
   "id": "7d60b67f-bb92-4e74-b61c-155dd4583dcd",
   "metadata": {},
   "outputs": [
    {
     "data": {
      "image/png": "[encoded data removed]",
      "text/plain": [
       "<Figure size 800x500 with 1 Axes>"
      ]
     },
     "metadata": {},
     "output_type": "display_data"
    }
   ],
   "source": [
    "plot_model(tuned_et, plot = 'feature')"
   ]
  },
  {
   "cell_type": "markdown",
   "id": "74d39e3e-af4f-4adc-8c2d-78598078e943",
   "metadata": {},
   "source": [
    "## EVALUATE MODEL"
   ]
  },
  {
   "cell_type": "code",
   "execution_count": 18,
   "id": "0da38074-a7b8-4204-a4ae-eeca60216514",
   "metadata": {},
   "outputs": [
    {
     "data": {
      "application/vnd.jupyter.widget-view+json": {
       "model_id": "09da0a809ce14aec92d13282a2638bc7",
       "version_major": 2,
       "version_minor": 0
      },
      "text/plain": [
       "interactive(children=(ToggleButtons(description='Plot Type:', icons=('',), options=(('Hyperparameters', 'param…"
      ]
     },
     "metadata": {},
     "output_type": "display_data"
    }
   ],
   "source": [
    "evaluate_model(tuned_et)"
   ]
  },
  {
   "cell_type": "markdown",
   "id": "6dba017c-3ae9-4d18-906f-55e300f9f803",
   "metadata": {},
   "source": [
    "## INTERPRETATION OF MODEL"
   ]
  },
  {
   "cell_type": "code",
   "execution_count": 19,
   "id": "aebfc5c1-98e2-474f-bd51-4d28cbc9b2a4",
   "metadata": {},
   "outputs": [
    {
     "data": {
      "image/png": "[encoded data removed]",
      "text/plain": [
       "<Figure size 576x597.6 with 2 Axes>"
      ]
     },
     "metadata": {},
     "output_type": "display_data"
    }
   ],
   "source": [
    "interpret_model(tuned_et)"
   ]
  },
  {
   "cell_type": "code",
   "execution_count": null,
   "id": "c4d15a94-d98e-4c7d-8ed1-bff91402ccbc",
   "metadata": {},
   "outputs": [],
   "source": []
  },
  {
   "cell_type": "markdown",
   "id": "2338f350-b982-4301-b152-627cd5fc1323",
   "metadata": {},
   "source": [
    "## AUTO MACHINE LEARNING"
   ]
  },
  {
   "cell_type": "code",
   "execution_count": 20,
   "id": "2fb82389-28c3-4328-a4c4-6aa5f134769f",
   "metadata": {},
   "outputs": [
    {
     "name": "stdout",
     "output_type": "stream",
     "text": [
      "ExtraTreesRegressor(bootstrap=False, ccp_alpha=0.0, criterion='mse',\n",
      "                    max_depth=None, max_features='auto', max_leaf_nodes=None,\n",
      "                    max_samples=None, min_impurity_decrease=0.0,\n",
      "                    min_impurity_split=None, min_samples_leaf=1,\n",
      "                    min_samples_split=2, min_weight_fraction_leaf=0.0,\n",
      "                    n_estimators=100, n_jobs=-1, oob_score=False,\n",
      "                    random_state=123, verbose=0, warm_start=False)\n"
     ]
    }
   ],
   "source": [
    "auto_ml = automl(optimize = 'MAE')\n",
    "print(auto_ml)"
   ]
  },
  {
   "cell_type": "markdown",
   "id": "0afcb801-9e16-4533-97f3-7a2de0f76bb6",
   "metadata": {},
   "source": [
    "## PREDICTIONS"
   ]
  },
  {
   "cell_type": "code",
   "execution_count": 21,
   "id": "4dbd4b5d-0695-484d-accc-7a7b06c7521d",
   "metadata": {},
   "outputs": [
    {
     "data": {
      "text/html": [
       "<style  type=\"text/css\" >\n",
       "</style><table id=\"T_23db6_\" ><thead>    <tr>        <th class=\"blank level0\" ></th>        <th class=\"col_heading level0 col0\" >Model</th>        <th class=\"col_heading level0 col1\" >MAE</th>        <th class=\"col_heading level0 col2\" >MSE</th>        <th class=\"col_heading level0 col3\" >RMSE</th>        <th class=\"col_heading level0 col4\" >R2</th>        <th class=\"col_heading level0 col5\" >RMSLE</th>        <th class=\"col_heading level0 col6\" >MAPE</th>    </tr></thead><tbody>\n",
       "                <tr>\n",
       "                        <th id=\"T_23db6_level0_row0\" class=\"row_heading level0 row0\" >0</th>\n",
       "                        <td id=\"T_23db6_row0_col0\" class=\"data row0 col0\" >Extra Trees Regressor</td>\n",
       "                        <td id=\"T_23db6_row0_col1\" class=\"data row0 col1\" >2.0760</td>\n",
       "                        <td id=\"T_23db6_row0_col2\" class=\"data row0 col2\" >10.8499</td>\n",
       "                        <td id=\"T_23db6_row0_col3\" class=\"data row0 col3\" >3.2939</td>\n",
       "                        <td id=\"T_23db6_row0_col4\" class=\"data row0 col4\" >0.6564</td>\n",
       "                        <td id=\"T_23db6_row0_col5\" class=\"data row0 col5\" >0.4382</td>\n",
       "                        <td id=\"T_23db6_row0_col6\" class=\"data row0 col6\" >0.5809</td>\n",
       "            </tr>\n",
       "    </tbody></table>"
      ],
      "text/plain": [
       "<pandas.io.formats.style.Styler at 0x1ea5cc38760>"
      ]
     },
     "metadata": {},
     "output_type": "display_data"
    }
   ],
   "source": [
    "pred = predict_model(auto_ml)"
   ]
  },
  {
   "cell_type": "code",
   "execution_count": 22,
   "id": "c80cbfb8-1fa0-4d31-9bcd-a483852de1c8",
   "metadata": {},
   "outputs": [
    {
     "data": {
      "text/html": [
       "<div>\n",
       "<style scoped>\n",
       "    .dataframe tbody tr th:only-of-type {\n",
       "        vertical-align: middle;\n",
       "    }\n",
       "\n",
       "    .dataframe tbody tr th {\n",
       "        vertical-align: top;\n",
       "    }\n",
       "\n",
       "    .dataframe thead th {\n",
       "        text-align: right;\n",
       "    }\n",
       "</style>\n",
       "<table border=\"1\" class=\"dataframe\">\n",
       "  <thead>\n",
       "    <tr style=\"text-align: right;\">\n",
       "      <th></th>\n",
       "      <th>price_earnings_ratio</th>\n",
       "      <th>price_book_ratio</th>\n",
       "      <th>price_sales_ratio</th>\n",
       "      <th>price_cashflow_ratio</th>\n",
       "      <th>sector_basic_materials</th>\n",
       "      <th>sector_consumer_cyclical</th>\n",
       "      <th>sector_financial_services</th>\n",
       "      <th>sector_real_estate</th>\n",
       "      <th>sector_consumer_defensive</th>\n",
       "      <th>sector_healthcare</th>\n",
       "      <th>sector_utilities</th>\n",
       "      <th>sector_communication_services</th>\n",
       "      <th>sector_energy</th>\n",
       "      <th>sector_industrials</th>\n",
       "      <th>sector_technology</th>\n",
       "      <th>net_asset_value</th>\n",
       "      <th>fund_yield</th>\n",
       "      <th>fund_return_10years</th>\n",
       "      <th>Predictions</th>\n",
       "    </tr>\n",
       "  </thead>\n",
       "  <tbody>\n",
       "    <tr>\n",
       "      <th>0</th>\n",
       "      <td>25.41</td>\n",
       "      <td>2.29</td>\n",
       "      <td>2.98</td>\n",
       "      <td>10.56</td>\n",
       "      <td>0.000000</td>\n",
       "      <td>0.00</td>\n",
       "      <td>0.000000</td>\n",
       "      <td>0.00</td>\n",
       "      <td>0.00</td>\n",
       "      <td>100.00</td>\n",
       "      <td>0.00</td>\n",
       "      <td>0.00</td>\n",
       "      <td>0.00</td>\n",
       "      <td>0.00</td>\n",
       "      <td>0.000000</td>\n",
       "      <td>3.840000e+09</td>\n",
       "      <td>1.55</td>\n",
       "      <td>10.55</td>\n",
       "      <td>10.9630</td>\n",
       "    </tr>\n",
       "    <tr>\n",
       "      <th>1</th>\n",
       "      <td>15.19</td>\n",
       "      <td>1.46</td>\n",
       "      <td>0.87</td>\n",
       "      <td>7.55</td>\n",
       "      <td>4.860000</td>\n",
       "      <td>8.25</td>\n",
       "      <td>25.040001</td>\n",
       "      <td>2.94</td>\n",
       "      <td>7.36</td>\n",
       "      <td>7.72</td>\n",
       "      <td>14.38</td>\n",
       "      <td>5.16</td>\n",
       "      <td>5.92</td>\n",
       "      <td>11.96</td>\n",
       "      <td>6.410000</td>\n",
       "      <td>6.278100e+08</td>\n",
       "      <td>2.25</td>\n",
       "      <td>8.42</td>\n",
       "      <td>7.7147</td>\n",
       "    </tr>\n",
       "    <tr>\n",
       "      <th>2</th>\n",
       "      <td>25.90</td>\n",
       "      <td>4.64</td>\n",
       "      <td>1.73</td>\n",
       "      <td>15.34</td>\n",
       "      <td>1.020000</td>\n",
       "      <td>7.13</td>\n",
       "      <td>8.340000</td>\n",
       "      <td>3.92</td>\n",
       "      <td>12.05</td>\n",
       "      <td>19.48</td>\n",
       "      <td>4.35</td>\n",
       "      <td>8.91</td>\n",
       "      <td>0.00</td>\n",
       "      <td>12.74</td>\n",
       "      <td>22.059999</td>\n",
       "      <td>2.499400e+08</td>\n",
       "      <td>1.20</td>\n",
       "      <td>10.55</td>\n",
       "      <td>10.5923</td>\n",
       "    </tr>\n",
       "    <tr>\n",
       "      <th>3</th>\n",
       "      <td>25.83</td>\n",
       "      <td>3.50</td>\n",
       "      <td>2.27</td>\n",
       "      <td>14.85</td>\n",
       "      <td>2.300000</td>\n",
       "      <td>11.34</td>\n",
       "      <td>12.780000</td>\n",
       "      <td>2.62</td>\n",
       "      <td>7.49</td>\n",
       "      <td>14.16</td>\n",
       "      <td>3.20</td>\n",
       "      <td>11.15</td>\n",
       "      <td>2.01</td>\n",
       "      <td>8.75</td>\n",
       "      <td>24.200001</td>\n",
       "      <td>2.094600e+11</td>\n",
       "      <td>1.94</td>\n",
       "      <td>12.96</td>\n",
       "      <td>11.8158</td>\n",
       "    </tr>\n",
       "    <tr>\n",
       "      <th>4</th>\n",
       "      <td>8.38</td>\n",
       "      <td>0.67</td>\n",
       "      <td>0.37</td>\n",
       "      <td>6.04</td>\n",
       "      <td>78.559998</td>\n",
       "      <td>0.00</td>\n",
       "      <td>0.000000</td>\n",
       "      <td>0.00</td>\n",
       "      <td>0.00</td>\n",
       "      <td>0.00</td>\n",
       "      <td>0.00</td>\n",
       "      <td>0.00</td>\n",
       "      <td>0.00</td>\n",
       "      <td>3.65</td>\n",
       "      <td>17.790001</td>\n",
       "      <td>7.640000e+08</td>\n",
       "      <td>0.29</td>\n",
       "      <td>2.94</td>\n",
       "      <td>2.1326</td>\n",
       "    </tr>\n",
       "  </tbody>\n",
       "</table>\n",
       "</div>"
      ],
      "text/plain": [
       "   price_earnings_ratio  price_book_ratio  price_sales_ratio  \\\n",
       "0                 25.41              2.29               2.98   \n",
       "1                 15.19              1.46               0.87   \n",
       "2                 25.90              4.64               1.73   \n",
       "3                 25.83              3.50               2.27   \n",
       "4                  8.38              0.67               0.37   \n",
       "\n",
       "   price_cashflow_ratio  sector_basic_materials  sector_consumer_cyclical  \\\n",
       "0                 10.56                0.000000                      0.00   \n",
       "1                  7.55                4.860000                      8.25   \n",
       "2                 15.34                1.020000                      7.13   \n",
       "3                 14.85                2.300000                     11.34   \n",
       "4                  6.04               78.559998                      0.00   \n",
       "\n",
       "   sector_financial_services  sector_real_estate  sector_consumer_defensive  \\\n",
       "0                   0.000000                0.00                       0.00   \n",
       "1                  25.040001                2.94                       7.36   \n",
       "2                   8.340000                3.92                      12.05   \n",
       "3                  12.780000                2.62                       7.49   \n",
       "4                   0.000000                0.00                       0.00   \n",
       "\n",
       "   sector_healthcare  sector_utilities  sector_communication_services  \\\n",
       "0             100.00              0.00                           0.00   \n",
       "1               7.72             14.38                           5.16   \n",
       "2              19.48              4.35                           8.91   \n",
       "3              14.16              3.20                          11.15   \n",
       "4               0.00              0.00                           0.00   \n",
       "\n",
       "   sector_energy  sector_industrials  sector_technology  net_asset_value  \\\n",
       "0           0.00                0.00           0.000000     3.840000e+09   \n",
       "1           5.92               11.96           6.410000     6.278100e+08   \n",
       "2           0.00               12.74          22.059999     2.499400e+08   \n",
       "3           2.01                8.75          24.200001     2.094600e+11   \n",
       "4           0.00                3.65          17.790001     7.640000e+08   \n",
       "\n",
       "   fund_yield  fund_return_10years  Predictions  \n",
       "0        1.55                10.55      10.9630  \n",
       "1        2.25                 8.42       7.7147  \n",
       "2        1.20                10.55      10.5923  \n",
       "3        1.94                12.96      11.8158  \n",
       "4        0.29                 2.94       2.1326  "
      ]
     },
     "execution_count": 22,
     "metadata": {},
     "output_type": "execute_result"
    }
   ],
   "source": [
    "rename_map = {'Label':'Predictions'}\n",
    "pred.rename(columns = rename_map, inplace = True)\n",
    "pred.head(5)"
   ]
  },
  {
   "cell_type": "markdown",
   "id": "bba46bab-db80-41ef-8f31-4f78d8a26ad5",
   "metadata": {},
   "source": [
    "## PREDICTIONS ON ALL DB"
   ]
  },
  {
   "cell_type": "code",
   "execution_count": 23,
   "id": "902dd285-be9b-4d14-9e99-3b2805ca8ea6",
   "metadata": {},
   "outputs": [],
   "source": [
    "df1 = df.copy()"
   ]
  },
  {
   "cell_type": "code",
   "execution_count": null,
   "id": "1685a21f-8380-412c-83bd-835381ea0eb8",
   "metadata": {},
   "outputs": [],
   "source": [
    "#WILL REMOVE THE Y Column\n",
    "#df1.drop(['fund_return_10years'], axis = 1 , inplace= True)"
   ]
  },
  {
   "cell_type": "code",
   "execution_count": 24,
   "id": "8ffb460b-47c0-4dba-938f-69386bee583e",
   "metadata": {},
   "outputs": [
    {
     "data": {
      "text/html": [
       "<div>\n",
       "<style scoped>\n",
       "    .dataframe tbody tr th:only-of-type {\n",
       "        vertical-align: middle;\n",
       "    }\n",
       "\n",
       "    .dataframe tbody tr th {\n",
       "        vertical-align: top;\n",
       "    }\n",
       "\n",
       "    .dataframe thead th {\n",
       "        text-align: right;\n",
       "    }\n",
       "</style>\n",
       "<table border=\"1\" class=\"dataframe\">\n",
       "  <thead>\n",
       "    <tr style=\"text-align: right;\">\n",
       "      <th></th>\n",
       "      <th>fund_symbol</th>\n",
       "      <th>fund_extended_name</th>\n",
       "      <th>fund_family</th>\n",
       "      <th>inception_date</th>\n",
       "      <th>investment_type</th>\n",
       "      <th>size_type</th>\n",
       "      <th>price_earnings_ratio</th>\n",
       "      <th>price_book_ratio</th>\n",
       "      <th>price_sales_ratio</th>\n",
       "      <th>price_cashflow_ratio</th>\n",
       "      <th>...</th>\n",
       "      <th>fund_standard_deviation_3years</th>\n",
       "      <th>fund_standard_deviation_5years</th>\n",
       "      <th>fund_standard_deviation_10years</th>\n",
       "      <th>fund_sharpe_ratio_3years</th>\n",
       "      <th>fund_sharpe_ratio_5years</th>\n",
       "      <th>fund_sharpe_ratio_10years</th>\n",
       "      <th>fund_treynor_ratio_3years</th>\n",
       "      <th>fund_treynor_ratio_5years</th>\n",
       "      <th>fund_treynor_ratio_10years</th>\n",
       "      <th>Label</th>\n",
       "    </tr>\n",
       "  </thead>\n",
       "  <tbody>\n",
       "    <tr>\n",
       "      <th>0</th>\n",
       "      <td>1305</td>\n",
       "      <td>Daiwa ETF TOPIX</td>\n",
       "      <td>Daiwa Asset Management Co Ltd</td>\n",
       "      <td>2001-07-11</td>\n",
       "      <td>Blend</td>\n",
       "      <td>Large</td>\n",
       "      <td>12.92</td>\n",
       "      <td>1.18</td>\n",
       "      <td>0.81</td>\n",
       "      <td>5.41</td>\n",
       "      <td>...</td>\n",
       "      <td>14.38</td>\n",
       "      <td>14.75</td>\n",
       "      <td>16.89</td>\n",
       "      <td>0.34</td>\n",
       "      <td>0.59</td>\n",
       "      <td>0.60</td>\n",
       "      <td>3.92</td>\n",
       "      <td>8.01</td>\n",
       "      <td>9.29</td>\n",
       "      <td>9.2580</td>\n",
       "    </tr>\n",
       "    <tr>\n",
       "      <th>1</th>\n",
       "      <td>1306</td>\n",
       "      <td>Nomura TOPIX ETF</td>\n",
       "      <td>Nomura Asset Management Co Ltd</td>\n",
       "      <td>2001-07-11</td>\n",
       "      <td>Blend</td>\n",
       "      <td>Large</td>\n",
       "      <td>12.92</td>\n",
       "      <td>1.18</td>\n",
       "      <td>0.81</td>\n",
       "      <td>5.41</td>\n",
       "      <td>...</td>\n",
       "      <td>14.38</td>\n",
       "      <td>14.75</td>\n",
       "      <td>16.83</td>\n",
       "      <td>0.34</td>\n",
       "      <td>0.59</td>\n",
       "      <td>0.61</td>\n",
       "      <td>3.94</td>\n",
       "      <td>8.03</td>\n",
       "      <td>9.33</td>\n",
       "      <td>9.2700</td>\n",
       "    </tr>\n",
       "    <tr>\n",
       "      <th>2</th>\n",
       "      <td>1308</td>\n",
       "      <td>Nikko Exchange Traded Index TOPIX</td>\n",
       "      <td>Nikko Asset Management Co Ltd</td>\n",
       "      <td>2001-12-20</td>\n",
       "      <td>Blend</td>\n",
       "      <td>Large</td>\n",
       "      <td>12.92</td>\n",
       "      <td>1.18</td>\n",
       "      <td>0.81</td>\n",
       "      <td>5.44</td>\n",
       "      <td>...</td>\n",
       "      <td>14.38</td>\n",
       "      <td>14.75</td>\n",
       "      <td>16.90</td>\n",
       "      <td>0.34</td>\n",
       "      <td>0.59</td>\n",
       "      <td>0.60</td>\n",
       "      <td>3.93</td>\n",
       "      <td>8.03</td>\n",
       "      <td>9.31</td>\n",
       "      <td>9.2200</td>\n",
       "    </tr>\n",
       "    <tr>\n",
       "      <th>3</th>\n",
       "      <td>1310</td>\n",
       "      <td>Daiwa ETF TOPIX Core 30</td>\n",
       "      <td>Daiwa Asset Management Co Ltd</td>\n",
       "      <td>2002-03-28</td>\n",
       "      <td>Blend</td>\n",
       "      <td>Large</td>\n",
       "      <td>11.34</td>\n",
       "      <td>1.12</td>\n",
       "      <td>1.07</td>\n",
       "      <td>4.06</td>\n",
       "      <td>...</td>\n",
       "      <td>15.16</td>\n",
       "      <td>16.21</td>\n",
       "      <td>18.39</td>\n",
       "      <td>0.14</td>\n",
       "      <td>0.34</td>\n",
       "      <td>0.44</td>\n",
       "      <td>1.00</td>\n",
       "      <td>4.08</td>\n",
       "      <td>6.18</td>\n",
       "      <td>6.7000</td>\n",
       "    </tr>\n",
       "    <tr>\n",
       "      <th>4</th>\n",
       "      <td>1311</td>\n",
       "      <td>Nomura TOPIX Core 30 ETF</td>\n",
       "      <td>Nomura Asset Management Co Ltd</td>\n",
       "      <td>2002-04-02</td>\n",
       "      <td>Blend</td>\n",
       "      <td>Large</td>\n",
       "      <td>11.34</td>\n",
       "      <td>1.12</td>\n",
       "      <td>1.07</td>\n",
       "      <td>4.07</td>\n",
       "      <td>...</td>\n",
       "      <td>15.16</td>\n",
       "      <td>16.22</td>\n",
       "      <td>18.38</td>\n",
       "      <td>0.14</td>\n",
       "      <td>0.34</td>\n",
       "      <td>0.44</td>\n",
       "      <td>1.02</td>\n",
       "      <td>4.10</td>\n",
       "      <td>6.24</td>\n",
       "      <td>6.7000</td>\n",
       "    </tr>\n",
       "    <tr>\n",
       "      <th>5</th>\n",
       "      <td>1312</td>\n",
       "      <td>Russell/Nomura Small Cp Core IdxLnkd ETF</td>\n",
       "      <td>Nomura Asset Management Co Ltd</td>\n",
       "      <td>2007-10-22</td>\n",
       "      <td>Blend</td>\n",
       "      <td>Medium</td>\n",
       "      <td>14.48</td>\n",
       "      <td>1.08</td>\n",
       "      <td>0.66</td>\n",
       "      <td>5.68</td>\n",
       "      <td>...</td>\n",
       "      <td>14.16</td>\n",
       "      <td>13.34</td>\n",
       "      <td>15.80</td>\n",
       "      <td>0.48</td>\n",
       "      <td>0.80</td>\n",
       "      <td>0.76</td>\n",
       "      <td>6.07</td>\n",
       "      <td>10.80</td>\n",
       "      <td>11.71</td>\n",
       "      <td>8.6785</td>\n",
       "    </tr>\n",
       "    <tr>\n",
       "      <th>6</th>\n",
       "      <td>1313</td>\n",
       "      <td>KODEX 200</td>\n",
       "      <td>Samsung Asset Management Co Ltd</td>\n",
       "      <td>2002-10-11</td>\n",
       "      <td>Value</td>\n",
       "      <td>Large</td>\n",
       "      <td>7.04</td>\n",
       "      <td>0.97</td>\n",
       "      <td>0.66</td>\n",
       "      <td>5.15</td>\n",
       "      <td>...</td>\n",
       "      <td>11.98</td>\n",
       "      <td>11.07</td>\n",
       "      <td>15.40</td>\n",
       "      <td>0.39</td>\n",
       "      <td>0.05</td>\n",
       "      <td>0.44</td>\n",
       "      <td>4.04</td>\n",
       "      <td>-0.05</td>\n",
       "      <td>5.82</td>\n",
       "      <td>8.1800</td>\n",
       "    </tr>\n",
       "    <tr>\n",
       "      <th>7</th>\n",
       "      <td>1319</td>\n",
       "      <td>Nomura Nikkei 300 ETF</td>\n",
       "      <td>Nomura Asset Management Co Ltd</td>\n",
       "      <td>1995-04-12</td>\n",
       "      <td>Blend</td>\n",
       "      <td>Large</td>\n",
       "      <td>12.86</td>\n",
       "      <td>1.23</td>\n",
       "      <td>0.89</td>\n",
       "      <td>5.55</td>\n",
       "      <td>...</td>\n",
       "      <td>14.15</td>\n",
       "      <td>14.80</td>\n",
       "      <td>16.84</td>\n",
       "      <td>0.32</td>\n",
       "      <td>0.54</td>\n",
       "      <td>0.57</td>\n",
       "      <td>3.68</td>\n",
       "      <td>7.29</td>\n",
       "      <td>8.66</td>\n",
       "      <td>8.8200</td>\n",
       "    </tr>\n",
       "    <tr>\n",
       "      <th>8</th>\n",
       "      <td>1320</td>\n",
       "      <td>Daiwa ETF Nikkei 225</td>\n",
       "      <td>Daiwa Asset Management Co Ltd</td>\n",
       "      <td>2001-07-09</td>\n",
       "      <td>Growth</td>\n",
       "      <td>Large</td>\n",
       "      <td>15.52</td>\n",
       "      <td>1.66</td>\n",
       "      <td>1.07</td>\n",
       "      <td>9.04</td>\n",
       "      <td>...</td>\n",
       "      <td>15.30</td>\n",
       "      <td>15.44</td>\n",
       "      <td>18.08</td>\n",
       "      <td>0.46</td>\n",
       "      <td>0.64</td>\n",
       "      <td>0.71</td>\n",
       "      <td>5.83</td>\n",
       "      <td>9.13</td>\n",
       "      <td>11.58</td>\n",
       "      <td>12.0100</td>\n",
       "    </tr>\n",
       "    <tr>\n",
       "      <th>9</th>\n",
       "      <td>1321</td>\n",
       "      <td>Nomura Nikkei 225 ETF</td>\n",
       "      <td>Nomura Asset Management Co Ltd</td>\n",
       "      <td>2001-07-09</td>\n",
       "      <td>Growth</td>\n",
       "      <td>Large</td>\n",
       "      <td>15.85</td>\n",
       "      <td>1.69</td>\n",
       "      <td>1.09</td>\n",
       "      <td>9.22</td>\n",
       "      <td>...</td>\n",
       "      <td>15.30</td>\n",
       "      <td>15.44</td>\n",
       "      <td>18.02</td>\n",
       "      <td>0.46</td>\n",
       "      <td>0.64</td>\n",
       "      <td>0.71</td>\n",
       "      <td>5.80</td>\n",
       "      <td>9.10</td>\n",
       "      <td>11.59</td>\n",
       "      <td>11.9428</td>\n",
       "    </tr>\n",
       "  </tbody>\n",
       "</table>\n",
       "<p>10 rows × 43 columns</p>\n",
       "</div>"
      ],
      "text/plain": [
       "  fund_symbol                        fund_extended_name  \\\n",
       "0        1305                           Daiwa ETF TOPIX   \n",
       "1        1306                          Nomura TOPIX ETF   \n",
       "2        1308         Nikko Exchange Traded Index TOPIX   \n",
       "3        1310                   Daiwa ETF TOPIX Core 30   \n",
       "4        1311                  Nomura TOPIX Core 30 ETF   \n",
       "5        1312  Russell/Nomura Small Cp Core IdxLnkd ETF   \n",
       "6        1313                                 KODEX 200   \n",
       "7        1319                     Nomura Nikkei 300 ETF   \n",
       "8        1320                      Daiwa ETF Nikkei 225   \n",
       "9        1321                     Nomura Nikkei 225 ETF   \n",
       "\n",
       "                       fund_family inception_date investment_type size_type  \\\n",
       "0    Daiwa Asset Management Co Ltd     2001-07-11           Blend     Large   \n",
       "1   Nomura Asset Management Co Ltd     2001-07-11           Blend     Large   \n",
       "2    Nikko Asset Management Co Ltd     2001-12-20           Blend     Large   \n",
       "3    Daiwa Asset Management Co Ltd     2002-03-28           Blend     Large   \n",
       "4   Nomura Asset Management Co Ltd     2002-04-02           Blend     Large   \n",
       "5   Nomura Asset Management Co Ltd     2007-10-22           Blend    Medium   \n",
       "6  Samsung Asset Management Co Ltd     2002-10-11           Value     Large   \n",
       "7   Nomura Asset Management Co Ltd     1995-04-12           Blend     Large   \n",
       "8    Daiwa Asset Management Co Ltd     2001-07-09          Growth     Large   \n",
       "9   Nomura Asset Management Co Ltd     2001-07-09          Growth     Large   \n",
       "\n",
       "   price_earnings_ratio  price_book_ratio  price_sales_ratio  \\\n",
       "0                 12.92              1.18               0.81   \n",
       "1                 12.92              1.18               0.81   \n",
       "2                 12.92              1.18               0.81   \n",
       "3                 11.34              1.12               1.07   \n",
       "4                 11.34              1.12               1.07   \n",
       "5                 14.48              1.08               0.66   \n",
       "6                  7.04              0.97               0.66   \n",
       "7                 12.86              1.23               0.89   \n",
       "8                 15.52              1.66               1.07   \n",
       "9                 15.85              1.69               1.09   \n",
       "\n",
       "   price_cashflow_ratio  ...  fund_standard_deviation_3years  \\\n",
       "0                  5.41  ...                           14.38   \n",
       "1                  5.41  ...                           14.38   \n",
       "2                  5.44  ...                           14.38   \n",
       "3                  4.06  ...                           15.16   \n",
       "4                  4.07  ...                           15.16   \n",
       "5                  5.68  ...                           14.16   \n",
       "6                  5.15  ...                           11.98   \n",
       "7                  5.55  ...                           14.15   \n",
       "8                  9.04  ...                           15.30   \n",
       "9                  9.22  ...                           15.30   \n",
       "\n",
       "   fund_standard_deviation_5years  fund_standard_deviation_10years  \\\n",
       "0                           14.75                            16.89   \n",
       "1                           14.75                            16.83   \n",
       "2                           14.75                            16.90   \n",
       "3                           16.21                            18.39   \n",
       "4                           16.22                            18.38   \n",
       "5                           13.34                            15.80   \n",
       "6                           11.07                            15.40   \n",
       "7                           14.80                            16.84   \n",
       "8                           15.44                            18.08   \n",
       "9                           15.44                            18.02   \n",
       "\n",
       "   fund_sharpe_ratio_3years  fund_sharpe_ratio_5years  \\\n",
       "0                      0.34                      0.59   \n",
       "1                      0.34                      0.59   \n",
       "2                      0.34                      0.59   \n",
       "3                      0.14                      0.34   \n",
       "4                      0.14                      0.34   \n",
       "5                      0.48                      0.80   \n",
       "6                      0.39                      0.05   \n",
       "7                      0.32                      0.54   \n",
       "8                      0.46                      0.64   \n",
       "9                      0.46                      0.64   \n",
       "\n",
       "   fund_sharpe_ratio_10years  fund_treynor_ratio_3years  \\\n",
       "0                       0.60                       3.92   \n",
       "1                       0.61                       3.94   \n",
       "2                       0.60                       3.93   \n",
       "3                       0.44                       1.00   \n",
       "4                       0.44                       1.02   \n",
       "5                       0.76                       6.07   \n",
       "6                       0.44                       4.04   \n",
       "7                       0.57                       3.68   \n",
       "8                       0.71                       5.83   \n",
       "9                       0.71                       5.80   \n",
       "\n",
       "   fund_treynor_ratio_5years  fund_treynor_ratio_10years    Label  \n",
       "0                       8.01                        9.29   9.2580  \n",
       "1                       8.03                        9.33   9.2700  \n",
       "2                       8.03                        9.31   9.2200  \n",
       "3                       4.08                        6.18   6.7000  \n",
       "4                       4.10                        6.24   6.7000  \n",
       "5                      10.80                       11.71   8.6785  \n",
       "6                      -0.05                        5.82   8.1800  \n",
       "7                       7.29                        8.66   8.8200  \n",
       "8                       9.13                       11.58  12.0100  \n",
       "9                       9.10                       11.59  11.9428  \n",
       "\n",
       "[10 rows x 43 columns]"
      ]
     },
     "execution_count": 24,
     "metadata": {},
     "output_type": "execute_result"
    }
   ],
   "source": [
    "predictions = predict_model(auto_ml, data= df1)\n",
    "predictions.head(10)"
   ]
  },
  {
   "cell_type": "markdown",
   "id": "f5731a0f-acf4-4010-9c98-5a7cb878531b",
   "metadata": {},
   "source": [
    "## NORMAL METHOD"
   ]
  },
  {
   "cell_type": "code",
   "execution_count": 25,
   "id": "0f7f70cc-abec-4f18-a80c-02c734be55d6",
   "metadata": {},
   "outputs": [],
   "source": [
    "df2 = pd.read_csv(r'C:\\Workbook\\Funds\\ETF.csv')"
   ]
  },
  {
   "cell_type": "code",
   "execution_count": 26,
   "id": "7f2d0fbc-8b1c-4870-8d94-0f6b96b9d591",
   "metadata": {},
   "outputs": [
    {
     "data": {
      "text/html": [
       "<div>\n",
       "<style scoped>\n",
       "    .dataframe tbody tr th:only-of-type {\n",
       "        vertical-align: middle;\n",
       "    }\n",
       "\n",
       "    .dataframe tbody tr th {\n",
       "        vertical-align: top;\n",
       "    }\n",
       "\n",
       "    .dataframe thead th {\n",
       "        text-align: right;\n",
       "    }\n",
       "</style>\n",
       "<table border=\"1\" class=\"dataframe\">\n",
       "  <thead>\n",
       "    <tr style=\"text-align: right;\">\n",
       "      <th></th>\n",
       "      <th>fund_symbol</th>\n",
       "      <th>fund_extended_name</th>\n",
       "      <th>fund_family</th>\n",
       "      <th>inception_date</th>\n",
       "      <th>investment_type</th>\n",
       "      <th>size_type</th>\n",
       "      <th>price_earnings_ratio</th>\n",
       "      <th>price_book_ratio</th>\n",
       "      <th>price_sales_ratio</th>\n",
       "      <th>price_cashflow_ratio</th>\n",
       "      <th>...</th>\n",
       "      <th>fund_alpha_10years</th>\n",
       "      <th>fund_standard_deviation_3years</th>\n",
       "      <th>fund_standard_deviation_5years</th>\n",
       "      <th>fund_standard_deviation_10years</th>\n",
       "      <th>fund_sharpe_ratio_3years</th>\n",
       "      <th>fund_sharpe_ratio_5years</th>\n",
       "      <th>fund_sharpe_ratio_10years</th>\n",
       "      <th>fund_treynor_ratio_3years</th>\n",
       "      <th>fund_treynor_ratio_5years</th>\n",
       "      <th>fund_treynor_ratio_10years</th>\n",
       "    </tr>\n",
       "  </thead>\n",
       "  <tbody>\n",
       "    <tr>\n",
       "      <th>0</th>\n",
       "      <td>1305</td>\n",
       "      <td>Daiwa ETF TOPIX</td>\n",
       "      <td>Daiwa Asset Management Co Ltd</td>\n",
       "      <td>2001-07-11</td>\n",
       "      <td>Blend</td>\n",
       "      <td>Large</td>\n",
       "      <td>12.92</td>\n",
       "      <td>1.18</td>\n",
       "      <td>0.81</td>\n",
       "      <td>5.41</td>\n",
       "      <td>...</td>\n",
       "      <td>0.35</td>\n",
       "      <td>14.38</td>\n",
       "      <td>14.75</td>\n",
       "      <td>16.89</td>\n",
       "      <td>0.34</td>\n",
       "      <td>0.59</td>\n",
       "      <td>0.60</td>\n",
       "      <td>3.92</td>\n",
       "      <td>8.01</td>\n",
       "      <td>9.29</td>\n",
       "    </tr>\n",
       "    <tr>\n",
       "      <th>1</th>\n",
       "      <td>1306</td>\n",
       "      <td>Nomura TOPIX ETF</td>\n",
       "      <td>Nomura Asset Management Co Ltd</td>\n",
       "      <td>2001-07-11</td>\n",
       "      <td>Blend</td>\n",
       "      <td>Large</td>\n",
       "      <td>12.92</td>\n",
       "      <td>1.18</td>\n",
       "      <td>0.81</td>\n",
       "      <td>5.41</td>\n",
       "      <td>...</td>\n",
       "      <td>0.38</td>\n",
       "      <td>14.38</td>\n",
       "      <td>14.75</td>\n",
       "      <td>16.83</td>\n",
       "      <td>0.34</td>\n",
       "      <td>0.59</td>\n",
       "      <td>0.61</td>\n",
       "      <td>3.94</td>\n",
       "      <td>8.03</td>\n",
       "      <td>9.33</td>\n",
       "    </tr>\n",
       "    <tr>\n",
       "      <th>2</th>\n",
       "      <td>1308</td>\n",
       "      <td>Nikko Exchange Traded Index TOPIX</td>\n",
       "      <td>Nikko Asset Management Co Ltd</td>\n",
       "      <td>2001-12-20</td>\n",
       "      <td>Blend</td>\n",
       "      <td>Large</td>\n",
       "      <td>12.92</td>\n",
       "      <td>1.18</td>\n",
       "      <td>0.81</td>\n",
       "      <td>5.44</td>\n",
       "      <td>...</td>\n",
       "      <td>0.36</td>\n",
       "      <td>14.38</td>\n",
       "      <td>14.75</td>\n",
       "      <td>16.90</td>\n",
       "      <td>0.34</td>\n",
       "      <td>0.59</td>\n",
       "      <td>0.60</td>\n",
       "      <td>3.93</td>\n",
       "      <td>8.03</td>\n",
       "      <td>9.31</td>\n",
       "    </tr>\n",
       "    <tr>\n",
       "      <th>3</th>\n",
       "      <td>1310</td>\n",
       "      <td>Daiwa ETF TOPIX Core 30</td>\n",
       "      <td>Daiwa Asset Management Co Ltd</td>\n",
       "      <td>2002-03-28</td>\n",
       "      <td>Blend</td>\n",
       "      <td>Large</td>\n",
       "      <td>11.34</td>\n",
       "      <td>1.12</td>\n",
       "      <td>1.07</td>\n",
       "      <td>4.06</td>\n",
       "      <td>...</td>\n",
       "      <td>-2.56</td>\n",
       "      <td>15.16</td>\n",
       "      <td>16.21</td>\n",
       "      <td>18.39</td>\n",
       "      <td>0.14</td>\n",
       "      <td>0.34</td>\n",
       "      <td>0.44</td>\n",
       "      <td>1.00</td>\n",
       "      <td>4.08</td>\n",
       "      <td>6.18</td>\n",
       "    </tr>\n",
       "    <tr>\n",
       "      <th>4</th>\n",
       "      <td>1311</td>\n",
       "      <td>Nomura TOPIX Core 30 ETF</td>\n",
       "      <td>Nomura Asset Management Co Ltd</td>\n",
       "      <td>2002-04-02</td>\n",
       "      <td>Blend</td>\n",
       "      <td>Large</td>\n",
       "      <td>11.34</td>\n",
       "      <td>1.12</td>\n",
       "      <td>1.07</td>\n",
       "      <td>4.07</td>\n",
       "      <td>...</td>\n",
       "      <td>-2.50</td>\n",
       "      <td>15.16</td>\n",
       "      <td>16.22</td>\n",
       "      <td>18.38</td>\n",
       "      <td>0.14</td>\n",
       "      <td>0.34</td>\n",
       "      <td>0.44</td>\n",
       "      <td>1.02</td>\n",
       "      <td>4.10</td>\n",
       "      <td>6.24</td>\n",
       "    </tr>\n",
       "  </tbody>\n",
       "</table>\n",
       "<p>5 rows × 42 columns</p>\n",
       "</div>"
      ],
      "text/plain": [
       "  fund_symbol                 fund_extended_name  \\\n",
       "0        1305                    Daiwa ETF TOPIX   \n",
       "1        1306                   Nomura TOPIX ETF   \n",
       "2        1308  Nikko Exchange Traded Index TOPIX   \n",
       "3        1310            Daiwa ETF TOPIX Core 30   \n",
       "4        1311           Nomura TOPIX Core 30 ETF   \n",
       "\n",
       "                      fund_family inception_date investment_type size_type  \\\n",
       "0   Daiwa Asset Management Co Ltd     2001-07-11           Blend     Large   \n",
       "1  Nomura Asset Management Co Ltd     2001-07-11           Blend     Large   \n",
       "2   Nikko Asset Management Co Ltd     2001-12-20           Blend     Large   \n",
       "3   Daiwa Asset Management Co Ltd     2002-03-28           Blend     Large   \n",
       "4  Nomura Asset Management Co Ltd     2002-04-02           Blend     Large   \n",
       "\n",
       "   price_earnings_ratio  price_book_ratio  price_sales_ratio  \\\n",
       "0                 12.92              1.18               0.81   \n",
       "1                 12.92              1.18               0.81   \n",
       "2                 12.92              1.18               0.81   \n",
       "3                 11.34              1.12               1.07   \n",
       "4                 11.34              1.12               1.07   \n",
       "\n",
       "   price_cashflow_ratio  ...  fund_alpha_10years  \\\n",
       "0                  5.41  ...                0.35   \n",
       "1                  5.41  ...                0.38   \n",
       "2                  5.44  ...                0.36   \n",
       "3                  4.06  ...               -2.56   \n",
       "4                  4.07  ...               -2.50   \n",
       "\n",
       "   fund_standard_deviation_3years  fund_standard_deviation_5years  \\\n",
       "0                           14.38                           14.75   \n",
       "1                           14.38                           14.75   \n",
       "2                           14.38                           14.75   \n",
       "3                           15.16                           16.21   \n",
       "4                           15.16                           16.22   \n",
       "\n",
       "   fund_standard_deviation_10years  fund_sharpe_ratio_3years  \\\n",
       "0                            16.89                      0.34   \n",
       "1                            16.83                      0.34   \n",
       "2                            16.90                      0.34   \n",
       "3                            18.39                      0.14   \n",
       "4                            18.38                      0.14   \n",
       "\n",
       "   fund_sharpe_ratio_5years  fund_sharpe_ratio_10years  \\\n",
       "0                      0.59                       0.60   \n",
       "1                      0.59                       0.61   \n",
       "2                      0.59                       0.60   \n",
       "3                      0.34                       0.44   \n",
       "4                      0.34                       0.44   \n",
       "\n",
       "   fund_treynor_ratio_3years  fund_treynor_ratio_5years  \\\n",
       "0                       3.92                       8.01   \n",
       "1                       3.94                       8.03   \n",
       "2                       3.93                       8.03   \n",
       "3                       1.00                       4.08   \n",
       "4                       1.02                       4.10   \n",
       "\n",
       "   fund_treynor_ratio_10years  \n",
       "0                        9.29  \n",
       "1                        9.33  \n",
       "2                        9.31  \n",
       "3                        6.18  \n",
       "4                        6.24  \n",
       "\n",
       "[5 rows x 42 columns]"
      ]
     },
     "execution_count": 26,
     "metadata": {},
     "output_type": "execute_result"
    }
   ],
   "source": [
    "df2.head(5)"
   ]
  },
  {
   "cell_type": "code",
   "execution_count": 29,
   "id": "bb042e4a-c18b-48b1-b8d3-dcb8176bd0b4",
   "metadata": {},
   "outputs": [
    {
     "data": {
      "text/plain": [
       "Index(['fund_symbol', 'fund_extended_name', 'fund_family', 'inception_date',\n",
       "       'investment_type', 'size_type', 'price_earnings_ratio',\n",
       "       'price_book_ratio', 'price_sales_ratio', 'price_cashflow_ratio',\n",
       "       'sector_basic_materials', 'sector_consumer_cyclical',\n",
       "       'sector_financial_services', 'sector_real_estate',\n",
       "       'sector_consumer_defensive', 'sector_healthcare', 'sector_utilities',\n",
       "       'sector_communication_services', 'sector_energy', 'sector_industrials',\n",
       "       'sector_technology', 'net_asset_value', 'fund_yield', 'fund_return_ytd',\n",
       "       'fund_return_1month', 'fund_return_3months', 'fund_return_1year',\n",
       "       'fund_return_3years', 'fund_return_5years', 'fund_return_10years',\n",
       "       'fund_alpha_3years', 'fund_alpha_5years', 'fund_alpha_10years',\n",
       "       'fund_standard_deviation_3years', 'fund_standard_deviation_5years',\n",
       "       'fund_standard_deviation_10years', 'fund_sharpe_ratio_3years',\n",
       "       'fund_sharpe_ratio_5years', 'fund_sharpe_ratio_10years',\n",
       "       'fund_treynor_ratio_3years', 'fund_treynor_ratio_5years',\n",
       "       'fund_treynor_ratio_10years'],\n",
       "      dtype='object')"
      ]
     },
     "execution_count": 29,
     "metadata": {},
     "output_type": "execute_result"
    }
   ],
   "source": [
    "df2.columns"
   ]
  },
  {
   "cell_type": "code",
   "execution_count": 30,
   "id": "2c3b17f7-d775-4a3e-9c3c-9c51b504fda6",
   "metadata": {},
   "outputs": [],
   "source": [
    "df2.dropna(inplace = True)"
   ]
  },
  {
   "cell_type": "code",
   "execution_count": 31,
   "id": "d5034b9c-0655-479d-9162-1d50d5d9dc78",
   "metadata": {},
   "outputs": [
    {
     "data": {
      "text/plain": [
       "0"
      ]
     },
     "execution_count": 31,
     "metadata": {},
     "output_type": "execute_result"
    }
   ],
   "source": [
    "df2.isna().sum().sum()"
   ]
  },
  {
   "cell_type": "code",
   "execution_count": 32,
   "id": "42d944cd-ad66-4ccb-af0e-44857df4ef33",
   "metadata": {},
   "outputs": [
    {
     "data": {
      "text/html": [
       "<div>\n",
       "<style scoped>\n",
       "    .dataframe tbody tr th:only-of-type {\n",
       "        vertical-align: middle;\n",
       "    }\n",
       "\n",
       "    .dataframe tbody tr th {\n",
       "        vertical-align: top;\n",
       "    }\n",
       "\n",
       "    .dataframe thead th {\n",
       "        text-align: right;\n",
       "    }\n",
       "</style>\n",
       "<table border=\"1\" class=\"dataframe\">\n",
       "  <thead>\n",
       "    <tr style=\"text-align: right;\">\n",
       "      <th></th>\n",
       "      <th>price_earnings_ratio</th>\n",
       "      <th>price_book_ratio</th>\n",
       "      <th>price_sales_ratio</th>\n",
       "      <th>price_cashflow_ratio</th>\n",
       "      <th>sector_basic_materials</th>\n",
       "      <th>sector_consumer_cyclical</th>\n",
       "      <th>sector_financial_services</th>\n",
       "      <th>sector_real_estate</th>\n",
       "      <th>sector_consumer_defensive</th>\n",
       "      <th>sector_healthcare</th>\n",
       "      <th>sector_utilities</th>\n",
       "      <th>sector_communication_services</th>\n",
       "      <th>sector_energy</th>\n",
       "      <th>sector_industrials</th>\n",
       "      <th>sector_technology</th>\n",
       "    </tr>\n",
       "  </thead>\n",
       "  <tbody>\n",
       "    <tr>\n",
       "      <th>0</th>\n",
       "      <td>12.92</td>\n",
       "      <td>1.18</td>\n",
       "      <td>0.81</td>\n",
       "      <td>5.41</td>\n",
       "      <td>7.81</td>\n",
       "      <td>17.26</td>\n",
       "      <td>11.73</td>\n",
       "      <td>3.19</td>\n",
       "      <td>9.44</td>\n",
       "      <td>7.05</td>\n",
       "      <td>1.96</td>\n",
       "      <td>4.95</td>\n",
       "      <td>1.7</td>\n",
       "      <td>20.29</td>\n",
       "      <td>14.61</td>\n",
       "    </tr>\n",
       "    <tr>\n",
       "      <th>1</th>\n",
       "      <td>12.92</td>\n",
       "      <td>1.18</td>\n",
       "      <td>0.81</td>\n",
       "      <td>5.41</td>\n",
       "      <td>7.81</td>\n",
       "      <td>17.26</td>\n",
       "      <td>11.73</td>\n",
       "      <td>3.19</td>\n",
       "      <td>9.43</td>\n",
       "      <td>7.06</td>\n",
       "      <td>1.96</td>\n",
       "      <td>4.95</td>\n",
       "      <td>1.7</td>\n",
       "      <td>20.29</td>\n",
       "      <td>14.62</td>\n",
       "    </tr>\n",
       "    <tr>\n",
       "      <th>2</th>\n",
       "      <td>12.92</td>\n",
       "      <td>1.18</td>\n",
       "      <td>0.81</td>\n",
       "      <td>5.44</td>\n",
       "      <td>7.74</td>\n",
       "      <td>17.33</td>\n",
       "      <td>11.57</td>\n",
       "      <td>3.22</td>\n",
       "      <td>9.53</td>\n",
       "      <td>7.07</td>\n",
       "      <td>1.99</td>\n",
       "      <td>4.98</td>\n",
       "      <td>1.7</td>\n",
       "      <td>20.23</td>\n",
       "      <td>14.62</td>\n",
       "    </tr>\n",
       "    <tr>\n",
       "      <th>3</th>\n",
       "      <td>11.34</td>\n",
       "      <td>1.12</td>\n",
       "      <td>1.07</td>\n",
       "      <td>4.06</td>\n",
       "      <td>2.41</td>\n",
       "      <td>14.25</td>\n",
       "      <td>16.26</td>\n",
       "      <td>1.74</td>\n",
       "      <td>7.93</td>\n",
       "      <td>4.55</td>\n",
       "      <td>0.00</td>\n",
       "      <td>15.52</td>\n",
       "      <td>2.0</td>\n",
       "      <td>16.26</td>\n",
       "      <td>19.06</td>\n",
       "    </tr>\n",
       "    <tr>\n",
       "      <th>4</th>\n",
       "      <td>11.34</td>\n",
       "      <td>1.12</td>\n",
       "      <td>1.07</td>\n",
       "      <td>4.07</td>\n",
       "      <td>2.44</td>\n",
       "      <td>14.26</td>\n",
       "      <td>16.25</td>\n",
       "      <td>1.74</td>\n",
       "      <td>7.91</td>\n",
       "      <td>4.56</td>\n",
       "      <td>0.00</td>\n",
       "      <td>15.52</td>\n",
       "      <td>2.0</td>\n",
       "      <td>16.32</td>\n",
       "      <td>18.99</td>\n",
       "    </tr>\n",
       "  </tbody>\n",
       "</table>\n",
       "</div>"
      ],
      "text/plain": [
       "   price_earnings_ratio  price_book_ratio  price_sales_ratio  \\\n",
       "0                 12.92              1.18               0.81   \n",
       "1                 12.92              1.18               0.81   \n",
       "2                 12.92              1.18               0.81   \n",
       "3                 11.34              1.12               1.07   \n",
       "4                 11.34              1.12               1.07   \n",
       "\n",
       "   price_cashflow_ratio  sector_basic_materials  sector_consumer_cyclical  \\\n",
       "0                  5.41                    7.81                     17.26   \n",
       "1                  5.41                    7.81                     17.26   \n",
       "2                  5.44                    7.74                     17.33   \n",
       "3                  4.06                    2.41                     14.25   \n",
       "4                  4.07                    2.44                     14.26   \n",
       "\n",
       "   sector_financial_services  sector_real_estate  sector_consumer_defensive  \\\n",
       "0                      11.73                3.19                       9.44   \n",
       "1                      11.73                3.19                       9.43   \n",
       "2                      11.57                3.22                       9.53   \n",
       "3                      16.26                1.74                       7.93   \n",
       "4                      16.25                1.74                       7.91   \n",
       "\n",
       "   sector_healthcare  sector_utilities  sector_communication_services  \\\n",
       "0               7.05              1.96                           4.95   \n",
       "1               7.06              1.96                           4.95   \n",
       "2               7.07              1.99                           4.98   \n",
       "3               4.55              0.00                          15.52   \n",
       "4               4.56              0.00                          15.52   \n",
       "\n",
       "   sector_energy  sector_industrials  sector_technology  \n",
       "0            1.7               20.29              14.61  \n",
       "1            1.7               20.29              14.62  \n",
       "2            1.7               20.23              14.62  \n",
       "3            2.0               16.26              19.06  \n",
       "4            2.0               16.32              18.99  "
      ]
     },
     "execution_count": 32,
     "metadata": {},
     "output_type": "execute_result"
    }
   ],
   "source": [
    "X = df2[['price_earnings_ratio',\n",
    "       'price_book_ratio', 'price_sales_ratio', 'price_cashflow_ratio',\n",
    "       'sector_basic_materials', 'sector_consumer_cyclical',\n",
    "       'sector_financial_services', 'sector_real_estate',\n",
    "       'sector_consumer_defensive', 'sector_healthcare', 'sector_utilities',\n",
    "       'sector_communication_services', 'sector_energy', 'sector_industrials',\n",
    "       'sector_technology']]\n",
    "X.head()"
   ]
  },
  {
   "cell_type": "code",
   "execution_count": 34,
   "id": "0c35e1e1-3dda-44ba-82a9-e08d78317c07",
   "metadata": {},
   "outputs": [
    {
     "data": {
      "text/html": [
       "<div>\n",
       "<style scoped>\n",
       "    .dataframe tbody tr th:only-of-type {\n",
       "        vertical-align: middle;\n",
       "    }\n",
       "\n",
       "    .dataframe tbody tr th {\n",
       "        vertical-align: top;\n",
       "    }\n",
       "\n",
       "    .dataframe thead th {\n",
       "        text-align: right;\n",
       "    }\n",
       "</style>\n",
       "<table border=\"1\" class=\"dataframe\">\n",
       "  <thead>\n",
       "    <tr style=\"text-align: right;\">\n",
       "      <th></th>\n",
       "      <th>fund_return_10years</th>\n",
       "    </tr>\n",
       "  </thead>\n",
       "  <tbody>\n",
       "    <tr>\n",
       "      <th>35</th>\n",
       "      <td>10.55</td>\n",
       "    </tr>\n",
       "    <tr>\n",
       "      <th>192</th>\n",
       "      <td>8.42</td>\n",
       "    </tr>\n",
       "    <tr>\n",
       "      <th>89</th>\n",
       "      <td>10.55</td>\n",
       "    </tr>\n",
       "    <tr>\n",
       "      <th>291</th>\n",
       "      <td>12.96</td>\n",
       "    </tr>\n",
       "    <tr>\n",
       "      <th>37</th>\n",
       "      <td>2.94</td>\n",
       "    </tr>\n",
       "  </tbody>\n",
       "</table>\n",
       "</div>"
      ],
      "text/plain": [
       "     fund_return_10years\n",
       "35                 10.55\n",
       "192                 8.42\n",
       "89                 10.55\n",
       "291                12.96\n",
       "37                  2.94"
      ]
     },
     "execution_count": 34,
     "metadata": {},
     "output_type": "execute_result"
    }
   ],
   "source": [
    "y = df2[['fund_return_10years']]\n",
    "y.sample(5)"
   ]
  },
  {
   "cell_type": "markdown",
   "id": "a9ba8abb-b8dc-49d7-8d16-d565ac341a44",
   "metadata": {},
   "source": [
    "### TRAINING AND TESTING DATA"
   ]
  },
  {
   "cell_type": "code",
   "execution_count": 35,
   "id": "ee8d3691-6530-4763-b244-95f11a059a15",
   "metadata": {},
   "outputs": [],
   "source": [
    "from sklearn.model_selection import train_test_split"
   ]
  },
  {
   "cell_type": "code",
   "execution_count": 36,
   "id": "4e8872ad-caaa-480c-8b16-38bd90d4f084",
   "metadata": {},
   "outputs": [],
   "source": [
    "X_train, X_test, y_train, y_test = train_test_split(X, y, test_size=0.20, random_state=42)"
   ]
  },
  {
   "cell_type": "markdown",
   "id": "ede6d2ea-84e8-4225-94ac-b19c68923c33",
   "metadata": {},
   "source": [
    "### SCALING DATA"
   ]
  },
  {
   "cell_type": "code",
   "execution_count": null,
   "id": "6e9dcae5-1e54-4bf5-855a-ee9a35fa2ee7",
   "metadata": {},
   "outputs": [],
   "source": [
    "from sklearn.preprocessing import StandardScaler"
   ]
  },
  {
   "cell_type": "code",
   "execution_count": null,
   "id": "818a998d-4b51-4440-8f77-428b65a7ef67",
   "metadata": {},
   "outputs": [],
   "source": [
    "ss = StandardScaler()"
   ]
  },
  {
   "cell_type": "markdown",
   "id": "1703cdcf-d3da-4c3d-99e6-fe084b28299c",
   "metadata": {},
   "source": [
    "#### FITTING XTRAIN"
   ]
  },
  {
   "cell_type": "code",
   "execution_count": null,
   "id": "d0197af0-4010-43bd-9686-3cbf75d98ca7",
   "metadata": {},
   "outputs": [],
   "source": [
    "X_train = ss.fit_transform(X_train)"
   ]
  },
  {
   "cell_type": "code",
   "execution_count": null,
   "id": "af9bc813-07c3-4118-a238-29d7c6af1cb2",
   "metadata": {},
   "outputs": [],
   "source": [
    "X_test = ss.fit_transform(X_test)"
   ]
  },
  {
   "cell_type": "code",
   "execution_count": null,
   "id": "f00b3282-becc-4cf8-8b3b-774fec44f64d",
   "metadata": {},
   "outputs": [],
   "source": [
    "X_train"
   ]
  },
  {
   "cell_type": "code",
   "execution_count": null,
   "id": "e262661c-0a15-427b-976f-c6762a32cf51",
   "metadata": {},
   "outputs": [],
   "source": [
    "X_test"
   ]
  },
  {
   "cell_type": "markdown",
   "id": "d12fd277-fae9-41f7-a89c-ed3cedc3c551",
   "metadata": {},
   "source": [
    "### MODEL 1 - Linear Regression"
   ]
  },
  {
   "cell_type": "code",
   "execution_count": 37,
   "id": "8f03b488-f91f-4b2f-a8ed-1ff1f92af3c0",
   "metadata": {},
   "outputs": [],
   "source": [
    "from sklearn.linear_model import LinearRegression"
   ]
  },
  {
   "cell_type": "code",
   "execution_count": 38,
   "id": "967c3fa7-4980-4c7e-9cd2-3f469e61d430",
   "metadata": {},
   "outputs": [],
   "source": [
    "lr = LinearRegression()"
   ]
  },
  {
   "cell_type": "code",
   "execution_count": 39,
   "id": "e92d9c0c-768a-465f-813d-f8db23f08f3e",
   "metadata": {},
   "outputs": [
    {
     "data": {
      "text/plain": [
       "LinearRegression(copy_X=True, fit_intercept=True, n_jobs=None, normalize=False)"
      ]
     },
     "execution_count": 39,
     "metadata": {},
     "output_type": "execute_result"
    }
   ],
   "source": [
    "lr.fit(X_train,y_train)"
   ]
  },
  {
   "cell_type": "markdown",
   "id": "a2745bdf-66f8-4fba-ac9a-1bc4c6421a8a",
   "metadata": {},
   "source": [
    "#### Predictions"
   ]
  },
  {
   "cell_type": "code",
   "execution_count": 40,
   "id": "b7f509fb-6251-4398-b155-83c047c95b0e",
   "metadata": {},
   "outputs": [],
   "source": [
    "predictions = lr.predict(X_test)"
   ]
  },
  {
   "cell_type": "code",
   "execution_count": 41,
   "id": "25c97474-62ce-4d84-a417-f62ff4ae6fe2",
   "metadata": {},
   "outputs": [
    {
     "name": "stdout",
     "output_type": "stream",
     "text": [
      "[512.95947732]\n"
     ]
    }
   ],
   "source": [
    "print(lr.intercept_)"
   ]
  },
  {
   "cell_type": "code",
   "execution_count": 65,
   "id": "34251a53-3d30-4c34-8bfd-66200f24ea09",
   "metadata": {},
   "outputs": [
    {
     "data": {
      "text/plain": [
       "array([-0.07743613,  0.62783112,  0.79013677,  0.02632423, -5.16002327,\n",
       "       -5.00463355, -5.10355492, -5.09534794, -5.06365341, -5.02153824,\n",
       "       -5.10515383, -5.09409284, -5.17616024, -5.04736159, -5.01592437])"
      ]
     },
     "execution_count": 65,
     "metadata": {},
     "output_type": "execute_result"
    }
   ],
   "source": [
    "lr.coef_[0]"
   ]
  },
  {
   "cell_type": "code",
   "execution_count": 76,
   "id": "73a9d116-c534-4735-8221-afcb79615215",
   "metadata": {},
   "outputs": [
    {
     "data": {
      "text/plain": [
       "['price_earnings_ratio',\n",
       " 'price_book_ratio',\n",
       " 'price_sales_ratio',\n",
       " 'price_cashflow_ratio',\n",
       " 'sector_basic_materials',\n",
       " 'sector_consumer_cyclical',\n",
       " 'sector_financial_services',\n",
       " 'sector_real_estate',\n",
       " 'sector_consumer_defensive',\n",
       " 'sector_healthcare',\n",
       " 'sector_utilities',\n",
       " 'sector_communication_services',\n",
       " 'sector_energy',\n",
       " 'sector_industrials',\n",
       " 'sector_technology']"
      ]
     },
     "execution_count": 76,
     "metadata": {},
     "output_type": "execute_result"
    }
   ],
   "source": [
    "index = X.columns\n",
    "index.tolist()"
   ]
  },
  {
   "cell_type": "code",
   "execution_count": 73,
   "id": "1f0d2e7e-9dbb-49b4-a339-1f76db086694",
   "metadata": {},
   "outputs": [
    {
     "data": {
      "text/plain": [
       "pandas.core.indexes.base.Index"
      ]
     },
     "execution_count": 73,
     "metadata": {},
     "output_type": "execute_result"
    }
   ],
   "source": [
    "type(index)"
   ]
  },
  {
   "cell_type": "code",
   "execution_count": 72,
   "id": "b5edc287-5d0f-45b3-948a-7cdc62645aa7",
   "metadata": {},
   "outputs": [
    {
     "data": {
      "text/plain": [
       "[-0.0774361349107203,\n",
       " 0.6278311239957493,\n",
       " 0.7901367676567813,\n",
       " 0.026324225001970514,\n",
       " -5.160023273605469,\n",
       " -5.004633553095101,\n",
       " -5.10355491596818,\n",
       " -5.095347935252696,\n",
       " -5.063653411601111,\n",
       " -5.02153823661989,\n",
       " -5.105153829204246,\n",
       " -5.094092838983291,\n",
       " -5.176160237650976,\n",
       " -5.0473615937993745,\n",
       " -5.0159243740067625]"
      ]
     },
     "execution_count": 72,
     "metadata": {},
     "output_type": "execute_result"
    }
   ],
   "source": [
    "coef_list = lr.coef_\n",
    "coef_list[0].tolist()"
   ]
  },
  {
   "cell_type": "code",
   "execution_count": 70,
   "id": "2395c0cd-d3cf-48a9-acef-c0af0d6e83d7",
   "metadata": {},
   "outputs": [
    {
     "data": {
      "text/plain": [
       "numpy.ndarray"
      ]
     },
     "execution_count": 70,
     "metadata": {},
     "output_type": "execute_result"
    }
   ],
   "source": [
    "type(coef_list)"
   ]
  },
  {
   "cell_type": "code",
   "execution_count": 85,
   "id": "d0621bb6-ca84-4ada-af56-266edd5749df",
   "metadata": {},
   "outputs": [
    {
     "data": {
      "text/html": [
       "<div>\n",
       "<style scoped>\n",
       "    .dataframe tbody tr th:only-of-type {\n",
       "        vertical-align: middle;\n",
       "    }\n",
       "\n",
       "    .dataframe tbody tr th {\n",
       "        vertical-align: top;\n",
       "    }\n",
       "\n",
       "    .dataframe thead th {\n",
       "        text-align: right;\n",
       "    }\n",
       "</style>\n",
       "<table border=\"1\" class=\"dataframe\">\n",
       "  <thead>\n",
       "    <tr style=\"text-align: right;\">\n",
       "      <th></th>\n",
       "      <th>Coeff</th>\n",
       "    </tr>\n",
       "  </thead>\n",
       "  <tbody>\n",
       "    <tr>\n",
       "      <th>price_earnings_ratio</th>\n",
       "      <td>-0.077436</td>\n",
       "    </tr>\n",
       "    <tr>\n",
       "      <th>price_book_ratio</th>\n",
       "      <td>0.627831</td>\n",
       "    </tr>\n",
       "    <tr>\n",
       "      <th>price_sales_ratio</th>\n",
       "      <td>0.790137</td>\n",
       "    </tr>\n",
       "    <tr>\n",
       "      <th>price_cashflow_ratio</th>\n",
       "      <td>0.026324</td>\n",
       "    </tr>\n",
       "    <tr>\n",
       "      <th>sector_basic_materials</th>\n",
       "      <td>-5.160023</td>\n",
       "    </tr>\n",
       "    <tr>\n",
       "      <th>sector_consumer_cyclical</th>\n",
       "      <td>-5.004634</td>\n",
       "    </tr>\n",
       "    <tr>\n",
       "      <th>sector_financial_services</th>\n",
       "      <td>-5.103555</td>\n",
       "    </tr>\n",
       "    <tr>\n",
       "      <th>sector_real_estate</th>\n",
       "      <td>-5.095348</td>\n",
       "    </tr>\n",
       "    <tr>\n",
       "      <th>sector_consumer_defensive</th>\n",
       "      <td>-5.063653</td>\n",
       "    </tr>\n",
       "    <tr>\n",
       "      <th>sector_healthcare</th>\n",
       "      <td>-5.021538</td>\n",
       "    </tr>\n",
       "    <tr>\n",
       "      <th>sector_utilities</th>\n",
       "      <td>-5.105154</td>\n",
       "    </tr>\n",
       "    <tr>\n",
       "      <th>sector_communication_services</th>\n",
       "      <td>-5.094093</td>\n",
       "    </tr>\n",
       "    <tr>\n",
       "      <th>sector_energy</th>\n",
       "      <td>-5.176160</td>\n",
       "    </tr>\n",
       "    <tr>\n",
       "      <th>sector_industrials</th>\n",
       "      <td>-5.047362</td>\n",
       "    </tr>\n",
       "    <tr>\n",
       "      <th>sector_technology</th>\n",
       "      <td>-5.015924</td>\n",
       "    </tr>\n",
       "  </tbody>\n",
       "</table>\n",
       "</div>"
      ],
      "text/plain": [
       "                                  Coeff\n",
       "price_earnings_ratio          -0.077436\n",
       "price_book_ratio               0.627831\n",
       "price_sales_ratio              0.790137\n",
       "price_cashflow_ratio           0.026324\n",
       "sector_basic_materials        -5.160023\n",
       "sector_consumer_cyclical      -5.004634\n",
       "sector_financial_services     -5.103555\n",
       "sector_real_estate            -5.095348\n",
       "sector_consumer_defensive     -5.063653\n",
       "sector_healthcare             -5.021538\n",
       "sector_utilities              -5.105154\n",
       "sector_communication_services -5.094093\n",
       "sector_energy                 -5.176160\n",
       "sector_industrials            -5.047362\n",
       "sector_technology             -5.015924"
      ]
     },
     "execution_count": 85,
     "metadata": {},
     "output_type": "execute_result"
    }
   ],
   "source": [
    "#Convert the lr.coef_ into a list --> coef_list = [..]; convert the columns name into a list --> index =[X.columns]; name of the column = ['Coef\n",
    "cdf = pd.DataFrame(data = coef_list.transpose(), index = index ,columns=['Coeff'])\n",
    "cdf"
   ]
  },
  {
   "cell_type": "code",
   "execution_count": 90,
   "id": "b3f89566-9865-4300-9e54-b8d0b4aac26e",
   "metadata": {},
   "outputs": [
    {
     "name": "stdout",
     "output_type": "stream",
     "text": [
      "the intercept or B is 512.96\n"
     ]
    }
   ],
   "source": [
    "#USE %.2f for a float with 2 decimals, close the brackets then use % and brackets %(xxx))\n",
    "print(\"the intercept or B is %.2f\"     %(lr.intercept_))"
   ]
  },
  {
   "cell_type": "code",
   "execution_count": 91,
   "id": "cd76148c-e5af-413f-ae6a-9ec2c825c3f5",
   "metadata": {},
   "outputs": [
    {
     "data": {
      "text/plain": [
       "Text(0, 0.5, 'Predicted values')"
      ]
     },
     "execution_count": 91,
     "metadata": {},
     "output_type": "execute_result"
    },
    {
     "data": {
      "image/png": "[encoded data removed]",
      "text/plain": [
       "<Figure size 576x396 with 1 Axes>"
      ]
     },
     "metadata": {},
     "output_type": "display_data"
    }
   ],
   "source": [
    "plt.scatter(y_test,predictions)\n",
    "plt.xlabel('Y test (True values)')\n",
    "plt.ylabel ('Predicted values')"
   ]
  },
  {
   "cell_type": "code",
   "execution_count": 103,
   "id": "56aa5856-bb10-4871-842d-1c6466bb3416",
   "metadata": {},
   "outputs": [
    {
     "data": {
      "text/plain": [
       "0.5330493485704025"
      ]
     },
     "execution_count": 103,
     "metadata": {},
     "output_type": "execute_result"
    }
   ],
   "source": [
    "lr.score(X_test,y_test)"
   ]
  },
  {
   "cell_type": "markdown",
   "id": "67047675-0667-4ed8-8bfa-91c5b392461a",
   "metadata": {},
   "source": [
    "#### EVALUATE SCORES"
   ]
  },
  {
   "cell_type": "code",
   "execution_count": 92,
   "id": "5384f348-c0c4-4df1-92fc-89a132a497b1",
   "metadata": {},
   "outputs": [],
   "source": [
    "from sklearn import metrics"
   ]
  },
  {
   "cell_type": "code",
   "execution_count": 96,
   "id": "d69c5004-4b56-49de-91e8-e9adb194dc99",
   "metadata": {},
   "outputs": [],
   "source": [
    "#or from sklearn.metrics import mean_absolute_error,mean_squared_error,r2_score \n",
    "from sklearn.metrics import mean_absolute_error,mean_squared_error,r2_score "
   ]
  },
  {
   "cell_type": "code",
   "execution_count": 93,
   "id": "653be316-05f9-4399-b07d-f3b0d94c6bb1",
   "metadata": {},
   "outputs": [
    {
     "name": "stdout",
     "output_type": "stream",
     "text": [
      "MAE 3.0232087528085736\n",
      "MSE 15.20881410169528\n",
      "RMSE 3.8998479587921477\n"
     ]
    }
   ],
   "source": [
    "print('MAE', metrics.mean_absolute_error(y_test,predictions))\n",
    "print('MSE', metrics.mean_squared_error(y_test,predictions))\n",
    "print('RMSE', np.sqrt(metrics.mean_squared_error(y_test,predictions)))"
   ]
  },
  {
   "cell_type": "markdown",
   "id": "00554bbf-8b4b-4a28-92a6-509a5ed873e4",
   "metadata": {},
   "source": [
    "#### R2 SCORE"
   ]
  },
  {
   "cell_type": "code",
   "execution_count": 94,
   "id": "9ee3e3fe-1637-40f7-84e6-2b12e3c10fd2",
   "metadata": {},
   "outputs": [
    {
     "data": {
      "text/plain": [
       "0.5332971875344943"
      ]
     },
     "execution_count": 94,
     "metadata": {},
     "output_type": "execute_result"
    }
   ],
   "source": [
    "metrics.explained_variance_score(y_test,predictions)"
   ]
  },
  {
   "cell_type": "code",
   "execution_count": 98,
   "id": "bd7d0231-698f-498c-845d-2818989e099b",
   "metadata": {},
   "outputs": [
    {
     "data": {
      "text/plain": [
       "0.5330493485704025"
      ]
     },
     "execution_count": 98,
     "metadata": {},
     "output_type": "execute_result"
    }
   ],
   "source": [
    "r2_score(y_test, predictions)"
   ]
  },
  {
   "cell_type": "code",
   "execution_count": 100,
   "id": "df4c2d4f-9cd6-42f9-a8ef-0606048f6b36",
   "metadata": {},
   "outputs": [
    {
     "data": {
      "text/plain": [
       "<seaborn.axisgrid.FacetGrid at 0x1ea5e0016d0>"
      ]
     },
     "execution_count": 100,
     "metadata": {},
     "output_type": "execute_result"
    },
    {
     "data": {
      "text/plain": [
       "<Figure size 720x720 with 0 Axes>"
      ]
     },
     "metadata": {},
     "output_type": "display_data"
    },
    {
     "data": {
      "image/png": "[encoded data removed]",
      "text/plain": [
       "<Figure size 489.25x360 with 1 Axes>"
      ]
     },
     "metadata": {},
     "output_type": "display_data"
    }
   ],
   "source": [
    "plt.figure(figsize =(10,10))\n",
    "sns.displot((y_test - predictions), bins = 50)"
   ]
  },
  {
   "cell_type": "code",
   "execution_count": null,
   "id": "06b77fd2-abc3-45ba-b697-088af10af75b",
   "metadata": {},
   "outputs": [],
   "source": []
  },
  {
   "cell_type": "code",
   "execution_count": null,
   "id": "49a66444-bac6-46fe-89f3-e469579c2dea",
   "metadata": {},
   "outputs": [],
   "source": []
  }
 ],
 "metadata": {
  "kernelspec": {
   "display_name": "Python 3",
   "language": "python",
   "name": "python3"
  },
  "language_info": {
   "codemirror_mode": {
    "name": "ipython",
    "version": 3
   },
   "file_extension": ".py",
   "mimetype": "text/x-python",
   "name": "python",
   "nbconvert_exporter": "python",
   "pygments_lexer": "ipython3",
   "version": "3.8.8"
  }
 },
 "nbformat": 4,
 "nbformat_minor": 5
}
