{
 "cells": [
  {
   "cell_type": "markdown",
   "id": "b1870c12-27cb-44e4-9655-06cfab3de401",
   "metadata": {},
   "source": [
    "# TIME SERIES ANALYSIS"
   ]
  },
  {
   "cell_type": "markdown",
   "id": "23d96213-5457-460d-87a8-0ec51bb07c9c",
   "metadata": {},
   "source": [
    "## IMPORT LIBRARIES"
   ]
  },
  {
   "cell_type": "code",
   "execution_count": 1,
   "id": "e513168d-d953-41d2-9ca4-f9cf98e73f81",
   "metadata": {},
   "outputs": [],
   "source": [
    "import pandas as pd\n",
    "import numpy as np\n",
    "import matplotlib.pyplot as plt\n",
    "import seaborn as sns\n",
    "\n",
    "%matplotlib inline"
   ]
  },
  {
   "cell_type": "markdown",
   "id": "a5e1843d-0e08-44af-9a21-cff96710793e",
   "metadata": {},
   "source": [
    "## IMPORT DATABASE"
   ]
  },
  {
   "cell_type": "code",
   "execution_count": 8,
   "id": "25fc7a8f-884f-4cd0-abaa-ccdade592676",
   "metadata": {},
   "outputs": [],
   "source": [
    "df = pd.read_csv(r'C:\\Workbook\\Funds\\mutual_funds.csv')"
   ]
  },
  {
   "cell_type": "code",
   "execution_count": 3,
   "id": "746984b8-4cc3-40b2-b9ba-8ba93fc06bd9",
   "metadata": {},
   "outputs": [
    {
     "data": {
      "text/html": [
       "<div>\n",
       "<style scoped>\n",
       "    .dataframe tbody tr th:only-of-type {\n",
       "        vertical-align: middle;\n",
       "    }\n",
       "\n",
       "    .dataframe tbody tr th {\n",
       "        vertical-align: top;\n",
       "    }\n",
       "\n",
       "    .dataframe thead th {\n",
       "        text-align: right;\n",
       "    }\n",
       "</style>\n",
       "<table border=\"1\" class=\"dataframe\">\n",
       "  <thead>\n",
       "    <tr style=\"text-align: right;\">\n",
       "      <th></th>\n",
       "      <th>fund_symbol</th>\n",
       "      <th>fund_extended_name</th>\n",
       "      <th>fund_family</th>\n",
       "      <th>inception_date</th>\n",
       "      <th>category</th>\n",
       "      <th>rating</th>\n",
       "      <th>return_rating</th>\n",
       "      <th>risk_rating</th>\n",
       "      <th>investment_type</th>\n",
       "      <th>size_type</th>\n",
       "      <th>...</th>\n",
       "      <th>fund_return_2010_q2</th>\n",
       "      <th>fund_return_2010_q1</th>\n",
       "      <th>fund_alpha_5years</th>\n",
       "      <th>fund_alpha_10years</th>\n",
       "      <th>fund_beta_5years</th>\n",
       "      <th>fund_beta_10years</th>\n",
       "      <th>fund_standard_deviation_5years</th>\n",
       "      <th>fund_standard_deviation_10years</th>\n",
       "      <th>fund_sharpe_ratio_5years</th>\n",
       "      <th>fund_sharpe_ratio_10years</th>\n",
       "    </tr>\n",
       "  </thead>\n",
       "  <tbody>\n",
       "    <tr>\n",
       "      <th>0</th>\n",
       "      <td>AAAAX</td>\n",
       "      <td>DWS RREEF Real Assets Fund - Class A</td>\n",
       "      <td>DWS</td>\n",
       "      <td>2007-07-29</td>\n",
       "      <td>World Allocation</td>\n",
       "      <td>3.0</td>\n",
       "      <td>3.0</td>\n",
       "      <td>3.0</td>\n",
       "      <td>Blend</td>\n",
       "      <td>Large</td>\n",
       "      <td>...</td>\n",
       "      <td>-2.53</td>\n",
       "      <td>2.23</td>\n",
       "      <td>-2.86</td>\n",
       "      <td>-3.86</td>\n",
       "      <td>1.05</td>\n",
       "      <td>0.93</td>\n",
       "      <td>10.39</td>\n",
       "      <td>8.67</td>\n",
       "      <td>0.33</td>\n",
       "      <td>0.24</td>\n",
       "    </tr>\n",
       "    <tr>\n",
       "      <th>1</th>\n",
       "      <td>AAADX</td>\n",
       "      <td>Aberdeen Income Builder Fund Class A</td>\n",
       "      <td>Aberdeen</td>\n",
       "      <td>2011-12-29</td>\n",
       "      <td>Allocation - 50% to 70% Equity</td>\n",
       "      <td>4.0</td>\n",
       "      <td>5.0</td>\n",
       "      <td>5.0</td>\n",
       "      <td>Blend</td>\n",
       "      <td>Large</td>\n",
       "      <td>...</td>\n",
       "      <td>NaN</td>\n",
       "      <td>NaN</td>\n",
       "      <td>-0.30</td>\n",
       "      <td>-0.15</td>\n",
       "      <td>1.36</td>\n",
       "      <td>1.45</td>\n",
       "      <td>10.21</td>\n",
       "      <td>11.70</td>\n",
       "      <td>0.74</td>\n",
       "      <td>0.89</td>\n",
       "    </tr>\n",
       "    <tr>\n",
       "      <th>2</th>\n",
       "      <td>AAAGX</td>\n",
       "      <td>Thrivent Large Cap Growth Fund Class A</td>\n",
       "      <td>Thrivent Funds</td>\n",
       "      <td>1999-10-28</td>\n",
       "      <td>Large Growth</td>\n",
       "      <td>3.0</td>\n",
       "      <td>3.0</td>\n",
       "      <td>4.0</td>\n",
       "      <td>Growth</td>\n",
       "      <td>Large</td>\n",
       "      <td>...</td>\n",
       "      <td>-14.29</td>\n",
       "      <td>4.09</td>\n",
       "      <td>2.92</td>\n",
       "      <td>0.77</td>\n",
       "      <td>1.04</td>\n",
       "      <td>1.08</td>\n",
       "      <td>16.49</td>\n",
       "      <td>15.40</td>\n",
       "      <td>0.88</td>\n",
       "      <td>0.93</td>\n",
       "    </tr>\n",
       "    <tr>\n",
       "      <th>3</th>\n",
       "      <td>AAAIX</td>\n",
       "      <td>American Century Strategic Allocation: Aggress...</td>\n",
       "      <td>American Century Investments</td>\n",
       "      <td>2000-07-31</td>\n",
       "      <td>Allocation - 70% to 85% Equity</td>\n",
       "      <td>4.0</td>\n",
       "      <td>4.0</td>\n",
       "      <td>3.0</td>\n",
       "      <td>Blend</td>\n",
       "      <td>Large</td>\n",
       "      <td>...</td>\n",
       "      <td>-8.13</td>\n",
       "      <td>3.92</td>\n",
       "      <td>-0.78</td>\n",
       "      <td>-0.48</td>\n",
       "      <td>1.39</td>\n",
       "      <td>1.37</td>\n",
       "      <td>12.35</td>\n",
       "      <td>11.44</td>\n",
       "      <td>0.61</td>\n",
       "      <td>0.73</td>\n",
       "    </tr>\n",
       "    <tr>\n",
       "      <th>4</th>\n",
       "      <td>AAANX</td>\n",
       "      <td>Horizon Active Asset Allocation Fund Investor ...</td>\n",
       "      <td>Horizon Investments</td>\n",
       "      <td>2012-01-30</td>\n",
       "      <td>Tactical Allocation</td>\n",
       "      <td>3.0</td>\n",
       "      <td>4.0</td>\n",
       "      <td>5.0</td>\n",
       "      <td>Blend</td>\n",
       "      <td>Large</td>\n",
       "      <td>...</td>\n",
       "      <td>NaN</td>\n",
       "      <td>NaN</td>\n",
       "      <td>-4.38</td>\n",
       "      <td>NaN</td>\n",
       "      <td>1.67</td>\n",
       "      <td>NaN</td>\n",
       "      <td>15.06</td>\n",
       "      <td>NaN</td>\n",
       "      <td>0.37</td>\n",
       "      <td>NaN</td>\n",
       "    </tr>\n",
       "  </tbody>\n",
       "</table>\n",
       "<p>5 rows × 87 columns</p>\n",
       "</div>"
      ],
      "text/plain": [
       "  fund_symbol                                 fund_extended_name  \\\n",
       "0       AAAAX               DWS RREEF Real Assets Fund - Class A   \n",
       "1       AAADX               Aberdeen Income Builder Fund Class A   \n",
       "2       AAAGX             Thrivent Large Cap Growth Fund Class A   \n",
       "3       AAAIX  American Century Strategic Allocation: Aggress...   \n",
       "4       AAANX  Horizon Active Asset Allocation Fund Investor ...   \n",
       "\n",
       "                    fund_family inception_date  \\\n",
       "0                           DWS     2007-07-29   \n",
       "1                      Aberdeen     2011-12-29   \n",
       "2                Thrivent Funds     1999-10-28   \n",
       "3  American Century Investments     2000-07-31   \n",
       "4           Horizon Investments     2012-01-30   \n",
       "\n",
       "                         category  rating  return_rating  risk_rating  \\\n",
       "0                World Allocation     3.0            3.0          3.0   \n",
       "1  Allocation - 50% to 70% Equity     4.0            5.0          5.0   \n",
       "2                    Large Growth     3.0            3.0          4.0   \n",
       "3  Allocation - 70% to 85% Equity     4.0            4.0          3.0   \n",
       "4             Tactical Allocation     3.0            4.0          5.0   \n",
       "\n",
       "  investment_type size_type  ... fund_return_2010_q2  fund_return_2010_q1  \\\n",
       "0           Blend     Large  ...               -2.53                 2.23   \n",
       "1           Blend     Large  ...                 NaN                  NaN   \n",
       "2          Growth     Large  ...              -14.29                 4.09   \n",
       "3           Blend     Large  ...               -8.13                 3.92   \n",
       "4           Blend     Large  ...                 NaN                  NaN   \n",
       "\n",
       "   fund_alpha_5years  fund_alpha_10years  fund_beta_5years  fund_beta_10years  \\\n",
       "0              -2.86               -3.86              1.05               0.93   \n",
       "1              -0.30               -0.15              1.36               1.45   \n",
       "2               2.92                0.77              1.04               1.08   \n",
       "3              -0.78               -0.48              1.39               1.37   \n",
       "4              -4.38                 NaN              1.67                NaN   \n",
       "\n",
       "   fund_standard_deviation_5years  fund_standard_deviation_10years  \\\n",
       "0                           10.39                             8.67   \n",
       "1                           10.21                            11.70   \n",
       "2                           16.49                            15.40   \n",
       "3                           12.35                            11.44   \n",
       "4                           15.06                              NaN   \n",
       "\n",
       "   fund_sharpe_ratio_5years  fund_sharpe_ratio_10years  \n",
       "0                      0.33                       0.24  \n",
       "1                      0.74                       0.89  \n",
       "2                      0.88                       0.93  \n",
       "3                      0.61                       0.73  \n",
       "4                      0.37                        NaN  \n",
       "\n",
       "[5 rows x 87 columns]"
      ]
     },
     "execution_count": 3,
     "metadata": {},
     "output_type": "execute_result"
    }
   ],
   "source": [
    "df.head(5)"
   ]
  },
  {
   "cell_type": "markdown",
   "id": "7c3f131f-771f-409d-9e5f-5c0a8e6d1b7d",
   "metadata": {},
   "source": [
    "### SELECT THE BEST FUND"
   ]
  },
  {
   "cell_type": "code",
   "execution_count": 5,
   "id": "70e9914e-4ee8-4b5b-af2b-f991812a18ee",
   "metadata": {},
   "outputs": [
    {
     "data": {
      "text/html": [
       "<div>\n",
       "<style scoped>\n",
       "    .dataframe tbody tr th:only-of-type {\n",
       "        vertical-align: middle;\n",
       "    }\n",
       "\n",
       "    .dataframe tbody tr th {\n",
       "        vertical-align: top;\n",
       "    }\n",
       "\n",
       "    .dataframe thead th {\n",
       "        text-align: right;\n",
       "    }\n",
       "</style>\n",
       "<table border=\"1\" class=\"dataframe\">\n",
       "  <thead>\n",
       "    <tr style=\"text-align: right;\">\n",
       "      <th></th>\n",
       "      <th></th>\n",
       "      <th>fund_return_10years</th>\n",
       "    </tr>\n",
       "    <tr>\n",
       "      <th>fund_symbol</th>\n",
       "      <th>fund_extended_name</th>\n",
       "      <th></th>\n",
       "    </tr>\n",
       "  </thead>\n",
       "  <tbody>\n",
       "    <tr>\n",
       "      <th>RYVLX</th>\n",
       "      <th>Rydex NASDAQ-100 2x Strategy Fund Class A</th>\n",
       "      <td>32.79</td>\n",
       "    </tr>\n",
       "  </tbody>\n",
       "</table>\n",
       "</div>"
      ],
      "text/plain": [
       "                                                       fund_return_10years\n",
       "fund_symbol fund_extended_name                                            \n",
       "RYVLX       Rydex NASDAQ-100 2x Strategy Fund Class A                32.79"
      ]
     },
     "execution_count": 5,
     "metadata": {},
     "output_type": "execute_result"
    }
   ],
   "source": [
    "#CATEGORIE COLUMNS ON THE LEFT AND NUMERICAL ON THE RIGHT\n",
    "best_fund = df.groupby(['fund_symbol','fund_extended_name'])[['fund_return_10years']].mean().sort_values(by='fund_return_10years',ascending = False)[:1]\n",
    "best_fund"
   ]
  },
  {
   "cell_type": "markdown",
   "id": "bc03d970-b7e7-4ccb-abeb-fc8a80ec1bb3",
   "metadata": {},
   "source": [
    "### LOCATE ROW BASED ON FUND SYMBOL"
   ]
  },
  {
   "cell_type": "code",
   "execution_count": 6,
   "id": "e121a0b2-ee09-40a2-84d0-051ec6fdd0e6",
   "metadata": {},
   "outputs": [
    {
     "data": {
      "text/html": [
       "<div>\n",
       "<style scoped>\n",
       "    .dataframe tbody tr th:only-of-type {\n",
       "        vertical-align: middle;\n",
       "    }\n",
       "\n",
       "    .dataframe tbody tr th {\n",
       "        vertical-align: top;\n",
       "    }\n",
       "\n",
       "    .dataframe thead th {\n",
       "        text-align: right;\n",
       "    }\n",
       "</style>\n",
       "<table border=\"1\" class=\"dataframe\">\n",
       "  <thead>\n",
       "    <tr style=\"text-align: right;\">\n",
       "      <th></th>\n",
       "      <th>fund_symbol</th>\n",
       "      <th>fund_extended_name</th>\n",
       "      <th>fund_family</th>\n",
       "      <th>inception_date</th>\n",
       "      <th>category</th>\n",
       "      <th>rating</th>\n",
       "      <th>return_rating</th>\n",
       "      <th>risk_rating</th>\n",
       "      <th>investment_type</th>\n",
       "      <th>size_type</th>\n",
       "      <th>...</th>\n",
       "      <th>fund_return_2010_q2</th>\n",
       "      <th>fund_return_2010_q1</th>\n",
       "      <th>fund_alpha_5years</th>\n",
       "      <th>fund_alpha_10years</th>\n",
       "      <th>fund_beta_5years</th>\n",
       "      <th>fund_beta_10years</th>\n",
       "      <th>fund_standard_deviation_5years</th>\n",
       "      <th>fund_standard_deviation_10years</th>\n",
       "      <th>fund_sharpe_ratio_5years</th>\n",
       "      <th>fund_sharpe_ratio_10years</th>\n",
       "    </tr>\n",
       "  </thead>\n",
       "  <tbody>\n",
       "    <tr>\n",
       "      <th>14748</th>\n",
       "      <td>RYVLX</td>\n",
       "      <td>Rydex NASDAQ-100 2x Strategy Fund Class A</td>\n",
       "      <td>Rydex Funds</td>\n",
       "      <td>2004-08-31</td>\n",
       "      <td>Trading - Leveraged Equity</td>\n",
       "      <td>3.0</td>\n",
       "      <td>5.0</td>\n",
       "      <td>5.0</td>\n",
       "      <td>Growth</td>\n",
       "      <td>Large</td>\n",
       "      <td>...</td>\n",
       "      <td>-22.48</td>\n",
       "      <td>9.75</td>\n",
       "      <td>8.86</td>\n",
       "      <td>5.52</td>\n",
       "      <td>2.24</td>\n",
       "      <td>2.19</td>\n",
       "      <td>35.38</td>\n",
       "      <td>31.67</td>\n",
       "      <td>0.95</td>\n",
       "      <td>1.04</td>\n",
       "    </tr>\n",
       "  </tbody>\n",
       "</table>\n",
       "<p>1 rows × 87 columns</p>\n",
       "</div>"
      ],
      "text/plain": [
       "      fund_symbol                         fund_extended_name  fund_family  \\\n",
       "14748       RYVLX  Rydex NASDAQ-100 2x Strategy Fund Class A  Rydex Funds   \n",
       "\n",
       "      inception_date                    category  rating  return_rating  \\\n",
       "14748     2004-08-31  Trading - Leveraged Equity     3.0            5.0   \n",
       "\n",
       "       risk_rating investment_type size_type  ... fund_return_2010_q2  \\\n",
       "14748          5.0          Growth     Large  ...              -22.48   \n",
       "\n",
       "       fund_return_2010_q1  fund_alpha_5years  fund_alpha_10years  \\\n",
       "14748                 9.75               8.86                5.52   \n",
       "\n",
       "       fund_beta_5years  fund_beta_10years  fund_standard_deviation_5years  \\\n",
       "14748              2.24               2.19                           35.38   \n",
       "\n",
       "       fund_standard_deviation_10years  fund_sharpe_ratio_5years  \\\n",
       "14748                            31.67                      0.95   \n",
       "\n",
       "       fund_sharpe_ratio_10years  \n",
       "14748                       1.04  \n",
       "\n",
       "[1 rows x 87 columns]"
      ]
     },
     "execution_count": 6,
     "metadata": {},
     "output_type": "execute_result"
    }
   ],
   "source": [
    "bf = df.loc[df['fund_symbol'] == 'RYVLX']\n",
    "bf"
   ]
  },
  {
   "cell_type": "code",
   "execution_count": 7,
   "id": "afcb70c7-62af-4760-ad79-2d0af8448cc3",
   "metadata": {},
   "outputs": [
    {
     "data": {
      "text/html": [
       "<div>\n",
       "<style scoped>\n",
       "    .dataframe tbody tr th:only-of-type {\n",
       "        vertical-align: middle;\n",
       "    }\n",
       "\n",
       "    .dataframe tbody tr th {\n",
       "        vertical-align: top;\n",
       "    }\n",
       "\n",
       "    .dataframe thead th {\n",
       "        text-align: right;\n",
       "    }\n",
       "</style>\n",
       "<table border=\"1\" class=\"dataframe\">\n",
       "  <thead>\n",
       "    <tr style=\"text-align: right;\">\n",
       "      <th></th>\n",
       "      <th>14748</th>\n",
       "    </tr>\n",
       "  </thead>\n",
       "  <tbody>\n",
       "    <tr>\n",
       "      <th>fund_symbol</th>\n",
       "      <td>RYVLX</td>\n",
       "    </tr>\n",
       "    <tr>\n",
       "      <th>fund_extended_name</th>\n",
       "      <td>Rydex NASDAQ-100 2x Strategy Fund Class A</td>\n",
       "    </tr>\n",
       "    <tr>\n",
       "      <th>fund_family</th>\n",
       "      <td>Rydex Funds</td>\n",
       "    </tr>\n",
       "    <tr>\n",
       "      <th>inception_date</th>\n",
       "      <td>2004-08-31</td>\n",
       "    </tr>\n",
       "    <tr>\n",
       "      <th>category</th>\n",
       "      <td>Trading - Leveraged Equity</td>\n",
       "    </tr>\n",
       "    <tr>\n",
       "      <th>...</th>\n",
       "      <td>...</td>\n",
       "    </tr>\n",
       "    <tr>\n",
       "      <th>fund_beta_10years</th>\n",
       "      <td>2.19</td>\n",
       "    </tr>\n",
       "    <tr>\n",
       "      <th>fund_standard_deviation_5years</th>\n",
       "      <td>35.38</td>\n",
       "    </tr>\n",
       "    <tr>\n",
       "      <th>fund_standard_deviation_10years</th>\n",
       "      <td>31.67</td>\n",
       "    </tr>\n",
       "    <tr>\n",
       "      <th>fund_sharpe_ratio_5years</th>\n",
       "      <td>0.95</td>\n",
       "    </tr>\n",
       "    <tr>\n",
       "      <th>fund_sharpe_ratio_10years</th>\n",
       "      <td>1.04</td>\n",
       "    </tr>\n",
       "  </tbody>\n",
       "</table>\n",
       "<p>87 rows × 1 columns</p>\n",
       "</div>"
      ],
      "text/plain": [
       "                                                                     14748\n",
       "fund_symbol                                                          RYVLX\n",
       "fund_extended_name               Rydex NASDAQ-100 2x Strategy Fund Class A\n",
       "fund_family                                                    Rydex Funds\n",
       "inception_date                                                  2004-08-31\n",
       "category                                        Trading - Leveraged Equity\n",
       "...                                                                    ...\n",
       "fund_beta_10years                                                     2.19\n",
       "fund_standard_deviation_5years                                       35.38\n",
       "fund_standard_deviation_10years                                      31.67\n",
       "fund_sharpe_ratio_5years                                              0.95\n",
       "fund_sharpe_ratio_10years                                             1.04\n",
       "\n",
       "[87 rows x 1 columns]"
      ]
     },
     "execution_count": 7,
     "metadata": {},
     "output_type": "execute_result"
    }
   ],
   "source": [
    "bf2 = df.iloc[14748,:]\n",
    "bf2.to_frame()"
   ]
  },
  {
   "cell_type": "code",
   "execution_count": null,
   "id": "37f1be92-846a-44a2-a1ea-28de2e71284f",
   "metadata": {},
   "outputs": [],
   "source": [
    "bf.columns"
   ]
  },
  {
   "cell_type": "markdown",
   "id": "e3287017-1b8d-4bd9-a1fd-98aebc986a65",
   "metadata": {},
   "source": [
    "## GET ALL THE DATE COLUMNS"
   ]
  },
  {
   "cell_type": "code",
   "execution_count": null,
   "id": "dd4bc2fc-c421-4576-bfee-2ea209723afc",
   "metadata": {},
   "outputs": [],
   "source": [
    "X = [['fund_return_2020_q3', 'fund_return_2020_q2', 'fund_return_2020_q1',\n",
    "       'fund_return_2019_q4', 'fund_return_2019_q3', 'fund_return_2019_q2',\n",
    "       'fund_return_2019_q1', 'fund_return_2018_q4', 'fund_return_2018_q3',\n",
    "       'fund_return_2018_q2', 'fund_return_2018_q1', 'fund_return_2017_q4',\n",
    "       'fund_return_2017_q3', 'fund_return_2017_q2', 'fund_return_2017_q1',\n",
    "       'fund_return_2016_q4', 'fund_return_2016_q3', 'fund_return_2016_q2',\n",
    "       'fund_return_2016_q1', 'fund_return_2015_q4', 'fund_return_2015_q3',\n",
    "       'fund_return_2015_q2', 'fund_return_2015_q1', 'fund_return_2014_q4',\n",
    "       'fund_return_2014_q3', 'fund_return_2014_q2', 'fund_return_2014_q1',\n",
    "       'fund_return_2013_q4', 'fund_return_2013_q3', 'fund_return_2013_q2',\n",
    "       'fund_return_2013_q1', 'fund_return_2012_q4', 'fund_return_2012_q3',\n",
    "       'fund_return_2012_q2', 'fund_return_2012_q1', 'fund_return_2011_q4',\n",
    "       'fund_return_2011_q3', 'fund_return_2011_q2', 'fund_return_2011_q1',\n",
    "       'fund_return_2010_q4', 'fund_return_2010_q3', 'fund_return_2010_q2',\n",
    "       'fund_return_2010_q1']]"
   ]
  },
  {
   "cell_type": "markdown",
   "id": "58fd0478-7000-41a1-8766-2c0aac4f357f",
   "metadata": {},
   "source": [
    "### SELECT BY USING ILOC"
   ]
  },
  {
   "cell_type": "code",
   "execution_count": null,
   "id": "8c0bacf5-89d0-4d8f-90b9-beb838f72b36",
   "metadata": {},
   "outputs": [],
   "source": [
    "y = bf.iloc[:,36:79]\n",
    "y"
   ]
  },
  {
   "cell_type": "markdown",
   "id": "94051e04-4948-473c-96f2-68e35daebd92",
   "metadata": {},
   "source": [
    "### TRANSPOSE SO IT IS IN COLUMN FORMAT"
   ]
  },
  {
   "cell_type": "code",
   "execution_count": null,
   "id": "b716775e-8616-4011-9851-c375507e855f",
   "metadata": {},
   "outputs": [],
   "source": [
    "y = y.transpose()\n",
    "y"
   ]
  },
  {
   "cell_type": "markdown",
   "id": "f2d1e35e-42be-442f-9e24-0415f784dcc6",
   "metadata": {},
   "source": [
    "## RESET INDEX - QUARTER"
   ]
  },
  {
   "cell_type": "code",
   "execution_count": null,
   "id": "ef48e294-df99-4eaf-9b9e-e2429ee105ca",
   "metadata": {},
   "outputs": [],
   "source": [
    "y.reset_index('Label'== 'Quarter', inplace = True)"
   ]
  },
  {
   "cell_type": "code",
   "execution_count": null,
   "id": "31a5935a-d81c-4232-b02d-455fc46c82bd",
   "metadata": {},
   "outputs": [],
   "source": [
    "rename_map={'index':'fund_quarter',\n",
    "           '14748':'fund_performance'}"
   ]
  },
  {
   "cell_type": "code",
   "execution_count": null,
   "id": "a0586051-d9e7-49ed-87d8-bf93d8c9652b",
   "metadata": {},
   "outputs": [],
   "source": [
    "y.rename(columns = rename_map,inplace = True)\n",
    "y"
   ]
  },
  {
   "cell_type": "code",
   "execution_count": null,
   "id": "1adbbe4f-8fa0-47e7-9bbd-1854bf67a35c",
   "metadata": {},
   "outputs": [],
   "source": [
    "new = y[\"fund_quarter\"].str.split(\"_\", n = 4, expand = True)\n",
    "  \n",
    "# making separate first name column from new data frame\n",
    "y[\"Fund\"]= new[0]\n",
    "\n",
    "# making separate first name column from new data frame\n",
    "y[\"Return\"]= new[1]\n",
    "    \n",
    "# making separate last name column from new data frame\n",
    "y[\"Year\"]= new[2]\n",
    "     \n",
    "# making separate last name column from new data frame\n",
    "y[\"Quarter\"]= new[3]\n",
    "  \n",
    "# Dropping old Name columns\n",
    "y.drop(columns =[\"fund_quarter\"], inplace = True)\n",
    "  \n",
    "# df display\n",
    "y"
   ]
  },
  {
   "cell_type": "code",
   "execution_count": null,
   "id": "56bf5bf0-4414-422b-a8a7-ea5c1393413c",
   "metadata": {},
   "outputs": [],
   "source": [
    "y.columns"
   ]
  },
  {
   "cell_type": "code",
   "execution_count": null,
   "id": "24f9b530-5c12-4c38-ba22-f78576e66bc2",
   "metadata": {},
   "outputs": [],
   "source": [
    "#FOR LOOP THAT GOES THROUGH THE QUARTER COLUMN IN THE DATAFRAME\n",
    "#quarter = y['Quarter']\n",
    "\n",
    "\n",
    "#length = len(quarter)\n",
    "\n",
    "#for i in range(length):\n",
    "#    print(quarter[i])"
   ]
  },
  {
   "cell_type": "markdown",
   "id": "73ff0aa6-00bc-4d45-8b25-19c494d9d649",
   "metadata": {},
   "source": [
    "## REMOVE IRRELEVANT COLUMNS AND REVERSE ORDER"
   ]
  },
  {
   "cell_type": "code",
   "execution_count": null,
   "id": "ad14cb13-3960-4a69-90c7-9c665fe7d643",
   "metadata": {},
   "outputs": [],
   "source": [
    "#REVERSE INDEX = df = df[::-1]\n",
    "y =y[['Year','Quarter',14748]]\n",
    "y = y[::-1]\n",
    "y.reset_index(drop = True, inplace = True)\n",
    "y.head()"
   ]
  },
  {
   "cell_type": "markdown",
   "id": "3f14fc76-ac1c-467a-9d60-a376d822632d",
   "metadata": {},
   "source": [
    "## RENAME COLUMN AND REPLACE Qs BY NUMBERS"
   ]
  },
  {
   "cell_type": "code",
   "execution_count": null,
   "id": "47dcc0d0-afef-4707-b7ae-1dc4b4978d33",
   "metadata": {},
   "outputs": [],
   "source": [
    "y.replace({'Quarter': {'q1': 3103, 'q2': 3006,'q3':3009,'q4':3112}},inplace = True)\n",
    "y.head(5)"
   ]
  },
  {
   "cell_type": "code",
   "execution_count": null,
   "id": "3ec47781-360a-478f-ae7a-d593b7a051ca",
   "metadata": {},
   "outputs": [],
   "source": [
    "y.index"
   ]
  },
  {
   "cell_type": "code",
   "execution_count": null,
   "id": "c043a627-2b95-4830-8cf7-8f92eade7ffe",
   "metadata": {},
   "outputs": [],
   "source": [
    "y['Year'].to_frame().info()"
   ]
  },
  {
   "cell_type": "code",
   "execution_count": null,
   "id": "52d182a8-dd4d-44b2-b850-6154666fee60",
   "metadata": {},
   "outputs": [],
   "source": [
    "y['Quarter'].to_frame().info()"
   ]
  },
  {
   "cell_type": "code",
   "execution_count": null,
   "id": "35831bcf-3ac6-4e6f-8b90-1c49f851b71a",
   "metadata": {},
   "outputs": [],
   "source": [
    "y['Year'] = y['Year'].astype(str).astype(int)\n",
    "y['Year'].to_frame().info()"
   ]
  },
  {
   "cell_type": "code",
   "execution_count": null,
   "id": "1da8e9b2-e2de-4d72-89dc-35a88bf23a60",
   "metadata": {},
   "outputs": [],
   "source": [
    "#y['Quarter'] = y['Quarter'].to_string()"
   ]
  },
  {
   "cell_type": "code",
   "execution_count": null,
   "id": "1172e8b7-ef9e-422d-9091-5b913da691ef",
   "metadata": {},
   "outputs": [],
   "source": [
    "#y['Year'] = y['Year'].to_string()"
   ]
  },
  {
   "cell_type": "code",
   "execution_count": null,
   "id": "0e83b363-c7f6-413e-af04-df16853955c5",
   "metadata": {},
   "outputs": [],
   "source": [
    "#y['Date'] = y['Quarter'] + y['Year']\n",
    "#y['Date'].head()"
   ]
  },
  {
   "cell_type": "code",
   "execution_count": null,
   "id": "2f5a213e-06ee-4647-8ce0-2ec1e5b9650a",
   "metadata": {},
   "outputs": [],
   "source": [
    "#y.index = pd.to_datetime(arg, errors='raise', dayfirst=False, yearfirst=False, utc=None, format=None, exact=True, unit=None, infer_datetime_format=False, origin='unix', cache=True)\n",
    "#y.index = pd.to_datetime(y.index)\n"
   ]
  },
  {
   "cell_type": "markdown",
   "id": "d5cfef56-3a6e-430e-91d3-7d9093207305",
   "metadata": {},
   "source": [
    "### EXPORT FILE TO CSV"
   ]
  },
  {
   "cell_type": "code",
   "execution_count": null,
   "id": "47c9cab4-9ab8-40d6-88af-4cebd246afa0",
   "metadata": {},
   "outputs": [],
   "source": [
    "y.to_csv('RYVLX.csv')"
   ]
  },
  {
   "cell_type": "markdown",
   "id": "e7bf7f54-943f-48fc-8f67-042ca408084e",
   "metadata": {},
   "source": [
    "## RELOAD SPREADSHEET"
   ]
  },
  {
   "cell_type": "markdown",
   "id": "63ee045c-fa92-4ec4-9dab-a61f6a2f57b2",
   "metadata": {},
   "source": [
    "## IMPORT LIBRARIES FOR TIME SERIES"
   ]
  },
  {
   "cell_type": "code",
   "execution_count": null,
   "id": "03e226e4-7f72-4592-b324-dab666059418",
   "metadata": {},
   "outputs": [],
   "source": [
    "import numpy as np\n",
    "import pandas as pd\n",
    "from matplotlib import pyplot as plt\n",
    "from statsmodels.tsa.seasonal import seasonal_decompose\n",
    "from statsmodels.tsa.arima_model import ARIMA\n",
    "from statsmodels.tsa.stattools import acf, pacf\n",
    "from statsmodels.graphics.tsaplots import plot_acf, plot_pacf\n",
    "import statsmodels\n",
    "print('statsmodels: %s' % statsmodels.__version__)"
   ]
  },
  {
   "cell_type": "markdown",
   "id": "167e6a87-1a6d-4699-8a64-a39ecbcfed8b",
   "metadata": {},
   "source": [
    "### VISUALISATION"
   ]
  },
  {
   "cell_type": "code",
   "execution_count": null,
   "id": "d47bf893-109c-4b1c-9fe1-72fb2a90bc3a",
   "metadata": {},
   "outputs": [],
   "source": [
    "import chart_studio.plotly as py\n",
    "import plotly.graph_objects as go\n",
    "import cufflinks as cf"
   ]
  },
  {
   "cell_type": "code",
   "execution_count": null,
   "id": "c0e415a4-b294-4932-9d1e-e2a230e1b67a",
   "metadata": {},
   "outputs": [],
   "source": [
    "cf.go_offline()"
   ]
  },
  {
   "cell_type": "markdown",
   "id": "23e6ff68-5d52-4373-aca6-00bab1bc9e36",
   "metadata": {},
   "source": [
    "### RELOAD SPREADSHEET"
   ]
  },
  {
   "cell_type": "code",
   "execution_count": null,
   "id": "7f9b5b22-f02e-4042-9790-3df068790ff6",
   "metadata": {},
   "outputs": [],
   "source": [
    "df = pd.read_csv(r'C:\\Workbook\\Funds\\bf.csv', parse_dates = ['Date'], index_col = ['Date'])\n",
    "df.head(5)"
   ]
  },
  {
   "cell_type": "code",
   "execution_count": null,
   "id": "6855f4c8-491f-432f-95bc-760cd1597ead",
   "metadata": {},
   "outputs": [],
   "source": [
    "df.columns"
   ]
  },
  {
   "cell_type": "code",
   "execution_count": null,
   "id": "ed0ee0a3-1ecf-47a1-9df7-4619ef86c075",
   "metadata": {},
   "outputs": [],
   "source": [
    "df = df[['Performance']]\n",
    "df.head()"
   ]
  },
  {
   "cell_type": "code",
   "execution_count": null,
   "id": "ca85864d-b2f6-41a8-bcb8-36531db27f44",
   "metadata": {},
   "outputs": [],
   "source": [
    "plt.figure(figsize = (15,15))\n",
    "df.iplot(y = 'Performance',title = 'Rydex NASDAQ 100 - 2X', yTitle = 'Performance' )"
   ]
  },
  {
   "cell_type": "code",
   "execution_count": null,
   "id": "dd3b1a83-e289-4c28-b2c2-6eff59529d28",
   "metadata": {},
   "outputs": [],
   "source": [
    "plt.figure(figsize = (12,12))\n",
    "# First-order difference\n",
    "df['Performance_Diff'] = df['Performance'].diff(periods=1)\n",
    "df = df.dropna()\n",
    "\n",
    "# Plot\n",
    "plt.title('RYVLX dataset with First-order difference', size=20)\n",
    "plt.plot(df['Performance'], label='Performance')\n",
    "plt.plot(df['Performance_Diff'], label='First-order difference', color='orange')\n",
    "plt.legend();"
   ]
  },
  {
   "cell_type": "code",
   "execution_count": null,
   "id": "b9fba35a-2432-4edc-bb1a-e748060fdc4b",
   "metadata": {},
   "outputs": [],
   "source": [
    "from statsmodels.tsa.arima.model import ARIMA\n",
    "from statsmodels.tsa.stattools import acf, pacf"
   ]
  },
  {
   "cell_type": "code",
   "execution_count": null,
   "id": "af079d14-3aca-493d-9de8-2e7cb6a5c4d5",
   "metadata": {},
   "outputs": [],
   "source": [
    "# Calculate autocorrelation\n",
    "acf_values = acf(df['Performance_Diff'])"
   ]
  },
  {
   "cell_type": "code",
   "execution_count": null,
   "id": "2b0b4def-7674-4f9d-a277-bf53e572a3c8",
   "metadata": {},
   "outputs": [],
   "source": [
    "# Plot autocorrelation\n",
    "plt.figure(figsize = (12,12))\n",
    "plot_acf(df['Performance_Diff'], lags=15);"
   ]
  },
  {
   "cell_type": "code",
   "execution_count": null,
   "id": "e7880859-998a-41a8-8ab6-81ce27aed08b",
   "metadata": {},
   "outputs": [],
   "source": [
    "plot_pacf(df['Performance_Diff'], lags=15)"
   ]
  },
  {
   "cell_type": "raw",
   "id": "dfe72371-3413-456c-b6cb-4f1dc49007c8",
   "metadata": {},
   "source": [
    "if the ACF plot drops instantly and the PACF declines gradually, use Moving Average model."
   ]
  },
  {
   "cell_type": "raw",
   "id": "effff1a4-9c43-435d-bf72-ddcdd23dc7ad",
   "metadata": {},
   "source": [
    "Time series models you’ll soon learn about, such as Auto Regression (AR), Moving Averages (MA), or their combinations (ARMA), require you to specify one or more parameters. These can be obtained by looking at ACF and PACF plots. In a nutshell: If the ACF plot declines gradually and the PACF drops instantly, use Auto Regressive model. If the ACF plot drops instantly and the PACF declines gradually, use Moving Average model. If both ACF and PACF decline gradually, combine Auto Regressive and Moving Average models (ARMA). If both ACF and PACF drop instantly (no significant lags), it’s likely you won’t be able to model the time series.\n",
    "\n",
    "Still, reading ACF and PACF plots is challenging, and you’re far better of using grid search to find optimal parameter values. An optimal parameter combination has the lowest error (such as MAPE) or lowest general quality estimator (such as AIC). We’ll cover time series evaluation metrics soon, so stay tuned.\n",
    "\n",
    "Conclusion\n",
    "\n",
    "And there you have it — autocorrelation and partial autocorrelation in a nutshell. Both functions and plots help analyze time series data, but we’ll mostly rely on brute-force parameter finding methods for forecasting. It’s much easier to do a grid search than to look at charts. Both ACF and PACF require stationary time series. We’ve only covered stationarity briefly for now, but that will change in the following article. Stay tuned to learn everything about stationarity, stationarity tests, and testing automation.\n",
    "\n",
    "A rolling mean is simply the mean of a certain number of previous periods in a time series. To calculate the rolling mean for one or more columns in a pandas DataFrame"
   ]
  },
  {
   "cell_type": "code",
   "execution_count": null,
   "id": "9d3508ea-b3e9-4783-b769-c089b5fed580",
   "metadata": {},
   "outputs": [],
   "source": [
    "rolling_mean = df.rolling(window = 4).mean()\n",
    "rolling_std = df.rolling(window = 4).std()\n",
    "\n",
    "plt.plot(df, color = 'blue', label = 'Original')\n",
    "plt.plot(rolling_mean, color = 'red', label = 'Rolling Mean')\n",
    "plt.plot(rolling_std, color = 'black', label = 'Rolling Std')\n",
    "plt.legend(loc = 'best')\n",
    "plt.title('Rolling Mean & Rolling Standard Deviation')\n",
    "plt.show()"
   ]
  },
  {
   "cell_type": "code",
   "execution_count": null,
   "id": "1dc5106e-7004-4aa6-8661-597b0eb85f33",
   "metadata": {},
   "outputs": [],
   "source": [
    "df.to_csv('RYVLX.csv')"
   ]
  },
  {
   "cell_type": "code",
   "execution_count": null,
   "id": "126ce8b9-8c1b-4a04-a8ee-41eebbef1c4b",
   "metadata": {},
   "outputs": [],
   "source": [
    "df_log = np.log(df)\n",
    "plt.plot(df_log)"
   ]
  },
  {
   "cell_type": "markdown",
   "id": "f6323bf7-21e1-4819-822d-88d83543f5e6",
   "metadata": {},
   "source": [
    "### AUTO REGRESSIVE MODEL"
   ]
  },
  {
   "cell_type": "code",
   "execution_count": null,
   "id": "2cf78e7b-3cc9-4cb1-8b64-8fe2914e655f",
   "metadata": {},
   "outputs": [],
   "source": [
    "# Autoregressive models operate under the premise that past values have an effect on current values. \n",
    "# AR models are commonly used in analyzing nature, economics, and other time-varying processes. \n",
    "# As long as the assumption holds, we can build a linear regression model that attempts to predict value of a dependent \n",
    "# variable today, given the values it had on previous days."
   ]
  },
  {
   "cell_type": "markdown",
   "id": "8baa284e-a95a-4595-9653-124fa14d28a0",
   "metadata": {},
   "source": [
    "## TIME SERIES USING PROPHET"
   ]
  },
  {
   "cell_type": "code",
   "execution_count": 2,
   "id": "82711561-34fa-4c62-854c-14784161152e",
   "metadata": {},
   "outputs": [],
   "source": [
    "import warnings;\n",
    "warnings.simplefilter('ignore')"
   ]
  },
  {
   "cell_type": "code",
   "execution_count": null,
   "id": "5047123f-5d31-4a23-9676-fb7fcf17addb",
   "metadata": {},
   "outputs": [],
   "source": []
  },
  {
   "cell_type": "code",
   "execution_count": null,
   "id": "2bc2ec2b-64de-4caa-95d0-c561dbd291b4",
   "metadata": {},
   "outputs": [],
   "source": []
  },
  {
   "cell_type": "code",
   "execution_count": null,
   "id": "02d79277-6828-4c15-8f91-f48f83cf6a38",
   "metadata": {},
   "outputs": [],
   "source": [
    "#GO THROUGH COMMAND To install this package with conda run one of the following:\n",
    "#https://anaconda.org/conda-forge/fbprophet\n",
    "#conda install -c conda-forge fbprophet\n",
    "#pip install pystan==2.19.1.1\n",
    "#pip install fbprophet==0.6\n",
    "#!pip3 install fbprophet"
   ]
  },
  {
   "cell_type": "code",
   "execution_count": 4,
   "id": "491392b7-277d-4240-8d3b-5bd6218612d2",
   "metadata": {},
   "outputs": [],
   "source": [
    "from fbprophet import Prophet\n",
    "import pystan"
   ]
  },
  {
   "cell_type": "markdown",
   "id": "221fba3b-e336-42bc-b05b-8efd9267756b",
   "metadata": {},
   "source": [
    "### IMPORT DATA"
   ]
  },
  {
   "cell_type": "code",
   "execution_count": 5,
   "id": "23e2d855-3e11-482f-8384-6a2f4f1a1a7e",
   "metadata": {},
   "outputs": [],
   "source": [
    "df = pd.read_csv(r'C:\\Workbook\\Funds/RYVLX.csv')"
   ]
  },
  {
   "cell_type": "code",
   "execution_count": 6,
   "id": "d33f034a-c8f3-46cf-a8b1-979f2aa47fef",
   "metadata": {},
   "outputs": [
    {
     "data": {
      "text/html": [
       "<div>\n",
       "<style scoped>\n",
       "    .dataframe tbody tr th:only-of-type {\n",
       "        vertical-align: middle;\n",
       "    }\n",
       "\n",
       "    .dataframe tbody tr th {\n",
       "        vertical-align: top;\n",
       "    }\n",
       "\n",
       "    .dataframe thead th {\n",
       "        text-align: right;\n",
       "    }\n",
       "</style>\n",
       "<table border=\"1\" class=\"dataframe\">\n",
       "  <thead>\n",
       "    <tr style=\"text-align: right;\">\n",
       "      <th></th>\n",
       "      <th>DATE</th>\n",
       "      <th>Performance</th>\n",
       "    </tr>\n",
       "  </thead>\n",
       "  <tbody>\n",
       "    <tr>\n",
       "      <th>0</th>\n",
       "      <td>31032010</td>\n",
       "      <td>9.75</td>\n",
       "    </tr>\n",
       "    <tr>\n",
       "      <th>1</th>\n",
       "      <td>30062010</td>\n",
       "      <td>-22.48</td>\n",
       "    </tr>\n",
       "    <tr>\n",
       "      <th>2</th>\n",
       "      <td>30092010</td>\n",
       "      <td>30.78</td>\n",
       "    </tr>\n",
       "    <tr>\n",
       "      <th>3</th>\n",
       "      <td>31122010</td>\n",
       "      <td>22.55</td>\n",
       "    </tr>\n",
       "    <tr>\n",
       "      <th>4</th>\n",
       "      <td>31032011</td>\n",
       "      <td>10.06</td>\n",
       "    </tr>\n",
       "  </tbody>\n",
       "</table>\n",
       "</div>"
      ],
      "text/plain": [
       "       DATE  Performance\n",
       "0  31032010         9.75\n",
       "1  30062010       -22.48\n",
       "2  30092010        30.78\n",
       "3  31122010        22.55\n",
       "4  31032011        10.06"
      ]
     },
     "execution_count": 6,
     "metadata": {},
     "output_type": "execute_result"
    }
   ],
   "source": [
    "df.head(5)"
   ]
  },
  {
   "cell_type": "code",
   "execution_count": 7,
   "id": "fc64f436-d92b-4481-aa38-ff901785e9d9",
   "metadata": {},
   "outputs": [
    {
     "data": {
      "text/html": [
       "<div>\n",
       "<style scoped>\n",
       "    .dataframe tbody tr th:only-of-type {\n",
       "        vertical-align: middle;\n",
       "    }\n",
       "\n",
       "    .dataframe tbody tr th {\n",
       "        vertical-align: top;\n",
       "    }\n",
       "\n",
       "    .dataframe thead th {\n",
       "        text-align: right;\n",
       "    }\n",
       "</style>\n",
       "<table border=\"1\" class=\"dataframe\">\n",
       "  <thead>\n",
       "    <tr style=\"text-align: right;\">\n",
       "      <th></th>\n",
       "      <th>DATE</th>\n",
       "      <th>Performance</th>\n",
       "    </tr>\n",
       "  </thead>\n",
       "  <tbody>\n",
       "    <tr>\n",
       "      <th>count</th>\n",
       "      <td>4.300000e+01</td>\n",
       "      <td>43.000000</td>\n",
       "    </tr>\n",
       "    <tr>\n",
       "      <th>mean</th>\n",
       "      <td>3.056434e+07</td>\n",
       "      <td>9.095814</td>\n",
       "    </tr>\n",
       "    <tr>\n",
       "      <th>std</th>\n",
       "      <td>5.058129e+05</td>\n",
       "      <td>18.322007</td>\n",
       "    </tr>\n",
       "    <tr>\n",
       "      <th>min</th>\n",
       "      <td>3.006201e+07</td>\n",
       "      <td>-33.480000</td>\n",
       "    </tr>\n",
       "    <tr>\n",
       "      <th>25%</th>\n",
       "      <td>3.007702e+07</td>\n",
       "      <td>-0.535000</td>\n",
       "    </tr>\n",
       "    <tr>\n",
       "      <th>50%</th>\n",
       "      <td>3.009202e+07</td>\n",
       "      <td>10.060000</td>\n",
       "    </tr>\n",
       "    <tr>\n",
       "      <th>75%</th>\n",
       "      <td>3.103202e+07</td>\n",
       "      <td>20.585000</td>\n",
       "    </tr>\n",
       "    <tr>\n",
       "      <th>max</th>\n",
       "      <td>3.112202e+07</td>\n",
       "      <td>64.640000</td>\n",
       "    </tr>\n",
       "  </tbody>\n",
       "</table>\n",
       "</div>"
      ],
      "text/plain": [
       "               DATE  Performance\n",
       "count  4.300000e+01    43.000000\n",
       "mean   3.056434e+07     9.095814\n",
       "std    5.058129e+05    18.322007\n",
       "min    3.006201e+07   -33.480000\n",
       "25%    3.007702e+07    -0.535000\n",
       "50%    3.009202e+07    10.060000\n",
       "75%    3.103202e+07    20.585000\n",
       "max    3.112202e+07    64.640000"
      ]
     },
     "execution_count": 7,
     "metadata": {},
     "output_type": "execute_result"
    }
   ],
   "source": [
    "df.describe()"
   ]
  },
  {
   "cell_type": "code",
   "execution_count": 8,
   "id": "71147a9e-96fb-4e28-a841-dde012742ee5",
   "metadata": {},
   "outputs": [
    {
     "data": {
      "text/plain": [
       "DATE             int64\n",
       "Performance    float64\n",
       "dtype: object"
      ]
     },
     "execution_count": 8,
     "metadata": {},
     "output_type": "execute_result"
    }
   ],
   "source": [
    "df.dtypes"
   ]
  },
  {
   "cell_type": "code",
   "execution_count": 9,
   "id": "251814e1-5b95-4a52-98e7-d5cc7e684c70",
   "metadata": {},
   "outputs": [
    {
     "data": {
      "text/html": [
       "<div>\n",
       "<style scoped>\n",
       "    .dataframe tbody tr th:only-of-type {\n",
       "        vertical-align: middle;\n",
       "    }\n",
       "\n",
       "    .dataframe tbody tr th {\n",
       "        vertical-align: top;\n",
       "    }\n",
       "\n",
       "    .dataframe thead th {\n",
       "        text-align: right;\n",
       "    }\n",
       "</style>\n",
       "<table border=\"1\" class=\"dataframe\">\n",
       "  <thead>\n",
       "    <tr style=\"text-align: right;\">\n",
       "      <th></th>\n",
       "      <th>Date</th>\n",
       "      <th>Performance</th>\n",
       "    </tr>\n",
       "  </thead>\n",
       "  <tbody>\n",
       "    <tr>\n",
       "      <th>0</th>\n",
       "      <td>31032010</td>\n",
       "      <td>9.75</td>\n",
       "    </tr>\n",
       "    <tr>\n",
       "      <th>1</th>\n",
       "      <td>30062010</td>\n",
       "      <td>-22.48</td>\n",
       "    </tr>\n",
       "    <tr>\n",
       "      <th>2</th>\n",
       "      <td>30092010</td>\n",
       "      <td>30.78</td>\n",
       "    </tr>\n",
       "    <tr>\n",
       "      <th>3</th>\n",
       "      <td>31122010</td>\n",
       "      <td>22.55</td>\n",
       "    </tr>\n",
       "    <tr>\n",
       "      <th>4</th>\n",
       "      <td>31032011</td>\n",
       "      <td>10.06</td>\n",
       "    </tr>\n",
       "  </tbody>\n",
       "</table>\n",
       "</div>"
      ],
      "text/plain": [
       "       Date  Performance\n",
       "0  31032010         9.75\n",
       "1  30062010       -22.48\n",
       "2  30092010        30.78\n",
       "3  31122010        22.55\n",
       "4  31032011        10.06"
      ]
     },
     "execution_count": 9,
     "metadata": {},
     "output_type": "execute_result"
    }
   ],
   "source": [
    "df.rename(columns={\"DATE\": \"Date\"}, inplace = True)\n",
    "df.head()"
   ]
  },
  {
   "cell_type": "markdown",
   "id": "3cd86a94-22c4-415d-8289-a02100718787",
   "metadata": {},
   "source": [
    "## IMPORT DATE TIME"
   ]
  },
  {
   "cell_type": "code",
   "execution_count": 10,
   "id": "f1e58075-3e43-4abc-ac03-8e7f14bcb4ff",
   "metadata": {},
   "outputs": [],
   "source": [
    "import datetime"
   ]
  },
  {
   "cell_type": "code",
   "execution_count": null,
   "id": "f242e96f-b979-4854-922b-cfc29e6f142f",
   "metadata": {},
   "outputs": [],
   "source": [
    "# Python3 code to iterate over a list\n",
    "#date = df['DATE']\n",
    "\n",
    "# getting length of list\n",
    "#length = len(date)\n",
    "  \n",
    "# Iterating the index\n",
    "# same as 'for i in range(len(list))'\n",
    "#for i in date:\n",
    "#    print(datetime.datetime.fromtimestamp( int(i)).strftime('%Y-%m-%d'))"
   ]
  },
  {
   "cell_type": "code",
   "execution_count": 11,
   "id": "6078914c-6286-4d5d-9f66-a00c315fd3a9",
   "metadata": {},
   "outputs": [
    {
     "name": "stderr",
     "output_type": "stream",
     "text": [
      "INFO:numexpr.utils:NumExpr defaulting to 4 threads.\n"
     ]
    },
    {
     "data": {
      "text/plain": [
       "0   2010-03-31\n",
       "1   2010-06-30\n",
       "2   2010-09-30\n",
       "3   2010-12-31\n",
       "4   2011-03-31\n",
       "Name: ds, dtype: datetime64[ns]"
      ]
     },
     "execution_count": 11,
     "metadata": {},
     "output_type": "execute_result"
    }
   ],
   "source": [
    "df['Year'] = df['Date'].apply(lambda x:str(x)[-4:])\n",
    "df['Month'] = df['Date'].apply(lambda x:str(x)[-6:-4])\n",
    "df['Day'] = df['Date'].apply(lambda x:str(x)[:-6])\n",
    "df['ds'] = pd.DatetimeIndex(df['Year'] +'-'+ df['Month']+'-'+ df['Day'])\n",
    "df['ds'].head(5)"
   ]
  },
  {
   "cell_type": "code",
   "execution_count": 13,
   "id": "1664ee3b-0fcc-4ee8-905b-99adc9a7407d",
   "metadata": {},
   "outputs": [
    {
     "data": {
      "text/plain": [
       "Date                    int64\n",
       "Performance           float64\n",
       "Year                   object\n",
       "Month                  object\n",
       "Day                    object\n",
       "ds             datetime64[ns]\n",
       "dtype: object"
      ]
     },
     "execution_count": 13,
     "metadata": {},
     "output_type": "execute_result"
    }
   ],
   "source": [
    "df.dtypes"
   ]
  },
  {
   "cell_type": "code",
   "execution_count": 14,
   "id": "1e3e9873-1e30-44ce-a764-4101a27f1dff",
   "metadata": {},
   "outputs": [],
   "source": [
    "df.columns\n",
    "df = df[['ds','Performance' ]]"
   ]
  },
  {
   "cell_type": "code",
   "execution_count": 15,
   "id": "7230d33d-31ad-4f51-8a48-0ddccd7b3865",
   "metadata": {},
   "outputs": [
    {
     "data": {
      "text/html": [
       "<div>\n",
       "<style scoped>\n",
       "    .dataframe tbody tr th:only-of-type {\n",
       "        vertical-align: middle;\n",
       "    }\n",
       "\n",
       "    .dataframe tbody tr th {\n",
       "        vertical-align: top;\n",
       "    }\n",
       "\n",
       "    .dataframe thead th {\n",
       "        text-align: right;\n",
       "    }\n",
       "</style>\n",
       "<table border=\"1\" class=\"dataframe\">\n",
       "  <thead>\n",
       "    <tr style=\"text-align: right;\">\n",
       "      <th></th>\n",
       "      <th>ds</th>\n",
       "      <th>y</th>\n",
       "    </tr>\n",
       "  </thead>\n",
       "  <tbody>\n",
       "    <tr>\n",
       "      <th>0</th>\n",
       "      <td>2010-03-31</td>\n",
       "      <td>9.75</td>\n",
       "    </tr>\n",
       "    <tr>\n",
       "      <th>1</th>\n",
       "      <td>2010-06-30</td>\n",
       "      <td>-22.48</td>\n",
       "    </tr>\n",
       "    <tr>\n",
       "      <th>2</th>\n",
       "      <td>2010-09-30</td>\n",
       "      <td>30.78</td>\n",
       "    </tr>\n",
       "    <tr>\n",
       "      <th>3</th>\n",
       "      <td>2010-12-31</td>\n",
       "      <td>22.55</td>\n",
       "    </tr>\n",
       "    <tr>\n",
       "      <th>4</th>\n",
       "      <td>2011-03-31</td>\n",
       "      <td>10.06</td>\n",
       "    </tr>\n",
       "  </tbody>\n",
       "</table>\n",
       "</div>"
      ],
      "text/plain": [
       "          ds      y\n",
       "0 2010-03-31   9.75\n",
       "1 2010-06-30 -22.48\n",
       "2 2010-09-30  30.78\n",
       "3 2010-12-31  22.55\n",
       "4 2011-03-31  10.06"
      ]
     },
     "execution_count": 15,
     "metadata": {},
     "output_type": "execute_result"
    }
   ],
   "source": [
    "df.columns = ['ds', 'y']\n",
    "df.head()"
   ]
  },
  {
   "cell_type": "markdown",
   "id": "07133b06-495e-4b76-93b2-3d2444bd8f93",
   "metadata": {},
   "source": [
    "## TRAIN MODEL"
   ]
  },
  {
   "cell_type": "code",
   "execution_count": 16,
   "id": "cc4408c9-59f3-47dc-b44d-19506d65886f",
   "metadata": {},
   "outputs": [],
   "source": [
    "m = Prophet(interval_width = 0.95, daily_seasonality = True, weekly_seasonality = True)\n",
    "model = m.fit(df)"
   ]
  },
  {
   "cell_type": "code",
   "execution_count": null,
   "id": "efa45617-6ad8-4d3e-a935-9a3f25d715c9",
   "metadata": {},
   "outputs": [],
   "source": []
  }
 ],
 "metadata": {
  "kernelspec": {
   "display_name": "Python 3",
   "language": "python",
   "name": "python3"
  },
  "language_info": {
   "codemirror_mode": {
    "name": "ipython",
    "version": 3
   },
   "file_extension": ".py",
   "mimetype": "text/x-python",
   "name": "python",
   "nbconvert_exporter": "python",
   "pygments_lexer": "ipython3",
   "version": "3.8.8"
  }
 },
 "nbformat": 4,
 "nbformat_minor": 5
}
