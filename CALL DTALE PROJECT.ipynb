{
 "cells": [
  {
   "cell_type": "code",
   "execution_count": 1,
   "id": "6f3c74e9-5b3d-420c-8b0f-45b2fe01f3a4",
   "metadata": {},
   "outputs": [],
   "source": [
    "import pandas as pd\n",
    "import dtale as dtale\n"
   ]
  },
  {
   "cell_type": "markdown",
   "id": "5015f0e5-0f0d-40f5-a059-e4e20e9754da",
   "metadata": {},
   "source": [
    "# MUTUAL FUNDS"
   ]
  },
  {
   "cell_type": "code",
   "execution_count": 6,
   "id": "36adc954-0028-43b9-bd26-92cf90e3300a",
   "metadata": {},
   "outputs": [
    {
     "name": "stderr",
     "output_type": "stream",
     "text": [
      "C:\\Users\\Matt\\anaconda3\\lib\\site-packages\\IPython\\core\\interactiveshell.py:3165: DtypeWarning:\n",
      "\n",
      "Columns (167,171) have mixed types.Specify dtype option on import or set low_memory=False.\n",
      "\n"
     ]
    }
   ],
   "source": [
    "df1 = pd.read_csv(r'C:\\Workbook\\Funds\\Mutual Funds.csv')"
   ]
  },
  {
   "cell_type": "code",
   "execution_count": null,
   "id": "b85c0aef-2fd8-414b-91d1-2504f2a7738a",
   "metadata": {},
   "outputs": [],
   "source": [
    "d = dtale.show(df1)"
   ]
  },
  {
   "cell_type": "code",
   "execution_count": null,
   "id": "cda5c6c3-798d-4bf3-b204-dafbc63473ac",
   "metadata": {},
   "outputs": [],
   "source": [
    "d.open_browser()"
   ]
  },
  {
   "cell_type": "markdown",
   "id": "b742529b-4116-4418-9498-f47b87944a90",
   "metadata": {},
   "source": [
    "# MUTUAL FUNDS Cleaned"
   ]
  },
  {
   "cell_type": "code",
   "execution_count": 8,
   "id": "f1acf8bf-9fc1-4006-9591-ee5909f0e79d",
   "metadata": {},
   "outputs": [],
   "source": [
    "df3 = pd.read_csv(r'C:\\Workbook\\Funds\\ETF.csv')"
   ]
  },
  {
   "cell_type": "code",
   "execution_count": 9,
   "id": "b7f7f22c-e2a9-4d4e-b727-a45d91735847",
   "metadata": {},
   "outputs": [
    {
     "name": "stderr",
     "output_type": "stream",
     "text": [
      "2021-09-06 15:09:23,727 - INFO     - NumExpr defaulting to 4 threads.\n"
     ]
    }
   ],
   "source": [
    "g = dtale.show(df3)"
   ]
  },
  {
   "cell_type": "code",
   "execution_count": 10,
   "id": "e4f1f087-083f-417b-a392-0d66fd4fd5ff",
   "metadata": {},
   "outputs": [],
   "source": [
    "g.open_browser()"
   ]
  },
  {
   "cell_type": "markdown",
   "id": "ea35c53e-e39a-42b8-8780-dbf88dd4f5fd",
   "metadata": {},
   "source": [
    "# ETFs"
   ]
  },
  {
   "cell_type": "code",
   "execution_count": 2,
   "id": "a5f4d92e-04e4-4ef3-a243-ecafe30b5570",
   "metadata": {},
   "outputs": [],
   "source": [
    "df = pd.read_csv(r'C:\\Workbook\\Funds\\ETFs.csv')"
   ]
  },
  {
   "cell_type": "code",
   "execution_count": 3,
   "id": "e428dd49-0db3-469b-a2bc-efb21580609d",
   "metadata": {},
   "outputs": [
    {
     "name": "stderr",
     "output_type": "stream",
     "text": [
      "2021-09-09 18:20:27,496 - INFO     - NumExpr defaulting to 4 threads.\n"
     ]
    }
   ],
   "source": [
    "e = dtale.show(df)"
   ]
  },
  {
   "cell_type": "code",
   "execution_count": 4,
   "id": "8a01c209-8c52-46d3-8da9-c2702b6a5bbd",
   "metadata": {},
   "outputs": [
    {
     "name": "stdout",
     "output_type": "stream",
     "text": [
      "Exception on /dtale/charts/_dash-update-component [POST]\n",
      "Traceback (most recent call last):\n",
      "  File \"C:\\Users\\Matt\\anaconda3\\lib\\site-packages\\flask\\app.py\", line 2447, in wsgi_app\n",
      "    response = self.full_dispatch_request()\n",
      "  File \"C:\\Users\\Matt\\anaconda3\\lib\\site-packages\\flask\\app.py\", line 1952, in full_dispatch_request\n",
      "    rv = self.handle_user_exception(e)\n",
      "  File \"C:\\Users\\Matt\\anaconda3\\lib\\site-packages\\flask\\app.py\", line 1821, in handle_user_exception\n",
      "    reraise(exc_type, exc_value, tb)\n",
      "  File \"C:\\Users\\Matt\\anaconda3\\lib\\site-packages\\flask\\_compat.py\", line 39, in reraise\n",
      "    raise value\n",
      "  File \"C:\\Users\\Matt\\anaconda3\\lib\\site-packages\\flask\\app.py\", line 1950, in full_dispatch_request\n",
      "    rv = self.dispatch_request()\n",
      "  File \"C:\\Users\\Matt\\anaconda3\\lib\\site-packages\\flask\\app.py\", line 1936, in dispatch_request\n",
      "    return self.view_functions[rule.endpoint](**req.view_args)\n",
      "  File \"C:\\Users\\Matt\\anaconda3\\lib\\site-packages\\dash\\dash.py\", line 1096, in dispatch\n",
      "    response.set_data(func(*args, outputs_list=outputs_list))\n",
      "  File \"C:\\Users\\Matt\\anaconda3\\lib\\site-packages\\dash\\dash.py\", line 1017, in add_context\n",
      "    output_value = func(*args, **kwargs)  # %% callback invoked %%\n",
      "  File \"C:\\Users\\Matt\\anaconda3\\lib\\site-packages\\dtale\\dash_application\\views.py\", line 1112, in group_values\n",
      "    group_vals = build_group_val_options(group_vals, group_cols)\n",
      "  File \"C:\\Users\\Matt\\anaconda3\\lib\\site-packages\\dtale\\dash_application\\layout\\layout.py\", line 1053, in build_group_val_options\n",
      "    group_vals = find_group_vals(df, group_cols)\n",
      "  File \"C:\\Users\\Matt\\anaconda3\\lib\\site-packages\\dtale\\charts\\utils.py\", line 1000, in find_group_vals\n",
      "    group_vals, _ = retrieve_chart_data(df, group_cols)\n",
      "  File \"C:\\Users\\Matt\\anaconda3\\lib\\site-packages\\dtale\\charts\\utils.py\", line 350, in retrieve_chart_data\n",
      "    all_data = pd.concat(all_data, axis=1)\n",
      "  File \"C:\\Users\\Matt\\anaconda3\\lib\\site-packages\\pandas\\core\\reshape\\concat.py\", line 285, in concat\n",
      "    op = _Concatenator(\n",
      "  File \"C:\\Users\\Matt\\anaconda3\\lib\\site-packages\\pandas\\core\\reshape\\concat.py\", line 342, in __init__\n",
      "    raise ValueError(\"No objects to concatenate\")\n",
      "ValueError: No objects to concatenate\n"
     ]
    },
    {
     "name": "stderr",
     "output_type": "stream",
     "text": [
      "2021-09-09 18:26:09,431 - ERROR    - Exception on /dtale/charts/_dash-update-component [POST]\n",
      "Traceback (most recent call last):\n",
      "  File \"C:\\Users\\Matt\\anaconda3\\lib\\site-packages\\flask\\app.py\", line 2447, in wsgi_app\n",
      "    response = self.full_dispatch_request()\n",
      "  File \"C:\\Users\\Matt\\anaconda3\\lib\\site-packages\\flask\\app.py\", line 1952, in full_dispatch_request\n",
      "    rv = self.handle_user_exception(e)\n",
      "  File \"C:\\Users\\Matt\\anaconda3\\lib\\site-packages\\flask\\app.py\", line 1821, in handle_user_exception\n",
      "    reraise(exc_type, exc_value, tb)\n",
      "  File \"C:\\Users\\Matt\\anaconda3\\lib\\site-packages\\flask\\_compat.py\", line 39, in reraise\n",
      "    raise value\n",
      "  File \"C:\\Users\\Matt\\anaconda3\\lib\\site-packages\\flask\\app.py\", line 1950, in full_dispatch_request\n",
      "    rv = self.dispatch_request()\n",
      "  File \"C:\\Users\\Matt\\anaconda3\\lib\\site-packages\\flask\\app.py\", line 1936, in dispatch_request\n",
      "    return self.view_functions[rule.endpoint](**req.view_args)\n",
      "  File \"C:\\Users\\Matt\\anaconda3\\lib\\site-packages\\dash\\dash.py\", line 1096, in dispatch\n",
      "    response.set_data(func(*args, outputs_list=outputs_list))\n",
      "  File \"C:\\Users\\Matt\\anaconda3\\lib\\site-packages\\dash\\dash.py\", line 1017, in add_context\n",
      "    output_value = func(*args, **kwargs)  # %% callback invoked %%\n",
      "  File \"C:\\Users\\Matt\\anaconda3\\lib\\site-packages\\dtale\\dash_application\\views.py\", line 1112, in group_values\n",
      "    group_vals = build_group_val_options(group_vals, group_cols)\n",
      "  File \"C:\\Users\\Matt\\anaconda3\\lib\\site-packages\\dtale\\dash_application\\layout\\layout.py\", line 1053, in build_group_val_options\n",
      "    group_vals = find_group_vals(df, group_cols)\n",
      "  File \"C:\\Users\\Matt\\anaconda3\\lib\\site-packages\\dtale\\charts\\utils.py\", line 1000, in find_group_vals\n",
      "    group_vals, _ = retrieve_chart_data(df, group_cols)\n",
      "  File \"C:\\Users\\Matt\\anaconda3\\lib\\site-packages\\dtale\\charts\\utils.py\", line 350, in retrieve_chart_data\n",
      "    all_data = pd.concat(all_data, axis=1)\n",
      "  File \"C:\\Users\\Matt\\anaconda3\\lib\\site-packages\\pandas\\core\\reshape\\concat.py\", line 285, in concat\n",
      "    op = _Concatenator(\n",
      "  File \"C:\\Users\\Matt\\anaconda3\\lib\\site-packages\\pandas\\core\\reshape\\concat.py\", line 342, in __init__\n",
      "    raise ValueError(\"No objects to concatenate\")\n",
      "ValueError: No objects to concatenate\n"
     ]
    },
    {
     "name": "stdout",
     "output_type": "stream",
     "text": [
      "Executing shutdown due to inactivity...\n"
     ]
    },
    {
     "name": "stderr",
     "output_type": "stream",
     "text": [
      "2021-09-09 19:29:49,143 - INFO     - Executing shutdown due to inactivity...\n"
     ]
    },
    {
     "name": "stdout",
     "output_type": "stream",
     "text": [
      "Executing shutdown...\n"
     ]
    },
    {
     "name": "stderr",
     "output_type": "stream",
     "text": [
      "2021-09-09 19:30:01,437 - INFO     - Executing shutdown...\n"
     ]
    }
   ],
   "source": [
    "e.open_browser()"
   ]
  },
  {
   "cell_type": "markdown",
   "id": "6b7f5040-8704-4f4b-a32f-88a966c14b2b",
   "metadata": {},
   "source": [
    "# ETFs Cleaned"
   ]
  },
  {
   "cell_type": "code",
   "execution_count": null,
   "id": "7113964f-2ac6-4a1e-beb3-d90328648987",
   "metadata": {},
   "outputs": [],
   "source": [
    "df2 = pd.read_csv(r'C:\\Workbook\\Funds\\ETF2.csv')"
   ]
  },
  {
   "cell_type": "code",
   "execution_count": null,
   "id": "4bd77cee-b4df-4e44-b8a1-3d34568f83b7",
   "metadata": {},
   "outputs": [],
   "source": [
    "f = dtale.show(df3)"
   ]
  },
  {
   "cell_type": "code",
   "execution_count": null,
   "id": "94db3728-b7aa-4dab-b4c6-208a6bdf8b0d",
   "metadata": {},
   "outputs": [],
   "source": [
    "f = dtale.show(df3)"
   ]
  },
  {
   "cell_type": "markdown",
   "id": "4432d800-d85b-4a7a-8f3c-74b7c8a2aafb",
   "metadata": {},
   "source": [
    "# PYCARET and GRADIO Install"
   ]
  },
  {
   "cell_type": "markdown",
   "id": "5437cd66-3488-4475-be34-05e748d407cb",
   "metadata": {},
   "source": [
    "## PYCARET"
   ]
  },
  {
   "cell_type": "markdown",
   "id": "677cfdef-1862-4f23-ba65-06f9b17b242e",
   "metadata": {},
   "source": [
    "## GRADIO"
   ]
  },
  {
   "cell_type": "code",
   "execution_count": 6,
   "id": "751e370f-e0eb-4ea3-8b64-4f0c23ce2242",
   "metadata": {},
   "outputs": [
    {
     "name": "stdout",
     "output_type": "stream",
     "text": [
      "Requirement already satisfied: gradio in c:\\users\\matt\\anaconda3\\lib\\site-packages (2.2.15)\n",
      "Requirement already satisfied: numpy in c:\\users\\matt\\anaconda3\\lib\\site-packages (from gradio) (1.19.5)\n",
      "Requirement already satisfied: flask-cachebuster in c:\\users\\matt\\anaconda3\\lib\\site-packages (from gradio) (1.0.0)\n",
      "Requirement already satisfied: Flask-Login in c:\\users\\matt\\anaconda3\\lib\\site-packages (from gradio) (0.5.0)\n",
      "Requirement already satisfied: ffmpy in c:\\users\\matt\\anaconda3\\lib\\site-packages (from gradio) (0.3.0)\n",
      "Requirement already satisfied: requests in c:\\users\\matt\\anaconda3\\lib\\site-packages (from gradio) (2.25.1)\n",
      "Requirement already satisfied: scipy in c:\\users\\matt\\anaconda3\\lib\\site-packages (from gradio) (1.5.4)\n",
      "Requirement already satisfied: matplotlib in c:\\users\\matt\\anaconda3\\lib\\site-packages (from gradio) (3.3.4)\n",
      "Requirement already satisfied: markdown2 in c:\\users\\matt\\anaconda3\\lib\\site-packages (from gradio) (2.4.1)\n",
      "Requirement already satisfied: pandas in c:\\users\\matt\\anaconda3\\lib\\site-packages (from gradio) (1.2.4)\n",
      "Requirement already satisfied: paramiko in c:\\users\\matt\\anaconda3\\lib\\site-packages (from gradio) (2.7.2)\n",
      "Requirement already satisfied: pycryptodome in c:\\users\\matt\\anaconda3\\lib\\site-packages (from gradio) (3.10.1)\n",
      "Requirement already satisfied: Flask>=1.1.1 in c:\\users\\matt\\anaconda3\\lib\\site-packages (from gradio) (1.1.2)\n",
      "Requirement already satisfied: analytics-python in c:\\users\\matt\\anaconda3\\lib\\site-packages (from gradio) (1.4.0)\n",
      "Requirement already satisfied: pillow in c:\\users\\matt\\anaconda3\\lib\\site-packages (from gradio) (8.2.0)\n",
      "Requirement already satisfied: Flask-Cors>=3.0.8 in c:\\users\\matt\\anaconda3\\lib\\site-packages (from gradio) (3.0.10)\n",
      "Requirement already satisfied: Jinja2>=2.10.1 in c:\\users\\matt\\anaconda3\\lib\\site-packages (from Flask>=1.1.1->gradio) (2.11.3)\n",
      "Requirement already satisfied: Werkzeug>=0.15 in c:\\users\\matt\\anaconda3\\lib\\site-packages (from Flask>=1.1.1->gradio) (1.0.1)\n",
      "Requirement already satisfied: itsdangerous>=0.24 in c:\\users\\matt\\anaconda3\\lib\\site-packages (from Flask>=1.1.1->gradio) (1.1.0)\n",
      "Requirement already satisfied: click>=5.1 in c:\\users\\matt\\anaconda3\\lib\\site-packages (from Flask>=1.1.1->gradio) (7.1.2)\n",
      "Requirement already satisfied: Six in c:\\users\\matt\\anaconda3\\lib\\site-packages (from Flask-Cors>=3.0.8->gradio) (1.15.0)\n",
      "Requirement already satisfied: MarkupSafe>=0.23 in c:\\users\\matt\\anaconda3\\lib\\site-packages (from Jinja2>=2.10.1->Flask>=1.1.1->gradio) (1.1.1)\n",
      "Requirement already satisfied: monotonic>=1.5 in c:\\users\\matt\\anaconda3\\lib\\site-packages (from analytics-python->gradio) (1.6)\n",
      "Requirement already satisfied: backoff==1.10.0 in c:\\users\\matt\\anaconda3\\lib\\site-packages (from analytics-python->gradio) (1.10.0)\n",
      "Requirement already satisfied: python-dateutil>2.1 in c:\\users\\matt\\anaconda3\\lib\\site-packages (from analytics-python->gradio) (2.8.1)\n",
      "Requirement already satisfied: certifi>=2017.4.17 in c:\\users\\matt\\anaconda3\\lib\\site-packages (from requests->gradio) (2020.12.5)\n",
      "Requirement already satisfied: urllib3<1.27,>=1.21.1 in c:\\users\\matt\\anaconda3\\lib\\site-packages (from requests->gradio) (1.26.4)\n",
      "Requirement already satisfied: chardet<5,>=3.0.2 in c:\\users\\matt\\anaconda3\\lib\\site-packages (from requests->gradio) (4.0.0)\n",
      "Requirement already satisfied: idna<3,>=2.5 in c:\\users\\matt\\anaconda3\\lib\\site-packages (from requests->gradio) (2.10)\n",
      "Requirement already satisfied: cycler>=0.10 in c:\\users\\matt\\anaconda3\\lib\\site-packages (from matplotlib->gradio) (0.10.0)\n",
      "Requirement already satisfied: pyparsing!=2.0.4,!=2.1.2,!=2.1.6,>=2.0.3 in c:\\users\\matt\\anaconda3\\lib\\site-packages (from matplotlib->gradio) (2.4.7)\n",
      "Requirement already satisfied: kiwisolver>=1.0.1 in c:\\users\\matt\\anaconda3\\lib\\site-packages (from matplotlib->gradio) (1.3.1)\n",
      "Requirement already satisfied: pytz>=2017.3 in c:\\users\\matt\\anaconda3\\lib\\site-packages (from pandas->gradio) (2021.1)\n",
      "Requirement already satisfied: bcrypt>=3.1.3 in c:\\users\\matt\\anaconda3\\lib\\site-packages (from paramiko->gradio) (3.2.0)\n",
      "Requirement already satisfied: cryptography>=2.5 in c:\\users\\matt\\anaconda3\\lib\\site-packages (from paramiko->gradio) (3.4.7)\n",
      "Requirement already satisfied: pynacl>=1.0.1 in c:\\users\\matt\\anaconda3\\lib\\site-packages (from paramiko->gradio) (1.4.0)\n",
      "Requirement already satisfied: cffi>=1.1 in c:\\users\\matt\\anaconda3\\lib\\site-packages (from bcrypt>=3.1.3->paramiko->gradio) (1.14.5)\n",
      "Requirement already satisfied: pycparser in c:\\users\\matt\\anaconda3\\lib\\site-packages (from cffi>=1.1->bcrypt>=3.1.3->paramiko->gradio) (2.20)\n"
     ]
    }
   ],
   "source": [
    "!pip3 install gradio"
   ]
  },
  {
   "cell_type": "code",
   "execution_count": null,
   "id": "ef5fd280-7431-4114-b91b-890d1125ab92",
   "metadata": {},
   "outputs": [],
   "source": []
  },
  {
   "cell_type": "code",
   "execution_count": null,
   "id": "f7659d60-2935-4c64-9934-fa26627797dd",
   "metadata": {},
   "outputs": [],
   "source": []
  }
 ],
 "metadata": {
  "kernelspec": {
   "display_name": "Python 3",
   "language": "python",
   "name": "python3"
  },
  "language_info": {
   "codemirror_mode": {
    "name": "ipython",
    "version": 3
   },
   "file_extension": ".py",
   "mimetype": "text/x-python",
   "name": "python",
   "nbconvert_exporter": "python",
   "pygments_lexer": "ipython3",
   "version": "3.8.8"
  }
 },
 "nbformat": 4,
 "nbformat_minor": 5
}
