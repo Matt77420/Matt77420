{
 "cells": [
  {
   "cell_type": "markdown",
   "id": "c51a988f-d760-41e1-8293-d9405797b491",
   "metadata": {},
   "source": [
    "# NEURAL NETWORK"
   ]
  },
  {
   "cell_type": "markdown",
   "id": "84a202f9-ccf0-44fe-a009-d815b0b8d6c5",
   "metadata": {},
   "source": [
    "## MATH/STATS Library"
   ]
  },
  {
   "cell_type": "code",
   "execution_count": 1,
   "id": "6fbaf472-6b2b-4e9e-83cc-7daabf37966e",
   "metadata": {},
   "outputs": [],
   "source": [
    "import math\n",
    "import matplotlib.pyplot as plt\n",
    "import numpy as np\n",
    "from numpy.random import seed\n",
    "seed(1)\n",
    "import pandas as pd\n",
    "import statsmodels.api as sm\n",
    "import statsmodels.formula.api as smf"
   ]
  },
  {
   "cell_type": "markdown",
   "id": "b1c3d7db-59a1-4d35-a517-264661243948",
   "metadata": {},
   "source": [
    "## Neural Network Library"
   ]
  },
  {
   "cell_type": "code",
   "execution_count": 2,
   "id": "a5e29e71-d689-4784-8c2f-bb3004913937",
   "metadata": {},
   "outputs": [],
   "source": [
    "import tensorflow\n",
    "tensorflow.random.set_seed(1)\n",
    "from keras.layers import Dropout\n",
    "from keras.models import Sequential\n",
    "from keras.layers import Dense\n",
    "from keras.wrappers.scikit_learn import KerasRegressor"
   ]
  },
  {
   "cell_type": "markdown",
   "id": "245235f2-2f6f-473e-b8c4-50741414db69",
   "metadata": {},
   "source": [
    "## Machine Learning Library"
   ]
  },
  {
   "cell_type": "code",
   "execution_count": 3,
   "id": "378861e8-7f72-4ff5-8b93-7d7ed0ca6840",
   "metadata": {},
   "outputs": [],
   "source": [
    "from sklearn import metrics\n",
    "from sklearn.model_selection import train_test_split\n",
    "from sklearn.preprocessing import StandardScaler, MinMaxScaler"
   ]
  },
  {
   "cell_type": "markdown",
   "id": "2f8dd005-8610-49da-a5b9-44d9e51e3fa0",
   "metadata": {},
   "source": [
    "## Import Dataset"
   ]
  },
  {
   "cell_type": "code",
   "execution_count": 4,
   "id": "114a6289-8dfb-44f0-8e1f-fe189c3dc3b8",
   "metadata": {},
   "outputs": [],
   "source": [
    "df = pd.read_csv(r'C:\\Workbook\\Funds\\mutual_funds.csv')"
   ]
  },
  {
   "cell_type": "code",
   "execution_count": 5,
   "id": "e423a2b1-8d6f-49ff-a487-ed30b976cfb9",
   "metadata": {},
   "outputs": [
    {
     "data": {
      "text/html": [
       "<div>\n",
       "<style scoped>\n",
       "    .dataframe tbody tr th:only-of-type {\n",
       "        vertical-align: middle;\n",
       "    }\n",
       "\n",
       "    .dataframe tbody tr th {\n",
       "        vertical-align: top;\n",
       "    }\n",
       "\n",
       "    .dataframe thead th {\n",
       "        text-align: right;\n",
       "    }\n",
       "</style>\n",
       "<table border=\"1\" class=\"dataframe\">\n",
       "  <thead>\n",
       "    <tr style=\"text-align: right;\">\n",
       "      <th></th>\n",
       "      <th>fund_symbol</th>\n",
       "      <th>fund_extended_name</th>\n",
       "      <th>fund_family</th>\n",
       "      <th>inception_date</th>\n",
       "      <th>category</th>\n",
       "      <th>rating</th>\n",
       "      <th>return_rating</th>\n",
       "      <th>risk_rating</th>\n",
       "      <th>investment_type</th>\n",
       "      <th>size_type</th>\n",
       "      <th>...</th>\n",
       "      <th>fund_return_2010_q2</th>\n",
       "      <th>fund_return_2010_q1</th>\n",
       "      <th>fund_alpha_5years</th>\n",
       "      <th>fund_alpha_10years</th>\n",
       "      <th>fund_beta_5years</th>\n",
       "      <th>fund_beta_10years</th>\n",
       "      <th>fund_standard_deviation_5years</th>\n",
       "      <th>fund_standard_deviation_10years</th>\n",
       "      <th>fund_sharpe_ratio_5years</th>\n",
       "      <th>fund_sharpe_ratio_10years</th>\n",
       "    </tr>\n",
       "  </thead>\n",
       "  <tbody>\n",
       "    <tr>\n",
       "      <th>0</th>\n",
       "      <td>AAAAX</td>\n",
       "      <td>DWS RREEF Real Assets Fund - Class A</td>\n",
       "      <td>DWS</td>\n",
       "      <td>2007-07-29</td>\n",
       "      <td>World Allocation</td>\n",
       "      <td>3.0</td>\n",
       "      <td>3.0</td>\n",
       "      <td>3.0</td>\n",
       "      <td>Blend</td>\n",
       "      <td>Large</td>\n",
       "      <td>...</td>\n",
       "      <td>-2.53</td>\n",
       "      <td>2.23</td>\n",
       "      <td>-2.86</td>\n",
       "      <td>-3.86</td>\n",
       "      <td>1.05</td>\n",
       "      <td>0.93</td>\n",
       "      <td>10.39</td>\n",
       "      <td>8.67</td>\n",
       "      <td>0.33</td>\n",
       "      <td>0.24</td>\n",
       "    </tr>\n",
       "    <tr>\n",
       "      <th>1</th>\n",
       "      <td>AAADX</td>\n",
       "      <td>Aberdeen Income Builder Fund Class A</td>\n",
       "      <td>Aberdeen</td>\n",
       "      <td>2011-12-29</td>\n",
       "      <td>Allocation - 50% to 70% Equity</td>\n",
       "      <td>4.0</td>\n",
       "      <td>5.0</td>\n",
       "      <td>5.0</td>\n",
       "      <td>Blend</td>\n",
       "      <td>Large</td>\n",
       "      <td>...</td>\n",
       "      <td>NaN</td>\n",
       "      <td>NaN</td>\n",
       "      <td>-0.30</td>\n",
       "      <td>-0.15</td>\n",
       "      <td>1.36</td>\n",
       "      <td>1.45</td>\n",
       "      <td>10.21</td>\n",
       "      <td>11.70</td>\n",
       "      <td>0.74</td>\n",
       "      <td>0.89</td>\n",
       "    </tr>\n",
       "    <tr>\n",
       "      <th>2</th>\n",
       "      <td>AAAGX</td>\n",
       "      <td>Thrivent Large Cap Growth Fund Class A</td>\n",
       "      <td>Thrivent Funds</td>\n",
       "      <td>1999-10-28</td>\n",
       "      <td>Large Growth</td>\n",
       "      <td>3.0</td>\n",
       "      <td>3.0</td>\n",
       "      <td>4.0</td>\n",
       "      <td>Growth</td>\n",
       "      <td>Large</td>\n",
       "      <td>...</td>\n",
       "      <td>-14.29</td>\n",
       "      <td>4.09</td>\n",
       "      <td>2.92</td>\n",
       "      <td>0.77</td>\n",
       "      <td>1.04</td>\n",
       "      <td>1.08</td>\n",
       "      <td>16.49</td>\n",
       "      <td>15.40</td>\n",
       "      <td>0.88</td>\n",
       "      <td>0.93</td>\n",
       "    </tr>\n",
       "    <tr>\n",
       "      <th>3</th>\n",
       "      <td>AAAIX</td>\n",
       "      <td>American Century Strategic Allocation: Aggress...</td>\n",
       "      <td>American Century Investments</td>\n",
       "      <td>2000-07-31</td>\n",
       "      <td>Allocation - 70% to 85% Equity</td>\n",
       "      <td>4.0</td>\n",
       "      <td>4.0</td>\n",
       "      <td>3.0</td>\n",
       "      <td>Blend</td>\n",
       "      <td>Large</td>\n",
       "      <td>...</td>\n",
       "      <td>-8.13</td>\n",
       "      <td>3.92</td>\n",
       "      <td>-0.78</td>\n",
       "      <td>-0.48</td>\n",
       "      <td>1.39</td>\n",
       "      <td>1.37</td>\n",
       "      <td>12.35</td>\n",
       "      <td>11.44</td>\n",
       "      <td>0.61</td>\n",
       "      <td>0.73</td>\n",
       "    </tr>\n",
       "    <tr>\n",
       "      <th>4</th>\n",
       "      <td>AAANX</td>\n",
       "      <td>Horizon Active Asset Allocation Fund Investor ...</td>\n",
       "      <td>Horizon Investments</td>\n",
       "      <td>2012-01-30</td>\n",
       "      <td>Tactical Allocation</td>\n",
       "      <td>3.0</td>\n",
       "      <td>4.0</td>\n",
       "      <td>5.0</td>\n",
       "      <td>Blend</td>\n",
       "      <td>Large</td>\n",
       "      <td>...</td>\n",
       "      <td>NaN</td>\n",
       "      <td>NaN</td>\n",
       "      <td>-4.38</td>\n",
       "      <td>NaN</td>\n",
       "      <td>1.67</td>\n",
       "      <td>NaN</td>\n",
       "      <td>15.06</td>\n",
       "      <td>NaN</td>\n",
       "      <td>0.37</td>\n",
       "      <td>NaN</td>\n",
       "    </tr>\n",
       "  </tbody>\n",
       "</table>\n",
       "<p>5 rows × 87 columns</p>\n",
       "</div>"
      ],
      "text/plain": [
       "  fund_symbol                                 fund_extended_name  \\\n",
       "0       AAAAX               DWS RREEF Real Assets Fund - Class A   \n",
       "1       AAADX               Aberdeen Income Builder Fund Class A   \n",
       "2       AAAGX             Thrivent Large Cap Growth Fund Class A   \n",
       "3       AAAIX  American Century Strategic Allocation: Aggress...   \n",
       "4       AAANX  Horizon Active Asset Allocation Fund Investor ...   \n",
       "\n",
       "                    fund_family inception_date  \\\n",
       "0                           DWS     2007-07-29   \n",
       "1                      Aberdeen     2011-12-29   \n",
       "2                Thrivent Funds     1999-10-28   \n",
       "3  American Century Investments     2000-07-31   \n",
       "4           Horizon Investments     2012-01-30   \n",
       "\n",
       "                         category  rating  return_rating  risk_rating  \\\n",
       "0                World Allocation     3.0            3.0          3.0   \n",
       "1  Allocation - 50% to 70% Equity     4.0            5.0          5.0   \n",
       "2                    Large Growth     3.0            3.0          4.0   \n",
       "3  Allocation - 70% to 85% Equity     4.0            4.0          3.0   \n",
       "4             Tactical Allocation     3.0            4.0          5.0   \n",
       "\n",
       "  investment_type size_type  ... fund_return_2010_q2  fund_return_2010_q1  \\\n",
       "0           Blend     Large  ...               -2.53                 2.23   \n",
       "1           Blend     Large  ...                 NaN                  NaN   \n",
       "2          Growth     Large  ...              -14.29                 4.09   \n",
       "3           Blend     Large  ...               -8.13                 3.92   \n",
       "4           Blend     Large  ...                 NaN                  NaN   \n",
       "\n",
       "   fund_alpha_5years  fund_alpha_10years  fund_beta_5years  fund_beta_10years  \\\n",
       "0              -2.86               -3.86              1.05               0.93   \n",
       "1              -0.30               -0.15              1.36               1.45   \n",
       "2               2.92                0.77              1.04               1.08   \n",
       "3              -0.78               -0.48              1.39               1.37   \n",
       "4              -4.38                 NaN              1.67                NaN   \n",
       "\n",
       "   fund_standard_deviation_5years  fund_standard_deviation_10years  \\\n",
       "0                           10.39                             8.67   \n",
       "1                           10.21                            11.70   \n",
       "2                           16.49                            15.40   \n",
       "3                           12.35                            11.44   \n",
       "4                           15.06                              NaN   \n",
       "\n",
       "   fund_sharpe_ratio_5years  fund_sharpe_ratio_10years  \n",
       "0                      0.33                       0.24  \n",
       "1                      0.74                       0.89  \n",
       "2                      0.88                       0.93  \n",
       "3                      0.61                       0.73  \n",
       "4                      0.37                        NaN  \n",
       "\n",
       "[5 rows x 87 columns]"
      ]
     },
     "execution_count": 5,
     "metadata": {},
     "output_type": "execute_result"
    }
   ],
   "source": [
    "df.head(5)"
   ]
  },
  {
   "cell_type": "code",
   "execution_count": 6,
   "id": "cfb82b0b-0451-496c-96a8-74e240fde02b",
   "metadata": {},
   "outputs": [
    {
     "data": {
      "text/plain": [
       "(17839, 87)"
      ]
     },
     "execution_count": 6,
     "metadata": {},
     "output_type": "execute_result"
    }
   ],
   "source": [
    "df.shape"
   ]
  },
  {
   "cell_type": "code",
   "execution_count": null,
   "id": "c5c20c44-958f-4021-b7fd-28fd68e2c429",
   "metadata": {},
   "outputs": [],
   "source": []
  },
  {
   "cell_type": "markdown",
   "id": "ca9fbbc0-03eb-42df-9667-32acf1f542b9",
   "metadata": {},
   "source": [
    "## Clean data"
   ]
  },
  {
   "cell_type": "code",
   "execution_count": 7,
   "id": "f04a107d-f4a1-4c42-a095-7045564138bf",
   "metadata": {},
   "outputs": [
    {
     "data": {
      "text/plain": [
       "219420"
      ]
     },
     "execution_count": 7,
     "metadata": {},
     "output_type": "execute_result"
    }
   ],
   "source": [
    "df.isna().sum().sum()"
   ]
  },
  {
   "cell_type": "code",
   "execution_count": 8,
   "id": "7b54c08e-d7a0-40e7-be0c-da426acd1251",
   "metadata": {},
   "outputs": [],
   "source": [
    "df.dropna(inplace = True)"
   ]
  },
  {
   "cell_type": "code",
   "execution_count": 9,
   "id": "aaeb128e-cf82-4304-9cec-3c98de5c155c",
   "metadata": {},
   "outputs": [
    {
     "data": {
      "text/plain": [
       "0"
      ]
     },
     "execution_count": 9,
     "metadata": {},
     "output_type": "execute_result"
    }
   ],
   "source": [
    "df.isna().sum().sum()"
   ]
  },
  {
   "cell_type": "code",
   "execution_count": 10,
   "id": "a8110d0f-4938-46bf-ac4d-06e29fff031f",
   "metadata": {},
   "outputs": [
    {
     "data": {
      "text/plain": [
       "(8080, 87)"
      ]
     },
     "execution_count": 10,
     "metadata": {},
     "output_type": "execute_result"
    }
   ],
   "source": [
    "df.shape"
   ]
  },
  {
   "cell_type": "markdown",
   "id": "8b0ef756-3bfc-4717-8495-8b204a04653d",
   "metadata": {},
   "source": [
    "# Features and Target"
   ]
  },
  {
   "cell_type": "code",
   "execution_count": 11,
   "id": "5d9af4f8-1cb6-41c0-b41e-c711409af3e2",
   "metadata": {},
   "outputs": [
    {
     "data": {
      "text/plain": [
       "Index(['fund_symbol', 'fund_extended_name', 'fund_family', 'inception_date',\n",
       "       'category', 'rating', 'return_rating', 'risk_rating', 'investment_type',\n",
       "       'size_type', 'currency', 'fund_net_annual_expense_ratio', 'asset_cash',\n",
       "       'asset_stocks', 'asset_bonds', 'asset_others', 'asset_preferred',\n",
       "       'asset_convertable', 'price_earnings_ratio', 'price_book_ratio',\n",
       "       'price_sales_ratio', 'price_cashflow_ratio', 'median_market_cap',\n",
       "       'sector_basic_materials', 'sector_consumer_cyclical',\n",
       "       'sector_financial_services', 'sector_real_estate',\n",
       "       'sector_consumer_defensive', 'sector_healthcare', 'sector_utilities',\n",
       "       'sector_communication_services', 'sector_energy', 'sector_industrials',\n",
       "       'sector_technology', 'fund_return_5years', 'fund_return_10years',\n",
       "       'fund_return_2020_q3', 'fund_return_2020_q2', 'fund_return_2020_q1',\n",
       "       'fund_return_2019_q4', 'fund_return_2019_q3', 'fund_return_2019_q2',\n",
       "       'fund_return_2019_q1', 'fund_return_2018_q4', 'fund_return_2018_q3',\n",
       "       'fund_return_2018_q2', 'fund_return_2018_q1', 'fund_return_2017_q4',\n",
       "       'fund_return_2017_q3', 'fund_return_2017_q2', 'fund_return_2017_q1',\n",
       "       'fund_return_2016_q4', 'fund_return_2016_q3', 'fund_return_2016_q2',\n",
       "       'fund_return_2016_q1', 'fund_return_2015_q4', 'fund_return_2015_q3',\n",
       "       'fund_return_2015_q2', 'fund_return_2015_q1', 'fund_return_2014_q4',\n",
       "       'fund_return_2014_q3', 'fund_return_2014_q2', 'fund_return_2014_q1',\n",
       "       'fund_return_2013_q4', 'fund_return_2013_q3', 'fund_return_2013_q2',\n",
       "       'fund_return_2013_q1', 'fund_return_2012_q4', 'fund_return_2012_q3',\n",
       "       'fund_return_2012_q2', 'fund_return_2012_q1', 'fund_return_2011_q4',\n",
       "       'fund_return_2011_q3', 'fund_return_2011_q2', 'fund_return_2011_q1',\n",
       "       'fund_return_2010_q4', 'fund_return_2010_q3', 'fund_return_2010_q2',\n",
       "       'fund_return_2010_q1', 'fund_alpha_5years', 'fund_alpha_10years',\n",
       "       'fund_beta_5years', 'fund_beta_10years',\n",
       "       'fund_standard_deviation_5years', 'fund_standard_deviation_10years',\n",
       "       'fund_sharpe_ratio_5years', 'fund_sharpe_ratio_10years'],\n",
       "      dtype='object')"
      ]
     },
     "execution_count": 11,
     "metadata": {},
     "output_type": "execute_result"
    }
   ],
   "source": [
    "df.columns"
   ]
  },
  {
   "cell_type": "code",
   "execution_count": 12,
   "id": "689532e3-f20a-431f-8e18-7c76344ab981",
   "metadata": {},
   "outputs": [
    {
     "data": {
      "text/html": [
       "<div>\n",
       "<style scoped>\n",
       "    .dataframe tbody tr th:only-of-type {\n",
       "        vertical-align: middle;\n",
       "    }\n",
       "\n",
       "    .dataframe tbody tr th {\n",
       "        vertical-align: top;\n",
       "    }\n",
       "\n",
       "    .dataframe thead th {\n",
       "        text-align: right;\n",
       "    }\n",
       "</style>\n",
       "<table border=\"1\" class=\"dataframe\">\n",
       "  <thead>\n",
       "    <tr style=\"text-align: right;\">\n",
       "      <th></th>\n",
       "      <th>price_earnings_ratio</th>\n",
       "      <th>price_book_ratio</th>\n",
       "      <th>price_sales_ratio</th>\n",
       "      <th>price_cashflow_ratio</th>\n",
       "      <th>sector_basic_materials</th>\n",
       "      <th>sector_consumer_cyclical</th>\n",
       "      <th>sector_financial_services</th>\n",
       "      <th>sector_real_estate</th>\n",
       "      <th>sector_consumer_defensive</th>\n",
       "      <th>sector_healthcare</th>\n",
       "      <th>sector_utilities</th>\n",
       "      <th>sector_communication_services</th>\n",
       "      <th>sector_energy</th>\n",
       "      <th>sector_industrials</th>\n",
       "      <th>sector_technology</th>\n",
       "    </tr>\n",
       "  </thead>\n",
       "  <tbody>\n",
       "    <tr>\n",
       "      <th>0</th>\n",
       "      <td>19.41</td>\n",
       "      <td>1.83</td>\n",
       "      <td>2.30</td>\n",
       "      <td>11.13</td>\n",
       "      <td>13.52</td>\n",
       "      <td>1.62</td>\n",
       "      <td>0.00</td>\n",
       "      <td>42.97</td>\n",
       "      <td>1.54</td>\n",
       "      <td>0.00</td>\n",
       "      <td>15.29</td>\n",
       "      <td>1.67</td>\n",
       "      <td>11.53</td>\n",
       "      <td>11.87</td>\n",
       "      <td>0.00</td>\n",
       "    </tr>\n",
       "    <tr>\n",
       "      <th>2</th>\n",
       "      <td>38.70</td>\n",
       "      <td>11.46</td>\n",
       "      <td>5.31</td>\n",
       "      <td>26.26</td>\n",
       "      <td>1.09</td>\n",
       "      <td>20.42</td>\n",
       "      <td>14.43</td>\n",
       "      <td>1.32</td>\n",
       "      <td>0.86</td>\n",
       "      <td>12.87</td>\n",
       "      <td>0.00</td>\n",
       "      <td>11.63</td>\n",
       "      <td>0.00</td>\n",
       "      <td>3.20</td>\n",
       "      <td>34.18</td>\n",
       "    </tr>\n",
       "    <tr>\n",
       "      <th>3</th>\n",
       "      <td>21.81</td>\n",
       "      <td>2.45</td>\n",
       "      <td>1.44</td>\n",
       "      <td>11.45</td>\n",
       "      <td>3.49</td>\n",
       "      <td>12.79</td>\n",
       "      <td>12.07</td>\n",
       "      <td>5.72</td>\n",
       "      <td>7.54</td>\n",
       "      <td>14.48</td>\n",
       "      <td>2.49</td>\n",
       "      <td>7.36</td>\n",
       "      <td>2.31</td>\n",
       "      <td>11.89</td>\n",
       "      <td>19.86</td>\n",
       "    </tr>\n",
       "    <tr>\n",
       "      <th>5</th>\n",
       "      <td>19.41</td>\n",
       "      <td>1.83</td>\n",
       "      <td>2.30</td>\n",
       "      <td>11.13</td>\n",
       "      <td>13.52</td>\n",
       "      <td>1.62</td>\n",
       "      <td>0.00</td>\n",
       "      <td>42.97</td>\n",
       "      <td>1.54</td>\n",
       "      <td>0.00</td>\n",
       "      <td>15.29</td>\n",
       "      <td>1.67</td>\n",
       "      <td>11.53</td>\n",
       "      <td>11.87</td>\n",
       "      <td>0.00</td>\n",
       "    </tr>\n",
       "    <tr>\n",
       "      <th>7</th>\n",
       "      <td>21.81</td>\n",
       "      <td>2.45</td>\n",
       "      <td>1.44</td>\n",
       "      <td>11.45</td>\n",
       "      <td>3.49</td>\n",
       "      <td>12.79</td>\n",
       "      <td>12.07</td>\n",
       "      <td>5.72</td>\n",
       "      <td>7.54</td>\n",
       "      <td>14.48</td>\n",
       "      <td>2.49</td>\n",
       "      <td>7.36</td>\n",
       "      <td>2.31</td>\n",
       "      <td>11.89</td>\n",
       "      <td>19.86</td>\n",
       "    </tr>\n",
       "  </tbody>\n",
       "</table>\n",
       "</div>"
      ],
      "text/plain": [
       "   price_earnings_ratio  price_book_ratio  price_sales_ratio  \\\n",
       "0                 19.41              1.83               2.30   \n",
       "2                 38.70             11.46               5.31   \n",
       "3                 21.81              2.45               1.44   \n",
       "5                 19.41              1.83               2.30   \n",
       "7                 21.81              2.45               1.44   \n",
       "\n",
       "   price_cashflow_ratio  sector_basic_materials  sector_consumer_cyclical  \\\n",
       "0                 11.13                   13.52                      1.62   \n",
       "2                 26.26                    1.09                     20.42   \n",
       "3                 11.45                    3.49                     12.79   \n",
       "5                 11.13                   13.52                      1.62   \n",
       "7                 11.45                    3.49                     12.79   \n",
       "\n",
       "   sector_financial_services  sector_real_estate  sector_consumer_defensive  \\\n",
       "0                       0.00               42.97                       1.54   \n",
       "2                      14.43                1.32                       0.86   \n",
       "3                      12.07                5.72                       7.54   \n",
       "5                       0.00               42.97                       1.54   \n",
       "7                      12.07                5.72                       7.54   \n",
       "\n",
       "   sector_healthcare  sector_utilities  sector_communication_services  \\\n",
       "0               0.00             15.29                           1.67   \n",
       "2              12.87              0.00                          11.63   \n",
       "3              14.48              2.49                           7.36   \n",
       "5               0.00             15.29                           1.67   \n",
       "7              14.48              2.49                           7.36   \n",
       "\n",
       "   sector_energy  sector_industrials  sector_technology  \n",
       "0          11.53               11.87               0.00  \n",
       "2           0.00                3.20              34.18  \n",
       "3           2.31               11.89              19.86  \n",
       "5          11.53               11.87               0.00  \n",
       "7           2.31               11.89              19.86  "
      ]
     },
     "execution_count": 12,
     "metadata": {},
     "output_type": "execute_result"
    }
   ],
   "source": [
    "X= df[['price_earnings_ratio', 'price_book_ratio','price_sales_ratio', 'price_cashflow_ratio','sector_basic_materials', 'sector_consumer_cyclical', 'sector_financial_services', 'sector_real_estate',\n",
    "       'sector_consumer_defensive', 'sector_healthcare', 'sector_utilities','sector_communication_services', 'sector_energy', 'sector_industrials','sector_technology']]\n",
    "X.head()"
   ]
  },
  {
   "cell_type": "code",
   "execution_count": 13,
   "id": "17d1220d-e565-4bf0-aaf1-dda2da980d4f",
   "metadata": {},
   "outputs": [
    {
     "name": "stdout",
     "output_type": "stream",
     "text": [
      "<class 'pandas.core.frame.DataFrame'>\n"
     ]
    },
    {
     "data": {
      "text/plain": [
       "(8080, 15)"
      ]
     },
     "execution_count": 13,
     "metadata": {},
     "output_type": "execute_result"
    }
   ],
   "source": [
    "print(type(X))\n",
    "X.shape"
   ]
  },
  {
   "cell_type": "code",
   "execution_count": 14,
   "id": "5095cda7-6b8c-4f02-a731-5dbf85a2be7e",
   "metadata": {},
   "outputs": [
    {
     "data": {
      "text/plain": [
       "0         2.38\n",
       "2        14.71\n",
       "3         8.66\n",
       "5         1.61\n",
       "7         7.91\n",
       "         ...  \n",
       "17810     8.07\n",
       "17811     5.33\n",
       "17812    10.71\n",
       "17813     9.58\n",
       "17814     9.86\n",
       "Name: fund_return_10years, Length: 8080, dtype: float64"
      ]
     },
     "execution_count": 14,
     "metadata": {},
     "output_type": "execute_result"
    }
   ],
   "source": [
    "y = df['fund_return_10years']\n",
    "y"
   ]
  },
  {
   "cell_type": "code",
   "execution_count": null,
   "id": "7fee0208-7fb9-4114-9439-2ec92bd8859e",
   "metadata": {},
   "outputs": [],
   "source": [
    "print(type(y))\n",
    "y \n",
    "len(y)\n",
    "\n",
    "#People_List = ['Jon','Mark','Maria','Jill','Jack']\n",
    "#df = pd.DataFrame (People_List,columns=['First_Name'])\n",
    "\n",
    "#y = pd.DataFrame (y,columns=['Fund_return'])\n"
   ]
  },
  {
   "cell_type": "markdown",
   "id": "8e8f1944-6c30-42ea-8760-6f87e02c47ec",
   "metadata": {},
   "source": [
    "## TRAIN /TEST"
   ]
  },
  {
   "cell_type": "code",
   "execution_count": 15,
   "id": "c678ea03-7bc6-4001-995f-9303e3018943",
   "metadata": {},
   "outputs": [],
   "source": [
    "X_train, X_test, y_train, y_test = train_test_split(X, y, test_size=0.2, random_state=2)"
   ]
  },
  {
   "cell_type": "markdown",
   "id": "ea96cb08-9ca1-487c-a396-d806cc585c10",
   "metadata": {},
   "source": [
    "## Scaling Data"
   ]
  },
  {
   "cell_type": "code",
   "execution_count": 16,
   "id": "3128a310-4b07-4134-9778-7764b56120e5",
   "metadata": {},
   "outputs": [],
   "source": [
    "scaler = StandardScaler()"
   ]
  },
  {
   "cell_type": "code",
   "execution_count": 17,
   "id": "f5d3257f-f6f8-4ffb-bfc8-da52fbb1f2d2",
   "metadata": {},
   "outputs": [],
   "source": [
    "scaler = scaler.fit(X_train)"
   ]
  },
  {
   "cell_type": "code",
   "execution_count": 18,
   "id": "bd0d857f-f581-47a7-90a1-709c8fea4b7e",
   "metadata": {},
   "outputs": [],
   "source": [
    "X_train = scaler.transform(X_train)"
   ]
  },
  {
   "cell_type": "code",
   "execution_count": 19,
   "id": "e1fae5b7-a453-4b8a-823f-d11598e28b2b",
   "metadata": {},
   "outputs": [],
   "source": [
    "X_test = scaler.transform(X_test)"
   ]
  },
  {
   "cell_type": "markdown",
   "id": "b682ef01-09ff-4b2d-aa96-4b177aa245dc",
   "metadata": {},
   "source": [
    "## NUMBER OF NEURONS"
   ]
  },
  {
   "cell_type": "code",
   "execution_count": 20,
   "id": "f13c83c1-1e6e-4cb3-aa63-820d67429a6d",
   "metadata": {},
   "outputs": [
    {
     "data": {
      "text/plain": [
       "15"
      ]
     },
     "execution_count": 20,
     "metadata": {},
     "output_type": "execute_result"
    }
   ],
   "source": [
    "il =len(X.columns)\n",
    "il"
   ]
  },
  {
   "cell_type": "markdown",
   "id": "cccfd7cf-3828-4f4a-82e9-a20ff86bd92d",
   "metadata": {},
   "source": [
    "### Input Layer"
   ]
  },
  {
   "cell_type": "code",
   "execution_count": null,
   "id": "8fe4d349-365f-4559-9a61-31f803f2503a",
   "metadata": {},
   "outputs": [],
   "source": [
    "#il =len(X.columns)+1\n",
    "#il"
   ]
  },
  {
   "cell_type": "markdown",
   "id": "cee7b57a-f6f6-4ad4-a1f6-56c2a8ae8144",
   "metadata": {},
   "source": [
    "### Hidden Layer"
   ]
  },
  {
   "cell_type": "code",
   "execution_count": 21,
   "id": "65e38691-d81d-4ac4-9e0a-038b0fb37e63",
   "metadata": {},
   "outputs": [
    {
     "data": {
      "text/plain": [
       "6464"
      ]
     },
     "execution_count": 21,
     "metadata": {},
     "output_type": "execute_result"
    }
   ],
   "source": [
    "len(X_train)"
   ]
  },
  {
   "cell_type": "code",
   "execution_count": 22,
   "id": "9bab9add-b645-496f-b9af-aecee5da7a1f",
   "metadata": {},
   "outputs": [
    {
     "data": {
      "text/plain": [
       "404"
      ]
     },
     "execution_count": 22,
     "metadata": {},
     "output_type": "execute_result"
    }
   ],
   "source": [
    "hl = len(X_train)/(1*(1+il))\n",
    "hl = round(hl)\n",
    "hl"
   ]
  },
  {
   "cell_type": "markdown",
   "id": "e66ec971-88ec-42a8-8254-02d4eb8a83aa",
   "metadata": {},
   "source": [
    "## NEURAL NETWORK ALGORITHM"
   ]
  },
  {
   "cell_type": "code",
   "execution_count": 23,
   "id": "606288cb-5ba6-4587-a9fd-67a5d2bc5097",
   "metadata": {},
   "outputs": [],
   "source": [
    "model = Sequential()"
   ]
  },
  {
   "cell_type": "markdown",
   "id": "5620a615-00a3-491c-9cc8-239741e34b20",
   "metadata": {},
   "source": [
    "### USING RELU"
   ]
  },
  {
   "cell_type": "code",
   "execution_count": 24,
   "id": "23ed0b5b-1fc6-47bf-8184-25f57d26efaf",
   "metadata": {},
   "outputs": [],
   "source": [
    "model.add(Dense(il, input_dim = il, kernel_initializer = 'normal', activation = 'relu'))\n",
    "model.add(Dense(hl,activation = 'relu'))\n",
    "model.add(Dense(1,activation = 'linear'))"
   ]
  },
  {
   "cell_type": "code",
   "execution_count": 25,
   "id": "d4324df3-2b03-45c7-a9af-6c46ef2e9d8e",
   "metadata": {},
   "outputs": [
    {
     "name": "stdout",
     "output_type": "stream",
     "text": [
      "Model: \"sequential\"\n",
      "_________________________________________________________________\n",
      "Layer (type)                 Output Shape              Param #   \n",
      "=================================================================\n",
      "dense (Dense)                (None, 15)                240       \n",
      "_________________________________________________________________\n",
      "dense_1 (Dense)              (None, 404)               6464      \n",
      "_________________________________________________________________\n",
      "dense_2 (Dense)              (None, 1)                 405       \n",
      "=================================================================\n",
      "Total params: 7,109\n",
      "Trainable params: 7,109\n",
      "Non-trainable params: 0\n",
      "_________________________________________________________________\n"
     ]
    }
   ],
   "source": [
    "model.summary()"
   ]
  },
  {
   "cell_type": "code",
   "execution_count": 26,
   "id": "efef957c-83f4-4741-8b1d-a21d10be938f",
   "metadata": {},
   "outputs": [],
   "source": [
    "model.compile(loss='mse', optimizer = 'adam', metrics=['mse','mae'])"
   ]
  },
  {
   "cell_type": "code",
   "execution_count": 27,
   "id": "26b9160b-d1f9-4488-bb7c-867c2f5926b7",
   "metadata": {},
   "outputs": [
    {
     "name": "stdout",
     "output_type": "stream",
     "text": [
      "Epoch 1/30\n",
      "44/44 [==============================] - 1s 5ms/step - loss: 66.3211 - mse: 66.3211 - mae: 7.1602\n",
      "Epoch 2/30\n",
      "44/44 [==============================] - 0s 5ms/step - loss: 16.4490 - mse: 16.4490 - mae: 3.2027\n",
      "Epoch 3/30\n",
      "44/44 [==============================] - 0s 5ms/step - loss: 9.7170 - mse: 9.7170 - mae: 2.4145\n",
      "Epoch 4/30\n",
      "44/44 [==============================] - 0s 5ms/step - loss: 8.1411 - mse: 8.1411 - mae: 2.1796\n",
      "Epoch 5/30\n",
      "44/44 [==============================] - 0s 5ms/step - loss: 7.6110 - mse: 7.6110 - mae: 2.0876\n",
      "Epoch 6/30\n",
      "44/44 [==============================] - 0s 5ms/step - loss: 7.3444 - mse: 7.3444 - mae: 2.0488\n",
      "Epoch 7/30\n",
      "44/44 [==============================] - 0s 7ms/step - loss: 7.1595 - mse: 7.1595 - mae: 2.0156\n",
      "Epoch 8/30\n",
      "44/44 [==============================] - 0s 5ms/step - loss: 7.0148 - mse: 7.0148 - mae: 1.9969\n",
      "Epoch 9/30\n",
      "44/44 [==============================] - 0s 5ms/step - loss: 6.8747 - mse: 6.8747 - mae: 1.9728\n",
      "Epoch 10/30\n",
      "44/44 [==============================] - 0s 5ms/step - loss: 6.7302 - mse: 6.7302 - mae: 1.9584\n",
      "Epoch 11/30\n",
      "44/44 [==============================] - 0s 5ms/step - loss: 6.6130 - mse: 6.6130 - mae: 1.9345\n",
      "Epoch 12/30\n",
      "44/44 [==============================] - 0s 5ms/step - loss: 6.4464 - mse: 6.4464 - mae: 1.9091ETA: 0s - loss: 6.5799 - mse: 6.5799 - mae: 1.92\n",
      "Epoch 13/30\n",
      "44/44 [==============================] - 0s 5ms/step - loss: 6.3052 - mse: 6.3052 - mae: 1.8884\n",
      "Epoch 14/30\n",
      "44/44 [==============================] - 0s 5ms/step - loss: 6.1633 - mse: 6.1633 - mae: 1.8673\n",
      "Epoch 15/30\n",
      "44/44 [==============================] - 0s 6ms/step - loss: 6.0699 - mse: 6.0699 - mae: 1.8546\n",
      "Epoch 16/30\n",
      "44/44 [==============================] - 0s 5ms/step - loss: 5.9444 - mse: 5.9444 - mae: 1.8278\n",
      "Epoch 17/30\n",
      "44/44 [==============================] - 0s 5ms/step - loss: 5.8223 - mse: 5.8223 - mae: 1.8111\n",
      "Epoch 18/30\n",
      "44/44 [==============================] - 0s 5ms/step - loss: 5.7319 - mse: 5.7319 - mae: 1.8008\n",
      "Epoch 19/30\n",
      "44/44 [==============================] - 0s 5ms/step - loss: 5.6183 - mse: 5.6183 - mae: 1.7767\n",
      "Epoch 20/30\n",
      "44/44 [==============================] - 0s 5ms/step - loss: 5.5699 - mse: 5.5699 - mae: 1.7735\n",
      "Epoch 21/30\n",
      "44/44 [==============================] - 0s 5ms/step - loss: 5.5464 - mse: 5.5464 - mae: 1.7775\n",
      "Epoch 22/30\n",
      "44/44 [==============================] - 0s 5ms/step - loss: 5.4303 - mse: 5.4303 - mae: 1.7482\n",
      "Epoch 23/30\n",
      "44/44 [==============================] - 0s 5ms/step - loss: 5.3467 - mse: 5.3467 - mae: 1.7372\n",
      "Epoch 24/30\n",
      "44/44 [==============================] - 0s 5ms/step - loss: 5.2795 - mse: 5.2795 - mae: 1.7226\n",
      "Epoch 25/30\n",
      "44/44 [==============================] - 0s 5ms/step - loss: 5.2619 - mse: 5.2619 - mae: 1.7182\n",
      "Epoch 26/30\n",
      "44/44 [==============================] - 0s 5ms/step - loss: 5.1847 - mse: 5.1847 - mae: 1.7065\n",
      "Epoch 27/30\n",
      "44/44 [==============================] - 0s 5ms/step - loss: 5.1173 - mse: 5.1173 - mae: 1.6927\n",
      "Epoch 28/30\n",
      "44/44 [==============================] - 0s 5ms/step - loss: 5.0349 - mse: 5.0349 - mae: 1.6810\n",
      "Epoch 29/30\n",
      "44/44 [==============================] - 0s 5ms/step - loss: 4.9995 - mse: 4.9995 - mae: 1.6729\n",
      "Epoch 30/30\n",
      "44/44 [==============================] - 0s 5ms/step - loss: 4.9514 - mse: 4.9514 - mae: 1.6663\n"
     ]
    }
   ],
   "source": [
    "history = model.fit(X_train, y_train, epochs = 30, batch_size = 150, verbose = 1)"
   ]
  },
  {
   "cell_type": "code",
   "execution_count": 28,
   "id": "c9c80269-a251-4719-a76c-f62f51caed0c",
   "metadata": {},
   "outputs": [
    {
     "name": "stdout",
     "output_type": "stream",
     "text": [
      "dict_keys(['loss', 'mse', 'mae'])\n"
     ]
    },
    {
     "data": {
      "image/png": "[encoded data removed]",
      "text/plain": [
       "<Figure size 576x576 with 1 Axes>"
      ]
     },
     "metadata": {
      "needs_background": "light"
     },
     "output_type": "display_data"
    }
   ],
   "source": [
    "plt.figure(figsize =(8,8))\n",
    "print(history.history.keys())\n",
    "plt.plot(history.history['loss'])\n",
    "plt.title('Model Loss')\n",
    "plt.ylabel('Loss')\n",
    "plt.xlabel('Epoch')\n",
    "plt.legend(['Train'], loc = 'upper left')\n",
    "plt.show()"
   ]
  },
  {
   "cell_type": "markdown",
   "id": "116bcd30-f82e-477e-8bf8-9e536dc512da",
   "metadata": {},
   "source": [
    "### Predictions"
   ]
  },
  {
   "cell_type": "code",
   "execution_count": 29,
   "id": "f1eddeb2-db17-4bca-90be-241b6c08ae45",
   "metadata": {},
   "outputs": [
    {
     "data": {
      "text/plain": [
       "array([[ 8.04796  ],\n",
       "       [12.344915 ],\n",
       "       [14.414152 ],\n",
       "       ...,\n",
       "       [ 5.2033024],\n",
       "       [18.172743 ],\n",
       "       [ 7.4178   ]], dtype=float32)"
      ]
     },
     "execution_count": 29,
     "metadata": {},
     "output_type": "execute_result"
    }
   ],
   "source": [
    "predictions = model.predict(X_test)\n",
    "predictions"
   ]
  },
  {
   "cell_type": "markdown",
   "id": "a991999a-1387-4fd9-809b-4a6b0a0365a3",
   "metadata": {},
   "source": [
    "### SCORE"
   ]
  },
  {
   "cell_type": "code",
   "execution_count": 47,
   "id": "f4d48b8e-5557-444f-a145-6f06fb28cc25",
   "metadata": {},
   "outputs": [
    {
     "name": "stdout",
     "output_type": "stream",
     "text": [
      "1.7314678663568628\n",
      "2.3738866761749424\n",
      "0.6971951188307657\n"
     ]
    }
   ],
   "source": [
    "from sklearn.metrics import mean_absolute_error,mean_squared_error,r2_score\n",
    "mae = mean_absolute_error(y_test, predictions)\n",
    "mse = mean_squared_error(y_test, predictions)\n",
    "r2 = r2_score(y_test, predictions)\n",
    "\n",
    "print(mea)\n",
    "print(np.sqrt(mse))\n",
    "print(r2)"
   ]
  },
  {
   "cell_type": "code",
   "execution_count": 44,
   "id": "f3ef311b-72f2-4f38-91ec-59b66acbb910",
   "metadata": {},
   "outputs": [
    {
     "data": {
      "text/plain": [
       "8.32840965346534"
      ]
     },
     "execution_count": 44,
     "metadata": {},
     "output_type": "execute_result"
    }
   ],
   "source": [
    "np.mean(y_test)"
   ]
  },
  {
   "cell_type": "code",
   "execution_count": 45,
   "id": "3430c20d-91ed-4511-93d2-a3b2a9487c1a",
   "metadata": {},
   "outputs": [
    {
     "data": {
      "text/plain": [
       "8.225629641089133"
      ]
     },
     "execution_count": 45,
     "metadata": {},
     "output_type": "execute_result"
    }
   ],
   "source": [
    "np.mean(y_train)"
   ]
  },
  {
   "cell_type": "code",
   "execution_count": 46,
   "id": "bc35cca0-ef2c-49f2-a532-ce037b457665",
   "metadata": {},
   "outputs": [
    {
     "data": {
      "text/plain": [
       "0    8.275335\n",
       "dtype: float32"
      ]
     },
     "execution_count": 46,
     "metadata": {},
     "output_type": "execute_result"
    }
   ],
   "source": [
    "np.mean(predictions)"
   ]
  },
  {
   "cell_type": "markdown",
   "id": "1e2855bd-9585-4af8-99cb-707e76f7ac4b",
   "metadata": {},
   "source": [
    "## ADD PREDICTIONS TO DATAFRAME"
   ]
  },
  {
   "cell_type": "code",
   "execution_count": null,
   "id": "d604fc14-b872-477d-8eec-6e2705cebc78",
   "metadata": {},
   "outputs": [],
   "source": [
    "df.columns"
   ]
  },
  {
   "cell_type": "code",
   "execution_count": null,
   "id": "48fc5f5d-8d94-410e-be05-7fed626cfbde",
   "metadata": {},
   "outputs": [],
   "source": [
    "df.head()"
   ]
  },
  {
   "cell_type": "code",
   "execution_count": 33,
   "id": "5236578a-e16c-4ec0-90f7-b78bc560d434",
   "metadata": {},
   "outputs": [],
   "source": [
    "predictions = pd.DataFrame(predictions)\n",
    "df[['predictions']] = predictions"
   ]
  },
  {
   "cell_type": "code",
   "execution_count": 37,
   "id": "c81224cd-d93c-40e1-b9cf-b5f66712fa2f",
   "metadata": {},
   "outputs": [
    {
     "data": {
      "text/html": [
       "<div>\n",
       "<style scoped>\n",
       "    .dataframe tbody tr th:only-of-type {\n",
       "        vertical-align: middle;\n",
       "    }\n",
       "\n",
       "    .dataframe tbody tr th {\n",
       "        vertical-align: top;\n",
       "    }\n",
       "\n",
       "    .dataframe thead th {\n",
       "        text-align: right;\n",
       "    }\n",
       "</style>\n",
       "<table border=\"1\" class=\"dataframe\">\n",
       "  <thead>\n",
       "    <tr style=\"text-align: right;\">\n",
       "      <th></th>\n",
       "      <th>fund_return_10years</th>\n",
       "      <th>predictions</th>\n",
       "    </tr>\n",
       "  </thead>\n",
       "  <tbody>\n",
       "    <tr>\n",
       "      <th>0</th>\n",
       "      <td>2.38</td>\n",
       "      <td>8.047960</td>\n",
       "    </tr>\n",
       "    <tr>\n",
       "      <th>2</th>\n",
       "      <td>14.71</td>\n",
       "      <td>14.414152</td>\n",
       "    </tr>\n",
       "    <tr>\n",
       "      <th>3</th>\n",
       "      <td>8.66</td>\n",
       "      <td>4.284278</td>\n",
       "    </tr>\n",
       "    <tr>\n",
       "      <th>5</th>\n",
       "      <td>1.61</td>\n",
       "      <td>2.218926</td>\n",
       "    </tr>\n",
       "    <tr>\n",
       "      <th>7</th>\n",
       "      <td>7.91</td>\n",
       "      <td>4.646356</td>\n",
       "    </tr>\n",
       "    <tr>\n",
       "      <th>8</th>\n",
       "      <td>2.55</td>\n",
       "      <td>10.284960</td>\n",
       "    </tr>\n",
       "    <tr>\n",
       "      <th>9</th>\n",
       "      <td>6.02</td>\n",
       "      <td>4.283463</td>\n",
       "    </tr>\n",
       "    <tr>\n",
       "      <th>13</th>\n",
       "      <td>2.68</td>\n",
       "      <td>7.284965</td>\n",
       "    </tr>\n",
       "    <tr>\n",
       "      <th>15</th>\n",
       "      <td>6.81</td>\n",
       "      <td>6.062467</td>\n",
       "    </tr>\n",
       "    <tr>\n",
       "      <th>16</th>\n",
       "      <td>6.54</td>\n",
       "      <td>6.448971</td>\n",
       "    </tr>\n",
       "  </tbody>\n",
       "</table>\n",
       "</div>"
      ],
      "text/plain": [
       "    fund_return_10years  predictions\n",
       "0                  2.38     8.047960\n",
       "2                 14.71    14.414152\n",
       "3                  8.66     4.284278\n",
       "5                  1.61     2.218926\n",
       "7                  7.91     4.646356\n",
       "8                  2.55    10.284960\n",
       "9                  6.02     4.283463\n",
       "13                 2.68     7.284965\n",
       "15                 6.81     6.062467\n",
       "16                 6.54     6.448971"
      ]
     },
     "execution_count": 37,
     "metadata": {},
     "output_type": "execute_result"
    }
   ],
   "source": [
    "df2 = df[['fund_return_10years','predictions']]\n",
    "df2.head(10)"
   ]
  }
 ],
 "metadata": {
  "kernelspec": {
   "display_name": "Python 3",
   "language": "python",
   "name": "python3"
  },
  "language_info": {
   "codemirror_mode": {
    "name": "ipython",
    "version": 3
   },
   "file_extension": ".py",
   "mimetype": "text/x-python",
   "name": "python",
   "nbconvert_exporter": "python",
   "pygments_lexer": "ipython3",
   "version": "3.8.8"
  }
 },
 "nbformat": 4,
 "nbformat_minor": 5
}
