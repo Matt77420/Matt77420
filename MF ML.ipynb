{
 "cells": [
  {
   "cell_type": "markdown",
   "id": "dca24b40-23e4-4cd8-8b77-04a76796cc8b",
   "metadata": {},
   "source": [
    "# MUTUAL FUNDS MACHINE LEARNING"
   ]
  },
  {
   "cell_type": "markdown",
   "id": "9e9d40db-1377-482f-9b7f-6d215598dce6",
   "metadata": {},
   "source": [
    "## Import Libraries"
   ]
  },
  {
   "cell_type": "code",
   "execution_count": 1,
   "id": "876713af-df9f-4416-aadf-c6322b680453",
   "metadata": {},
   "outputs": [],
   "source": [
    "import pandas as pd\n",
    "import numpy as np\n",
    "import matplotlib.pyplot as plt\n",
    "import seaborn as sns\n",
    "\n",
    "%matplotlib inline"
   ]
  },
  {
   "cell_type": "code",
   "execution_count": 2,
   "id": "5df1d471-1635-47a8-b7f3-338da40c51de",
   "metadata": {},
   "outputs": [],
   "source": [
    "from sklearn.model_selection import train_test_split\n",
    "from sklearn.preprocessing import StandardScaler\n",
    "from sklearn.model_selection import cross_validate\n",
    "from sklearn.linear_model import LinearRegression\n",
    "from sklearn.svm import SVC\n",
    "from sklearn.decomposition import PCA"
   ]
  },
  {
   "cell_type": "code",
   "execution_count": 3,
   "id": "9f002d34-0134-4359-bdc2-bfcf093d88d1",
   "metadata": {},
   "outputs": [],
   "source": [
    "from pycaret.regression import *"
   ]
  },
  {
   "cell_type": "markdown",
   "id": "e3434d73-5b1b-4a0f-aaa8-64f07de7c856",
   "metadata": {},
   "source": [
    "## Import Database"
   ]
  },
  {
   "cell_type": "code",
   "execution_count": 4,
   "id": "e391bd1d-f45a-42de-85bc-b7c5b1368529",
   "metadata": {},
   "outputs": [],
   "source": [
    "df = pd.read_csv(r'C:\\Workbook\\Funds\\mutual_funds.csv')"
   ]
  },
  {
   "cell_type": "code",
   "execution_count": 5,
   "id": "1785cfb2-2382-46f6-9e4b-15c07434c898",
   "metadata": {},
   "outputs": [
    {
     "data": {
      "text/plain": [
       "(17839, 87)"
      ]
     },
     "execution_count": 5,
     "metadata": {},
     "output_type": "execute_result"
    }
   ],
   "source": [
    "df.shape"
   ]
  },
  {
   "cell_type": "markdown",
   "id": "d9ea3923-fcc9-45e2-a656-5d90da0dca30",
   "metadata": {},
   "source": [
    "### CLEAN Database"
   ]
  },
  {
   "cell_type": "code",
   "execution_count": 6,
   "id": "38a35f83-7df1-430a-967d-15198053d5ba",
   "metadata": {},
   "outputs": [
    {
     "data": {
      "text/plain": [
       "219420"
      ]
     },
     "execution_count": 6,
     "metadata": {},
     "output_type": "execute_result"
    }
   ],
   "source": [
    "df.isna().sum().sum()"
   ]
  },
  {
   "cell_type": "code",
   "execution_count": 7,
   "id": "dba98136-82d8-4109-91eb-e3000dd846a0",
   "metadata": {},
   "outputs": [],
   "source": [
    "df.dropna(inplace = True)"
   ]
  },
  {
   "cell_type": "code",
   "execution_count": 8,
   "id": "00e44070-29ca-4d27-9885-be3e3ef97e74",
   "metadata": {},
   "outputs": [
    {
     "data": {
      "text/plain": [
       "0"
      ]
     },
     "execution_count": 8,
     "metadata": {},
     "output_type": "execute_result"
    }
   ],
   "source": [
    "df.isna().sum().sum()"
   ]
  },
  {
   "cell_type": "code",
   "execution_count": 9,
   "id": "96e84ae8-0b5c-4f09-9a47-0cfc03307eec",
   "metadata": {},
   "outputs": [
    {
     "data": {
      "text/plain": [
       "(8080, 87)"
      ]
     },
     "execution_count": 9,
     "metadata": {},
     "output_type": "execute_result"
    }
   ],
   "source": [
    "df.shape"
   ]
  },
  {
   "cell_type": "markdown",
   "id": "741576e4-fe2b-411b-ac1a-2a2729c6ff96",
   "metadata": {},
   "source": [
    "## REMOVE COLUMNS X-Y"
   ]
  },
  {
   "cell_type": "code",
   "execution_count": 10,
   "id": "09bc98c1-5209-45e2-a5e5-c7319fedff7f",
   "metadata": {},
   "outputs": [
    {
     "data": {
      "text/plain": [
       "Index(['fund_symbol', 'fund_extended_name', 'fund_family', 'inception_date',\n",
       "       'category', 'rating', 'return_rating', 'risk_rating', 'investment_type',\n",
       "       'size_type', 'currency', 'fund_net_annual_expense_ratio', 'asset_cash',\n",
       "       'asset_stocks', 'asset_bonds', 'asset_others', 'asset_preferred',\n",
       "       'asset_convertable', 'price_earnings_ratio', 'price_book_ratio',\n",
       "       'price_sales_ratio', 'price_cashflow_ratio', 'median_market_cap',\n",
       "       'sector_basic_materials', 'sector_consumer_cyclical',\n",
       "       'sector_financial_services', 'sector_real_estate',\n",
       "       'sector_consumer_defensive', 'sector_healthcare', 'sector_utilities',\n",
       "       'sector_communication_services', 'sector_energy', 'sector_industrials',\n",
       "       'sector_technology', 'fund_return_5years', 'fund_return_10years',\n",
       "       'fund_return_2020_q3', 'fund_return_2020_q2', 'fund_return_2020_q1',\n",
       "       'fund_return_2019_q4', 'fund_return_2019_q3', 'fund_return_2019_q2',\n",
       "       'fund_return_2019_q1', 'fund_return_2018_q4', 'fund_return_2018_q3',\n",
       "       'fund_return_2018_q2', 'fund_return_2018_q1', 'fund_return_2017_q4',\n",
       "       'fund_return_2017_q3', 'fund_return_2017_q2', 'fund_return_2017_q1',\n",
       "       'fund_return_2016_q4', 'fund_return_2016_q3', 'fund_return_2016_q2',\n",
       "       'fund_return_2016_q1', 'fund_return_2015_q4', 'fund_return_2015_q3',\n",
       "       'fund_return_2015_q2', 'fund_return_2015_q1', 'fund_return_2014_q4',\n",
       "       'fund_return_2014_q3', 'fund_return_2014_q2', 'fund_return_2014_q1',\n",
       "       'fund_return_2013_q4', 'fund_return_2013_q3', 'fund_return_2013_q2',\n",
       "       'fund_return_2013_q1', 'fund_return_2012_q4', 'fund_return_2012_q3',\n",
       "       'fund_return_2012_q2', 'fund_return_2012_q1', 'fund_return_2011_q4',\n",
       "       'fund_return_2011_q3', 'fund_return_2011_q2', 'fund_return_2011_q1',\n",
       "       'fund_return_2010_q4', 'fund_return_2010_q3', 'fund_return_2010_q2',\n",
       "       'fund_return_2010_q1', 'fund_alpha_5years', 'fund_alpha_10years',\n",
       "       'fund_beta_5years', 'fund_beta_10years',\n",
       "       'fund_standard_deviation_5years', 'fund_standard_deviation_10years',\n",
       "       'fund_sharpe_ratio_5years', 'fund_sharpe_ratio_10years'],\n",
       "      dtype='object')"
      ]
     },
     "execution_count": 10,
     "metadata": {},
     "output_type": "execute_result"
    }
   ],
   "source": [
    "df.columns"
   ]
  },
  {
   "cell_type": "code",
   "execution_count": 12,
   "id": "d4b8442c-8fdc-4027-9497-bdbc5728c4a2",
   "metadata": {},
   "outputs": [],
   "source": [
    "dfp = df[['asset_cash',\n",
    "       'asset_stocks', 'asset_bonds', 'asset_others', 'asset_preferred',\n",
    "       'asset_convertable', 'price_earnings_ratio', 'price_book_ratio',\n",
    "       'price_sales_ratio', 'price_cashflow_ratio', 'median_market_cap',\n",
    "       'sector_basic_materials', 'sector_consumer_cyclical',\n",
    "       'sector_financial_services', 'sector_real_estate',\n",
    "       'sector_consumer_defensive', 'sector_healthcare', 'sector_utilities',\n",
    "       'sector_communication_services', 'sector_energy', 'sector_industrials',\n",
    "       'sector_technology','fund_return_10years']]"
   ]
  },
  {
   "cell_type": "markdown",
   "id": "faa7189d-bc5b-4249-8eb1-2b9d3213e943",
   "metadata": {},
   "source": [
    "## PYCARET"
   ]
  },
  {
   "cell_type": "markdown",
   "id": "70adb739-e3ce-4699-bb18-0ec4f5913c63",
   "metadata": {},
   "source": [
    "### CONFIGURATION"
   ]
  },
  {
   "cell_type": "code",
   "execution_count": 13,
   "id": "4cb5fdc3-592e-4e80-aac5-a639c3f9c30f",
   "metadata": {},
   "outputs": [
    {
     "data": {
      "text/html": [
       "<style  type=\"text/css\" >\n",
       "#T_2b9fe_row17_col1,#T_2b9fe_row42_col1{\n",
       "            background-color:  lightgreen;\n",
       "        }</style><table id=\"T_2b9fe_\" ><thead>    <tr>        <th class=\"blank level0\" ></th>        <th class=\"col_heading level0 col0\" >Description</th>        <th class=\"col_heading level0 col1\" >Value</th>    </tr></thead><tbody>\n",
       "                <tr>\n",
       "                        <th id=\"T_2b9fe_level0_row0\" class=\"row_heading level0 row0\" >0</th>\n",
       "                        <td id=\"T_2b9fe_row0_col0\" class=\"data row0 col0\" >session_id</td>\n",
       "                        <td id=\"T_2b9fe_row0_col1\" class=\"data row0 col1\" >123</td>\n",
       "            </tr>\n",
       "            <tr>\n",
       "                        <th id=\"T_2b9fe_level0_row1\" class=\"row_heading level0 row1\" >1</th>\n",
       "                        <td id=\"T_2b9fe_row1_col0\" class=\"data row1 col0\" >Target</td>\n",
       "                        <td id=\"T_2b9fe_row1_col1\" class=\"data row1 col1\" >fund_return_10years</td>\n",
       "            </tr>\n",
       "            <tr>\n",
       "                        <th id=\"T_2b9fe_level0_row2\" class=\"row_heading level0 row2\" >2</th>\n",
       "                        <td id=\"T_2b9fe_row2_col0\" class=\"data row2 col0\" >Original Data</td>\n",
       "                        <td id=\"T_2b9fe_row2_col1\" class=\"data row2 col1\" >(8080, 23)</td>\n",
       "            </tr>\n",
       "            <tr>\n",
       "                        <th id=\"T_2b9fe_level0_row3\" class=\"row_heading level0 row3\" >3</th>\n",
       "                        <td id=\"T_2b9fe_row3_col0\" class=\"data row3 col0\" >Missing Values</td>\n",
       "                        <td id=\"T_2b9fe_row3_col1\" class=\"data row3 col1\" >False</td>\n",
       "            </tr>\n",
       "            <tr>\n",
       "                        <th id=\"T_2b9fe_level0_row4\" class=\"row_heading level0 row4\" >4</th>\n",
       "                        <td id=\"T_2b9fe_row4_col0\" class=\"data row4 col0\" >Numeric Features</td>\n",
       "                        <td id=\"T_2b9fe_row4_col1\" class=\"data row4 col1\" >22</td>\n",
       "            </tr>\n",
       "            <tr>\n",
       "                        <th id=\"T_2b9fe_level0_row5\" class=\"row_heading level0 row5\" >5</th>\n",
       "                        <td id=\"T_2b9fe_row5_col0\" class=\"data row5 col0\" >Categorical Features</td>\n",
       "                        <td id=\"T_2b9fe_row5_col1\" class=\"data row5 col1\" >0</td>\n",
       "            </tr>\n",
       "            <tr>\n",
       "                        <th id=\"T_2b9fe_level0_row6\" class=\"row_heading level0 row6\" >6</th>\n",
       "                        <td id=\"T_2b9fe_row6_col0\" class=\"data row6 col0\" >Ordinal Features</td>\n",
       "                        <td id=\"T_2b9fe_row6_col1\" class=\"data row6 col1\" >False</td>\n",
       "            </tr>\n",
       "            <tr>\n",
       "                        <th id=\"T_2b9fe_level0_row7\" class=\"row_heading level0 row7\" >7</th>\n",
       "                        <td id=\"T_2b9fe_row7_col0\" class=\"data row7 col0\" >High Cardinality Features</td>\n",
       "                        <td id=\"T_2b9fe_row7_col1\" class=\"data row7 col1\" >False</td>\n",
       "            </tr>\n",
       "            <tr>\n",
       "                        <th id=\"T_2b9fe_level0_row8\" class=\"row_heading level0 row8\" >8</th>\n",
       "                        <td id=\"T_2b9fe_row8_col0\" class=\"data row8 col0\" >High Cardinality Method</td>\n",
       "                        <td id=\"T_2b9fe_row8_col1\" class=\"data row8 col1\" >None</td>\n",
       "            </tr>\n",
       "            <tr>\n",
       "                        <th id=\"T_2b9fe_level0_row9\" class=\"row_heading level0 row9\" >9</th>\n",
       "                        <td id=\"T_2b9fe_row9_col0\" class=\"data row9 col0\" >Transformed Train Set</td>\n",
       "                        <td id=\"T_2b9fe_row9_col1\" class=\"data row9 col1\" >(5655, 22)</td>\n",
       "            </tr>\n",
       "            <tr>\n",
       "                        <th id=\"T_2b9fe_level0_row10\" class=\"row_heading level0 row10\" >10</th>\n",
       "                        <td id=\"T_2b9fe_row10_col0\" class=\"data row10 col0\" >Transformed Test Set</td>\n",
       "                        <td id=\"T_2b9fe_row10_col1\" class=\"data row10 col1\" >(2425, 22)</td>\n",
       "            </tr>\n",
       "            <tr>\n",
       "                        <th id=\"T_2b9fe_level0_row11\" class=\"row_heading level0 row11\" >11</th>\n",
       "                        <td id=\"T_2b9fe_row11_col0\" class=\"data row11 col0\" >Shuffle Train-Test</td>\n",
       "                        <td id=\"T_2b9fe_row11_col1\" class=\"data row11 col1\" >True</td>\n",
       "            </tr>\n",
       "            <tr>\n",
       "                        <th id=\"T_2b9fe_level0_row12\" class=\"row_heading level0 row12\" >12</th>\n",
       "                        <td id=\"T_2b9fe_row12_col0\" class=\"data row12 col0\" >Stratify Train-Test</td>\n",
       "                        <td id=\"T_2b9fe_row12_col1\" class=\"data row12 col1\" >False</td>\n",
       "            </tr>\n",
       "            <tr>\n",
       "                        <th id=\"T_2b9fe_level0_row13\" class=\"row_heading level0 row13\" >13</th>\n",
       "                        <td id=\"T_2b9fe_row13_col0\" class=\"data row13 col0\" >Fold Generator</td>\n",
       "                        <td id=\"T_2b9fe_row13_col1\" class=\"data row13 col1\" >KFold</td>\n",
       "            </tr>\n",
       "            <tr>\n",
       "                        <th id=\"T_2b9fe_level0_row14\" class=\"row_heading level0 row14\" >14</th>\n",
       "                        <td id=\"T_2b9fe_row14_col0\" class=\"data row14 col0\" >Fold Number</td>\n",
       "                        <td id=\"T_2b9fe_row14_col1\" class=\"data row14 col1\" >10</td>\n",
       "            </tr>\n",
       "            <tr>\n",
       "                        <th id=\"T_2b9fe_level0_row15\" class=\"row_heading level0 row15\" >15</th>\n",
       "                        <td id=\"T_2b9fe_row15_col0\" class=\"data row15 col0\" >CPU Jobs</td>\n",
       "                        <td id=\"T_2b9fe_row15_col1\" class=\"data row15 col1\" >-1</td>\n",
       "            </tr>\n",
       "            <tr>\n",
       "                        <th id=\"T_2b9fe_level0_row16\" class=\"row_heading level0 row16\" >16</th>\n",
       "                        <td id=\"T_2b9fe_row16_col0\" class=\"data row16 col0\" >Use GPU</td>\n",
       "                        <td id=\"T_2b9fe_row16_col1\" class=\"data row16 col1\" >False</td>\n",
       "            </tr>\n",
       "            <tr>\n",
       "                        <th id=\"T_2b9fe_level0_row17\" class=\"row_heading level0 row17\" >17</th>\n",
       "                        <td id=\"T_2b9fe_row17_col0\" class=\"data row17 col0\" >Log Experiment</td>\n",
       "                        <td id=\"T_2b9fe_row17_col1\" class=\"data row17 col1\" >True</td>\n",
       "            </tr>\n",
       "            <tr>\n",
       "                        <th id=\"T_2b9fe_level0_row18\" class=\"row_heading level0 row18\" >18</th>\n",
       "                        <td id=\"T_2b9fe_row18_col0\" class=\"data row18 col0\" >Experiment Name</td>\n",
       "                        <td id=\"T_2b9fe_row18_col1\" class=\"data row18 col1\" >fund_analysis</td>\n",
       "            </tr>\n",
       "            <tr>\n",
       "                        <th id=\"T_2b9fe_level0_row19\" class=\"row_heading level0 row19\" >19</th>\n",
       "                        <td id=\"T_2b9fe_row19_col0\" class=\"data row19 col0\" >USI</td>\n",
       "                        <td id=\"T_2b9fe_row19_col1\" class=\"data row19 col1\" >6b4f</td>\n",
       "            </tr>\n",
       "            <tr>\n",
       "                        <th id=\"T_2b9fe_level0_row20\" class=\"row_heading level0 row20\" >20</th>\n",
       "                        <td id=\"T_2b9fe_row20_col0\" class=\"data row20 col0\" >Imputation Type</td>\n",
       "                        <td id=\"T_2b9fe_row20_col1\" class=\"data row20 col1\" >simple</td>\n",
       "            </tr>\n",
       "            <tr>\n",
       "                        <th id=\"T_2b9fe_level0_row21\" class=\"row_heading level0 row21\" >21</th>\n",
       "                        <td id=\"T_2b9fe_row21_col0\" class=\"data row21 col0\" >Iterative Imputation Iteration</td>\n",
       "                        <td id=\"T_2b9fe_row21_col1\" class=\"data row21 col1\" >None</td>\n",
       "            </tr>\n",
       "            <tr>\n",
       "                        <th id=\"T_2b9fe_level0_row22\" class=\"row_heading level0 row22\" >22</th>\n",
       "                        <td id=\"T_2b9fe_row22_col0\" class=\"data row22 col0\" >Numeric Imputer</td>\n",
       "                        <td id=\"T_2b9fe_row22_col1\" class=\"data row22 col1\" >mean</td>\n",
       "            </tr>\n",
       "            <tr>\n",
       "                        <th id=\"T_2b9fe_level0_row23\" class=\"row_heading level0 row23\" >23</th>\n",
       "                        <td id=\"T_2b9fe_row23_col0\" class=\"data row23 col0\" >Iterative Imputation Numeric Model</td>\n",
       "                        <td id=\"T_2b9fe_row23_col1\" class=\"data row23 col1\" >None</td>\n",
       "            </tr>\n",
       "            <tr>\n",
       "                        <th id=\"T_2b9fe_level0_row24\" class=\"row_heading level0 row24\" >24</th>\n",
       "                        <td id=\"T_2b9fe_row24_col0\" class=\"data row24 col0\" >Categorical Imputer</td>\n",
       "                        <td id=\"T_2b9fe_row24_col1\" class=\"data row24 col1\" >constant</td>\n",
       "            </tr>\n",
       "            <tr>\n",
       "                        <th id=\"T_2b9fe_level0_row25\" class=\"row_heading level0 row25\" >25</th>\n",
       "                        <td id=\"T_2b9fe_row25_col0\" class=\"data row25 col0\" >Iterative Imputation Categorical Model</td>\n",
       "                        <td id=\"T_2b9fe_row25_col1\" class=\"data row25 col1\" >None</td>\n",
       "            </tr>\n",
       "            <tr>\n",
       "                        <th id=\"T_2b9fe_level0_row26\" class=\"row_heading level0 row26\" >26</th>\n",
       "                        <td id=\"T_2b9fe_row26_col0\" class=\"data row26 col0\" >Unknown Categoricals Handling</td>\n",
       "                        <td id=\"T_2b9fe_row26_col1\" class=\"data row26 col1\" >least_frequent</td>\n",
       "            </tr>\n",
       "            <tr>\n",
       "                        <th id=\"T_2b9fe_level0_row27\" class=\"row_heading level0 row27\" >27</th>\n",
       "                        <td id=\"T_2b9fe_row27_col0\" class=\"data row27 col0\" >Normalize</td>\n",
       "                        <td id=\"T_2b9fe_row27_col1\" class=\"data row27 col1\" >False</td>\n",
       "            </tr>\n",
       "            <tr>\n",
       "                        <th id=\"T_2b9fe_level0_row28\" class=\"row_heading level0 row28\" >28</th>\n",
       "                        <td id=\"T_2b9fe_row28_col0\" class=\"data row28 col0\" >Normalize Method</td>\n",
       "                        <td id=\"T_2b9fe_row28_col1\" class=\"data row28 col1\" >None</td>\n",
       "            </tr>\n",
       "            <tr>\n",
       "                        <th id=\"T_2b9fe_level0_row29\" class=\"row_heading level0 row29\" >29</th>\n",
       "                        <td id=\"T_2b9fe_row29_col0\" class=\"data row29 col0\" >Transformation</td>\n",
       "                        <td id=\"T_2b9fe_row29_col1\" class=\"data row29 col1\" >False</td>\n",
       "            </tr>\n",
       "            <tr>\n",
       "                        <th id=\"T_2b9fe_level0_row30\" class=\"row_heading level0 row30\" >30</th>\n",
       "                        <td id=\"T_2b9fe_row30_col0\" class=\"data row30 col0\" >Transformation Method</td>\n",
       "                        <td id=\"T_2b9fe_row30_col1\" class=\"data row30 col1\" >None</td>\n",
       "            </tr>\n",
       "            <tr>\n",
       "                        <th id=\"T_2b9fe_level0_row31\" class=\"row_heading level0 row31\" >31</th>\n",
       "                        <td id=\"T_2b9fe_row31_col0\" class=\"data row31 col0\" >PCA</td>\n",
       "                        <td id=\"T_2b9fe_row31_col1\" class=\"data row31 col1\" >False</td>\n",
       "            </tr>\n",
       "            <tr>\n",
       "                        <th id=\"T_2b9fe_level0_row32\" class=\"row_heading level0 row32\" >32</th>\n",
       "                        <td id=\"T_2b9fe_row32_col0\" class=\"data row32 col0\" >PCA Method</td>\n",
       "                        <td id=\"T_2b9fe_row32_col1\" class=\"data row32 col1\" >None</td>\n",
       "            </tr>\n",
       "            <tr>\n",
       "                        <th id=\"T_2b9fe_level0_row33\" class=\"row_heading level0 row33\" >33</th>\n",
       "                        <td id=\"T_2b9fe_row33_col0\" class=\"data row33 col0\" >PCA Components</td>\n",
       "                        <td id=\"T_2b9fe_row33_col1\" class=\"data row33 col1\" >None</td>\n",
       "            </tr>\n",
       "            <tr>\n",
       "                        <th id=\"T_2b9fe_level0_row34\" class=\"row_heading level0 row34\" >34</th>\n",
       "                        <td id=\"T_2b9fe_row34_col0\" class=\"data row34 col0\" >Ignore Low Variance</td>\n",
       "                        <td id=\"T_2b9fe_row34_col1\" class=\"data row34 col1\" >False</td>\n",
       "            </tr>\n",
       "            <tr>\n",
       "                        <th id=\"T_2b9fe_level0_row35\" class=\"row_heading level0 row35\" >35</th>\n",
       "                        <td id=\"T_2b9fe_row35_col0\" class=\"data row35 col0\" >Combine Rare Levels</td>\n",
       "                        <td id=\"T_2b9fe_row35_col1\" class=\"data row35 col1\" >False</td>\n",
       "            </tr>\n",
       "            <tr>\n",
       "                        <th id=\"T_2b9fe_level0_row36\" class=\"row_heading level0 row36\" >36</th>\n",
       "                        <td id=\"T_2b9fe_row36_col0\" class=\"data row36 col0\" >Rare Level Threshold</td>\n",
       "                        <td id=\"T_2b9fe_row36_col1\" class=\"data row36 col1\" >None</td>\n",
       "            </tr>\n",
       "            <tr>\n",
       "                        <th id=\"T_2b9fe_level0_row37\" class=\"row_heading level0 row37\" >37</th>\n",
       "                        <td id=\"T_2b9fe_row37_col0\" class=\"data row37 col0\" >Numeric Binning</td>\n",
       "                        <td id=\"T_2b9fe_row37_col1\" class=\"data row37 col1\" >False</td>\n",
       "            </tr>\n",
       "            <tr>\n",
       "                        <th id=\"T_2b9fe_level0_row38\" class=\"row_heading level0 row38\" >38</th>\n",
       "                        <td id=\"T_2b9fe_row38_col0\" class=\"data row38 col0\" >Remove Outliers</td>\n",
       "                        <td id=\"T_2b9fe_row38_col1\" class=\"data row38 col1\" >False</td>\n",
       "            </tr>\n",
       "            <tr>\n",
       "                        <th id=\"T_2b9fe_level0_row39\" class=\"row_heading level0 row39\" >39</th>\n",
       "                        <td id=\"T_2b9fe_row39_col0\" class=\"data row39 col0\" >Outliers Threshold</td>\n",
       "                        <td id=\"T_2b9fe_row39_col1\" class=\"data row39 col1\" >None</td>\n",
       "            </tr>\n",
       "            <tr>\n",
       "                        <th id=\"T_2b9fe_level0_row40\" class=\"row_heading level0 row40\" >40</th>\n",
       "                        <td id=\"T_2b9fe_row40_col0\" class=\"data row40 col0\" >Remove Multicollinearity</td>\n",
       "                        <td id=\"T_2b9fe_row40_col1\" class=\"data row40 col1\" >False</td>\n",
       "            </tr>\n",
       "            <tr>\n",
       "                        <th id=\"T_2b9fe_level0_row41\" class=\"row_heading level0 row41\" >41</th>\n",
       "                        <td id=\"T_2b9fe_row41_col0\" class=\"data row41 col0\" >Multicollinearity Threshold</td>\n",
       "                        <td id=\"T_2b9fe_row41_col1\" class=\"data row41 col1\" >None</td>\n",
       "            </tr>\n",
       "            <tr>\n",
       "                        <th id=\"T_2b9fe_level0_row42\" class=\"row_heading level0 row42\" >42</th>\n",
       "                        <td id=\"T_2b9fe_row42_col0\" class=\"data row42 col0\" >Remove Perfect Collinearity</td>\n",
       "                        <td id=\"T_2b9fe_row42_col1\" class=\"data row42 col1\" >True</td>\n",
       "            </tr>\n",
       "            <tr>\n",
       "                        <th id=\"T_2b9fe_level0_row43\" class=\"row_heading level0 row43\" >43</th>\n",
       "                        <td id=\"T_2b9fe_row43_col0\" class=\"data row43 col0\" >Clustering</td>\n",
       "                        <td id=\"T_2b9fe_row43_col1\" class=\"data row43 col1\" >False</td>\n",
       "            </tr>\n",
       "            <tr>\n",
       "                        <th id=\"T_2b9fe_level0_row44\" class=\"row_heading level0 row44\" >44</th>\n",
       "                        <td id=\"T_2b9fe_row44_col0\" class=\"data row44 col0\" >Clustering Iteration</td>\n",
       "                        <td id=\"T_2b9fe_row44_col1\" class=\"data row44 col1\" >None</td>\n",
       "            </tr>\n",
       "            <tr>\n",
       "                        <th id=\"T_2b9fe_level0_row45\" class=\"row_heading level0 row45\" >45</th>\n",
       "                        <td id=\"T_2b9fe_row45_col0\" class=\"data row45 col0\" >Polynomial Features</td>\n",
       "                        <td id=\"T_2b9fe_row45_col1\" class=\"data row45 col1\" >False</td>\n",
       "            </tr>\n",
       "            <tr>\n",
       "                        <th id=\"T_2b9fe_level0_row46\" class=\"row_heading level0 row46\" >46</th>\n",
       "                        <td id=\"T_2b9fe_row46_col0\" class=\"data row46 col0\" >Polynomial Degree</td>\n",
       "                        <td id=\"T_2b9fe_row46_col1\" class=\"data row46 col1\" >None</td>\n",
       "            </tr>\n",
       "            <tr>\n",
       "                        <th id=\"T_2b9fe_level0_row47\" class=\"row_heading level0 row47\" >47</th>\n",
       "                        <td id=\"T_2b9fe_row47_col0\" class=\"data row47 col0\" >Trignometry Features</td>\n",
       "                        <td id=\"T_2b9fe_row47_col1\" class=\"data row47 col1\" >False</td>\n",
       "            </tr>\n",
       "            <tr>\n",
       "                        <th id=\"T_2b9fe_level0_row48\" class=\"row_heading level0 row48\" >48</th>\n",
       "                        <td id=\"T_2b9fe_row48_col0\" class=\"data row48 col0\" >Polynomial Threshold</td>\n",
       "                        <td id=\"T_2b9fe_row48_col1\" class=\"data row48 col1\" >None</td>\n",
       "            </tr>\n",
       "            <tr>\n",
       "                        <th id=\"T_2b9fe_level0_row49\" class=\"row_heading level0 row49\" >49</th>\n",
       "                        <td id=\"T_2b9fe_row49_col0\" class=\"data row49 col0\" >Group Features</td>\n",
       "                        <td id=\"T_2b9fe_row49_col1\" class=\"data row49 col1\" >False</td>\n",
       "            </tr>\n",
       "            <tr>\n",
       "                        <th id=\"T_2b9fe_level0_row50\" class=\"row_heading level0 row50\" >50</th>\n",
       "                        <td id=\"T_2b9fe_row50_col0\" class=\"data row50 col0\" >Feature Selection</td>\n",
       "                        <td id=\"T_2b9fe_row50_col1\" class=\"data row50 col1\" >False</td>\n",
       "            </tr>\n",
       "            <tr>\n",
       "                        <th id=\"T_2b9fe_level0_row51\" class=\"row_heading level0 row51\" >51</th>\n",
       "                        <td id=\"T_2b9fe_row51_col0\" class=\"data row51 col0\" >Feature Selection Method</td>\n",
       "                        <td id=\"T_2b9fe_row51_col1\" class=\"data row51 col1\" >classic</td>\n",
       "            </tr>\n",
       "            <tr>\n",
       "                        <th id=\"T_2b9fe_level0_row52\" class=\"row_heading level0 row52\" >52</th>\n",
       "                        <td id=\"T_2b9fe_row52_col0\" class=\"data row52 col0\" >Features Selection Threshold</td>\n",
       "                        <td id=\"T_2b9fe_row52_col1\" class=\"data row52 col1\" >None</td>\n",
       "            </tr>\n",
       "            <tr>\n",
       "                        <th id=\"T_2b9fe_level0_row53\" class=\"row_heading level0 row53\" >53</th>\n",
       "                        <td id=\"T_2b9fe_row53_col0\" class=\"data row53 col0\" >Feature Interaction</td>\n",
       "                        <td id=\"T_2b9fe_row53_col1\" class=\"data row53 col1\" >False</td>\n",
       "            </tr>\n",
       "            <tr>\n",
       "                        <th id=\"T_2b9fe_level0_row54\" class=\"row_heading level0 row54\" >54</th>\n",
       "                        <td id=\"T_2b9fe_row54_col0\" class=\"data row54 col0\" >Feature Ratio</td>\n",
       "                        <td id=\"T_2b9fe_row54_col1\" class=\"data row54 col1\" >False</td>\n",
       "            </tr>\n",
       "            <tr>\n",
       "                        <th id=\"T_2b9fe_level0_row55\" class=\"row_heading level0 row55\" >55</th>\n",
       "                        <td id=\"T_2b9fe_row55_col0\" class=\"data row55 col0\" >Interaction Threshold</td>\n",
       "                        <td id=\"T_2b9fe_row55_col1\" class=\"data row55 col1\" >None</td>\n",
       "            </tr>\n",
       "            <tr>\n",
       "                        <th id=\"T_2b9fe_level0_row56\" class=\"row_heading level0 row56\" >56</th>\n",
       "                        <td id=\"T_2b9fe_row56_col0\" class=\"data row56 col0\" >Transform Target</td>\n",
       "                        <td id=\"T_2b9fe_row56_col1\" class=\"data row56 col1\" >False</td>\n",
       "            </tr>\n",
       "            <tr>\n",
       "                        <th id=\"T_2b9fe_level0_row57\" class=\"row_heading level0 row57\" >57</th>\n",
       "                        <td id=\"T_2b9fe_row57_col0\" class=\"data row57 col0\" >Transform Target Method</td>\n",
       "                        <td id=\"T_2b9fe_row57_col1\" class=\"data row57 col1\" >box-cox</td>\n",
       "            </tr>\n",
       "    </tbody></table>"
      ],
      "text/plain": [
       "<pandas.io.formats.style.Styler at 0x2965a18ec70>"
      ]
     },
     "metadata": {},
     "output_type": "display_data"
    }
   ],
   "source": [
    "reg  =setup(dfp, target = 'fund_return_10years', session_id = 123, log_experiment = True, experiment_name = 'fund_analysis')"
   ]
  },
  {
   "cell_type": "markdown",
   "id": "b3cad9b3-8f63-45c9-b5f7-2e0a388427b2",
   "metadata": {},
   "source": [
    "## BEST MODEL ACCORDING TO PYCARET"
   ]
  },
  {
   "cell_type": "code",
   "execution_count": 14,
   "id": "18340525-acde-49ea-8c73-23af1685a333",
   "metadata": {},
   "outputs": [
    {
     "data": {
      "text/html": [
       "<style  type=\"text/css\" >\n",
       "    #T_73401_ th {\n",
       "          text-align: left;\n",
       "    }#T_73401_row0_col0,#T_73401_row1_col0,#T_73401_row1_col1,#T_73401_row1_col2,#T_73401_row1_col3,#T_73401_row1_col4,#T_73401_row1_col5,#T_73401_row1_col6,#T_73401_row2_col0,#T_73401_row2_col1,#T_73401_row2_col2,#T_73401_row2_col3,#T_73401_row2_col4,#T_73401_row2_col5,#T_73401_row2_col6,#T_73401_row3_col0,#T_73401_row3_col1,#T_73401_row3_col2,#T_73401_row3_col3,#T_73401_row3_col4,#T_73401_row3_col5,#T_73401_row3_col6,#T_73401_row4_col0,#T_73401_row4_col1,#T_73401_row4_col2,#T_73401_row4_col3,#T_73401_row4_col4,#T_73401_row4_col5,#T_73401_row4_col6,#T_73401_row5_col0,#T_73401_row5_col1,#T_73401_row5_col2,#T_73401_row5_col3,#T_73401_row5_col4,#T_73401_row5_col5,#T_73401_row5_col6,#T_73401_row6_col0,#T_73401_row6_col1,#T_73401_row6_col2,#T_73401_row6_col3,#T_73401_row6_col4,#T_73401_row6_col5,#T_73401_row6_col6,#T_73401_row7_col0,#T_73401_row7_col1,#T_73401_row7_col2,#T_73401_row7_col3,#T_73401_row7_col4,#T_73401_row7_col5,#T_73401_row7_col6,#T_73401_row8_col0,#T_73401_row8_col1,#T_73401_row8_col2,#T_73401_row8_col3,#T_73401_row8_col4,#T_73401_row8_col5,#T_73401_row8_col6,#T_73401_row9_col0,#T_73401_row9_col1,#T_73401_row9_col2,#T_73401_row9_col3,#T_73401_row9_col4,#T_73401_row9_col5,#T_73401_row9_col6,#T_73401_row10_col0,#T_73401_row10_col1,#T_73401_row10_col2,#T_73401_row10_col3,#T_73401_row10_col4,#T_73401_row10_col5,#T_73401_row10_col6,#T_73401_row11_col0,#T_73401_row11_col1,#T_73401_row11_col2,#T_73401_row11_col3,#T_73401_row11_col4,#T_73401_row11_col5,#T_73401_row11_col6,#T_73401_row12_col0,#T_73401_row12_col1,#T_73401_row12_col2,#T_73401_row12_col3,#T_73401_row12_col4,#T_73401_row12_col5,#T_73401_row12_col6,#T_73401_row13_col0,#T_73401_row13_col1,#T_73401_row13_col2,#T_73401_row13_col3,#T_73401_row13_col4,#T_73401_row13_col5,#T_73401_row13_col6,#T_73401_row14_col0,#T_73401_row14_col1,#T_73401_row14_col2,#T_73401_row14_col3,#T_73401_row14_col4,#T_73401_row14_col5,#T_73401_row14_col6,#T_73401_row15_col0,#T_73401_row15_col1,#T_73401_row15_col2,#T_73401_row15_col3,#T_73401_row15_col4,#T_73401_row15_col5,#T_73401_row15_col6,#T_73401_row16_col0,#T_73401_row16_col1,#T_73401_row16_col2,#T_73401_row16_col3,#T_73401_row16_col4,#T_73401_row16_col5,#T_73401_row16_col6{\n",
       "            text-align:  left;\n",
       "            text-align:  left;\n",
       "        }#T_73401_row0_col1,#T_73401_row0_col2,#T_73401_row0_col3,#T_73401_row0_col4,#T_73401_row0_col5,#T_73401_row0_col6{\n",
       "            text-align:  left;\n",
       "            text-align:  left;\n",
       "            background-color:  yellow;\n",
       "        }#T_73401_row0_col7,#T_73401_row1_col7,#T_73401_row2_col7,#T_73401_row3_col7,#T_73401_row4_col7,#T_73401_row5_col7,#T_73401_row6_col7,#T_73401_row7_col7,#T_73401_row8_col7,#T_73401_row9_col7,#T_73401_row11_col7,#T_73401_row12_col7,#T_73401_row13_col7,#T_73401_row15_col7,#T_73401_row16_col7{\n",
       "            text-align:  left;\n",
       "            text-align:  left;\n",
       "            background-color:  lightgrey;\n",
       "        }#T_73401_row10_col7,#T_73401_row14_col7{\n",
       "            text-align:  left;\n",
       "            text-align:  left;\n",
       "            background-color:  yellow;\n",
       "            background-color:  lightgrey;\n",
       "        }</style><table id=\"T_73401_\" ><thead>    <tr>        <th class=\"blank level0\" ></th>        <th class=\"col_heading level0 col0\" >Model</th>        <th class=\"col_heading level0 col1\" >MAE</th>        <th class=\"col_heading level0 col2\" >MSE</th>        <th class=\"col_heading level0 col3\" >RMSE</th>        <th class=\"col_heading level0 col4\" >R2</th>        <th class=\"col_heading level0 col5\" >RMSLE</th>        <th class=\"col_heading level0 col6\" >MAPE</th>        <th class=\"col_heading level0 col7\" >TT (Sec)</th>    </tr></thead><tbody>\n",
       "                <tr>\n",
       "                        <th id=\"T_73401_level0_row0\" class=\"row_heading level0 row0\" >et</th>\n",
       "                        <td id=\"T_73401_row0_col0\" class=\"data row0 col0\" >Extra Trees Regressor</td>\n",
       "                        <td id=\"T_73401_row0_col1\" class=\"data row0 col1\" >0.7422</td>\n",
       "                        <td id=\"T_73401_row0_col2\" class=\"data row0 col2\" >1.6292</td>\n",
       "                        <td id=\"T_73401_row0_col3\" class=\"data row0 col3\" >1.2617</td>\n",
       "                        <td id=\"T_73401_row0_col4\" class=\"data row0 col4\" >0.9106</td>\n",
       "                        <td id=\"T_73401_row0_col5\" class=\"data row0 col5\" >0.1656</td>\n",
       "                        <td id=\"T_73401_row0_col6\" class=\"data row0 col6\" >0.1525</td>\n",
       "                        <td id=\"T_73401_row0_col7\" class=\"data row0 col7\" >3.3560</td>\n",
       "            </tr>\n",
       "            <tr>\n",
       "                        <th id=\"T_73401_level0_row1\" class=\"row_heading level0 row1\" >rf</th>\n",
       "                        <td id=\"T_73401_row1_col0\" class=\"data row1 col0\" >Random Forest Regressor</td>\n",
       "                        <td id=\"T_73401_row1_col1\" class=\"data row1 col1\" >0.8219</td>\n",
       "                        <td id=\"T_73401_row1_col2\" class=\"data row1 col2\" >2.0039</td>\n",
       "                        <td id=\"T_73401_row1_col3\" class=\"data row1 col3\" >1.3999</td>\n",
       "                        <td id=\"T_73401_row1_col4\" class=\"data row1 col4\" >0.8900</td>\n",
       "                        <td id=\"T_73401_row1_col5\" class=\"data row1 col5\" >0.1879</td>\n",
       "                        <td id=\"T_73401_row1_col6\" class=\"data row1 col6\" >0.1829</td>\n",
       "                        <td id=\"T_73401_row1_col7\" class=\"data row1 col7\" >7.2320</td>\n",
       "            </tr>\n",
       "            <tr>\n",
       "                        <th id=\"T_73401_level0_row2\" class=\"row_heading level0 row2\" >lightgbm</th>\n",
       "                        <td id=\"T_73401_row2_col0\" class=\"data row2 col0\" >Light Gradient Boosting Machine</td>\n",
       "                        <td id=\"T_73401_row2_col1\" class=\"data row2 col1\" >0.9650</td>\n",
       "                        <td id=\"T_73401_row2_col2\" class=\"data row2 col2\" >2.2749</td>\n",
       "                        <td id=\"T_73401_row2_col3\" class=\"data row2 col3\" >1.4994</td>\n",
       "                        <td id=\"T_73401_row2_col4\" class=\"data row2 col4\" >0.8747</td>\n",
       "                        <td id=\"T_73401_row2_col5\" class=\"data row2 col5\" >0.2143</td>\n",
       "                        <td id=\"T_73401_row2_col6\" class=\"data row2 col6\" >0.2210</td>\n",
       "                        <td id=\"T_73401_row2_col7\" class=\"data row2 col7\" >2.4880</td>\n",
       "            </tr>\n",
       "            <tr>\n",
       "                        <th id=\"T_73401_level0_row3\" class=\"row_heading level0 row3\" >dt</th>\n",
       "                        <td id=\"T_73401_row3_col0\" class=\"data row3 col0\" >Decision Tree Regressor</td>\n",
       "                        <td id=\"T_73401_row3_col1\" class=\"data row3 col1\" >0.9238</td>\n",
       "                        <td id=\"T_73401_row3_col2\" class=\"data row3 col2\" >3.2051</td>\n",
       "                        <td id=\"T_73401_row3_col3\" class=\"data row3 col3\" >1.7713</td>\n",
       "                        <td id=\"T_73401_row3_col4\" class=\"data row3 col4\" >0.8239</td>\n",
       "                        <td id=\"T_73401_row3_col5\" class=\"data row3 col5\" >0.2374</td>\n",
       "                        <td id=\"T_73401_row3_col6\" class=\"data row3 col6\" >0.1860</td>\n",
       "                        <td id=\"T_73401_row3_col7\" class=\"data row3 col7\" >0.2280</td>\n",
       "            </tr>\n",
       "            <tr>\n",
       "                        <th id=\"T_73401_level0_row4\" class=\"row_heading level0 row4\" >gbr</th>\n",
       "                        <td id=\"T_73401_row4_col0\" class=\"data row4 col0\" >Gradient Boosting Regressor</td>\n",
       "                        <td id=\"T_73401_row4_col1\" class=\"data row4 col1\" >1.3855</td>\n",
       "                        <td id=\"T_73401_row4_col2\" class=\"data row4 col2\" >3.7599</td>\n",
       "                        <td id=\"T_73401_row4_col3\" class=\"data row4 col3\" >1.9355</td>\n",
       "                        <td id=\"T_73401_row4_col4\" class=\"data row4 col4\" >0.7919</td>\n",
       "                        <td id=\"T_73401_row4_col5\" class=\"data row4 col5\" >0.2836</td>\n",
       "                        <td id=\"T_73401_row4_col6\" class=\"data row4 col6\" >0.3832</td>\n",
       "                        <td id=\"T_73401_row4_col7\" class=\"data row4 col7\" >2.8660</td>\n",
       "            </tr>\n",
       "            <tr>\n",
       "                        <th id=\"T_73401_level0_row5\" class=\"row_heading level0 row5\" >ada</th>\n",
       "                        <td id=\"T_73401_row5_col0\" class=\"data row5 col0\" >AdaBoost Regressor</td>\n",
       "                        <td id=\"T_73401_row5_col1\" class=\"data row5 col1\" >1.9723</td>\n",
       "                        <td id=\"T_73401_row5_col2\" class=\"data row5 col2\" >6.3608</td>\n",
       "                        <td id=\"T_73401_row5_col3\" class=\"data row5 col3\" >2.5216</td>\n",
       "                        <td id=\"T_73401_row5_col4\" class=\"data row5 col4\" >0.6466</td>\n",
       "                        <td id=\"T_73401_row5_col5\" class=\"data row5 col5\" >0.3573</td>\n",
       "                        <td id=\"T_73401_row5_col6\" class=\"data row5 col6\" >0.5192</td>\n",
       "                        <td id=\"T_73401_row5_col7\" class=\"data row5 col7\" >1.1880</td>\n",
       "            </tr>\n",
       "            <tr>\n",
       "                        <th id=\"T_73401_level0_row6\" class=\"row_heading level0 row6\" >ridge</th>\n",
       "                        <td id=\"T_73401_row6_col0\" class=\"data row6 col0\" >Ridge Regression</td>\n",
       "                        <td id=\"T_73401_row6_col1\" class=\"data row6 col1\" >1.8777</td>\n",
       "                        <td id=\"T_73401_row6_col2\" class=\"data row6 col2\" >6.4967</td>\n",
       "                        <td id=\"T_73401_row6_col3\" class=\"data row6 col3\" >2.5472</td>\n",
       "                        <td id=\"T_73401_row6_col4\" class=\"data row6 col4\" >0.6398</td>\n",
       "                        <td id=\"T_73401_row6_col5\" class=\"data row6 col5\" >0.3762</td>\n",
       "                        <td id=\"T_73401_row6_col6\" class=\"data row6 col6\" >0.5680</td>\n",
       "                        <td id=\"T_73401_row6_col7\" class=\"data row6 col7\" >0.0400</td>\n",
       "            </tr>\n",
       "            <tr>\n",
       "                        <th id=\"T_73401_level0_row7\" class=\"row_heading level0 row7\" >lr</th>\n",
       "                        <td id=\"T_73401_row7_col0\" class=\"data row7 col0\" >Linear Regression</td>\n",
       "                        <td id=\"T_73401_row7_col1\" class=\"data row7 col1\" >1.8777</td>\n",
       "                        <td id=\"T_73401_row7_col2\" class=\"data row7 col2\" >6.4969</td>\n",
       "                        <td id=\"T_73401_row7_col3\" class=\"data row7 col3\" >2.5472</td>\n",
       "                        <td id=\"T_73401_row7_col4\" class=\"data row7 col4\" >0.6397</td>\n",
       "                        <td id=\"T_73401_row7_col5\" class=\"data row7 col5\" >0.3762</td>\n",
       "                        <td id=\"T_73401_row7_col6\" class=\"data row7 col6\" >0.5680</td>\n",
       "                        <td id=\"T_73401_row7_col7\" class=\"data row7 col7\" >3.4400</td>\n",
       "            </tr>\n",
       "            <tr>\n",
       "                        <th id=\"T_73401_level0_row8\" class=\"row_heading level0 row8\" >br</th>\n",
       "                        <td id=\"T_73401_row8_col0\" class=\"data row8 col0\" >Bayesian Ridge</td>\n",
       "                        <td id=\"T_73401_row8_col1\" class=\"data row8 col1\" >1.8755</td>\n",
       "                        <td id=\"T_73401_row8_col2\" class=\"data row8 col2\" >6.4997</td>\n",
       "                        <td id=\"T_73401_row8_col3\" class=\"data row8 col3\" >2.5478</td>\n",
       "                        <td id=\"T_73401_row8_col4\" class=\"data row8 col4\" >0.6396</td>\n",
       "                        <td id=\"T_73401_row8_col5\" class=\"data row8 col5\" >0.3774</td>\n",
       "                        <td id=\"T_73401_row8_col6\" class=\"data row8 col6\" >0.5678</td>\n",
       "                        <td id=\"T_73401_row8_col7\" class=\"data row8 col7\" >0.0480</td>\n",
       "            </tr>\n",
       "            <tr>\n",
       "                        <th id=\"T_73401_level0_row9\" class=\"row_heading level0 row9\" >en</th>\n",
       "                        <td id=\"T_73401_row9_col0\" class=\"data row9 col0\" >Elastic Net</td>\n",
       "                        <td id=\"T_73401_row9_col1\" class=\"data row9 col1\" >1.8971</td>\n",
       "                        <td id=\"T_73401_row9_col2\" class=\"data row9 col2\" >6.7822</td>\n",
       "                        <td id=\"T_73401_row9_col3\" class=\"data row9 col3\" >2.6022</td>\n",
       "                        <td id=\"T_73401_row9_col4\" class=\"data row9 col4\" >0.6240</td>\n",
       "                        <td id=\"T_73401_row9_col5\" class=\"data row9 col5\" >0.3900</td>\n",
       "                        <td id=\"T_73401_row9_col6\" class=\"data row9 col6\" >0.5771</td>\n",
       "                        <td id=\"T_73401_row9_col7\" class=\"data row9 col7\" >0.0380</td>\n",
       "            </tr>\n",
       "            <tr>\n",
       "                        <th id=\"T_73401_level0_row10\" class=\"row_heading level0 row10\" >lasso</th>\n",
       "                        <td id=\"T_73401_row10_col0\" class=\"data row10 col0\" >Lasso Regression</td>\n",
       "                        <td id=\"T_73401_row10_col1\" class=\"data row10 col1\" >1.9230</td>\n",
       "                        <td id=\"T_73401_row10_col2\" class=\"data row10 col2\" >6.9578</td>\n",
       "                        <td id=\"T_73401_row10_col3\" class=\"data row10 col3\" >2.6355</td>\n",
       "                        <td id=\"T_73401_row10_col4\" class=\"data row10 col4\" >0.6144</td>\n",
       "                        <td id=\"T_73401_row10_col5\" class=\"data row10 col5\" >0.3918</td>\n",
       "                        <td id=\"T_73401_row10_col6\" class=\"data row10 col6\" >0.5869</td>\n",
       "                        <td id=\"T_73401_row10_col7\" class=\"data row10 col7\" >0.0340</td>\n",
       "            </tr>\n",
       "            <tr>\n",
       "                        <th id=\"T_73401_level0_row11\" class=\"row_heading level0 row11\" >huber</th>\n",
       "                        <td id=\"T_73401_row11_col0\" class=\"data row11 col0\" >Huber Regressor</td>\n",
       "                        <td id=\"T_73401_row11_col1\" class=\"data row11 col1\" >1.8828</td>\n",
       "                        <td id=\"T_73401_row11_col2\" class=\"data row11 col2\" >7.1078</td>\n",
       "                        <td id=\"T_73401_row11_col3\" class=\"data row11 col3\" >2.6634</td>\n",
       "                        <td id=\"T_73401_row11_col4\" class=\"data row11 col4\" >0.6062</td>\n",
       "                        <td id=\"T_73401_row11_col5\" class=\"data row11 col5\" >0.3904</td>\n",
       "                        <td id=\"T_73401_row11_col6\" class=\"data row11 col6\" >0.6182</td>\n",
       "                        <td id=\"T_73401_row11_col7\" class=\"data row11 col7\" >0.3820</td>\n",
       "            </tr>\n",
       "            <tr>\n",
       "                        <th id=\"T_73401_level0_row12\" class=\"row_heading level0 row12\" >omp</th>\n",
       "                        <td id=\"T_73401_row12_col0\" class=\"data row12 col0\" >Orthogonal Matching Pursuit</td>\n",
       "                        <td id=\"T_73401_row12_col1\" class=\"data row12 col1\" >2.2246</td>\n",
       "                        <td id=\"T_73401_row12_col2\" class=\"data row12 col2\" >8.3628</td>\n",
       "                        <td id=\"T_73401_row12_col3\" class=\"data row12 col3\" >2.8897</td>\n",
       "                        <td id=\"T_73401_row12_col4\" class=\"data row12 col4\" >0.5364</td>\n",
       "                        <td id=\"T_73401_row12_col5\" class=\"data row12 col5\" >0.3834</td>\n",
       "                        <td id=\"T_73401_row12_col6\" class=\"data row12 col6\" >0.6342</td>\n",
       "                        <td id=\"T_73401_row12_col7\" class=\"data row12 col7\" >0.0380</td>\n",
       "            </tr>\n",
       "            <tr>\n",
       "                        <th id=\"T_73401_level0_row13\" class=\"row_heading level0 row13\" >knn</th>\n",
       "                        <td id=\"T_73401_row13_col0\" class=\"data row13 col0\" >K Neighbors Regressor</td>\n",
       "                        <td id=\"T_73401_row13_col1\" class=\"data row13 col1\" >2.0847</td>\n",
       "                        <td id=\"T_73401_row13_col2\" class=\"data row13 col2\" >9.5824</td>\n",
       "                        <td id=\"T_73401_row13_col3\" class=\"data row13 col3\" >3.0928</td>\n",
       "                        <td id=\"T_73401_row13_col4\" class=\"data row13 col4\" >0.4686</td>\n",
       "                        <td id=\"T_73401_row13_col5\" class=\"data row13 col5\" >0.3947</td>\n",
       "                        <td id=\"T_73401_row13_col6\" class=\"data row13 col6\" >0.5558</td>\n",
       "                        <td id=\"T_73401_row13_col7\" class=\"data row13 col7\" >0.2620</td>\n",
       "            </tr>\n",
       "            <tr>\n",
       "                        <th id=\"T_73401_level0_row14\" class=\"row_heading level0 row14\" >llar</th>\n",
       "                        <td id=\"T_73401_row14_col0\" class=\"data row14 col0\" >Lasso Least Angle Regression</td>\n",
       "                        <td id=\"T_73401_row14_col1\" class=\"data row14 col1\" >3.2387</td>\n",
       "                        <td id=\"T_73401_row14_col2\" class=\"data row14 col2\" >18.0300</td>\n",
       "                        <td id=\"T_73401_row14_col3\" class=\"data row14 col3\" >4.2448</td>\n",
       "                        <td id=\"T_73401_row14_col4\" class=\"data row14 col4\" >-0.0006</td>\n",
       "                        <td id=\"T_73401_row14_col5\" class=\"data row14 col5\" >0.4995</td>\n",
       "                        <td id=\"T_73401_row14_col6\" class=\"data row14 col6\" >0.9625</td>\n",
       "                        <td id=\"T_73401_row14_col7\" class=\"data row14 col7\" >0.0340</td>\n",
       "            </tr>\n",
       "            <tr>\n",
       "                        <th id=\"T_73401_level0_row15\" class=\"row_heading level0 row15\" >lar</th>\n",
       "                        <td id=\"T_73401_row15_col0\" class=\"data row15 col0\" >Least Angle Regression</td>\n",
       "                        <td id=\"T_73401_row15_col1\" class=\"data row15 col1\" >7.5503</td>\n",
       "                        <td id=\"T_73401_row15_col2\" class=\"data row15 col2\" >276.0024</td>\n",
       "                        <td id=\"T_73401_row15_col3\" class=\"data row15 col3\" >10.1974</td>\n",
       "                        <td id=\"T_73401_row15_col4\" class=\"data row15 col4\" >-13.1797</td>\n",
       "                        <td id=\"T_73401_row15_col5\" class=\"data row15 col5\" >0.6612</td>\n",
       "                        <td id=\"T_73401_row15_col6\" class=\"data row15 col6\" >1.5206</td>\n",
       "                        <td id=\"T_73401_row15_col7\" class=\"data row15 col7\" >0.0420</td>\n",
       "            </tr>\n",
       "            <tr>\n",
       "                        <th id=\"T_73401_level0_row16\" class=\"row_heading level0 row16\" >par</th>\n",
       "                        <td id=\"T_73401_row16_col0\" class=\"data row16 col0\" >Passive Aggressive Regressor</td>\n",
       "                        <td id=\"T_73401_row16_col1\" class=\"data row16 col1\" >18.1351</td>\n",
       "                        <td id=\"T_73401_row16_col2\" class=\"data row16 col2\" >2086.4918</td>\n",
       "                        <td id=\"T_73401_row16_col3\" class=\"data row16 col3\" >24.7857</td>\n",
       "                        <td id=\"T_73401_row16_col4\" class=\"data row16 col4\" >-117.7352</td>\n",
       "                        <td id=\"T_73401_row16_col5\" class=\"data row16 col5\" >0.8513</td>\n",
       "                        <td id=\"T_73401_row16_col6\" class=\"data row16 col6\" >3.0984</td>\n",
       "                        <td id=\"T_73401_row16_col7\" class=\"data row16 col7\" >0.0840</td>\n",
       "            </tr>\n",
       "    </tbody></table>"
      ],
      "text/plain": [
       "<pandas.io.formats.style.Styler at 0x2965a18ed60>"
      ]
     },
     "metadata": {},
     "output_type": "display_data"
    }
   ],
   "source": [
    "best_model = compare_models(fold = 5)"
   ]
  },
  {
   "cell_type": "markdown",
   "id": "7e7c4164-9aa8-4807-bfbe-05547b0bb6a9",
   "metadata": {},
   "source": [
    "##  BEST MODEL - EXTRA TREE REGRESSOR"
   ]
  },
  {
   "cell_type": "code",
   "execution_count": 15,
   "id": "02c0c3fa-d748-49cf-b142-236d4245e877",
   "metadata": {},
   "outputs": [
    {
     "data": {
      "text/html": [
       "<style  type=\"text/css\" >\n",
       "#T_84071_row10_col0,#T_84071_row10_col1,#T_84071_row10_col2,#T_84071_row10_col3,#T_84071_row10_col4,#T_84071_row10_col5{\n",
       "            background:  yellow;\n",
       "        }</style><table id=\"T_84071_\" ><thead>    <tr>        <th class=\"blank level0\" ></th>        <th class=\"col_heading level0 col0\" >MAE</th>        <th class=\"col_heading level0 col1\" >MSE</th>        <th class=\"col_heading level0 col2\" >RMSE</th>        <th class=\"col_heading level0 col3\" >R2</th>        <th class=\"col_heading level0 col4\" >RMSLE</th>        <th class=\"col_heading level0 col5\" >MAPE</th>    </tr></thead><tbody>\n",
       "                <tr>\n",
       "                        <th id=\"T_84071_level0_row0\" class=\"row_heading level0 row0\" >0</th>\n",
       "                        <td id=\"T_84071_row0_col0\" class=\"data row0 col0\" >0.6939</td>\n",
       "                        <td id=\"T_84071_row0_col1\" class=\"data row0 col1\" >2.0719</td>\n",
       "                        <td id=\"T_84071_row0_col2\" class=\"data row0 col2\" >1.4394</td>\n",
       "                        <td id=\"T_84071_row0_col3\" class=\"data row0 col3\" >0.8911</td>\n",
       "                        <td id=\"T_84071_row0_col4\" class=\"data row0 col4\" >0.1633</td>\n",
       "                        <td id=\"T_84071_row0_col5\" class=\"data row0 col5\" >0.1381</td>\n",
       "            </tr>\n",
       "            <tr>\n",
       "                        <th id=\"T_84071_level0_row1\" class=\"row_heading level0 row1\" >1</th>\n",
       "                        <td id=\"T_84071_row1_col0\" class=\"data row1 col0\" >0.7668</td>\n",
       "                        <td id=\"T_84071_row1_col1\" class=\"data row1 col1\" >2.3860</td>\n",
       "                        <td id=\"T_84071_row1_col2\" class=\"data row1 col2\" >1.5447</td>\n",
       "                        <td id=\"T_84071_row1_col3\" class=\"data row1 col3\" >0.8807</td>\n",
       "                        <td id=\"T_84071_row1_col4\" class=\"data row1 col4\" >0.1957</td>\n",
       "                        <td id=\"T_84071_row1_col5\" class=\"data row1 col5\" >0.1373</td>\n",
       "            </tr>\n",
       "            <tr>\n",
       "                        <th id=\"T_84071_level0_row2\" class=\"row_heading level0 row2\" >2</th>\n",
       "                        <td id=\"T_84071_row2_col0\" class=\"data row2 col0\" >0.6980</td>\n",
       "                        <td id=\"T_84071_row2_col1\" class=\"data row2 col1\" >1.2237</td>\n",
       "                        <td id=\"T_84071_row2_col2\" class=\"data row2 col2\" >1.1062</td>\n",
       "                        <td id=\"T_84071_row2_col3\" class=\"data row2 col3\" >0.9309</td>\n",
       "                        <td id=\"T_84071_row2_col4\" class=\"data row2 col4\" >0.1678</td>\n",
       "                        <td id=\"T_84071_row2_col5\" class=\"data row2 col5\" >0.1787</td>\n",
       "            </tr>\n",
       "            <tr>\n",
       "                        <th id=\"T_84071_level0_row3\" class=\"row_heading level0 row3\" >3</th>\n",
       "                        <td id=\"T_84071_row3_col0\" class=\"data row3 col0\" >0.7044</td>\n",
       "                        <td id=\"T_84071_row3_col1\" class=\"data row3 col1\" >1.5149</td>\n",
       "                        <td id=\"T_84071_row3_col2\" class=\"data row3 col2\" >1.2308</td>\n",
       "                        <td id=\"T_84071_row3_col3\" class=\"data row3 col3\" >0.9096</td>\n",
       "                        <td id=\"T_84071_row3_col4\" class=\"data row3 col4\" >0.1611</td>\n",
       "                        <td id=\"T_84071_row3_col5\" class=\"data row3 col5\" >0.1558</td>\n",
       "            </tr>\n",
       "            <tr>\n",
       "                        <th id=\"T_84071_level0_row4\" class=\"row_heading level0 row4\" >4</th>\n",
       "                        <td id=\"T_84071_row4_col0\" class=\"data row4 col0\" >0.7507</td>\n",
       "                        <td id=\"T_84071_row4_col1\" class=\"data row4 col1\" >1.6018</td>\n",
       "                        <td id=\"T_84071_row4_col2\" class=\"data row4 col2\" >1.2656</td>\n",
       "                        <td id=\"T_84071_row4_col3\" class=\"data row4 col3\" >0.9195</td>\n",
       "                        <td id=\"T_84071_row4_col4\" class=\"data row4 col4\" >0.1797</td>\n",
       "                        <td id=\"T_84071_row4_col5\" class=\"data row4 col5\" >0.1390</td>\n",
       "            </tr>\n",
       "            <tr>\n",
       "                        <th id=\"T_84071_level0_row5\" class=\"row_heading level0 row5\" >5</th>\n",
       "                        <td id=\"T_84071_row5_col0\" class=\"data row5 col0\" >0.7740</td>\n",
       "                        <td id=\"T_84071_row5_col1\" class=\"data row5 col1\" >1.7586</td>\n",
       "                        <td id=\"T_84071_row5_col2\" class=\"data row5 col2\" >1.3261</td>\n",
       "                        <td id=\"T_84071_row5_col3\" class=\"data row5 col3\" >0.8985</td>\n",
       "                        <td id=\"T_84071_row5_col4\" class=\"data row5 col4\" >0.1821</td>\n",
       "                        <td id=\"T_84071_row5_col5\" class=\"data row5 col5\" >0.1459</td>\n",
       "            </tr>\n",
       "            <tr>\n",
       "                        <th id=\"T_84071_level0_row6\" class=\"row_heading level0 row6\" >6</th>\n",
       "                        <td id=\"T_84071_row6_col0\" class=\"data row6 col0\" >0.6588</td>\n",
       "                        <td id=\"T_84071_row6_col1\" class=\"data row6 col1\" >1.0523</td>\n",
       "                        <td id=\"T_84071_row6_col2\" class=\"data row6 col2\" >1.0258</td>\n",
       "                        <td id=\"T_84071_row6_col3\" class=\"data row6 col3\" >0.9385</td>\n",
       "                        <td id=\"T_84071_row6_col4\" class=\"data row6 col4\" >0.1324</td>\n",
       "                        <td id=\"T_84071_row6_col5\" class=\"data row6 col5\" >0.1227</td>\n",
       "            </tr>\n",
       "            <tr>\n",
       "                        <th id=\"T_84071_level0_row7\" class=\"row_heading level0 row7\" >7</th>\n",
       "                        <td id=\"T_84071_row7_col0\" class=\"data row7 col0\" >0.6520</td>\n",
       "                        <td id=\"T_84071_row7_col1\" class=\"data row7 col1\" >1.0547</td>\n",
       "                        <td id=\"T_84071_row7_col2\" class=\"data row7 col2\" >1.0270</td>\n",
       "                        <td id=\"T_84071_row7_col3\" class=\"data row7 col3\" >0.9415</td>\n",
       "                        <td id=\"T_84071_row7_col4\" class=\"data row7 col4\" >0.1254</td>\n",
       "                        <td id=\"T_84071_row7_col5\" class=\"data row7 col5\" >0.1118</td>\n",
       "            </tr>\n",
       "            <tr>\n",
       "                        <th id=\"T_84071_level0_row8\" class=\"row_heading level0 row8\" >8</th>\n",
       "                        <td id=\"T_84071_row8_col0\" class=\"data row8 col0\" >0.6307</td>\n",
       "                        <td id=\"T_84071_row8_col1\" class=\"data row8 col1\" >0.9027</td>\n",
       "                        <td id=\"T_84071_row8_col2\" class=\"data row8 col2\" >0.9501</td>\n",
       "                        <td id=\"T_84071_row8_col3\" class=\"data row8 col3\" >0.9461</td>\n",
       "                        <td id=\"T_84071_row8_col4\" class=\"data row8 col4\" >0.1501</td>\n",
       "                        <td id=\"T_84071_row8_col5\" class=\"data row8 col5\" >0.1760</td>\n",
       "            </tr>\n",
       "            <tr>\n",
       "                        <th id=\"T_84071_level0_row9\" class=\"row_heading level0 row9\" >9</th>\n",
       "                        <td id=\"T_84071_row9_col0\" class=\"data row9 col0\" >0.7036</td>\n",
       "                        <td id=\"T_84071_row9_col1\" class=\"data row9 col1\" >1.2486</td>\n",
       "                        <td id=\"T_84071_row9_col2\" class=\"data row9 col2\" >1.1174</td>\n",
       "                        <td id=\"T_84071_row9_col3\" class=\"data row9 col3\" >0.9280</td>\n",
       "                        <td id=\"T_84071_row9_col4\" class=\"data row9 col4\" >0.1744</td>\n",
       "                        <td id=\"T_84071_row9_col5\" class=\"data row9 col5\" >0.1805</td>\n",
       "            </tr>\n",
       "            <tr>\n",
       "                        <th id=\"T_84071_level0_row10\" class=\"row_heading level0 row10\" >Mean</th>\n",
       "                        <td id=\"T_84071_row10_col0\" class=\"data row10 col0\" >0.7033</td>\n",
       "                        <td id=\"T_84071_row10_col1\" class=\"data row10 col1\" >1.4815</td>\n",
       "                        <td id=\"T_84071_row10_col2\" class=\"data row10 col2\" >1.2033</td>\n",
       "                        <td id=\"T_84071_row10_col3\" class=\"data row10 col3\" >0.9184</td>\n",
       "                        <td id=\"T_84071_row10_col4\" class=\"data row10 col4\" >0.1632</td>\n",
       "                        <td id=\"T_84071_row10_col5\" class=\"data row10 col5\" >0.1486</td>\n",
       "            </tr>\n",
       "            <tr>\n",
       "                        <th id=\"T_84071_level0_row11\" class=\"row_heading level0 row11\" >SD</th>\n",
       "                        <td id=\"T_84071_row11_col0\" class=\"data row11 col0\" >0.0461</td>\n",
       "                        <td id=\"T_84071_row11_col1\" class=\"data row11 col1\" >0.4562</td>\n",
       "                        <td id=\"T_84071_row11_col2\" class=\"data row11 col2\" >0.1832</td>\n",
       "                        <td id=\"T_84071_row11_col3\" class=\"data row11 col3\" >0.0214</td>\n",
       "                        <td id=\"T_84071_row11_col4\" class=\"data row11 col4\" >0.0209</td>\n",
       "                        <td id=\"T_84071_row11_col5\" class=\"data row11 col5\" >0.0226</td>\n",
       "            </tr>\n",
       "    </tbody></table>"
      ],
      "text/plain": [
       "<pandas.io.formats.style.Styler at 0x29659e5a400>"
      ]
     },
     "metadata": {},
     "output_type": "display_data"
    }
   ],
   "source": [
    "et = create_model('et')"
   ]
  },
  {
   "cell_type": "markdown",
   "id": "9c532b93-8942-496a-8ae8-7654f49e236e",
   "metadata": {},
   "source": [
    "## TUNE RANDOM EXTRA TREE REGRESSOR"
   ]
  },
  {
   "cell_type": "code",
   "execution_count": null,
   "id": "145a0f4d-482d-4581-9ea6-ba2de5166ec1",
   "metadata": {},
   "outputs": [],
   "source": [
    "tuned_et = tune_model(et, n_iter = 50, optimize = 'MAE')"
   ]
  },
  {
   "cell_type": "markdown",
   "id": "f80ff7b2-c238-4ad0-a5ac-f9984dcdfedd",
   "metadata": {},
   "source": [
    "## VISUALISATION"
   ]
  },
  {
   "cell_type": "code",
   "execution_count": 16,
   "id": "c3f9bf33-804d-4ee2-b427-0c6cb9d5bf3e",
   "metadata": {},
   "outputs": [
    {
     "data": {
      "image/png": "[encoded data removed]",
      "text/plain": [
       "<Figure size 576x396 with 2 Axes>"
      ]
     },
     "metadata": {},
     "output_type": "display_data"
    }
   ],
   "source": [
    "plot_model(et)"
   ]
  },
  {
   "cell_type": "code",
   "execution_count": 17,
   "id": "57ce015f-32b5-466b-b831-f22742418fff",
   "metadata": {},
   "outputs": [
    {
     "data": {
      "image/png": "[encoded data removed]",
      "text/plain": [
       "<Figure size 576x396 with 1 Axes>"
      ]
     },
     "metadata": {},
     "output_type": "display_data"
    }
   ],
   "source": [
    "plot_model(et, plot = 'error')"
   ]
  },
  {
   "cell_type": "code",
   "execution_count": 18,
   "id": "7d60b67f-bb92-4e74-b61c-155dd4583dcd",
   "metadata": {},
   "outputs": [
    {
     "data": {
      "image/png": "[encoded data removed]",
      "text/plain": [
       "<Figure size 800x500 with 1 Axes>"
      ]
     },
     "metadata": {},
     "output_type": "display_data"
    }
   ],
   "source": [
    "plot_model(et, plot = 'feature')"
   ]
  },
  {
   "cell_type": "markdown",
   "id": "74d39e3e-af4f-4adc-8c2d-78598078e943",
   "metadata": {},
   "source": [
    "## EVALUATE MODEL"
   ]
  },
  {
   "cell_type": "code",
   "execution_count": 19,
   "id": "0da38074-a7b8-4204-a4ae-eeca60216514",
   "metadata": {},
   "outputs": [
    {
     "data": {
      "application/vnd.jupyter.widget-view+json": {
       "model_id": "9fe042d46eb74822a43d33981119bdeb",
       "version_major": 2,
       "version_minor": 0
      },
      "text/plain": [
       "interactive(children=(ToggleButtons(description='Plot Type:', icons=('',), options=(('Hyperparameters', 'param…"
      ]
     },
     "metadata": {},
     "output_type": "display_data"
    }
   ],
   "source": [
    "evaluate_model(et)"
   ]
  },
  {
   "cell_type": "markdown",
   "id": "6dba017c-3ae9-4d18-906f-55e300f9f803",
   "metadata": {},
   "source": [
    "## INTERPRETATION OF MODEL (SHapley Additive exPlanations)"
   ]
  },
  {
   "cell_type": "code",
   "execution_count": 20,
   "id": "aebfc5c1-98e2-474f-bd51-4d28cbc9b2a4",
   "metadata": {},
   "outputs": [
    {
     "data": {
      "image/png": "[encoded data removed]",
      "text/plain": [
       "<Figure size 576x684 with 2 Axes>"
      ]
     },
     "metadata": {},
     "output_type": "display_data"
    }
   ],
   "source": [
    "interpret_model(et)"
   ]
  },
  {
   "cell_type": "code",
   "execution_count": null,
   "id": "c4d15a94-d98e-4c7d-8ed1-bff91402ccbc",
   "metadata": {},
   "outputs": [],
   "source": []
  },
  {
   "cell_type": "markdown",
   "id": "2338f350-b982-4301-b152-627cd5fc1323",
   "metadata": {},
   "source": [
    "## AUTO MACHINE LEARNING"
   ]
  },
  {
   "cell_type": "code",
   "execution_count": 21,
   "id": "2fb82389-28c3-4328-a4c4-6aa5f134769f",
   "metadata": {},
   "outputs": [
    {
     "name": "stdout",
     "output_type": "stream",
     "text": [
      "ExtraTreesRegressor(bootstrap=False, ccp_alpha=0.0, criterion='mse',\n",
      "                    max_depth=None, max_features='auto', max_leaf_nodes=None,\n",
      "                    max_samples=None, min_impurity_decrease=0.0,\n",
      "                    min_impurity_split=None, min_samples_leaf=1,\n",
      "                    min_samples_split=2, min_weight_fraction_leaf=0.0,\n",
      "                    n_estimators=100, n_jobs=-1, oob_score=False,\n",
      "                    random_state=123, verbose=0, warm_start=False)\n"
     ]
    }
   ],
   "source": [
    "auto_ml = automl(optimize = 'MAE')\n",
    "print(auto_ml)"
   ]
  },
  {
   "cell_type": "markdown",
   "id": "0afcb801-9e16-4533-97f3-7a2de0f76bb6",
   "metadata": {},
   "source": [
    "## PREDICTIONS"
   ]
  },
  {
   "cell_type": "code",
   "execution_count": 23,
   "id": "4dbd4b5d-0695-484d-accc-7a7b06c7521d",
   "metadata": {},
   "outputs": [
    {
     "data": {
      "text/html": [
       "<style  type=\"text/css\" >\n",
       "</style><table id=\"T_5e9d6_\" ><thead>    <tr>        <th class=\"blank level0\" ></th>        <th class=\"col_heading level0 col0\" >Model</th>        <th class=\"col_heading level0 col1\" >MAE</th>        <th class=\"col_heading level0 col2\" >MSE</th>        <th class=\"col_heading level0 col3\" >RMSE</th>        <th class=\"col_heading level0 col4\" >R2</th>        <th class=\"col_heading level0 col5\" >RMSLE</th>        <th class=\"col_heading level0 col6\" >MAPE</th>    </tr></thead><tbody>\n",
       "                <tr>\n",
       "                        <th id=\"T_5e9d6_level0_row0\" class=\"row_heading level0 row0\" >0</th>\n",
       "                        <td id=\"T_5e9d6_row0_col0\" class=\"data row0 col0\" >Extra Trees Regressor</td>\n",
       "                        <td id=\"T_5e9d6_row0_col1\" class=\"data row0 col1\" >0.6634</td>\n",
       "                        <td id=\"T_5e9d6_row0_col2\" class=\"data row0 col2\" >1.1433</td>\n",
       "                        <td id=\"T_5e9d6_row0_col3\" class=\"data row0 col3\" >1.0693</td>\n",
       "                        <td id=\"T_5e9d6_row0_col4\" class=\"data row0 col4\" >0.9357</td>\n",
       "                        <td id=\"T_5e9d6_row0_col5\" class=\"data row0 col5\" >0.1454</td>\n",
       "                        <td id=\"T_5e9d6_row0_col6\" class=\"data row0 col6\" >0.2249</td>\n",
       "            </tr>\n",
       "    </tbody></table>"
      ],
      "text/plain": [
       "<pandas.io.formats.style.Styler at 0x296636251c0>"
      ]
     },
     "metadata": {},
     "output_type": "display_data"
    }
   ],
   "source": [
    "pred = predict_model(auto_ml)"
   ]
  },
  {
   "cell_type": "code",
   "execution_count": 24,
   "id": "c80cbfb8-1fa0-4d31-9bcd-a483852de1c8",
   "metadata": {},
   "outputs": [
    {
     "data": {
      "text/html": [
       "<div>\n",
       "<style scoped>\n",
       "    .dataframe tbody tr th:only-of-type {\n",
       "        vertical-align: middle;\n",
       "    }\n",
       "\n",
       "    .dataframe tbody tr th {\n",
       "        vertical-align: top;\n",
       "    }\n",
       "\n",
       "    .dataframe thead th {\n",
       "        text-align: right;\n",
       "    }\n",
       "</style>\n",
       "<table border=\"1\" class=\"dataframe\">\n",
       "  <thead>\n",
       "    <tr style=\"text-align: right;\">\n",
       "      <th></th>\n",
       "      <th>asset_cash</th>\n",
       "      <th>asset_stocks</th>\n",
       "      <th>asset_bonds</th>\n",
       "      <th>asset_others</th>\n",
       "      <th>asset_preferred</th>\n",
       "      <th>asset_convertable</th>\n",
       "      <th>price_earnings_ratio</th>\n",
       "      <th>price_book_ratio</th>\n",
       "      <th>price_sales_ratio</th>\n",
       "      <th>price_cashflow_ratio</th>\n",
       "      <th>...</th>\n",
       "      <th>sector_real_estate</th>\n",
       "      <th>sector_consumer_defensive</th>\n",
       "      <th>sector_healthcare</th>\n",
       "      <th>sector_utilities</th>\n",
       "      <th>sector_communication_services</th>\n",
       "      <th>sector_energy</th>\n",
       "      <th>sector_industrials</th>\n",
       "      <th>sector_technology</th>\n",
       "      <th>fund_return_10years</th>\n",
       "      <th>Predictions</th>\n",
       "    </tr>\n",
       "  </thead>\n",
       "  <tbody>\n",
       "    <tr>\n",
       "      <th>0</th>\n",
       "      <td>41.209999</td>\n",
       "      <td>53.919998</td>\n",
       "      <td>0.00</td>\n",
       "      <td>4.87</td>\n",
       "      <td>0.00</td>\n",
       "      <td>0.00</td>\n",
       "      <td>17.670000</td>\n",
       "      <td>2.82</td>\n",
       "      <td>1.56</td>\n",
       "      <td>11.400000</td>\n",
       "      <td>...</td>\n",
       "      <td>0.0</td>\n",
       "      <td>8.13</td>\n",
       "      <td>25.790001</td>\n",
       "      <td>0.00</td>\n",
       "      <td>0.200000</td>\n",
       "      <td>5.99</td>\n",
       "      <td>24.27</td>\n",
       "      <td>2.430000</td>\n",
       "      <td>-1.06</td>\n",
       "      <td>9.065782</td>\n",
       "    </tr>\n",
       "    <tr>\n",
       "      <th>1</th>\n",
       "      <td>1.020000</td>\n",
       "      <td>63.669998</td>\n",
       "      <td>33.98</td>\n",
       "      <td>0.00</td>\n",
       "      <td>0.99</td>\n",
       "      <td>0.34</td>\n",
       "      <td>24.549999</td>\n",
       "      <td>2.99</td>\n",
       "      <td>2.66</td>\n",
       "      <td>14.500000</td>\n",
       "      <td>...</td>\n",
       "      <td>0.0</td>\n",
       "      <td>6.67</td>\n",
       "      <td>14.760000</td>\n",
       "      <td>0.00</td>\n",
       "      <td>10.290000</td>\n",
       "      <td>3.50</td>\n",
       "      <td>10.34</td>\n",
       "      <td>27.850000</td>\n",
       "      <td>8.24</td>\n",
       "      <td>7.716667</td>\n",
       "    </tr>\n",
       "    <tr>\n",
       "      <th>2</th>\n",
       "      <td>0.100000</td>\n",
       "      <td>99.900002</td>\n",
       "      <td>0.00</td>\n",
       "      <td>0.00</td>\n",
       "      <td>0.00</td>\n",
       "      <td>0.00</td>\n",
       "      <td>35.709999</td>\n",
       "      <td>9.78</td>\n",
       "      <td>4.78</td>\n",
       "      <td>23.530001</td>\n",
       "      <td>...</td>\n",
       "      <td>0.0</td>\n",
       "      <td>3.31</td>\n",
       "      <td>14.060000</td>\n",
       "      <td>1.36</td>\n",
       "      <td>14.380000</td>\n",
       "      <td>0.00</td>\n",
       "      <td>5.65</td>\n",
       "      <td>39.639999</td>\n",
       "      <td>14.93</td>\n",
       "      <td>14.513333</td>\n",
       "    </tr>\n",
       "    <tr>\n",
       "      <th>3</th>\n",
       "      <td>2.140000</td>\n",
       "      <td>97.860001</td>\n",
       "      <td>0.00</td>\n",
       "      <td>0.00</td>\n",
       "      <td>0.00</td>\n",
       "      <td>0.00</td>\n",
       "      <td>34.900002</td>\n",
       "      <td>8.15</td>\n",
       "      <td>3.62</td>\n",
       "      <td>23.510000</td>\n",
       "      <td>...</td>\n",
       "      <td>0.0</td>\n",
       "      <td>1.03</td>\n",
       "      <td>15.620000</td>\n",
       "      <td>0.00</td>\n",
       "      <td>7.120000</td>\n",
       "      <td>0.00</td>\n",
       "      <td>10.94</td>\n",
       "      <td>34.529999</td>\n",
       "      <td>17.77</td>\n",
       "      <td>17.480000</td>\n",
       "    </tr>\n",
       "    <tr>\n",
       "      <th>4</th>\n",
       "      <td>0.920000</td>\n",
       "      <td>95.750000</td>\n",
       "      <td>0.00</td>\n",
       "      <td>3.33</td>\n",
       "      <td>0.00</td>\n",
       "      <td>0.00</td>\n",
       "      <td>21.070000</td>\n",
       "      <td>1.80</td>\n",
       "      <td>1.95</td>\n",
       "      <td>15.160000</td>\n",
       "      <td>...</td>\n",
       "      <td>0.0</td>\n",
       "      <td>5.52</td>\n",
       "      <td>2.300000</td>\n",
       "      <td>0.00</td>\n",
       "      <td>18.280001</td>\n",
       "      <td>0.00</td>\n",
       "      <td>9.76</td>\n",
       "      <td>12.990000</td>\n",
       "      <td>9.36</td>\n",
       "      <td>9.430000</td>\n",
       "    </tr>\n",
       "  </tbody>\n",
       "</table>\n",
       "<p>5 rows × 24 columns</p>\n",
       "</div>"
      ],
      "text/plain": [
       "   asset_cash  asset_stocks  asset_bonds  asset_others  asset_preferred  \\\n",
       "0   41.209999     53.919998         0.00          4.87             0.00   \n",
       "1    1.020000     63.669998        33.98          0.00             0.99   \n",
       "2    0.100000     99.900002         0.00          0.00             0.00   \n",
       "3    2.140000     97.860001         0.00          0.00             0.00   \n",
       "4    0.920000     95.750000         0.00          3.33             0.00   \n",
       "\n",
       "   asset_convertable  price_earnings_ratio  price_book_ratio  \\\n",
       "0               0.00             17.670000              2.82   \n",
       "1               0.34             24.549999              2.99   \n",
       "2               0.00             35.709999              9.78   \n",
       "3               0.00             34.900002              8.15   \n",
       "4               0.00             21.070000              1.80   \n",
       "\n",
       "   price_sales_ratio  price_cashflow_ratio  ...  sector_real_estate  \\\n",
       "0               1.56             11.400000  ...                 0.0   \n",
       "1               2.66             14.500000  ...                 0.0   \n",
       "2               4.78             23.530001  ...                 0.0   \n",
       "3               3.62             23.510000  ...                 0.0   \n",
       "4               1.95             15.160000  ...                 0.0   \n",
       "\n",
       "   sector_consumer_defensive  sector_healthcare  sector_utilities  \\\n",
       "0                       8.13          25.790001              0.00   \n",
       "1                       6.67          14.760000              0.00   \n",
       "2                       3.31          14.060000              1.36   \n",
       "3                       1.03          15.620000              0.00   \n",
       "4                       5.52           2.300000              0.00   \n",
       "\n",
       "   sector_communication_services  sector_energy  sector_industrials  \\\n",
       "0                       0.200000           5.99               24.27   \n",
       "1                      10.290000           3.50               10.34   \n",
       "2                      14.380000           0.00                5.65   \n",
       "3                       7.120000           0.00               10.94   \n",
       "4                      18.280001           0.00                9.76   \n",
       "\n",
       "   sector_technology  fund_return_10years  Predictions  \n",
       "0           2.430000                -1.06     9.065782  \n",
       "1          27.850000                 8.24     7.716667  \n",
       "2          39.639999                14.93    14.513333  \n",
       "3          34.529999                17.77    17.480000  \n",
       "4          12.990000                 9.36     9.430000  \n",
       "\n",
       "[5 rows x 24 columns]"
      ]
     },
     "execution_count": 24,
     "metadata": {},
     "output_type": "execute_result"
    }
   ],
   "source": [
    "rename_map = {'Label':'Predictions'}\n",
    "pred.rename(columns = rename_map, inplace = True)\n",
    "pred.head(5)"
   ]
  },
  {
   "cell_type": "markdown",
   "id": "bba46bab-db80-41ef-8f31-4f78d8a26ad5",
   "metadata": {},
   "source": [
    "## PREDICTIONS ON ALL DB"
   ]
  },
  {
   "cell_type": "code",
   "execution_count": 25,
   "id": "902dd285-be9b-4d14-9e99-3b2805ca8ea6",
   "metadata": {},
   "outputs": [],
   "source": [
    "df1 = df.copy()"
   ]
  },
  {
   "cell_type": "code",
   "execution_count": null,
   "id": "1685a21f-8380-412c-83bd-835381ea0eb8",
   "metadata": {},
   "outputs": [],
   "source": [
    "#WILL REMOVE THE Y Column\n",
    "#df1.drop(['fund_return_10years'], axis = 1 , inplace= True)"
   ]
  },
  {
   "cell_type": "code",
   "execution_count": 28,
   "id": "8ffb460b-47c0-4dba-938f-69386bee583e",
   "metadata": {},
   "outputs": [
    {
     "data": {
      "text/html": [
       "<div>\n",
       "<style scoped>\n",
       "    .dataframe tbody tr th:only-of-type {\n",
       "        vertical-align: middle;\n",
       "    }\n",
       "\n",
       "    .dataframe tbody tr th {\n",
       "        vertical-align: top;\n",
       "    }\n",
       "\n",
       "    .dataframe thead th {\n",
       "        text-align: right;\n",
       "    }\n",
       "</style>\n",
       "<table border=\"1\" class=\"dataframe\">\n",
       "  <thead>\n",
       "    <tr style=\"text-align: right;\">\n",
       "      <th></th>\n",
       "      <th>fund_extended_name</th>\n",
       "      <th>fund_return_10years</th>\n",
       "      <th>Label</th>\n",
       "    </tr>\n",
       "  </thead>\n",
       "  <tbody>\n",
       "    <tr>\n",
       "      <th>9284</th>\n",
       "      <td>West Hills Tactical Core Fund</td>\n",
       "      <td>-1.06</td>\n",
       "      <td>9.065782</td>\n",
       "    </tr>\n",
       "    <tr>\n",
       "      <th>7919</th>\n",
       "      <td>Ivy Balanced Fund Class I</td>\n",
       "      <td>8.24</td>\n",
       "      <td>7.716667</td>\n",
       "    </tr>\n",
       "    <tr>\n",
       "      <th>3356</th>\n",
       "      <td>BNY Mellon Research Growth Fund, Inc. Class Z</td>\n",
       "      <td>14.93</td>\n",
       "      <td>14.513333</td>\n",
       "    </tr>\n",
       "    <tr>\n",
       "      <th>8260</th>\n",
       "      <td>JPMorgan Growth Advantage Fund Class I</td>\n",
       "      <td>17.77</td>\n",
       "      <td>17.480000</td>\n",
       "    </tr>\n",
       "    <tr>\n",
       "      <th>11901</th>\n",
       "      <td>Davis New York Venture Fund Class R</td>\n",
       "      <td>9.36</td>\n",
       "      <td>9.430000</td>\n",
       "    </tr>\n",
       "    <tr>\n",
       "      <th>13399</th>\n",
       "      <td>Putnam RetirementReady 2020 Fund Class Y</td>\n",
       "      <td>4.29</td>\n",
       "      <td>4.020000</td>\n",
       "    </tr>\n",
       "    <tr>\n",
       "      <th>10074</th>\n",
       "      <td>BlackRock Advantage Large Cap Value Fund Inves...</td>\n",
       "      <td>8.59</td>\n",
       "      <td>8.303333</td>\n",
       "    </tr>\n",
       "    <tr>\n",
       "      <th>2105</th>\n",
       "      <td>Columbia Pacific/Asia Fund Class C</td>\n",
       "      <td>7.04</td>\n",
       "      <td>6.436664</td>\n",
       "    </tr>\n",
       "    <tr>\n",
       "      <th>10035</th>\n",
       "      <td>BlackRock Emerging Markets Fund, Inc. Investor...</td>\n",
       "      <td>3.43</td>\n",
       "      <td>3.185000</td>\n",
       "    </tr>\n",
       "    <tr>\n",
       "      <th>14612</th>\n",
       "      <td>American Funds Washington Mutual Investors Fun...</td>\n",
       "      <td>11.15</td>\n",
       "      <td>11.052857</td>\n",
       "    </tr>\n",
       "    <tr>\n",
       "      <th>11963</th>\n",
       "      <td>Optimum Large Cap Growth Fund Class C</td>\n",
       "      <td>13.98</td>\n",
       "      <td>14.965000</td>\n",
       "    </tr>\n",
       "    <tr>\n",
       "      <th>17591</th>\n",
       "      <td>Wells Fargo Specialized Technology Fund - Class C</td>\n",
       "      <td>17.08</td>\n",
       "      <td>17.968407</td>\n",
       "    </tr>\n",
       "    <tr>\n",
       "      <th>2951</th>\n",
       "      <td>American Funds Washington Mutual Investors Fun...</td>\n",
       "      <td>11.37</td>\n",
       "      <td>11.052857</td>\n",
       "    </tr>\n",
       "    <tr>\n",
       "      <th>5492</th>\n",
       "      <td>Gabelli Global Rising Income and Dividend Fund...</td>\n",
       "      <td>1.99</td>\n",
       "      <td>3.230000</td>\n",
       "    </tr>\n",
       "    <tr>\n",
       "      <th>15278</th>\n",
       "      <td>JPMorgan SmartRetirement 2040 Fund Class R5</td>\n",
       "      <td>8.36</td>\n",
       "      <td>7.743333</td>\n",
       "    </tr>\n",
       "    <tr>\n",
       "      <th>5635</th>\n",
       "      <td>Goldman Sachs International Equity Insights Fu...</td>\n",
       "      <td>3.72</td>\n",
       "      <td>3.530000</td>\n",
       "    </tr>\n",
       "    <tr>\n",
       "      <th>2610</th>\n",
       "      <td>Commonwealth Real Estate Securities Fund</td>\n",
       "      <td>5.05</td>\n",
       "      <td>6.763978</td>\n",
       "    </tr>\n",
       "    <tr>\n",
       "      <th>17062</th>\n",
       "      <td>Vanguard Institutional Total Stock Market Inde...</td>\n",
       "      <td>12.84</td>\n",
       "      <td>12.850000</td>\n",
       "    </tr>\n",
       "    <tr>\n",
       "      <th>7791</th>\n",
       "      <td>Voya Solution 2045 Portfolio Class T</td>\n",
       "      <td>7.45</td>\n",
       "      <td>7.885000</td>\n",
       "    </tr>\n",
       "    <tr>\n",
       "      <th>3002</th>\n",
       "      <td>Delaware Small Cap Core Fund Class A</td>\n",
       "      <td>10.63</td>\n",
       "      <td>10.085000</td>\n",
       "    </tr>\n",
       "  </tbody>\n",
       "</table>\n",
       "</div>"
      ],
      "text/plain": [
       "                                      fund_extended_name  fund_return_10years  \\\n",
       "9284                       West Hills Tactical Core Fund                -1.06   \n",
       "7919                           Ivy Balanced Fund Class I                 8.24   \n",
       "3356       BNY Mellon Research Growth Fund, Inc. Class Z                14.93   \n",
       "8260              JPMorgan Growth Advantage Fund Class I                17.77   \n",
       "11901                Davis New York Venture Fund Class R                 9.36   \n",
       "13399           Putnam RetirementReady 2020 Fund Class Y                 4.29   \n",
       "10074  BlackRock Advantage Large Cap Value Fund Inves...                 8.59   \n",
       "2105                  Columbia Pacific/Asia Fund Class C                 7.04   \n",
       "10035  BlackRock Emerging Markets Fund, Inc. Investor...                 3.43   \n",
       "14612  American Funds Washington Mutual Investors Fun...                11.15   \n",
       "11963              Optimum Large Cap Growth Fund Class C                13.98   \n",
       "17591  Wells Fargo Specialized Technology Fund - Class C                17.08   \n",
       "2951   American Funds Washington Mutual Investors Fun...                11.37   \n",
       "5492   Gabelli Global Rising Income and Dividend Fund...                 1.99   \n",
       "15278        JPMorgan SmartRetirement 2040 Fund Class R5                 8.36   \n",
       "5635   Goldman Sachs International Equity Insights Fu...                 3.72   \n",
       "2610            Commonwealth Real Estate Securities Fund                 5.05   \n",
       "17062  Vanguard Institutional Total Stock Market Inde...                12.84   \n",
       "7791                Voya Solution 2045 Portfolio Class T                 7.45   \n",
       "3002                Delaware Small Cap Core Fund Class A                10.63   \n",
       "\n",
       "           Label  \n",
       "9284    9.065782  \n",
       "7919    7.716667  \n",
       "3356   14.513333  \n",
       "8260   17.480000  \n",
       "11901   9.430000  \n",
       "13399   4.020000  \n",
       "10074   8.303333  \n",
       "2105    6.436664  \n",
       "10035   3.185000  \n",
       "14612  11.052857  \n",
       "11963  14.965000  \n",
       "17591  17.968407  \n",
       "2951   11.052857  \n",
       "5492    3.230000  \n",
       "15278   7.743333  \n",
       "5635    3.530000  \n",
       "2610    6.763978  \n",
       "17062  12.850000  \n",
       "7791    7.885000  \n",
       "3002   10.085000  "
      ]
     },
     "execution_count": 28,
     "metadata": {},
     "output_type": "execute_result"
    }
   ],
   "source": [
    "predictions = predict_model(auto_ml, data= df1)\n",
    "predictions[['fund_extended_name','fund_return_10years','Label']].sample(20)"
   ]
  },
  {
   "cell_type": "markdown",
   "id": "f5731a0f-acf4-4010-9c98-5a7cb878531b",
   "metadata": {},
   "source": [
    "# NORMAL METHOD"
   ]
  },
  {
   "cell_type": "code",
   "execution_count": 29,
   "id": "0f7f70cc-abec-4f18-a80c-02c734be55d6",
   "metadata": {},
   "outputs": [],
   "source": [
    "df2 = pd.read_csv(r'C:\\Workbook\\Funds\\mutual_funds.csv')"
   ]
  },
  {
   "cell_type": "code",
   "execution_count": 30,
   "id": "7f2d0fbc-8b1c-4870-8d94-0f6b96b9d591",
   "metadata": {},
   "outputs": [
    {
     "data": {
      "text/html": [
       "<div>\n",
       "<style scoped>\n",
       "    .dataframe tbody tr th:only-of-type {\n",
       "        vertical-align: middle;\n",
       "    }\n",
       "\n",
       "    .dataframe tbody tr th {\n",
       "        vertical-align: top;\n",
       "    }\n",
       "\n",
       "    .dataframe thead th {\n",
       "        text-align: right;\n",
       "    }\n",
       "</style>\n",
       "<table border=\"1\" class=\"dataframe\">\n",
       "  <thead>\n",
       "    <tr style=\"text-align: right;\">\n",
       "      <th></th>\n",
       "      <th>fund_symbol</th>\n",
       "      <th>fund_extended_name</th>\n",
       "      <th>fund_family</th>\n",
       "      <th>inception_date</th>\n",
       "      <th>category</th>\n",
       "      <th>rating</th>\n",
       "      <th>return_rating</th>\n",
       "      <th>risk_rating</th>\n",
       "      <th>investment_type</th>\n",
       "      <th>size_type</th>\n",
       "      <th>...</th>\n",
       "      <th>fund_return_2010_q2</th>\n",
       "      <th>fund_return_2010_q1</th>\n",
       "      <th>fund_alpha_5years</th>\n",
       "      <th>fund_alpha_10years</th>\n",
       "      <th>fund_beta_5years</th>\n",
       "      <th>fund_beta_10years</th>\n",
       "      <th>fund_standard_deviation_5years</th>\n",
       "      <th>fund_standard_deviation_10years</th>\n",
       "      <th>fund_sharpe_ratio_5years</th>\n",
       "      <th>fund_sharpe_ratio_10years</th>\n",
       "    </tr>\n",
       "  </thead>\n",
       "  <tbody>\n",
       "    <tr>\n",
       "      <th>0</th>\n",
       "      <td>AAAAX</td>\n",
       "      <td>DWS RREEF Real Assets Fund - Class A</td>\n",
       "      <td>DWS</td>\n",
       "      <td>2007-07-29</td>\n",
       "      <td>World Allocation</td>\n",
       "      <td>3.0</td>\n",
       "      <td>3.0</td>\n",
       "      <td>3.0</td>\n",
       "      <td>Blend</td>\n",
       "      <td>Large</td>\n",
       "      <td>...</td>\n",
       "      <td>-2.53</td>\n",
       "      <td>2.23</td>\n",
       "      <td>-2.86</td>\n",
       "      <td>-3.86</td>\n",
       "      <td>1.05</td>\n",
       "      <td>0.93</td>\n",
       "      <td>10.39</td>\n",
       "      <td>8.67</td>\n",
       "      <td>0.33</td>\n",
       "      <td>0.24</td>\n",
       "    </tr>\n",
       "    <tr>\n",
       "      <th>1</th>\n",
       "      <td>AAADX</td>\n",
       "      <td>Aberdeen Income Builder Fund Class A</td>\n",
       "      <td>Aberdeen</td>\n",
       "      <td>2011-12-29</td>\n",
       "      <td>Allocation - 50% to 70% Equity</td>\n",
       "      <td>4.0</td>\n",
       "      <td>5.0</td>\n",
       "      <td>5.0</td>\n",
       "      <td>Blend</td>\n",
       "      <td>Large</td>\n",
       "      <td>...</td>\n",
       "      <td>NaN</td>\n",
       "      <td>NaN</td>\n",
       "      <td>-0.30</td>\n",
       "      <td>-0.15</td>\n",
       "      <td>1.36</td>\n",
       "      <td>1.45</td>\n",
       "      <td>10.21</td>\n",
       "      <td>11.70</td>\n",
       "      <td>0.74</td>\n",
       "      <td>0.89</td>\n",
       "    </tr>\n",
       "    <tr>\n",
       "      <th>2</th>\n",
       "      <td>AAAGX</td>\n",
       "      <td>Thrivent Large Cap Growth Fund Class A</td>\n",
       "      <td>Thrivent Funds</td>\n",
       "      <td>1999-10-28</td>\n",
       "      <td>Large Growth</td>\n",
       "      <td>3.0</td>\n",
       "      <td>3.0</td>\n",
       "      <td>4.0</td>\n",
       "      <td>Growth</td>\n",
       "      <td>Large</td>\n",
       "      <td>...</td>\n",
       "      <td>-14.29</td>\n",
       "      <td>4.09</td>\n",
       "      <td>2.92</td>\n",
       "      <td>0.77</td>\n",
       "      <td>1.04</td>\n",
       "      <td>1.08</td>\n",
       "      <td>16.49</td>\n",
       "      <td>15.40</td>\n",
       "      <td>0.88</td>\n",
       "      <td>0.93</td>\n",
       "    </tr>\n",
       "    <tr>\n",
       "      <th>3</th>\n",
       "      <td>AAAIX</td>\n",
       "      <td>American Century Strategic Allocation: Aggress...</td>\n",
       "      <td>American Century Investments</td>\n",
       "      <td>2000-07-31</td>\n",
       "      <td>Allocation - 70% to 85% Equity</td>\n",
       "      <td>4.0</td>\n",
       "      <td>4.0</td>\n",
       "      <td>3.0</td>\n",
       "      <td>Blend</td>\n",
       "      <td>Large</td>\n",
       "      <td>...</td>\n",
       "      <td>-8.13</td>\n",
       "      <td>3.92</td>\n",
       "      <td>-0.78</td>\n",
       "      <td>-0.48</td>\n",
       "      <td>1.39</td>\n",
       "      <td>1.37</td>\n",
       "      <td>12.35</td>\n",
       "      <td>11.44</td>\n",
       "      <td>0.61</td>\n",
       "      <td>0.73</td>\n",
       "    </tr>\n",
       "    <tr>\n",
       "      <th>4</th>\n",
       "      <td>AAANX</td>\n",
       "      <td>Horizon Active Asset Allocation Fund Investor ...</td>\n",
       "      <td>Horizon Investments</td>\n",
       "      <td>2012-01-30</td>\n",
       "      <td>Tactical Allocation</td>\n",
       "      <td>3.0</td>\n",
       "      <td>4.0</td>\n",
       "      <td>5.0</td>\n",
       "      <td>Blend</td>\n",
       "      <td>Large</td>\n",
       "      <td>...</td>\n",
       "      <td>NaN</td>\n",
       "      <td>NaN</td>\n",
       "      <td>-4.38</td>\n",
       "      <td>NaN</td>\n",
       "      <td>1.67</td>\n",
       "      <td>NaN</td>\n",
       "      <td>15.06</td>\n",
       "      <td>NaN</td>\n",
       "      <td>0.37</td>\n",
       "      <td>NaN</td>\n",
       "    </tr>\n",
       "  </tbody>\n",
       "</table>\n",
       "<p>5 rows × 87 columns</p>\n",
       "</div>"
      ],
      "text/plain": [
       "  fund_symbol                                 fund_extended_name  \\\n",
       "0       AAAAX               DWS RREEF Real Assets Fund - Class A   \n",
       "1       AAADX               Aberdeen Income Builder Fund Class A   \n",
       "2       AAAGX             Thrivent Large Cap Growth Fund Class A   \n",
       "3       AAAIX  American Century Strategic Allocation: Aggress...   \n",
       "4       AAANX  Horizon Active Asset Allocation Fund Investor ...   \n",
       "\n",
       "                    fund_family inception_date  \\\n",
       "0                           DWS     2007-07-29   \n",
       "1                      Aberdeen     2011-12-29   \n",
       "2                Thrivent Funds     1999-10-28   \n",
       "3  American Century Investments     2000-07-31   \n",
       "4           Horizon Investments     2012-01-30   \n",
       "\n",
       "                         category  rating  return_rating  risk_rating  \\\n",
       "0                World Allocation     3.0            3.0          3.0   \n",
       "1  Allocation - 50% to 70% Equity     4.0            5.0          5.0   \n",
       "2                    Large Growth     3.0            3.0          4.0   \n",
       "3  Allocation - 70% to 85% Equity     4.0            4.0          3.0   \n",
       "4             Tactical Allocation     3.0            4.0          5.0   \n",
       "\n",
       "  investment_type size_type  ... fund_return_2010_q2  fund_return_2010_q1  \\\n",
       "0           Blend     Large  ...               -2.53                 2.23   \n",
       "1           Blend     Large  ...                 NaN                  NaN   \n",
       "2          Growth     Large  ...              -14.29                 4.09   \n",
       "3           Blend     Large  ...               -8.13                 3.92   \n",
       "4           Blend     Large  ...                 NaN                  NaN   \n",
       "\n",
       "   fund_alpha_5years  fund_alpha_10years  fund_beta_5years  fund_beta_10years  \\\n",
       "0              -2.86               -3.86              1.05               0.93   \n",
       "1              -0.30               -0.15              1.36               1.45   \n",
       "2               2.92                0.77              1.04               1.08   \n",
       "3              -0.78               -0.48              1.39               1.37   \n",
       "4              -4.38                 NaN              1.67                NaN   \n",
       "\n",
       "   fund_standard_deviation_5years  fund_standard_deviation_10years  \\\n",
       "0                           10.39                             8.67   \n",
       "1                           10.21                            11.70   \n",
       "2                           16.49                            15.40   \n",
       "3                           12.35                            11.44   \n",
       "4                           15.06                              NaN   \n",
       "\n",
       "   fund_sharpe_ratio_5years  fund_sharpe_ratio_10years  \n",
       "0                      0.33                       0.24  \n",
       "1                      0.74                       0.89  \n",
       "2                      0.88                       0.93  \n",
       "3                      0.61                       0.73  \n",
       "4                      0.37                        NaN  \n",
       "\n",
       "[5 rows x 87 columns]"
      ]
     },
     "execution_count": 30,
     "metadata": {},
     "output_type": "execute_result"
    }
   ],
   "source": [
    "df2.head(5)"
   ]
  },
  {
   "cell_type": "code",
   "execution_count": 31,
   "id": "bb042e4a-c18b-48b1-b8d3-dcb8176bd0b4",
   "metadata": {},
   "outputs": [
    {
     "data": {
      "text/plain": [
       "Index(['fund_symbol', 'fund_extended_name', 'fund_family', 'inception_date',\n",
       "       'category', 'rating', 'return_rating', 'risk_rating', 'investment_type',\n",
       "       'size_type', 'currency', 'fund_net_annual_expense_ratio', 'asset_cash',\n",
       "       'asset_stocks', 'asset_bonds', 'asset_others', 'asset_preferred',\n",
       "       'asset_convertable', 'price_earnings_ratio', 'price_book_ratio',\n",
       "       'price_sales_ratio', 'price_cashflow_ratio', 'median_market_cap',\n",
       "       'sector_basic_materials', 'sector_consumer_cyclical',\n",
       "       'sector_financial_services', 'sector_real_estate',\n",
       "       'sector_consumer_defensive', 'sector_healthcare', 'sector_utilities',\n",
       "       'sector_communication_services', 'sector_energy', 'sector_industrials',\n",
       "       'sector_technology', 'fund_return_5years', 'fund_return_10years',\n",
       "       'fund_return_2020_q3', 'fund_return_2020_q2', 'fund_return_2020_q1',\n",
       "       'fund_return_2019_q4', 'fund_return_2019_q3', 'fund_return_2019_q2',\n",
       "       'fund_return_2019_q1', 'fund_return_2018_q4', 'fund_return_2018_q3',\n",
       "       'fund_return_2018_q2', 'fund_return_2018_q1', 'fund_return_2017_q4',\n",
       "       'fund_return_2017_q3', 'fund_return_2017_q2', 'fund_return_2017_q1',\n",
       "       'fund_return_2016_q4', 'fund_return_2016_q3', 'fund_return_2016_q2',\n",
       "       'fund_return_2016_q1', 'fund_return_2015_q4', 'fund_return_2015_q3',\n",
       "       'fund_return_2015_q2', 'fund_return_2015_q1', 'fund_return_2014_q4',\n",
       "       'fund_return_2014_q3', 'fund_return_2014_q2', 'fund_return_2014_q1',\n",
       "       'fund_return_2013_q4', 'fund_return_2013_q3', 'fund_return_2013_q2',\n",
       "       'fund_return_2013_q1', 'fund_return_2012_q4', 'fund_return_2012_q3',\n",
       "       'fund_return_2012_q2', 'fund_return_2012_q1', 'fund_return_2011_q4',\n",
       "       'fund_return_2011_q3', 'fund_return_2011_q2', 'fund_return_2011_q1',\n",
       "       'fund_return_2010_q4', 'fund_return_2010_q3', 'fund_return_2010_q2',\n",
       "       'fund_return_2010_q1', 'fund_alpha_5years', 'fund_alpha_10years',\n",
       "       'fund_beta_5years', 'fund_beta_10years',\n",
       "       'fund_standard_deviation_5years', 'fund_standard_deviation_10years',\n",
       "       'fund_sharpe_ratio_5years', 'fund_sharpe_ratio_10years'],\n",
       "      dtype='object')"
      ]
     },
     "execution_count": 31,
     "metadata": {},
     "output_type": "execute_result"
    }
   ],
   "source": [
    "df2.columns"
   ]
  },
  {
   "cell_type": "code",
   "execution_count": 32,
   "id": "2c3b17f7-d775-4a3e-9c3c-9c51b504fda6",
   "metadata": {},
   "outputs": [],
   "source": [
    "df2.dropna(inplace = True)"
   ]
  },
  {
   "cell_type": "code",
   "execution_count": 33,
   "id": "d5034b9c-0655-479d-9162-1d50d5d9dc78",
   "metadata": {},
   "outputs": [
    {
     "data": {
      "text/plain": [
       "0"
      ]
     },
     "execution_count": 33,
     "metadata": {},
     "output_type": "execute_result"
    }
   ],
   "source": [
    "df2.isna().sum().sum()"
   ]
  },
  {
   "cell_type": "code",
   "execution_count": 34,
   "id": "42d944cd-ad66-4ccb-af0e-44857df4ef33",
   "metadata": {},
   "outputs": [
    {
     "data": {
      "text/html": [
       "<div>\n",
       "<style scoped>\n",
       "    .dataframe tbody tr th:only-of-type {\n",
       "        vertical-align: middle;\n",
       "    }\n",
       "\n",
       "    .dataframe tbody tr th {\n",
       "        vertical-align: top;\n",
       "    }\n",
       "\n",
       "    .dataframe thead th {\n",
       "        text-align: right;\n",
       "    }\n",
       "</style>\n",
       "<table border=\"1\" class=\"dataframe\">\n",
       "  <thead>\n",
       "    <tr style=\"text-align: right;\">\n",
       "      <th></th>\n",
       "      <th>price_earnings_ratio</th>\n",
       "      <th>price_book_ratio</th>\n",
       "      <th>price_sales_ratio</th>\n",
       "      <th>price_cashflow_ratio</th>\n",
       "      <th>sector_basic_materials</th>\n",
       "      <th>sector_consumer_cyclical</th>\n",
       "      <th>sector_financial_services</th>\n",
       "      <th>sector_real_estate</th>\n",
       "      <th>sector_consumer_defensive</th>\n",
       "      <th>sector_healthcare</th>\n",
       "      <th>sector_utilities</th>\n",
       "      <th>sector_communication_services</th>\n",
       "      <th>sector_energy</th>\n",
       "      <th>sector_industrials</th>\n",
       "      <th>sector_technology</th>\n",
       "    </tr>\n",
       "  </thead>\n",
       "  <tbody>\n",
       "    <tr>\n",
       "      <th>0</th>\n",
       "      <td>19.41</td>\n",
       "      <td>1.83</td>\n",
       "      <td>2.30</td>\n",
       "      <td>11.13</td>\n",
       "      <td>13.52</td>\n",
       "      <td>1.62</td>\n",
       "      <td>0.00</td>\n",
       "      <td>42.97</td>\n",
       "      <td>1.54</td>\n",
       "      <td>0.00</td>\n",
       "      <td>15.29</td>\n",
       "      <td>1.67</td>\n",
       "      <td>11.53</td>\n",
       "      <td>11.87</td>\n",
       "      <td>0.00</td>\n",
       "    </tr>\n",
       "    <tr>\n",
       "      <th>2</th>\n",
       "      <td>38.70</td>\n",
       "      <td>11.46</td>\n",
       "      <td>5.31</td>\n",
       "      <td>26.26</td>\n",
       "      <td>1.09</td>\n",
       "      <td>20.42</td>\n",
       "      <td>14.43</td>\n",
       "      <td>1.32</td>\n",
       "      <td>0.86</td>\n",
       "      <td>12.87</td>\n",
       "      <td>0.00</td>\n",
       "      <td>11.63</td>\n",
       "      <td>0.00</td>\n",
       "      <td>3.20</td>\n",
       "      <td>34.18</td>\n",
       "    </tr>\n",
       "    <tr>\n",
       "      <th>3</th>\n",
       "      <td>21.81</td>\n",
       "      <td>2.45</td>\n",
       "      <td>1.44</td>\n",
       "      <td>11.45</td>\n",
       "      <td>3.49</td>\n",
       "      <td>12.79</td>\n",
       "      <td>12.07</td>\n",
       "      <td>5.72</td>\n",
       "      <td>7.54</td>\n",
       "      <td>14.48</td>\n",
       "      <td>2.49</td>\n",
       "      <td>7.36</td>\n",
       "      <td>2.31</td>\n",
       "      <td>11.89</td>\n",
       "      <td>19.86</td>\n",
       "    </tr>\n",
       "    <tr>\n",
       "      <th>5</th>\n",
       "      <td>19.41</td>\n",
       "      <td>1.83</td>\n",
       "      <td>2.30</td>\n",
       "      <td>11.13</td>\n",
       "      <td>13.52</td>\n",
       "      <td>1.62</td>\n",
       "      <td>0.00</td>\n",
       "      <td>42.97</td>\n",
       "      <td>1.54</td>\n",
       "      <td>0.00</td>\n",
       "      <td>15.29</td>\n",
       "      <td>1.67</td>\n",
       "      <td>11.53</td>\n",
       "      <td>11.87</td>\n",
       "      <td>0.00</td>\n",
       "    </tr>\n",
       "    <tr>\n",
       "      <th>7</th>\n",
       "      <td>21.81</td>\n",
       "      <td>2.45</td>\n",
       "      <td>1.44</td>\n",
       "      <td>11.45</td>\n",
       "      <td>3.49</td>\n",
       "      <td>12.79</td>\n",
       "      <td>12.07</td>\n",
       "      <td>5.72</td>\n",
       "      <td>7.54</td>\n",
       "      <td>14.48</td>\n",
       "      <td>2.49</td>\n",
       "      <td>7.36</td>\n",
       "      <td>2.31</td>\n",
       "      <td>11.89</td>\n",
       "      <td>19.86</td>\n",
       "    </tr>\n",
       "  </tbody>\n",
       "</table>\n",
       "</div>"
      ],
      "text/plain": [
       "   price_earnings_ratio  price_book_ratio  price_sales_ratio  \\\n",
       "0                 19.41              1.83               2.30   \n",
       "2                 38.70             11.46               5.31   \n",
       "3                 21.81              2.45               1.44   \n",
       "5                 19.41              1.83               2.30   \n",
       "7                 21.81              2.45               1.44   \n",
       "\n",
       "   price_cashflow_ratio  sector_basic_materials  sector_consumer_cyclical  \\\n",
       "0                 11.13                   13.52                      1.62   \n",
       "2                 26.26                    1.09                     20.42   \n",
       "3                 11.45                    3.49                     12.79   \n",
       "5                 11.13                   13.52                      1.62   \n",
       "7                 11.45                    3.49                     12.79   \n",
       "\n",
       "   sector_financial_services  sector_real_estate  sector_consumer_defensive  \\\n",
       "0                       0.00               42.97                       1.54   \n",
       "2                      14.43                1.32                       0.86   \n",
       "3                      12.07                5.72                       7.54   \n",
       "5                       0.00               42.97                       1.54   \n",
       "7                      12.07                5.72                       7.54   \n",
       "\n",
       "   sector_healthcare  sector_utilities  sector_communication_services  \\\n",
       "0               0.00             15.29                           1.67   \n",
       "2              12.87              0.00                          11.63   \n",
       "3              14.48              2.49                           7.36   \n",
       "5               0.00             15.29                           1.67   \n",
       "7              14.48              2.49                           7.36   \n",
       "\n",
       "   sector_energy  sector_industrials  sector_technology  \n",
       "0          11.53               11.87               0.00  \n",
       "2           0.00                3.20              34.18  \n",
       "3           2.31               11.89              19.86  \n",
       "5          11.53               11.87               0.00  \n",
       "7           2.31               11.89              19.86  "
      ]
     },
     "execution_count": 34,
     "metadata": {},
     "output_type": "execute_result"
    }
   ],
   "source": [
    "X = df2[['price_earnings_ratio',\n",
    "       'price_book_ratio', 'price_sales_ratio', 'price_cashflow_ratio',\n",
    "       'sector_basic_materials', 'sector_consumer_cyclical',\n",
    "       'sector_financial_services', 'sector_real_estate',\n",
    "       'sector_consumer_defensive', 'sector_healthcare', 'sector_utilities',\n",
    "       'sector_communication_services', 'sector_energy', 'sector_industrials',\n",
    "       'sector_technology']]\n",
    "X.head()"
   ]
  },
  {
   "cell_type": "code",
   "execution_count": 35,
   "id": "0c35e1e1-3dda-44ba-82a9-e08d78317c07",
   "metadata": {},
   "outputs": [
    {
     "data": {
      "text/html": [
       "<div>\n",
       "<style scoped>\n",
       "    .dataframe tbody tr th:only-of-type {\n",
       "        vertical-align: middle;\n",
       "    }\n",
       "\n",
       "    .dataframe tbody tr th {\n",
       "        vertical-align: top;\n",
       "    }\n",
       "\n",
       "    .dataframe thead th {\n",
       "        text-align: right;\n",
       "    }\n",
       "</style>\n",
       "<table border=\"1\" class=\"dataframe\">\n",
       "  <thead>\n",
       "    <tr style=\"text-align: right;\">\n",
       "      <th></th>\n",
       "      <th>fund_return_10years</th>\n",
       "    </tr>\n",
       "  </thead>\n",
       "  <tbody>\n",
       "    <tr>\n",
       "      <th>4486</th>\n",
       "      <td>13.39</td>\n",
       "    </tr>\n",
       "    <tr>\n",
       "      <th>393</th>\n",
       "      <td>8.01</td>\n",
       "    </tr>\n",
       "    <tr>\n",
       "      <th>9146</th>\n",
       "      <td>5.86</td>\n",
       "    </tr>\n",
       "    <tr>\n",
       "      <th>11371</th>\n",
       "      <td>5.18</td>\n",
       "    </tr>\n",
       "    <tr>\n",
       "      <th>10993</th>\n",
       "      <td>11.16</td>\n",
       "    </tr>\n",
       "  </tbody>\n",
       "</table>\n",
       "</div>"
      ],
      "text/plain": [
       "       fund_return_10years\n",
       "4486                 13.39\n",
       "393                   8.01\n",
       "9146                  5.86\n",
       "11371                 5.18\n",
       "10993                11.16"
      ]
     },
     "execution_count": 35,
     "metadata": {},
     "output_type": "execute_result"
    }
   ],
   "source": [
    "y = df2[['fund_return_10years']]\n",
    "y.sample(5)"
   ]
  },
  {
   "cell_type": "markdown",
   "id": "a9ba8abb-b8dc-49d7-8d16-d565ac341a44",
   "metadata": {},
   "source": [
    "### TRAINING AND TESTING DATA"
   ]
  },
  {
   "cell_type": "code",
   "execution_count": 36,
   "id": "ee8d3691-6530-4763-b244-95f11a059a15",
   "metadata": {},
   "outputs": [],
   "source": [
    "from sklearn.model_selection import train_test_split"
   ]
  },
  {
   "cell_type": "code",
   "execution_count": 37,
   "id": "4e8872ad-caaa-480c-8b16-38bd90d4f084",
   "metadata": {},
   "outputs": [],
   "source": [
    "X_train, X_test, y_train, y_test = train_test_split(X, y, test_size=0.20, random_state=42)"
   ]
  },
  {
   "cell_type": "markdown",
   "id": "ede6d2ea-84e8-4225-94ac-b19c68923c33",
   "metadata": {},
   "source": [
    "### SCALING DATA"
   ]
  },
  {
   "cell_type": "code",
   "execution_count": 38,
   "id": "6e9dcae5-1e54-4bf5-855a-ee9a35fa2ee7",
   "metadata": {},
   "outputs": [],
   "source": [
    "from sklearn.preprocessing import StandardScaler"
   ]
  },
  {
   "cell_type": "code",
   "execution_count": 39,
   "id": "818a998d-4b51-4440-8f77-428b65a7ef67",
   "metadata": {},
   "outputs": [],
   "source": [
    "ss = StandardScaler()"
   ]
  },
  {
   "cell_type": "code",
   "execution_count": 40,
   "id": "8b39dbe0-904c-4613-b9ce-8209e41f97fb",
   "metadata": {},
   "outputs": [],
   "source": [
    "scaler = ss.fit(X_train)"
   ]
  },
  {
   "cell_type": "markdown",
   "id": "1703cdcf-d3da-4c3d-99e6-fe084b28299c",
   "metadata": {},
   "source": [
    "#### FITTING XTRAIN"
   ]
  },
  {
   "cell_type": "code",
   "execution_count": 41,
   "id": "d0197af0-4010-43bd-9686-3cbf75d98ca7",
   "metadata": {},
   "outputs": [],
   "source": [
    "X_train = scaler.transform(X_train)"
   ]
  },
  {
   "cell_type": "code",
   "execution_count": 42,
   "id": "af9bc813-07c3-4118-a238-29d7c6af1cb2",
   "metadata": {},
   "outputs": [],
   "source": [
    "X_test = scaler.transform(X_test)"
   ]
  },
  {
   "cell_type": "code",
   "execution_count": 43,
   "id": "f00b3282-becc-4cf8-8b3b-774fec44f64d",
   "metadata": {},
   "outputs": [
    {
     "data": {
      "text/plain": [
       "array([[ 1.61119882, -0.32918053,  1.8605566 , ..., -0.4882856 ,\n",
       "        -1.55196897, -1.63296054],\n",
       "       [-1.33756886, -1.08292918, -1.03301308, ...,  0.4757243 ,\n",
       "        -0.08691541, -1.22061904],\n",
       "       [-0.31721945, -0.50092073, -0.66290533, ..., -0.17354356,\n",
       "         0.79624364, -0.16822508],\n",
       "       ...,\n",
       "       [ 1.20839239,  1.26895745,  0.36666714, ..., -0.41094899,\n",
       "         0.7838629 , -0.36252673],\n",
       "       [ 2.4168117 ,  2.89571879,  2.5805844 , ..., -0.4882856 ,\n",
       "        -1.01134357,  1.30090633],\n",
       "       [-0.9109028 , -0.82531888, -0.93880383, ..., -0.11239368,\n",
       "         0.68206575, -0.52253984]])"
      ]
     },
     "execution_count": 43,
     "metadata": {},
     "output_type": "execute_result"
    }
   ],
   "source": [
    "X_train"
   ]
  },
  {
   "cell_type": "code",
   "execution_count": 44,
   "id": "e262661c-0a15-427b-976f-c6762a32cf51",
   "metadata": {},
   "outputs": [
    {
     "data": {
      "text/plain": [
       "array([[ 0.51927057,  0.34346859,  0.62237795, ...,  0.21134099,\n",
       "        -1.12001891,  0.35225714],\n",
       "       [ 0.02102568, -0.01432349, -0.12456678, ..., -0.22929787,\n",
       "        -0.54637822, -0.11811109],\n",
       "       [ 2.31996973,  1.93683601,  2.22393511, ..., -0.4882856 ,\n",
       "        -0.62478953,  0.52809573],\n",
       "       ...,\n",
       "       [-1.25476196, -0.92550067, -0.94553306, ..., -0.34440353,\n",
       "         0.7095785 , -0.5770498 ],\n",
       "       [-0.51792091,  0.18604008, -0.27260988, ..., -0.29764185,\n",
       "         0.26662334,  1.22529574],\n",
       "       [-0.05195667, -0.49615017, -0.32644374, ..., -0.02786296,\n",
       "        -0.05527576, -0.16294993]])"
      ]
     },
     "execution_count": 44,
     "metadata": {},
     "output_type": "execute_result"
    }
   ],
   "source": [
    "X_test"
   ]
  },
  {
   "cell_type": "markdown",
   "id": "d12fd277-fae9-41f7-a89c-ed3cedc3c551",
   "metadata": {},
   "source": [
    "### MODEL 1 - Linear Regression"
   ]
  },
  {
   "cell_type": "code",
   "execution_count": 45,
   "id": "8f03b488-f91f-4b2f-a8ed-1ff1f92af3c0",
   "metadata": {},
   "outputs": [],
   "source": [
    "from sklearn.linear_model import LinearRegression"
   ]
  },
  {
   "cell_type": "code",
   "execution_count": 46,
   "id": "967c3fa7-4980-4c7e-9cd2-3f469e61d430",
   "metadata": {},
   "outputs": [],
   "source": [
    "lr = LinearRegression()"
   ]
  },
  {
   "cell_type": "code",
   "execution_count": 47,
   "id": "e92d9c0c-768a-465f-813d-f8db23f08f3e",
   "metadata": {},
   "outputs": [
    {
     "data": {
      "text/plain": [
       "LinearRegression(copy_X=True, fit_intercept=True, n_jobs=None, normalize=False)"
      ]
     },
     "execution_count": 47,
     "metadata": {},
     "output_type": "execute_result"
    }
   ],
   "source": [
    "lr.fit(X_train,y_train)"
   ]
  },
  {
   "cell_type": "markdown",
   "id": "a2745bdf-66f8-4fba-ac9a-1bc4c6421a8a",
   "metadata": {},
   "source": [
    "#### Predictions"
   ]
  },
  {
   "cell_type": "code",
   "execution_count": 48,
   "id": "b7f509fb-6251-4398-b155-83c047c95b0e",
   "metadata": {},
   "outputs": [],
   "source": [
    "predictions = lr.predict(X_test)"
   ]
  },
  {
   "cell_type": "code",
   "execution_count": 49,
   "id": "25c97474-62ce-4d84-a417-f62ff4ae6fe2",
   "metadata": {},
   "outputs": [
    {
     "name": "stdout",
     "output_type": "stream",
     "text": [
      "[8.24669709]\n"
     ]
    }
   ],
   "source": [
    "print(lr.intercept_)"
   ]
  },
  {
   "cell_type": "code",
   "execution_count": 50,
   "id": "34251a53-3d30-4c34-8bfd-66200f24ea09",
   "metadata": {},
   "outputs": [
    {
     "data": {
      "text/plain": [
       "array([ 0.42340795,  1.96467211,  0.12472226, -0.23970667, 21.62435032,\n",
       "       16.8755849 , 16.93703491, 38.8834327 , 14.15788467, 29.37964116,\n",
       "       17.71162633, 17.34473928, 12.94786165, 17.86445411, 28.16367693])"
      ]
     },
     "execution_count": 50,
     "metadata": {},
     "output_type": "execute_result"
    }
   ],
   "source": [
    "lr.coef_[0]"
   ]
  },
  {
   "cell_type": "code",
   "execution_count": 51,
   "id": "73a9d116-c534-4735-8221-afcb79615215",
   "metadata": {},
   "outputs": [
    {
     "data": {
      "text/plain": [
       "['price_earnings_ratio',\n",
       " 'price_book_ratio',\n",
       " 'price_sales_ratio',\n",
       " 'price_cashflow_ratio',\n",
       " 'sector_basic_materials',\n",
       " 'sector_consumer_cyclical',\n",
       " 'sector_financial_services',\n",
       " 'sector_real_estate',\n",
       " 'sector_consumer_defensive',\n",
       " 'sector_healthcare',\n",
       " 'sector_utilities',\n",
       " 'sector_communication_services',\n",
       " 'sector_energy',\n",
       " 'sector_industrials',\n",
       " 'sector_technology']"
      ]
     },
     "execution_count": 51,
     "metadata": {},
     "output_type": "execute_result"
    }
   ],
   "source": [
    "index = X.columns\n",
    "index.tolist()"
   ]
  },
  {
   "cell_type": "code",
   "execution_count": 52,
   "id": "1f0d2e7e-9dbb-49b4-a339-1f76db086694",
   "metadata": {},
   "outputs": [
    {
     "data": {
      "text/plain": [
       "pandas.core.indexes.base.Index"
      ]
     },
     "execution_count": 52,
     "metadata": {},
     "output_type": "execute_result"
    }
   ],
   "source": [
    "type(index)"
   ]
  },
  {
   "cell_type": "code",
   "execution_count": 54,
   "id": "b5edc287-5d0f-45b3-948a-7cdc62645aa7",
   "metadata": {},
   "outputs": [
    {
     "data": {
      "text/plain": [
       "[0.42340795330210723,\n",
       " 1.9646721066508286,\n",
       " 0.12472225566073514,\n",
       " -0.2397066740032625,\n",
       " 21.62435032482741,\n",
       " 16.87558489646621,\n",
       " 16.937034908853846,\n",
       " 38.88343269706212,\n",
       " 14.157884670160268,\n",
       " 29.379641157406688,\n",
       " 17.71162633434461,\n",
       " 17.344739281050522,\n",
       " 12.947861646143753,\n",
       " 17.864454110251494,\n",
       " 28.163676927995223]"
      ]
     },
     "execution_count": 54,
     "metadata": {},
     "output_type": "execute_result"
    }
   ],
   "source": [
    "coef_list = lr.coef_\n",
    "coef_list[0].tolist()"
   ]
  },
  {
   "cell_type": "code",
   "execution_count": 55,
   "id": "2395c0cd-d3cf-48a9-acef-c0af0d6e83d7",
   "metadata": {},
   "outputs": [
    {
     "data": {
      "text/plain": [
       "numpy.ndarray"
      ]
     },
     "execution_count": 55,
     "metadata": {},
     "output_type": "execute_result"
    }
   ],
   "source": [
    "type(coef_list)"
   ]
  },
  {
   "cell_type": "code",
   "execution_count": 56,
   "id": "d0621bb6-ca84-4ada-af56-266edd5749df",
   "metadata": {},
   "outputs": [
    {
     "data": {
      "text/html": [
       "<div>\n",
       "<style scoped>\n",
       "    .dataframe tbody tr th:only-of-type {\n",
       "        vertical-align: middle;\n",
       "    }\n",
       "\n",
       "    .dataframe tbody tr th {\n",
       "        vertical-align: top;\n",
       "    }\n",
       "\n",
       "    .dataframe thead th {\n",
       "        text-align: right;\n",
       "    }\n",
       "</style>\n",
       "<table border=\"1\" class=\"dataframe\">\n",
       "  <thead>\n",
       "    <tr style=\"text-align: right;\">\n",
       "      <th></th>\n",
       "      <th>Coeff</th>\n",
       "    </tr>\n",
       "  </thead>\n",
       "  <tbody>\n",
       "    <tr>\n",
       "      <th>price_earnings_ratio</th>\n",
       "      <td>0.423408</td>\n",
       "    </tr>\n",
       "    <tr>\n",
       "      <th>price_book_ratio</th>\n",
       "      <td>1.964672</td>\n",
       "    </tr>\n",
       "    <tr>\n",
       "      <th>price_sales_ratio</th>\n",
       "      <td>0.124722</td>\n",
       "    </tr>\n",
       "    <tr>\n",
       "      <th>price_cashflow_ratio</th>\n",
       "      <td>-0.239707</td>\n",
       "    </tr>\n",
       "    <tr>\n",
       "      <th>sector_basic_materials</th>\n",
       "      <td>21.624350</td>\n",
       "    </tr>\n",
       "    <tr>\n",
       "      <th>sector_consumer_cyclical</th>\n",
       "      <td>16.875585</td>\n",
       "    </tr>\n",
       "    <tr>\n",
       "      <th>sector_financial_services</th>\n",
       "      <td>16.937035</td>\n",
       "    </tr>\n",
       "    <tr>\n",
       "      <th>sector_real_estate</th>\n",
       "      <td>38.883433</td>\n",
       "    </tr>\n",
       "    <tr>\n",
       "      <th>sector_consumer_defensive</th>\n",
       "      <td>14.157885</td>\n",
       "    </tr>\n",
       "    <tr>\n",
       "      <th>sector_healthcare</th>\n",
       "      <td>29.379641</td>\n",
       "    </tr>\n",
       "    <tr>\n",
       "      <th>sector_utilities</th>\n",
       "      <td>17.711626</td>\n",
       "    </tr>\n",
       "    <tr>\n",
       "      <th>sector_communication_services</th>\n",
       "      <td>17.344739</td>\n",
       "    </tr>\n",
       "    <tr>\n",
       "      <th>sector_energy</th>\n",
       "      <td>12.947862</td>\n",
       "    </tr>\n",
       "    <tr>\n",
       "      <th>sector_industrials</th>\n",
       "      <td>17.864454</td>\n",
       "    </tr>\n",
       "    <tr>\n",
       "      <th>sector_technology</th>\n",
       "      <td>28.163677</td>\n",
       "    </tr>\n",
       "  </tbody>\n",
       "</table>\n",
       "</div>"
      ],
      "text/plain": [
       "                                   Coeff\n",
       "price_earnings_ratio            0.423408\n",
       "price_book_ratio                1.964672\n",
       "price_sales_ratio               0.124722\n",
       "price_cashflow_ratio           -0.239707\n",
       "sector_basic_materials         21.624350\n",
       "sector_consumer_cyclical       16.875585\n",
       "sector_financial_services      16.937035\n",
       "sector_real_estate             38.883433\n",
       "sector_consumer_defensive      14.157885\n",
       "sector_healthcare              29.379641\n",
       "sector_utilities               17.711626\n",
       "sector_communication_services  17.344739\n",
       "sector_energy                  12.947862\n",
       "sector_industrials             17.864454\n",
       "sector_technology              28.163677"
      ]
     },
     "execution_count": 56,
     "metadata": {},
     "output_type": "execute_result"
    }
   ],
   "source": [
    "#Convert the lr.coef_ into a list --> coef_list = [..]; convert the columns name into a list --> index =[X.columns]; name of the column = ['Coef\n",
    "cdf = pd.DataFrame(data = coef_list.transpose(), index = index ,columns=['Coeff'])\n",
    "cdf"
   ]
  },
  {
   "cell_type": "code",
   "execution_count": 57,
   "id": "b3f89566-9865-4300-9e54-b8d0b4aac26e",
   "metadata": {},
   "outputs": [
    {
     "name": "stdout",
     "output_type": "stream",
     "text": [
      "the intercept or B is 8.25\n"
     ]
    }
   ],
   "source": [
    "#USE %.2f for a float with 2 decimals, close the brackets then use % and brackets %(xxx))\n",
    "print(\"the intercept or B is %.2f\"     %(lr.intercept_))"
   ]
  },
  {
   "cell_type": "code",
   "execution_count": 58,
   "id": "cd76148c-e5af-413f-ae6a-9ec2c825c3f5",
   "metadata": {},
   "outputs": [
    {
     "data": {
      "text/plain": [
       "Text(0, 0.5, 'Predicted values')"
      ]
     },
     "execution_count": 58,
     "metadata": {},
     "output_type": "execute_result"
    },
    {
     "data": {
      "image/png": "[encoded data removed]",
      "text/plain": [
       "<Figure size 576x396 with 1 Axes>"
      ]
     },
     "metadata": {},
     "output_type": "display_data"
    }
   ],
   "source": [
    "plt.scatter(y_test,predictions)\n",
    "plt.xlabel('Y test (True values)')\n",
    "plt.ylabel ('Predicted values')"
   ]
  },
  {
   "cell_type": "code",
   "execution_count": 59,
   "id": "56aa5856-bb10-4871-842d-1c6466bb3416",
   "metadata": {},
   "outputs": [
    {
     "data": {
      "text/plain": [
       "0.5738410009555814"
      ]
     },
     "execution_count": 59,
     "metadata": {},
     "output_type": "execute_result"
    }
   ],
   "source": [
    "lr.score(X_test,y_test)"
   ]
  },
  {
   "cell_type": "markdown",
   "id": "67047675-0667-4ed8-8bfa-91c5b392461a",
   "metadata": {},
   "source": [
    "#### EVALUATE SCORES"
   ]
  },
  {
   "cell_type": "code",
   "execution_count": 60,
   "id": "5384f348-c0c4-4df1-92fc-89a132a497b1",
   "metadata": {},
   "outputs": [],
   "source": [
    "from sklearn import metrics"
   ]
  },
  {
   "cell_type": "code",
   "execution_count": 61,
   "id": "d69c5004-4b56-49de-91e8-e9adb194dc99",
   "metadata": {},
   "outputs": [],
   "source": [
    "#or from sklearn.metrics import mean_absolute_error,mean_squared_error,r2_score \n",
    "from sklearn.metrics import mean_absolute_error,mean_squared_error,r2_score "
   ]
  },
  {
   "cell_type": "code",
   "execution_count": 62,
   "id": "653be316-05f9-4399-b07d-f3b0d94c6bb1",
   "metadata": {},
   "outputs": [
    {
     "name": "stdout",
     "output_type": "stream",
     "text": [
      "MAE 2.081175365208362\n",
      "MSE 7.326428519364038\n",
      "RMSE 2.7067376155372056\n"
     ]
    }
   ],
   "source": [
    "print('MAE', metrics.mean_absolute_error(y_test,predictions))\n",
    "print('MSE', metrics.mean_squared_error(y_test,predictions))\n",
    "print('RMSE', np.sqrt(metrics.mean_squared_error(y_test,predictions)))"
   ]
  },
  {
   "cell_type": "markdown",
   "id": "00554bbf-8b4b-4a28-92a6-509a5ed873e4",
   "metadata": {},
   "source": [
    "#### R2 SCORE"
   ]
  },
  {
   "cell_type": "code",
   "execution_count": 63,
   "id": "9ee3e3fe-1637-40f7-84e6-2b12e3c10fd2",
   "metadata": {},
   "outputs": [
    {
     "data": {
      "text/plain": [
       "0.5738423929834164"
      ]
     },
     "execution_count": 63,
     "metadata": {},
     "output_type": "execute_result"
    }
   ],
   "source": [
    "metrics.explained_variance_score(y_test,predictions)"
   ]
  },
  {
   "cell_type": "code",
   "execution_count": 64,
   "id": "bd7d0231-698f-498c-845d-2818989e099b",
   "metadata": {},
   "outputs": [
    {
     "data": {
      "text/plain": [
       "0.5738410009555814"
      ]
     },
     "execution_count": 64,
     "metadata": {},
     "output_type": "execute_result"
    }
   ],
   "source": [
    "r2_score(y_test, predictions)"
   ]
  },
  {
   "cell_type": "code",
   "execution_count": 65,
   "id": "df4c2d4f-9cd6-42f9-a8ef-0606048f6b36",
   "metadata": {},
   "outputs": [
    {
     "data": {
      "text/plain": [
       "<seaborn.axisgrid.FacetGrid at 0x2966665e730>"
      ]
     },
     "execution_count": 65,
     "metadata": {},
     "output_type": "execute_result"
    },
    {
     "data": {
      "text/plain": [
       "<Figure size 1080x1080 with 0 Axes>"
      ]
     },
     "metadata": {},
     "output_type": "display_data"
    },
    {
     "data": {
      "image/png": "[encoded data removed]",
      "text/plain": [
       "<Figure size 489.25x360 with 1 Axes>"
      ]
     },
     "metadata": {},
     "output_type": "display_data"
    }
   ],
   "source": [
    "plt.figure(figsize =(15,15))\n",
    "sns.displot((y_test - predictions), bins = 50)"
   ]
  },
  {
   "cell_type": "code",
   "execution_count": null,
   "id": "06b77fd2-abc3-45ba-b697-088af10af75b",
   "metadata": {},
   "outputs": [],
   "source": []
  },
  {
   "cell_type": "code",
   "execution_count": null,
   "id": "49a66444-bac6-46fe-89f3-e469579c2dea",
   "metadata": {},
   "outputs": [],
   "source": []
  }
 ],
 "metadata": {
  "kernelspec": {
   "display_name": "Python 3",
   "language": "python",
   "name": "python3"
  },
  "language_info": {
   "codemirror_mode": {
    "name": "ipython",
    "version": 3
   },
   "file_extension": ".py",
   "mimetype": "text/x-python",
   "name": "python",
   "nbconvert_exporter": "python",
   "pygments_lexer": "ipython3",
   "version": "3.8.8"
  }
 },
 "nbformat": 4,
 "nbformat_minor": 5
}
